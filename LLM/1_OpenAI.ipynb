{
 "cells": [
  {
   "metadata": {},
   "cell_type": "markdown",
   "source": "# Setting Up The OpenAI API\n",
   "id": "16895fb00181a782"
  },
  {
   "metadata": {},
   "cell_type": "code",
   "source": [
    "import openai\n",
    "import config"
   ],
   "id": "b5afbb43c15fd646",
   "outputs": [],
   "execution_count": null
  },
  {
   "metadata": {},
   "cell_type": "code",
   "source": "api_key = config.api_key",
   "id": "e6850482f47deaf",
   "outputs": [],
   "execution_count": null
  },
  {
   "metadata": {},
   "cell_type": "code",
   "source": "client = openai.OpenAI(api_key=api_key)",
   "id": "7463cdf772bb78f7",
   "outputs": [],
   "execution_count": null
  },
  {
   "metadata": {},
   "cell_type": "markdown",
   "source": "## Generating Text",
   "id": "d509b4d01aafc31"
  },
  {
   "metadata": {},
   "cell_type": "code",
   "source": [
    "def generate_text(prompt):\n",
    "    response = client.chat.completions.create(model=\"gpt-4o-mini\",\n",
    "    messages=[\n",
    "        {\"role\": \"user\", \"content\": prompt}\n",
    "    ],\n",
    "    max_tokens=10,\n",
    "    temperature=0.7)\n",
    "    return response.choices[0].text.strip()"
   ],
   "id": "c7c15b584d56c0c8",
   "outputs": [],
   "execution_count": null
  },
  {
   "metadata": {},
   "cell_type": "code",
   "source": "prompt = \"Once upon a time\"",
   "id": "d4a2407920406cc5",
   "outputs": [],
   "execution_count": null
  },
  {
   "metadata": {},
   "cell_type": "code",
   "source": "generated_text = generate_text(prompt)",
   "id": "9aa1d3374e8b1cdb",
   "outputs": [],
   "execution_count": null
  },
  {
   "metadata": {},
   "cell_type": "code",
   "source": "",
   "id": "5d929a79ec3232f6",
   "outputs": [],
   "execution_count": null
  }
 ],
 "metadata": {
  "kernelspec": {
   "display_name": "Python 3",
   "language": "python",
   "name": "python3"
  },
  "language_info": {
   "codemirror_mode": {
    "name": "ipython",
    "version": 2
   },
   "file_extension": ".py",
   "mimetype": "text/x-python",
   "name": "python",
   "nbconvert_exporter": "python",
   "pygments_lexer": "ipython2",
   "version": "2.7.6"
  }
 },
 "nbformat": 4,
 "nbformat_minor": 5
}
