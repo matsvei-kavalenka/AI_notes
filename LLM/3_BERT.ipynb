{
 "cells": [
  {
   "metadata": {},
   "cell_type": "markdown",
   "source": "## BERT Setup",
   "id": "b46e77ac4bcf7e0d"
  },
  {
   "metadata": {
    "ExecuteTime": {
     "end_time": "2025-06-02T09:41:52.598854Z",
     "start_time": "2025-06-02T09:41:52.581586Z"
    }
   },
   "cell_type": "code",
   "source": [
    "from transformers import BertForQuestionAnswering, BertTokenizer\n",
    "import torch"
   ],
   "id": "e16d20c89f0d732c",
   "outputs": [],
   "execution_count": 2
  },
  {
   "metadata": {
    "ExecuteTime": {
     "end_time": "2025-06-02T09:42:13.132086Z",
     "start_time": "2025-06-02T09:42:13.118252Z"
    }
   },
   "cell_type": "code",
   "source": "model_name = \"bert-large-uncased-whole-word-masking-finetuned-squad\"",
   "id": "ecc5ad07836bd7c4",
   "outputs": [],
   "execution_count": 3
  },
  {
   "metadata": {
    "ExecuteTime": {
     "end_time": "2025-06-02T09:44:43.653970Z",
     "start_time": "2025-06-02T09:42:29.788273Z"
    }
   },
   "cell_type": "code",
   "source": "model = BertForQuestionAnswering.from_pretrained(model_name)",
   "id": "42aacd335e0f3762",
   "outputs": [
    {
     "data": {
      "text/plain": [
       "config.json:   0%|          | 0.00/443 [00:00<?, ?B/s]"
      ],
      "application/vnd.jupyter.widget-view+json": {
       "version_major": 2,
       "version_minor": 0,
       "model_id": "f51bd482e44a484595dcbcbe547fafab"
      }
     },
     "metadata": {},
     "output_type": "display_data"
    },
    {
     "name": "stderr",
     "output_type": "stream",
     "text": [
      "C:\\Users\\matsv\\PyCharm\\ai_engineer_course_notes\\.venv\\lib\\site-packages\\huggingface_hub\\file_download.py:143: UserWarning: `huggingface_hub` cache-system uses symlinks by default to efficiently store duplicated files but your machine does not support them in C:\\Users\\matsv\\.cache\\huggingface\\hub\\models--bert-large-uncased-whole-word-masking-finetuned-squad. Caching files will still work but in a degraded version that might require more space on your disk. This warning can be disabled by setting the `HF_HUB_DISABLE_SYMLINKS_WARNING` environment variable. For more details, see https://huggingface.co/docs/huggingface_hub/how-to-cache#limitations.\n",
      "To support symlinks on Windows, you either need to activate Developer Mode or to run Python as an administrator. In order to activate developer mode, see this article: https://docs.microsoft.com/en-us/windows/apps/get-started/enable-your-device-for-development\n",
      "  warnings.warn(message)\n",
      "Xet Storage is enabled for this repo, but the 'hf_xet' package is not installed. Falling back to regular HTTP download. For better performance, install the package with: `pip install huggingface_hub[hf_xet]` or `pip install hf_xet`\n"
     ]
    },
    {
     "data": {
      "text/plain": [
       "model.safetensors:   0%|          | 0.00/1.34G [00:00<?, ?B/s]"
      ],
      "application/vnd.jupyter.widget-view+json": {
       "version_major": 2,
       "version_minor": 0,
       "model_id": "84e74d2aae26486893179eb7325f1a2a"
      }
     },
     "metadata": {},
     "output_type": "display_data"
    },
    {
     "name": "stderr",
     "output_type": "stream",
     "text": [
      "Some weights of the model checkpoint at bert-large-uncased-whole-word-masking-finetuned-squad were not used when initializing BertForQuestionAnswering: ['bert.pooler.dense.bias', 'bert.pooler.dense.weight']\n",
      "- This IS expected if you are initializing BertForQuestionAnswering from the checkpoint of a model trained on another task or with another architecture (e.g. initializing a BertForSequenceClassification model from a BertForPreTraining model).\n",
      "- This IS NOT expected if you are initializing BertForQuestionAnswering from the checkpoint of a model that you expect to be exactly identical (initializing a BertForSequenceClassification model from a BertForSequenceClassification model).\n"
     ]
    }
   ],
   "execution_count": 4
  },
  {
   "metadata": {
    "ExecuteTime": {
     "end_time": "2025-06-02T09:44:46.416931Z",
     "start_time": "2025-06-02T09:44:43.824494Z"
    }
   },
   "cell_type": "code",
   "source": "tokenizer = BertTokenizer.from_pretrained(model_name)",
   "id": "7d31a229575bd601",
   "outputs": [
    {
     "data": {
      "text/plain": [
       "tokenizer_config.json:   0%|          | 0.00/48.0 [00:00<?, ?B/s]"
      ],
      "application/vnd.jupyter.widget-view+json": {
       "version_major": 2,
       "version_minor": 0,
       "model_id": "6a67a01b07e24e5dbe7da76ec4a57973"
      }
     },
     "metadata": {},
     "output_type": "display_data"
    },
    {
     "data": {
      "text/plain": [
       "vocab.txt:   0%|          | 0.00/232k [00:00<?, ?B/s]"
      ],
      "application/vnd.jupyter.widget-view+json": {
       "version_major": 2,
       "version_minor": 0,
       "model_id": "1561d5f2f71c4c1c9c8ac8221f512cd5"
      }
     },
     "metadata": {},
     "output_type": "display_data"
    },
    {
     "data": {
      "text/plain": [
       "tokenizer.json:   0%|          | 0.00/466k [00:00<?, ?B/s]"
      ],
      "application/vnd.jupyter.widget-view+json": {
       "version_major": 2,
       "version_minor": 0,
       "model_id": "07c488b4a45b4fa4972d0491a955380e"
      }
     },
     "metadata": {},
     "output_type": "display_data"
    }
   ],
   "execution_count": 5
  },
  {
   "metadata": {},
   "cell_type": "markdown",
   "source": "## Embeddings",
   "id": "ab4aa5cad1c5c89d"
  },
  {
   "metadata": {
    "ExecuteTime": {
     "end_time": "2025-06-02T09:47:09.283099Z",
     "start_time": "2025-06-02T09:47:09.242098Z"
    }
   },
   "cell_type": "code",
   "source": [
    "question = \"When was the first dvd released\"\n",
    "answer_document = \"The first DVD (Digital Versatile Disc) was released on March 24, 1997. It was a movie titled 'Twister' and was released in Japan. DVDs quickly gained popularity as a replacement for VHS tapes and became a common format for storing and distributing digital video and data.\""
   ],
   "id": "f7d9e1043c2837d4",
   "outputs": [],
   "execution_count": 6
  },
  {
   "metadata": {
    "ExecuteTime": {
     "end_time": "2025-06-02T09:48:10.936141Z",
     "start_time": "2025-06-02T09:48:10.840012Z"
    }
   },
   "cell_type": "code",
   "source": "encoding = tokenizer.encode_plus(text=question, text_pair=answer_document)",
   "id": "45a1f4fccd447b89",
   "outputs": [],
   "execution_count": 7
  },
  {
   "metadata": {
    "ExecuteTime": {
     "end_time": "2025-06-02T09:48:28.996559Z",
     "start_time": "2025-06-02T09:48:28.970100Z"
    }
   },
   "cell_type": "code",
   "source": "encoding",
   "id": "b18296336a4498c",
   "outputs": [
    {
     "data": {
      "text/plain": [
       "{'input_ids': [101, 2043, 2001, 1996, 2034, 4966, 2207, 102, 1996, 2034, 4966, 1006, 3617, 22979, 5860, 1007, 2001, 2207, 2006, 2233, 2484, 1010, 2722, 1012, 2009, 2001, 1037, 3185, 4159, 1005, 9792, 2121, 1005, 1998, 2001, 2207, 1999, 2900, 1012, 22477, 2855, 4227, 6217, 2004, 1037, 6110, 2005, 17550, 13324, 1998, 2150, 1037, 2691, 4289, 2005, 23977, 1998, 20083, 3617, 2678, 1998, 2951, 1012, 102], 'token_type_ids': [0, 0, 0, 0, 0, 0, 0, 0, 1, 1, 1, 1, 1, 1, 1, 1, 1, 1, 1, 1, 1, 1, 1, 1, 1, 1, 1, 1, 1, 1, 1, 1, 1, 1, 1, 1, 1, 1, 1, 1, 1, 1, 1, 1, 1, 1, 1, 1, 1, 1, 1, 1, 1, 1, 1, 1, 1, 1, 1, 1, 1, 1, 1, 1], 'attention_mask': [1, 1, 1, 1, 1, 1, 1, 1, 1, 1, 1, 1, 1, 1, 1, 1, 1, 1, 1, 1, 1, 1, 1, 1, 1, 1, 1, 1, 1, 1, 1, 1, 1, 1, 1, 1, 1, 1, 1, 1, 1, 1, 1, 1, 1, 1, 1, 1, 1, 1, 1, 1, 1, 1, 1, 1, 1, 1, 1, 1, 1, 1, 1, 1]}"
      ]
     },
     "execution_count": 9,
     "metadata": {},
     "output_type": "execute_result"
    }
   ],
   "execution_count": 9
  },
  {
   "metadata": {
    "ExecuteTime": {
     "end_time": "2025-06-02T09:48:52.992718Z",
     "start_time": "2025-06-02T09:48:52.977147Z"
    }
   },
   "cell_type": "code",
   "source": "inputs = encoding['input_ids']",
   "id": "c183fd3653d27a5b",
   "outputs": [],
   "execution_count": 11
  },
  {
   "metadata": {
    "ExecuteTime": {
     "end_time": "2025-06-02T09:49:45.101482Z",
     "start_time": "2025-06-02T09:49:45.053717Z"
    }
   },
   "cell_type": "code",
   "source": [
    "sentence_embedding = encoding['token_type_ids']\n",
    "tokens = tokenizer.convert_ids_to_tokens(inputs)"
   ],
   "id": "9dbb3d0bf412758f",
   "outputs": [],
   "execution_count": 12
  },
  {
   "metadata": {
    "ExecuteTime": {
     "end_time": "2025-06-02T09:49:55.541643Z",
     "start_time": "2025-06-02T09:49:55.512066Z"
    }
   },
   "cell_type": "code",
   "source": "tokenizer.decode(101)",
   "id": "79a24ea050374660",
   "outputs": [
    {
     "data": {
      "text/plain": [
       "'[CLS]'"
      ]
     },
     "execution_count": 13,
     "metadata": {},
     "output_type": "execute_result"
    }
   ],
   "execution_count": 13
  },
  {
   "metadata": {
    "ExecuteTime": {
     "end_time": "2025-06-02T09:51:18.842945Z",
     "start_time": "2025-06-02T09:51:06.878059Z"
    }
   },
   "cell_type": "code",
   "source": [
    "output = model(input_ids = torch.tensor([inputs]), token_type_ids = torch.tensor([sentence_embedding]))\n",
    "output"
   ],
   "id": "5d53a19952be6d3",
   "outputs": [
    {
     "data": {
      "text/plain": [
       "QuestionAnsweringModelOutput(loss=None, start_logits=tensor([[-5.9907, -7.6620, -8.0088, -7.8896, -7.7438, -8.6215, -8.7969, -5.9906,\n",
       "          4.5789,  2.6096,  0.7800, -3.5979, -1.7249, -5.3033, -5.4866, -2.6059,\n",
       "          1.2621,  2.1734,  2.1273,  6.3432,  0.7447, -2.8755,  1.9286, -3.3220,\n",
       "          0.3453, -4.4366, -2.3689, -1.5280, -4.1846, -2.4296, -2.2611, -5.4139,\n",
       "         -4.8860, -5.5622, -2.8795, -0.9216, -1.6217,  0.4184, -5.9907, -1.6911,\n",
       "         -3.6674, -4.5895, -4.1017, -5.7464, -5.4412, -4.0403, -7.0037, -3.6250,\n",
       "         -5.5070, -6.9984, -4.3799, -6.1529, -4.8958, -5.1221, -7.0605, -4.1320,\n",
       "         -7.5114, -4.4579, -5.2023, -5.5046, -7.7034, -5.4698, -8.0251, -5.9905]],\n",
       "       grad_fn=<CloneBackward0>), end_logits=tensor([[-0.7839, -6.8480, -6.9059, -7.9761, -7.0274, -7.2928, -8.2822, -0.7838,\n",
       "         -3.0794, -1.9150,  0.0494, -6.2232, -5.3418, -4.5563, -2.8202, -1.9327,\n",
       "         -3.0701, -0.4192, -2.4179, -2.1253, -0.3597, -0.6129,  7.7352,  4.8260,\n",
       "         -3.8384, -5.1570, -5.5371, -1.0519, -3.7338, -5.3544, -4.3721, -0.5303,\n",
       "          1.0213, -4.6645, -5.9034, -3.6494, -5.8234,  1.9799, -0.7840, -2.9911,\n",
       "         -5.1157, -6.0181, -2.6274, -6.4470, -6.5857, -4.0383, -6.3297, -4.1092,\n",
       "         -1.6679, -5.5631, -6.8690, -7.3208, -5.9721, -4.0319, -7.2387, -5.9815,\n",
       "         -7.6396, -5.2651, -6.3193, -3.7949, -7.7808, -2.6400, -2.6669, -0.7843]],\n",
       "       grad_fn=<CloneBackward0>), hidden_states=None, attentions=None)"
      ]
     },
     "execution_count": 15,
     "metadata": {},
     "output_type": "execute_result"
    }
   ],
   "execution_count": 15
  },
  {
   "metadata": {},
   "cell_type": "markdown",
   "source": "## Model Output",
   "id": "7d0713f780846c6d"
  },
  {
   "metadata": {
    "ExecuteTime": {
     "end_time": "2025-06-02T09:55:50.973631Z",
     "start_time": "2025-06-02T09:55:50.937633Z"
    }
   },
   "cell_type": "code",
   "source": [
    "start_index = torch.argmax(output.start_logits)\n",
    "end_index = torch.argmax(output.end_logits)\n",
    "\n",
    "print(start_index)\n",
    "print(end_index)"
   ],
   "id": "ecb12cb81551d665",
   "outputs": [
    {
     "name": "stdout",
     "output_type": "stream",
     "text": [
      "tensor(19)\n",
      "tensor(22)\n"
     ]
    }
   ],
   "execution_count": 17
  },
  {
   "metadata": {
    "ExecuteTime": {
     "end_time": "2025-06-02T09:56:24.289300Z",
     "start_time": "2025-06-02T09:56:24.242917Z"
    }
   },
   "cell_type": "code",
   "source": [
    "answer = \" \".join(tokens[start_index:end_index+1])\n",
    "answer"
   ],
   "id": "4cd36a3521d5b873",
   "outputs": [
    {
     "data": {
      "text/plain": [
       "'march 24 , 1997'"
      ]
     },
     "execution_count": 18,
     "metadata": {},
     "output_type": "execute_result"
    }
   ],
   "execution_count": 18
  },
  {
   "metadata": {
    "ExecuteTime": {
     "end_time": "2025-06-02T09:57:37.639706Z",
     "start_time": "2025-06-02T09:57:37.621606Z"
    }
   },
   "cell_type": "code",
   "source": [
    "import matplotlib as plt\n",
    "import seaborn as sns"
   ],
   "id": "42cf99591f992671",
   "outputs": [],
   "execution_count": 24
  },
  {
   "metadata": {
    "ExecuteTime": {
     "end_time": "2025-06-02T09:56:52.993636Z",
     "start_time": "2025-06-02T09:56:52.965104Z"
    }
   },
   "cell_type": "code",
   "source": [
    "s_scores = output.start_logits.detach().numpy().flatten()\n",
    "e_scores = output.end_logits.detach().numpy().flatten()"
   ],
   "id": "a71ba9976b2c48df",
   "outputs": [],
   "execution_count": 20
  },
  {
   "metadata": {
    "ExecuteTime": {
     "end_time": "2025-06-02T09:57:02.486899Z",
     "start_time": "2025-06-02T09:57:02.475378Z"
    }
   },
   "cell_type": "code",
   "source": [
    "token_labels = []\n",
    "for (i, token) in enumerate(tokens):\n",
    "    token_labels.append('{:} - {:>2}'.format(token, i))"
   ],
   "id": "60b051e00e155f7e",
   "outputs": [],
   "execution_count": 22
  },
  {
   "metadata": {
    "ExecuteTime": {
     "end_time": "2025-06-02T09:57:15.609137Z",
     "start_time": "2025-06-02T09:57:07.452427Z"
    }
   },
   "cell_type": "code",
   "source": [
    "ax = sns.barplot(x=token_labels, y=s_scores)\n",
    "ax.set_xticklabels(ax.get_xticklabels(), rotation=90, ha=\"center\") \n",
    "ax.grid(True) "
   ],
   "id": "22bf3ad0954c9845",
   "outputs": [
    {
     "name": "stderr",
     "output_type": "stream",
     "text": [
      "C:\\Users\\matsv\\AppData\\Local\\Temp\\ipykernel_17364\\2584303938.py:2: UserWarning: set_ticklabels() should only be used with a fixed number of ticks, i.e. after set_ticks() or using a FixedLocator.\n",
      "  ax.set_xticklabels(ax.get_xticklabels(), rotation=90, ha=\"center\")\n"
     ]
    },
    {
     "data": {
      "text/plain": [
       "<Figure size 640x480 with 1 Axes>"
      ],
      "image/png": "[encoded data removed]"
     },
     "metadata": {},
     "output_type": "display_data"
    }
   ],
   "execution_count": 23
  },
  {
   "metadata": {
    "ExecuteTime": {
     "end_time": "2025-06-02T09:59:54.863615Z",
     "start_time": "2025-06-02T09:59:54.030274Z"
    }
   },
   "cell_type": "code",
   "source": [
    "ax = sns.barplot(x=token_labels, y=e_scores)\n",
    "ax.set_xticklabels(ax.get_xticklabels(), rotation=90, ha=\"center\") \n",
    "ax.grid(True) "
   ],
   "id": "84dc4dae8c82289a",
   "outputs": [
    {
     "name": "stderr",
     "output_type": "stream",
     "text": [
      "C:\\Users\\matsv\\AppData\\Local\\Temp\\ipykernel_17364\\3443768291.py:2: UserWarning: set_ticklabels() should only be used with a fixed number of ticks, i.e. after set_ticks() or using a FixedLocator.\n",
      "  ax.set_xticklabels(ax.get_xticklabels(), rotation=90, ha=\"center\")\n"
     ]
    },
    {
     "data": {
      "text/plain": [
       "<Figure size 640x480 with 1 Axes>"
      ],
      "image/png": "[encoded data removed]"
     },
     "metadata": {},
     "output_type": "display_data"
    }
   ],
   "execution_count": 25
  },
  {
   "metadata": {},
   "cell_type": "markdown",
   "source": "# QA Bot",
   "id": "c717fa5699936f3f"
  },
  {
   "metadata": {
    "ExecuteTime": {
     "end_time": "2025-06-02T10:01:50.974935Z",
     "start_time": "2025-06-02T10:01:50.790768Z"
    }
   },
   "cell_type": "code",
   "source": "sunset_motors_context = \"Sunset Motors is a renowned automobile dealership that has been a cornerstone of the automotive industry since its establishment in 1978. Located in the picturesque town of Crestwood, nestled in the heart of California's scenic Central Valley, Sunset Motors has built a reputation for excellence, reliability, and customer satisfaction over the past four decades. Founded by visionary entrepreneur Robert Anderson, Sunset Motors began as a humble, family-owned business with a small lot of used cars. However, under Anderson's leadership and commitment to quality, it quickly evolved into a thriving dealership offering a wide range of vehicles from various manufacturers. Today, the dealership spans over 10 acres, showcasing a vast inventory of new and pre-owned cars, trucks, SUVs, and luxury vehicles. One of Sunset Motors' standout features is its dedication to sustainability. In 2010, the dealership made a landmark decision to incorporate environmentally friendly practices, including solar panels to power the facility, energy-efficient lighting, and a comprehensive recycling program. This commitment to eco-consciousness has earned Sunset Motors recognition as an industry leader in sustainable automotive retail. Sunset Motors proudly offers a diverse range of vehicles, including popular brands like Ford, Toyota, Honda, Chevrolet, and BMW, catering to a wide spectrum of tastes and preferences. In addition to its outstanding vehicle selection, Sunset Motors offers flexible financing options, allowing customers to secure affordable loans and leases with competitive interest rates.\"",
   "id": "6a9365ba727c2d6f",
   "outputs": [],
   "execution_count": 26
  },
  {
   "metadata": {
    "ExecuteTime": {
     "end_time": "2025-06-02T10:09:02.471944Z",
     "start_time": "2025-06-02T10:09:02.343260Z"
    }
   },
   "cell_type": "code",
   "source": [
    "def faq_bot(question):\n",
    "    context = sunset_motors_context\n",
    "    input_ids = tokenizer.encode(question, context)\n",
    "    tokens = tokenizer.convert_ids_to_tokens(input_ids)\n",
    "    sep_idx = input_ids.index(tokenizer.sep_token_id)\n",
    "    num_seg_a = sep_idx + 1\n",
    "    num_seg_b = len(input_ids) - num_seg_a \n",
    "    segment_ids = [0]* num_seg_a + [1]* num_seg_b\n",
    "    output = model(torch.tensor([input_ids]), token_type_ids = torch.tensor(segment_ids))\n",
    "    answer_start = torch.argmax(output.start_logits)\n",
    "    answer_end = torch.argmax(output.end_logits)\n",
    "    if answer_end >= answer_start:\n",
    "        answer = ' '.join(tokens[answer_start:answer_end+1])\n",
    "    else:\n",
    "        print(\"I don't know how to answer this question, please ask another one\")\n",
    "    corrected_answer = ''\n",
    "    for word in answer.split():\n",
    "        if word[0:2] == \"##\":\n",
    "            corrected_answer += word[2:]\n",
    "        else:\n",
    "            corrected_answer += \" \" + word\n",
    "    \n",
    "    return corrected_answer"
   ],
   "id": "c497cfd69f83de27",
   "outputs": [],
   "execution_count": 28
  },
  {
   "metadata": {
    "ExecuteTime": {
     "end_time": "2025-06-02T10:09:42.165750Z",
     "start_time": "2025-06-02T10:09:38.106798Z"
    }
   },
   "cell_type": "code",
   "source": "faq_bot(\"Where is the dealership located\")",
   "id": "9a749f9138f2f078",
   "outputs": [
    {
     "data": {
      "text/plain": [
       "' crestwood'"
      ]
     },
     "execution_count": 30,
     "metadata": {},
     "output_type": "execute_result"
    }
   ],
   "execution_count": 30
  },
  {
   "metadata": {
    "ExecuteTime": {
     "end_time": "2025-06-02T10:10:37.761138Z",
     "start_time": "2025-06-02T10:10:29.794139Z"
    }
   },
   "cell_type": "code",
   "source": "faq_bot(\"what cars are available \")",
   "id": "fd2be31bbe19832c",
   "outputs": [
    {
     "data": {
      "text/plain": [
       "' ford , toyota , honda , chevrolet , and bmw'"
      ]
     },
     "execution_count": 32,
     "metadata": {},
     "output_type": "execute_result"
    }
   ],
   "execution_count": 32
  },
  {
   "metadata": {
    "ExecuteTime": {
     "end_time": "2025-06-02T10:11:18.950867Z",
     "start_time": "2025-06-02T10:11:10.806364Z"
    }
   },
   "cell_type": "code",
   "source": "faq_bot(\"How you earned recognition?\")",
   "id": "351c249a4dd91317",
   "outputs": [
    {
     "data": {
      "text/plain": [
       "' commitment to eco - consciousness has earned sunset motors recognition as an industry leader in sustainable automotive retail'"
      ]
     },
     "execution_count": 33,
     "metadata": {},
     "output_type": "execute_result"
    }
   ],
   "execution_count": 33
  },
  {
   "metadata": {},
   "cell_type": "markdown",
   "source": "## RoBERTa and DistilBERT",
   "id": "49f87decca014c7a"
  },
  {
   "metadata": {
    "ExecuteTime": {
     "end_time": "2025-06-02T10:15:46.871632Z",
     "start_time": "2025-06-02T10:14:43.101325Z"
    }
   },
   "cell_type": "code",
   "source": [
    "from transformers import RobertaTokenizer, RobertaModel\n",
    "model_name = \"roberta-base\"\n",
    "tokenizer = RobertaTokenizer.from_pretrained(model_name)\n",
    "model = RobertaModel.from_pretrained(model_name)"
   ],
   "id": "4be97bb67388174d",
   "outputs": [
    {
     "data": {
      "text/plain": [
       "tokenizer_config.json:   0%|          | 0.00/25.0 [00:00<?, ?B/s]"
      ],
      "application/vnd.jupyter.widget-view+json": {
       "version_major": 2,
       "version_minor": 0,
       "model_id": "5d6a4a8659ba4a02a29c0c22c627cc79"
      }
     },
     "metadata": {},
     "output_type": "display_data"
    },
    {
     "name": "stderr",
     "output_type": "stream",
     "text": [
      "C:\\Users\\matsv\\PyCharm\\ai_engineer_course_notes\\.venv\\lib\\site-packages\\huggingface_hub\\file_download.py:143: UserWarning: `huggingface_hub` cache-system uses symlinks by default to efficiently store duplicated files but your machine does not support them in C:\\Users\\matsv\\.cache\\huggingface\\hub\\models--roberta-base. Caching files will still work but in a degraded version that might require more space on your disk. This warning can be disabled by setting the `HF_HUB_DISABLE_SYMLINKS_WARNING` environment variable. For more details, see https://huggingface.co/docs/huggingface_hub/how-to-cache#limitations.\n",
      "To support symlinks on Windows, you either need to activate Developer Mode or to run Python as an administrator. In order to activate developer mode, see this article: https://docs.microsoft.com/en-us/windows/apps/get-started/enable-your-device-for-development\n",
      "  warnings.warn(message)\n"
     ]
    },
    {
     "data": {
      "text/plain": [
       "vocab.json:   0%|          | 0.00/899k [00:00<?, ?B/s]"
      ],
      "application/vnd.jupyter.widget-view+json": {
       "version_major": 2,
       "version_minor": 0,
       "model_id": "f64a7748af1944afbbf895a6187c500b"
      }
     },
     "metadata": {},
     "output_type": "display_data"
    },
    {
     "data": {
      "text/plain": [
       "merges.txt:   0%|          | 0.00/456k [00:00<?, ?B/s]"
      ],
      "application/vnd.jupyter.widget-view+json": {
       "version_major": 2,
       "version_minor": 0,
       "model_id": "5999507285cf4c4a912100c527217b5f"
      }
     },
     "metadata": {},
     "output_type": "display_data"
    },
    {
     "data": {
      "text/plain": [
       "tokenizer.json:   0%|          | 0.00/1.36M [00:00<?, ?B/s]"
      ],
      "application/vnd.jupyter.widget-view+json": {
       "version_major": 2,
       "version_minor": 0,
       "model_id": "fb430a523b8145adb41bfe779482c97c"
      }
     },
     "metadata": {},
     "output_type": "display_data"
    },
    {
     "data": {
      "text/plain": [
       "config.json:   0%|          | 0.00/481 [00:00<?, ?B/s]"
      ],
      "application/vnd.jupyter.widget-view+json": {
       "version_major": 2,
       "version_minor": 0,
       "model_id": "d5adc0dd53cf450085f30cb55ce20d9d"
      }
     },
     "metadata": {},
     "output_type": "display_data"
    },
    {
     "name": "stderr",
     "output_type": "stream",
     "text": [
      "Xet Storage is enabled for this repo, but the 'hf_xet' package is not installed. Falling back to regular HTTP download. For better performance, install the package with: `pip install huggingface_hub[hf_xet]` or `pip install hf_xet`\n"
     ]
    },
    {
     "data": {
      "text/plain": [
       "model.safetensors:   0%|          | 0.00/499M [00:00<?, ?B/s]"
      ],
      "application/vnd.jupyter.widget-view+json": {
       "version_major": 2,
       "version_minor": 0,
       "model_id": "7321aed275204a968f091b061447b0a7"
      }
     },
     "metadata": {},
     "output_type": "display_data"
    },
    {
     "name": "stderr",
     "output_type": "stream",
     "text": [
      "Some weights of RobertaModel were not initialized from the model checkpoint at roberta-base and are newly initialized: ['pooler.dense.bias', 'pooler.dense.weight']\n",
      "You should probably TRAIN this model on a down-stream task to be able to use it for predictions and inference.\n"
     ]
    }
   ],
   "execution_count": 34
  },
  {
   "metadata": {
    "ExecuteTime": {
     "end_time": "2025-06-02T10:16:12.059788Z",
     "start_time": "2025-06-02T10:15:47.123198Z"
    }
   },
   "cell_type": "code",
   "source": [
    "from transformers import  DistilBertTokenizer, DistilBertModel \n",
    "model_name = \"distilbert-base-uncased\"\n",
    "tokenizer =  DistilBertTokenizer.from_pretrained(model_name)\n",
    "model = DistilBertModel.from_pretrained(model_name)"
   ],
   "id": "b02d3c53c3b38e6d",
   "outputs": [
    {
     "data": {
      "text/plain": [
       "tokenizer_config.json:   0%|          | 0.00/48.0 [00:00<?, ?B/s]"
      ],
      "application/vnd.jupyter.widget-view+json": {
       "version_major": 2,
       "version_minor": 0,
       "model_id": "46a05533a31049a0ae3fdc892b268763"
      }
     },
     "metadata": {},
     "output_type": "display_data"
    },
    {
     "name": "stderr",
     "output_type": "stream",
     "text": [
      "C:\\Users\\matsv\\PyCharm\\ai_engineer_course_notes\\.venv\\lib\\site-packages\\huggingface_hub\\file_download.py:143: UserWarning: `huggingface_hub` cache-system uses symlinks by default to efficiently store duplicated files but your machine does not support them in C:\\Users\\matsv\\.cache\\huggingface\\hub\\models--distilbert-base-uncased. Caching files will still work but in a degraded version that might require more space on your disk. This warning can be disabled by setting the `HF_HUB_DISABLE_SYMLINKS_WARNING` environment variable. For more details, see https://huggingface.co/docs/huggingface_hub/how-to-cache#limitations.\n",
      "To support symlinks on Windows, you either need to activate Developer Mode or to run Python as an administrator. In order to activate developer mode, see this article: https://docs.microsoft.com/en-us/windows/apps/get-started/enable-your-device-for-development\n",
      "  warnings.warn(message)\n"
     ]
    },
    {
     "data": {
      "text/plain": [
       "vocab.txt:   0%|          | 0.00/232k [00:00<?, ?B/s]"
      ],
      "application/vnd.jupyter.widget-view+json": {
       "version_major": 2,
       "version_minor": 0,
       "model_id": "30570257c367445aa742c664cc5f4dc0"
      }
     },
     "metadata": {},
     "output_type": "display_data"
    },
    {
     "data": {
      "text/plain": [
       "tokenizer.json:   0%|          | 0.00/466k [00:00<?, ?B/s]"
      ],
      "application/vnd.jupyter.widget-view+json": {
       "version_major": 2,
       "version_minor": 0,
       "model_id": "e1e7cdbe607148b58152c662120e7be5"
      }
     },
     "metadata": {},
     "output_type": "display_data"
    },
    {
     "data": {
      "text/plain": [
       "config.json:   0%|          | 0.00/483 [00:00<?, ?B/s]"
      ],
      "application/vnd.jupyter.widget-view+json": {
       "version_major": 2,
       "version_minor": 0,
       "model_id": "3f8e01adf2ca40c3aa20e69a40d47ff6"
      }
     },
     "metadata": {},
     "output_type": "display_data"
    },
    {
     "name": "stderr",
     "output_type": "stream",
     "text": [
      "Xet Storage is enabled for this repo, but the 'hf_xet' package is not installed. Falling back to regular HTTP download. For better performance, install the package with: `pip install huggingface_hub[hf_xet]` or `pip install hf_xet`\n"
     ]
    },
    {
     "data": {
      "text/plain": [
       "model.safetensors:   0%|          | 0.00/268M [00:00<?, ?B/s]"
      ],
      "application/vnd.jupyter.widget-view+json": {
       "version_major": 2,
       "version_minor": 0,
       "model_id": "4d14d23e09a2405b875ba8a10e971f5f"
      }
     },
     "metadata": {},
     "output_type": "display_data"
    }
   ],
   "execution_count": 35
  },
  {
   "metadata": {},
   "cell_type": "code",
   "outputs": [],
   "execution_count": null,
   "source": "",
   "id": "a20fb690bf27855c"
  }
 ],
 "metadata": {
  "kernelspec": {
   "display_name": "Python 3",
   "language": "python",
   "name": "python3"
  },
  "language_info": {
   "codemirror_mode": {
    "name": "ipython",
    "version": 2
   },
   "file_extension": ".py",
   "mimetype": "text/x-python",
   "name": "python",
   "nbconvert_exporter": "python",
   "pygments_lexer": "ipython2",
   "version": "2.7.6"
  }
 },
 "nbformat": 4,
 "nbformat_minor": 5
}
