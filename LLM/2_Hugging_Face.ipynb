{
 "cells": [
  {
   "metadata": {},
   "cell_type": "markdown",
   "source": "# Hugging Face Setup",
   "id": "ea651760ec89b69a"
  },
  {
   "metadata": {
    "ExecuteTime": {
     "end_time": "2025-06-02T09:00:19.015389Z",
     "start_time": "2025-06-02T08:59:54.462409Z"
    }
   },
   "cell_type": "code",
   "source": "from transformers import pipeline",
   "id": "4c5cf8cb03e5e94b",
   "outputs": [],
   "execution_count": 1
  },
  {
   "metadata": {
    "ExecuteTime": {
     "end_time": "2025-06-02T09:00:20.670833Z",
     "start_time": "2025-06-02T09:00:19.533921Z"
    }
   },
   "cell_type": "code",
   "source": "sentiment_classifier = pipeline('sentiment-analysis')",
   "id": "f464906ed25158e6",
   "outputs": [
    {
     "name": "stderr",
     "output_type": "stream",
     "text": [
      "No model was supplied, defaulted to distilbert/distilbert-base-uncased-finetuned-sst-2-english and revision 714eb0f (https://huggingface.co/distilbert/distilbert-base-uncased-finetuned-sst-2-english).\n",
      "Using a pipeline without specifying a model name and revision in production is not recommended.\n",
      "Device set to use cpu\n"
     ]
    }
   ],
   "execution_count": 2
  },
  {
   "metadata": {
    "ExecuteTime": {
     "end_time": "2025-06-02T09:00:48.149597Z",
     "start_time": "2025-06-02T09:00:47.344159Z"
    }
   },
   "cell_type": "code",
   "source": "sentiment_classifier(\"I'm so excited to be learning about LLM's\")",
   "id": "3e2a3cb50948c34b",
   "outputs": [
    {
     "data": {
      "text/plain": [
       "[{'label': 'POSITIVE', 'score': 0.9997434020042419}]"
      ]
     },
     "execution_count": 3,
     "metadata": {},
     "output_type": "execute_result"
    }
   ],
   "execution_count": 3
  },
  {
   "metadata": {
    "ExecuteTime": {
     "end_time": "2025-06-02T09:02:15.230093Z",
     "start_time": "2025-06-02T09:01:20.047095Z"
    }
   },
   "cell_type": "code",
   "source": "ner = pipeline(\"ner\", model=\"dslim/bert-base-NER\")",
   "id": "cf912d735f7eb195",
   "outputs": [
    {
     "data": {
      "text/plain": [
       "config.json:   0%|          | 0.00/829 [00:00<?, ?B/s]"
      ],
      "application/vnd.jupyter.widget-view+json": {
       "version_major": 2,
       "version_minor": 0,
       "model_id": "1105feeee1854a708a9906c426da1954"
      }
     },
     "metadata": {},
     "output_type": "display_data"
    },
    {
     "name": "stderr",
     "output_type": "stream",
     "text": [
      "C:\\Users\\matsv\\PyCharm\\ai_engineer_course_notes\\.venv\\lib\\site-packages\\huggingface_hub\\file_download.py:143: UserWarning: `huggingface_hub` cache-system uses symlinks by default to efficiently store duplicated files but your machine does not support them in C:\\Users\\matsv\\.cache\\huggingface\\hub\\models--dslim--bert-base-NER. Caching files will still work but in a degraded version that might require more space on your disk. This warning can be disabled by setting the `HF_HUB_DISABLE_SYMLINKS_WARNING` environment variable. For more details, see https://huggingface.co/docs/huggingface_hub/how-to-cache#limitations.\n",
      "To support symlinks on Windows, you either need to activate Developer Mode or to run Python as an administrator. In order to activate developer mode, see this article: https://docs.microsoft.com/en-us/windows/apps/get-started/enable-your-device-for-development\n",
      "  warnings.warn(message)\n"
     ]
    },
    {
     "data": {
      "text/plain": [
       "model.safetensors:   0%|          | 0.00/433M [00:00<?, ?B/s]"
      ],
      "application/vnd.jupyter.widget-view+json": {
       "version_major": 2,
       "version_minor": 0,
       "model_id": "adc2f75cafa049ea8422dcdfbccaf547"
      }
     },
     "metadata": {},
     "output_type": "display_data"
    },
    {
     "name": "stderr",
     "output_type": "stream",
     "text": [
      "Some weights of the model checkpoint at dslim/bert-base-NER were not used when initializing BertForTokenClassification: ['bert.pooler.dense.bias', 'bert.pooler.dense.weight']\n",
      "- This IS expected if you are initializing BertForTokenClassification from the checkpoint of a model trained on another task or with another architecture (e.g. initializing a BertForSequenceClassification model from a BertForPreTraining model).\n",
      "- This IS NOT expected if you are initializing BertForTokenClassification from the checkpoint of a model that you expect to be exactly identical (initializing a BertForSequenceClassification model from a BertForSequenceClassification model).\n"
     ]
    },
    {
     "data": {
      "text/plain": [
       "tokenizer_config.json:   0%|          | 0.00/59.0 [00:00<?, ?B/s]"
      ],
      "application/vnd.jupyter.widget-view+json": {
       "version_major": 2,
       "version_minor": 0,
       "model_id": "4a131b9084e04dd1beb1cf4396f7116d"
      }
     },
     "metadata": {},
     "output_type": "display_data"
    },
    {
     "data": {
      "text/plain": [
       "vocab.txt:   0%|          | 0.00/213k [00:00<?, ?B/s]"
      ],
      "application/vnd.jupyter.widget-view+json": {
       "version_major": 2,
       "version_minor": 0,
       "model_id": "db0d54a70ed341a999686c6e016906d4"
      }
     },
     "metadata": {},
     "output_type": "display_data"
    },
    {
     "data": {
      "text/plain": [
       "added_tokens.json:   0%|          | 0.00/2.00 [00:00<?, ?B/s]"
      ],
      "application/vnd.jupyter.widget-view+json": {
       "version_major": 2,
       "version_minor": 0,
       "model_id": "776d8b97ff7741f88dbac1707351410f"
      }
     },
     "metadata": {},
     "output_type": "display_data"
    },
    {
     "data": {
      "text/plain": [
       "special_tokens_map.json:   0%|          | 0.00/112 [00:00<?, ?B/s]"
      ],
      "application/vnd.jupyter.widget-view+json": {
       "version_major": 2,
       "version_minor": 0,
       "model_id": "55eed6c41baa42719f577cad7589ea2a"
      }
     },
     "metadata": {},
     "output_type": "display_data"
    },
    {
     "name": "stderr",
     "output_type": "stream",
     "text": [
      "Device set to use cpu\n"
     ]
    }
   ],
   "execution_count": 4
  },
  {
   "metadata": {
    "ExecuteTime": {
     "end_time": "2025-06-02T09:02:16.135689Z",
     "start_time": "2025-06-02T09:02:15.255512Z"
    }
   },
   "cell_type": "code",
   "source": "ner(\"Her name is Anna and she works in NYC for Morgan Stanley\")",
   "id": "3252869e95a85db4",
   "outputs": [
    {
     "data": {
      "text/plain": [
       "[{'entity': 'B-PER',\n",
       "  'score': 0.99598384,\n",
       "  'index': 4,\n",
       "  'word': 'Anna',\n",
       "  'start': 12,\n",
       "  'end': 16},\n",
       " {'entity': 'B-LOC',\n",
       "  'score': 0.99840444,\n",
       "  'index': 9,\n",
       "  'word': 'NYC',\n",
       "  'start': 34,\n",
       "  'end': 37},\n",
       " {'entity': 'B-ORG',\n",
       "  'score': 0.9967096,\n",
       "  'index': 11,\n",
       "  'word': 'Morgan',\n",
       "  'start': 42,\n",
       "  'end': 48},\n",
       " {'entity': 'I-ORG',\n",
       "  'score': 0.99821556,\n",
       "  'index': 12,\n",
       "  'word': 'Stanley',\n",
       "  'start': 49,\n",
       "  'end': 56}]"
      ]
     },
     "execution_count": 5,
     "metadata": {},
     "output_type": "execute_result"
    }
   ],
   "execution_count": 5
  },
  {
   "metadata": {
    "ExecuteTime": {
     "end_time": "2025-06-02T09:09:39.217101Z",
     "start_time": "2025-06-02T09:09:37.617665Z"
    }
   },
   "cell_type": "code",
   "source": "zeroshot_classifier = pipeline(\"zero-shot-classification\", model=\"facebook/bart-large-mnli\")",
   "id": "4d4bdac42be81f99",
   "outputs": [
    {
     "name": "stderr",
     "output_type": "stream",
     "text": [
      "Device set to use cpu\n"
     ]
    }
   ],
   "execution_count": 8
  },
  {
   "metadata": {
    "ExecuteTime": {
     "end_time": "2025-06-02T09:09:39.371689Z",
     "start_time": "2025-06-02T09:09:39.346679Z"
    }
   },
   "cell_type": "code",
   "source": [
    "sequence_to_classify = \"one day I will see the world\"\n",
    "candidate_labels = ['travel', 'cooking', 'dancing']"
   ],
   "id": "c2bffc95fdf5e6ef",
   "outputs": [],
   "execution_count": 9
  },
  {
   "metadata": {
    "ExecuteTime": {
     "end_time": "2025-06-02T09:09:50.409979Z",
     "start_time": "2025-06-02T09:09:39.386528Z"
    }
   },
   "cell_type": "code",
   "source": "zeroshot_classifier(sequence_to_classify, candidate_labels)",
   "id": "76aa1d3d26b00225",
   "outputs": [
    {
     "data": {
      "text/plain": [
       "{'sequence': 'one day I will see the world',\n",
       " 'labels': ['travel', 'dancing', 'cooking'],\n",
       " 'scores': [0.9938651919364929, 0.0032737581059336662, 0.0028610501904040575]}"
      ]
     },
     "execution_count": 10,
     "metadata": {},
     "output_type": "execute_result"
    }
   ],
   "execution_count": 10
  },
  {
   "metadata": {},
   "cell_type": "markdown",
   "source": "## Pre-trained Tokenizers",
   "id": "73cd9edf0d26809"
  },
  {
   "metadata": {
    "ExecuteTime": {
     "end_time": "2025-06-02T09:09:50.706219Z",
     "start_time": "2025-06-02T09:09:50.649887Z"
    }
   },
   "cell_type": "code",
   "source": "from transformers import AutoTokenizer",
   "id": "27f79c8506122c47",
   "outputs": [],
   "execution_count": 11
  },
  {
   "metadata": {
    "ExecuteTime": {
     "end_time": "2025-06-02T09:09:51.112241Z",
     "start_time": "2025-06-02T09:09:51.100579Z"
    }
   },
   "cell_type": "code",
   "source": "model = \"bert-base-uncased\"",
   "id": "df1400c84bd1a545",
   "outputs": [],
   "execution_count": 12
  },
  {
   "metadata": {
    "ExecuteTime": {
     "end_time": "2025-06-02T09:09:54.602525Z",
     "start_time": "2025-06-02T09:09:51.186999Z"
    }
   },
   "cell_type": "code",
   "source": "tokenizer = AutoTokenizer.from_pretrained(model)",
   "id": "1bb647325f62ab69",
   "outputs": [
    {
     "data": {
      "text/plain": [
       "tokenizer_config.json:   0%|          | 0.00/48.0 [00:00<?, ?B/s]"
      ],
      "application/vnd.jupyter.widget-view+json": {
       "version_major": 2,
       "version_minor": 0,
       "model_id": "0e25b38e25f947e68d144171ec9473f8"
      }
     },
     "metadata": {},
     "output_type": "display_data"
    },
    {
     "name": "stderr",
     "output_type": "stream",
     "text": [
      "C:\\Users\\matsv\\PyCharm\\ai_engineer_course_notes\\.venv\\lib\\site-packages\\huggingface_hub\\file_download.py:143: UserWarning: `huggingface_hub` cache-system uses symlinks by default to efficiently store duplicated files but your machine does not support them in C:\\Users\\matsv\\.cache\\huggingface\\hub\\models--bert-base-uncased. Caching files will still work but in a degraded version that might require more space on your disk. This warning can be disabled by setting the `HF_HUB_DISABLE_SYMLINKS_WARNING` environment variable. For more details, see https://huggingface.co/docs/huggingface_hub/how-to-cache#limitations.\n",
      "To support symlinks on Windows, you either need to activate Developer Mode or to run Python as an administrator. In order to activate developer mode, see this article: https://docs.microsoft.com/en-us/windows/apps/get-started/enable-your-device-for-development\n",
      "  warnings.warn(message)\n"
     ]
    },
    {
     "data": {
      "text/plain": [
       "config.json:   0%|          | 0.00/570 [00:00<?, ?B/s]"
      ],
      "application/vnd.jupyter.widget-view+json": {
       "version_major": 2,
       "version_minor": 0,
       "model_id": "08219e1842424955967c43ab5ccc196a"
      }
     },
     "metadata": {},
     "output_type": "display_data"
    },
    {
     "data": {
      "text/plain": [
       "vocab.txt:   0%|          | 0.00/232k [00:00<?, ?B/s]"
      ],
      "application/vnd.jupyter.widget-view+json": {
       "version_major": 2,
       "version_minor": 0,
       "model_id": "d9b2065acf9547cf9dcf58e375df3250"
      }
     },
     "metadata": {},
     "output_type": "display_data"
    },
    {
     "data": {
      "text/plain": [
       "tokenizer.json:   0%|          | 0.00/466k [00:00<?, ?B/s]"
      ],
      "application/vnd.jupyter.widget-view+json": {
       "version_major": 2,
       "version_minor": 0,
       "model_id": "1ccf56e78c5847deb2a1a7f6672a1fc6"
      }
     },
     "metadata": {},
     "output_type": "display_data"
    }
   ],
   "execution_count": 13
  },
  {
   "metadata": {
    "ExecuteTime": {
     "end_time": "2025-06-02T09:09:54.649061Z",
     "start_time": "2025-06-02T09:09:54.637857Z"
    }
   },
   "cell_type": "code",
   "source": "sentence = \"I'm so excited to be learning about LLM's\"",
   "id": "ccb222086de17593",
   "outputs": [],
   "execution_count": 14
  },
  {
   "metadata": {
    "ExecuteTime": {
     "end_time": "2025-06-02T09:09:54.758134Z",
     "start_time": "2025-06-02T09:09:54.745358Z"
    }
   },
   "cell_type": "code",
   "source": [
    "input_ids = tokenizer(sentence)\n",
    "input_ids"
   ],
   "id": "f0b32af1d2c0e2fc",
   "outputs": [
    {
     "data": {
      "text/plain": [
       "{'input_ids': [101, 1045, 1005, 1049, 2061, 7568, 2000, 2022, 4083, 2055, 2222, 2213, 1005, 1055, 102], 'token_type_ids': [0, 0, 0, 0, 0, 0, 0, 0, 0, 0, 0, 0, 0, 0, 0], 'attention_mask': [1, 1, 1, 1, 1, 1, 1, 1, 1, 1, 1, 1, 1, 1, 1]}"
      ]
     },
     "execution_count": 16,
     "metadata": {},
     "output_type": "execute_result"
    }
   ],
   "execution_count": 16
  },
  {
   "metadata": {
    "ExecuteTime": {
     "end_time": "2025-06-02T09:09:54.866918Z",
     "start_time": "2025-06-02T09:09:54.856032Z"
    }
   },
   "cell_type": "code",
   "source": [
    "tokens = tokenizer.tokenize(sentence)\n",
    "tokens"
   ],
   "id": "c5e22f81bf18bd38",
   "outputs": [
    {
     "data": {
      "text/plain": [
       "['i',\n",
       " \"'\",\n",
       " 'm',\n",
       " 'so',\n",
       " 'excited',\n",
       " 'to',\n",
       " 'be',\n",
       " 'learning',\n",
       " 'about',\n",
       " 'll',\n",
       " '##m',\n",
       " \"'\",\n",
       " 's']"
      ]
     },
     "execution_count": 18,
     "metadata": {},
     "output_type": "execute_result"
    }
   ],
   "execution_count": 18
  },
  {
   "metadata": {
    "ExecuteTime": {
     "end_time": "2025-06-02T09:11:46.566316Z",
     "start_time": "2025-06-02T09:11:46.551111Z"
    }
   },
   "cell_type": "code",
   "source": [
    "token_ids = tokenizer.convert_tokens_to_ids(tokens)\n",
    "token_ids"
   ],
   "id": "c3f89f6d1e4c463f",
   "outputs": [
    {
     "data": {
      "text/plain": [
       "[1045, 1005, 1049, 2061, 7568, 2000, 2022, 4083, 2055, 2222, 2213, 1005, 1055]"
      ]
     },
     "execution_count": 22,
     "metadata": {},
     "output_type": "execute_result"
    }
   ],
   "execution_count": 22
  },
  {
   "metadata": {
    "ExecuteTime": {
     "end_time": "2025-06-02T09:11:23.043389Z",
     "start_time": "2025-06-02T09:11:23.002781Z"
    }
   },
   "cell_type": "code",
   "source": [
    "decoded_ids = tokenizer.decode(token_ids)\n",
    "decoded_ids"
   ],
   "id": "7809dcd82cfbf051",
   "outputs": [
    {
     "data": {
      "text/plain": [
       "\"i ' m so excited to be learning about llm ' s\""
      ]
     },
     "execution_count": 21,
     "metadata": {},
     "output_type": "execute_result"
    }
   ],
   "execution_count": 21
  },
  {
   "metadata": {
    "ExecuteTime": {
     "end_time": "2025-06-02T09:12:03.456282Z",
     "start_time": "2025-06-02T09:12:03.419949Z"
    }
   },
   "cell_type": "code",
   "source": "tokenizer.decode(101)",
   "id": "246c889e2bb6b9de",
   "outputs": [
    {
     "data": {
      "text/plain": [
       "'[CLS]'"
      ]
     },
     "execution_count": 23,
     "metadata": {},
     "output_type": "execute_result"
    }
   ],
   "execution_count": 23
  },
  {
   "metadata": {
    "ExecuteTime": {
     "end_time": "2025-06-02T09:12:34.909026Z",
     "start_time": "2025-06-02T09:12:34.855631Z"
    }
   },
   "cell_type": "code",
   "source": "tokenizer.decode(102)",
   "id": "2daa821976a4e79a",
   "outputs": [
    {
     "data": {
      "text/plain": [
       "'[SEP]'"
      ]
     },
     "execution_count": 26,
     "metadata": {},
     "output_type": "execute_result"
    }
   ],
   "execution_count": 26
  },
  {
   "metadata": {
    "ExecuteTime": {
     "end_time": "2025-06-02T09:12:50.291324Z",
     "start_time": "2025-06-02T09:12:50.273839Z"
    }
   },
   "cell_type": "code",
   "source": "model2 = \"xlnet-base-cased\"",
   "id": "245d436cef4b2185",
   "outputs": [],
   "execution_count": 27
  },
  {
   "metadata": {
    "ExecuteTime": {
     "end_time": "2025-06-02T09:13:23.339813Z",
     "start_time": "2025-06-02T09:13:18.221405Z"
    }
   },
   "cell_type": "code",
   "source": "tokenizer2 = AutoTokenizer.from_pretrained(model2)",
   "id": "6ef744831996a9dc",
   "outputs": [],
   "execution_count": 29
  },
  {
   "metadata": {
    "ExecuteTime": {
     "end_time": "2025-06-02T09:13:45.059968Z",
     "start_time": "2025-06-02T09:13:45.027363Z"
    }
   },
   "cell_type": "code",
   "source": [
    "input_ids = tokenizer2(sentence)\n",
    "input_ids"
   ],
   "id": "5bb3264564f5f619",
   "outputs": [
    {
     "data": {
      "text/plain": [
       "{'input_ids': [35, 26, 98, 102, 5564, 22, 39, 1899, 75, 657, 12269, 26, 23, 4, 3], 'token_type_ids': [0, 0, 0, 0, 0, 0, 0, 0, 0, 0, 0, 0, 0, 0, 2], 'attention_mask': [1, 1, 1, 1, 1, 1, 1, 1, 1, 1, 1, 1, 1, 1, 1]}"
      ]
     },
     "execution_count": 31,
     "metadata": {},
     "output_type": "execute_result"
    }
   ],
   "execution_count": 31
  },
  {
   "metadata": {
    "ExecuteTime": {
     "end_time": "2025-06-02T09:14:10.114544Z",
     "start_time": "2025-06-02T09:14:10.086628Z"
    }
   },
   "cell_type": "code",
   "source": [
    "tokens = tokenizer2.tokenize(sentence)\n",
    "tokens"
   ],
   "id": "ba6609bece46fe2e",
   "outputs": [
    {
     "data": {
      "text/plain": [
       "['▁I',\n",
       " \"'\",\n",
       " 'm',\n",
       " '▁so',\n",
       " '▁excited',\n",
       " '▁to',\n",
       " '▁be',\n",
       " '▁learning',\n",
       " '▁about',\n",
       " '▁L',\n",
       " 'LM',\n",
       " \"'\",\n",
       " 's']"
      ]
     },
     "execution_count": 32,
     "metadata": {},
     "output_type": "execute_result"
    }
   ],
   "execution_count": 32
  },
  {
   "metadata": {
    "ExecuteTime": {
     "end_time": "2025-06-02T09:14:43.475806Z",
     "start_time": "2025-06-02T09:14:43.461624Z"
    }
   },
   "cell_type": "code",
   "source": [
    "token_ids = tokenizer2.convert_tokens_to_ids(tokens)\n",
    "token_ids"
   ],
   "id": "8742d524a951380f",
   "outputs": [
    {
     "data": {
      "text/plain": [
       "[35, 26, 98, 102, 5564, 22, 39, 1899, 75, 657, 12269, 26, 23]"
      ]
     },
     "execution_count": 34,
     "metadata": {},
     "output_type": "execute_result"
    }
   ],
   "execution_count": 34
  },
  {
   "metadata": {
    "ExecuteTime": {
     "end_time": "2025-06-02T09:15:01.104837Z",
     "start_time": "2025-06-02T09:15:01.071888Z"
    }
   },
   "cell_type": "code",
   "source": "tokenizer2.decode(4)",
   "id": "9eeade55d8cbc79e",
   "outputs": [
    {
     "data": {
      "text/plain": [
       "'<sep>'"
      ]
     },
     "execution_count": 35,
     "metadata": {},
     "output_type": "execute_result"
    }
   ],
   "execution_count": 35
  },
  {
   "metadata": {
    "ExecuteTime": {
     "end_time": "2025-06-02T09:15:11.482490Z",
     "start_time": "2025-06-02T09:15:11.467358Z"
    }
   },
   "cell_type": "code",
   "source": "tokenizer2.decode(3)",
   "id": "8615596c46fe5bf5",
   "outputs": [
    {
     "data": {
      "text/plain": [
       "'<cls>'"
      ]
     },
     "execution_count": 36,
     "metadata": {},
     "output_type": "execute_result"
    }
   ],
   "execution_count": 36
  },
  {
   "metadata": {},
   "cell_type": "markdown",
   "source": "## HuggingFace and Pytorch/Tensorflow",
   "id": "a87b8539646222b1"
  },
  {
   "metadata": {
    "ExecuteTime": {
     "end_time": "2025-06-02T09:18:51.943433Z",
     "start_time": "2025-06-02T09:18:51.923815Z"
    }
   },
   "cell_type": "code",
   "source": [
    "from transformers import AutoTokenizer, AutoModelForSequenceClassification\n",
    "import torch"
   ],
   "id": "c696c9514be86f89",
   "outputs": [],
   "execution_count": 38
  },
  {
   "metadata": {
    "ExecuteTime": {
     "end_time": "2025-06-02T09:19:09.069710Z",
     "start_time": "2025-06-02T09:19:09.043405Z"
    }
   },
   "cell_type": "code",
   "source": [
    "print(sentence)\n",
    "print(input_ids)"
   ],
   "id": "d04d6164d1da2e2f",
   "outputs": [
    {
     "name": "stdout",
     "output_type": "stream",
     "text": [
      "I'm so excited to be learning about LLM's\n",
      "{'input_ids': [35, 26, 98, 102, 5564, 22, 39, 1899, 75, 657, 12269, 26, 23, 4, 3], 'token_type_ids': [0, 0, 0, 0, 0, 0, 0, 0, 0, 0, 0, 0, 0, 0, 2], 'attention_mask': [1, 1, 1, 1, 1, 1, 1, 1, 1, 1, 1, 1, 1, 1, 1]}\n"
     ]
    }
   ],
   "execution_count": 40
  },
  {
   "metadata": {
    "ExecuteTime": {
     "end_time": "2025-06-02T09:20:18.398660Z",
     "start_time": "2025-06-02T09:20:14.181585Z"
    }
   },
   "cell_type": "code",
   "source": "tokenizer = AutoTokenizer.from_pretrained(\"distilbert-base-uncased-finetuned-sst-2-english\")",
   "id": "f9285f5a207c4107",
   "outputs": [
    {
     "data": {
      "text/plain": [
       "tokenizer_config.json:   0%|          | 0.00/48.0 [00:00<?, ?B/s]"
      ],
      "application/vnd.jupyter.widget-view+json": {
       "version_major": 2,
       "version_minor": 0,
       "model_id": "1430f52ce5c84b70b6c5038594dec848"
      }
     },
     "metadata": {},
     "output_type": "display_data"
    },
    {
     "name": "stderr",
     "output_type": "stream",
     "text": [
      "C:\\Users\\matsv\\PyCharm\\ai_engineer_course_notes\\.venv\\lib\\site-packages\\huggingface_hub\\file_download.py:143: UserWarning: `huggingface_hub` cache-system uses symlinks by default to efficiently store duplicated files but your machine does not support them in C:\\Users\\matsv\\.cache\\huggingface\\hub\\models--distilbert-base-uncased-finetuned-sst-2-english. Caching files will still work but in a degraded version that might require more space on your disk. This warning can be disabled by setting the `HF_HUB_DISABLE_SYMLINKS_WARNING` environment variable. For more details, see https://huggingface.co/docs/huggingface_hub/how-to-cache#limitations.\n",
      "To support symlinks on Windows, you either need to activate Developer Mode or to run Python as an administrator. In order to activate developer mode, see this article: https://docs.microsoft.com/en-us/windows/apps/get-started/enable-your-device-for-development\n",
      "  warnings.warn(message)\n"
     ]
    },
    {
     "data": {
      "text/plain": [
       "config.json:   0%|          | 0.00/629 [00:00<?, ?B/s]"
      ],
      "application/vnd.jupyter.widget-view+json": {
       "version_major": 2,
       "version_minor": 0,
       "model_id": "91b8caf346bb4f3fbf8795ac1ce21755"
      }
     },
     "metadata": {},
     "output_type": "display_data"
    },
    {
     "data": {
      "text/plain": [
       "vocab.txt:   0%|          | 0.00/232k [00:00<?, ?B/s]"
      ],
      "application/vnd.jupyter.widget-view+json": {
       "version_major": 2,
       "version_minor": 0,
       "model_id": "2427a6d829714ea89195c00390c23514"
      }
     },
     "metadata": {},
     "output_type": "display_data"
    }
   ],
   "execution_count": 41
  },
  {
   "metadata": {
    "ExecuteTime": {
     "end_time": "2025-06-02T09:20:57.341342Z",
     "start_time": "2025-06-02T09:20:57.050428Z"
    }
   },
   "cell_type": "code",
   "source": [
    "input_ids_pt = tokenizer(sentence, return_tensors=\"pt\")\n",
    "input_ids_pt"
   ],
   "id": "4ae171e8606a70a1",
   "outputs": [
    {
     "data": {
      "text/plain": [
       "{'input_ids': tensor([[ 101, 1045, 1005, 1049, 2061, 7568, 2000, 2022, 4083, 2055, 2222, 2213,\n",
       "         1005, 1055,  102]]), 'attention_mask': tensor([[1, 1, 1, 1, 1, 1, 1, 1, 1, 1, 1, 1, 1, 1, 1]])}"
      ]
     },
     "execution_count": 42,
     "metadata": {},
     "output_type": "execute_result"
    }
   ],
   "execution_count": 42
  },
  {
   "metadata": {
    "ExecuteTime": {
     "end_time": "2025-06-02T09:22:09.976401Z",
     "start_time": "2025-06-02T09:21:34.247500Z"
    }
   },
   "cell_type": "code",
   "source": "model = AutoModelForSequenceClassification.from_pretrained(\"distilbert-base-uncased-finetuned-sst-2-english\")",
   "id": "dc09d641a3975bc7",
   "outputs": [
    {
     "name": "stderr",
     "output_type": "stream",
     "text": [
      "Xet Storage is enabled for this repo, but the 'hf_xet' package is not installed. Falling back to regular HTTP download. For better performance, install the package with: `pip install huggingface_hub[hf_xet]` or `pip install hf_xet`\n"
     ]
    },
    {
     "data": {
      "text/plain": [
       "model.safetensors:   0%|          | 0.00/268M [00:00<?, ?B/s]"
      ],
      "application/vnd.jupyter.widget-view+json": {
       "version_major": 2,
       "version_minor": 0,
       "model_id": "5f1e428bd4e84195a611a0dc38e1ecd9"
      }
     },
     "metadata": {},
     "output_type": "display_data"
    }
   ],
   "execution_count": 43
  },
  {
   "metadata": {
    "ExecuteTime": {
     "end_time": "2025-06-02T09:22:15.361709Z",
     "start_time": "2025-06-02T09:22:14.990767Z"
    }
   },
   "cell_type": "code",
   "source": [
    "with torch.no_grad():\n",
    "    logits = model(**input_ids_pt).logits"
   ],
   "id": "54e742f56d4de809",
   "outputs": [],
   "execution_count": 44
  },
  {
   "metadata": {
    "ExecuteTime": {
     "end_time": "2025-06-02T09:23:06.883943Z",
     "start_time": "2025-06-02T09:23:06.774943Z"
    }
   },
   "cell_type": "code",
   "source": [
    "predicted_class_id = logits.argmax().item()\n",
    "model.config.id2label[predicted_class_id]"
   ],
   "id": "91b877176e3e6acb",
   "outputs": [
    {
     "data": {
      "text/plain": [
       "'POSITIVE'"
      ]
     },
     "execution_count": 45,
     "metadata": {},
     "output_type": "execute_result"
    }
   ],
   "execution_count": 45
  },
  {
   "metadata": {},
   "cell_type": "markdown",
   "source": "# Saving and loading models",
   "id": "47c2fb3cabec6b3d"
  },
  {
   "metadata": {
    "ExecuteTime": {
     "end_time": "2025-06-02T09:29:00.647099Z",
     "start_time": "2025-06-02T09:29:00.596217Z"
    }
   },
   "cell_type": "code",
   "source": "model_directory = \"my_saved_models\"",
   "id": "ce4c210404507673",
   "outputs": [],
   "execution_count": 46
  },
  {
   "metadata": {
    "ExecuteTime": {
     "end_time": "2025-06-02T09:29:16.221595Z",
     "start_time": "2025-06-02T09:29:16.094893Z"
    }
   },
   "cell_type": "code",
   "source": "tokenizer.save_pretrained(model_directory)",
   "id": "71c523de2d063602",
   "outputs": [
    {
     "data": {
      "text/plain": [
       "('my_saved_models\\\\tokenizer_config.json',\n",
       " 'my_saved_models\\\\special_tokens_map.json',\n",
       " 'my_saved_models\\\\vocab.txt',\n",
       " 'my_saved_models\\\\added_tokens.json',\n",
       " 'my_saved_models\\\\tokenizer.json')"
      ]
     },
     "execution_count": 47,
     "metadata": {},
     "output_type": "execute_result"
    }
   ],
   "execution_count": 47
  },
  {
   "metadata": {
    "ExecuteTime": {
     "end_time": "2025-06-02T09:29:45.127408Z",
     "start_time": "2025-06-02T09:29:42.448062Z"
    }
   },
   "cell_type": "code",
   "source": "model.save_pretrained(model_directory)",
   "id": "1edacfccf735aba7",
   "outputs": [],
   "execution_count": 48
  },
  {
   "metadata": {
    "ExecuteTime": {
     "end_time": "2025-06-02T09:30:10.847223Z",
     "start_time": "2025-06-02T09:30:10.519462Z"
    }
   },
   "cell_type": "code",
   "source": "my_tokenizer = AutoTokenizer.from_pretrained(model_directory)",
   "id": "df51b95e232bff80",
   "outputs": [],
   "execution_count": 49
  },
  {
   "metadata": {
    "ExecuteTime": {
     "end_time": "2025-06-02T09:30:30.793491Z",
     "start_time": "2025-06-02T09:30:30.546426Z"
    }
   },
   "cell_type": "code",
   "source": "my_model = AutoModelForSequenceClassification.from_pretrained(model_directory)",
   "id": "98461374110e9734",
   "outputs": [],
   "execution_count": 50
  },
  {
   "metadata": {},
   "cell_type": "code",
   "outputs": [],
   "execution_count": null,
   "source": "",
   "id": "727fbd6485dfdc48"
  }
 ],
 "metadata": {
  "kernelspec": {
   "display_name": "Python 3",
   "language": "python",
   "name": "python3"
  },
  "language_info": {
   "codemirror_mode": {
    "name": "ipython",
    "version": 2
   },
   "file_extension": ".py",
   "mimetype": "text/x-python",
   "name": "python",
   "nbconvert_exporter": "python",
   "pygments_lexer": "ipython2",
   "version": "2.7.6"
  }
 },
 "nbformat": 4,
 "nbformat_minor": 5
}
