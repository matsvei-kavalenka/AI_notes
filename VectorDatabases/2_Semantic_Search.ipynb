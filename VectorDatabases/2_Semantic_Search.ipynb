{
 "cells": [
  {
   "metadata": {},
   "cell_type": "code",
   "source": [
    "%load_ext dotenv\n",
    "%dotenv"
   ],
   "id": "f14a9f23766a2d86",
   "outputs": [],
   "execution_count": null
  },
  {
   "cell_type": "code",
   "id": "initial_id",
   "metadata": {
    "collapsed": true
   },
   "source": [
    "import pandas as pd\n",
    "import os\n",
    "from pinecone import Pinecone, ServerlessSpec\n",
    "import pinecone\n",
    "from sentence_transformers import SentenceTransformer"
   ],
   "outputs": [],
   "execution_count": null
  },
  {
   "metadata": {},
   "cell_type": "code",
   "source": "file = pd.read_csv(\"../resources/course_descriptions.csv\", encoding=\"ANSI\")",
   "id": "c2212a8dbffbcb00",
   "outputs": [],
   "execution_count": null
  },
  {
   "metadata": {},
   "cell_type": "code",
   "source": "file",
   "id": "a9ca8059b143cb45",
   "outputs": [],
   "execution_count": null
  },
  {
   "metadata": {},
   "cell_type": "code",
   "source": [
    "def create_course_description(row):\n",
    "    return f\"\"\"The course name is {row['course_name']}, the slug is {row[\"course_slug\"]}, the technology is {row[\"course_technology\"]} and the course topic is {row['course_topic']}\"\"\""
   ],
   "id": "24bee756f5b699f",
   "outputs": [],
   "execution_count": null
  },
  {
   "metadata": {},
   "cell_type": "code",
   "source": "file['course_description'] = file.apply(create_course_description, axis=1)",
   "id": "b066941031b20512",
   "outputs": [],
   "execution_count": null
  },
  {
   "metadata": {},
   "cell_type": "code",
   "source": "print(file['course_description'][0])",
   "id": "31f1a429018a24bd",
   "outputs": [],
   "execution_count": null
  },
  {
   "metadata": {},
   "cell_type": "code",
   "source": "pc = Pinecone(api_key=os.environ.get('PINECONE_API_KEY'), environment=os.environ.get('PINECONE_ENV'))",
   "id": "7ea558efedfa84f8",
   "outputs": [],
   "execution_count": null
  },
  {
   "metadata": {},
   "cell_type": "code",
   "source": [
    "index_name = \"my-index\"\n",
    "dimension=384\n",
    "metric=\"cosine\""
   ],
   "id": "d5514482fe31486d",
   "outputs": [],
   "execution_count": null
  },
  {
   "metadata": {},
   "cell_type": "code",
   "source": "#pc.create_index(name=index_name, dimension=dimension, metric=metric, spec=ServerlessSpec(cloud='aws', region='us-east-1'))",
   "id": "4b7bd653b8afbece",
   "outputs": [],
   "execution_count": null
  },
  {
   "metadata": {},
   "cell_type": "code",
   "source": "index = pc.Index(index_name)",
   "id": "4dad60b6de88e43e",
   "outputs": [],
   "execution_count": null
  },
  {
   "metadata": {},
   "cell_type": "markdown",
   "source": "## Embedding the data",
   "id": "1cdd04b879f33424"
  },
  {
   "metadata": {},
   "cell_type": "code",
   "source": "model = SentenceTransformer('all-MiniLM-L6-v2')",
   "id": "981baa11adfc3a42",
   "outputs": [],
   "execution_count": null
  },
  {
   "metadata": {},
   "cell_type": "code",
   "source": [
    "def create_embeddings(row):\n",
    "    combined_text = \" \".join([str(row[field]) for field in [\"course_description\", \"course_description_short\"]])\n",
    "    embedding = model.encode(combined_text, show_progress_bar=False)\n",
    "    return embedding"
   ],
   "id": "df4cfe70a1ac37fd",
   "outputs": [],
   "execution_count": null
  },
  {
   "metadata": {},
   "cell_type": "code",
   "source": "file['embedding'] = file.apply(create_embeddings, axis=1)",
   "id": "97ccb90c7f82a471",
   "outputs": [],
   "execution_count": null
  },
  {
   "metadata": {},
   "cell_type": "code",
   "source": [
    "vectors_to_upsert = [(str(row['course_name']), row['embedding'].tolist()) for _, row in file.iterrows()]\n",
    "index.upsert(vectors=vectors_to_upsert)\n",
    "print(\"Data upserted to Pinecone index\")"
   ],
   "id": "6449506bd9ff6459",
   "outputs": [],
   "execution_count": null
  },
  {
   "metadata": {},
   "cell_type": "markdown",
   "source": "## Semantic Search",
   "id": "7bb52ce6eb63d4f4"
  },
  {
   "metadata": {},
   "cell_type": "code",
   "source": [
    "query = \"clustering\"\n",
    "query_embedding = model.encode(query, show_progress_bar=False).tolist()"
   ],
   "id": "6c44b9c250fe87c3",
   "outputs": [],
   "execution_count": null
  },
  {
   "metadata": {},
   "cell_type": "code",
   "source": "query_results = index.query(vector=[query_embedding], top_k=12, include_values=True)",
   "id": "e27fb08d80e50aba",
   "outputs": [],
   "execution_count": null
  },
  {
   "metadata": {},
   "cell_type": "code",
   "source": "query_results",
   "id": "15e38120a0e745b8",
   "outputs": [],
   "execution_count": null
  },
  {
   "metadata": {},
   "cell_type": "code",
   "source": [
    "for match  in query_results[\"matches\"]:\n",
    "    if match['score'] >= 0.3:\n",
    "        print(f\"Matched item ID: {match['id']}, score: {match['score']}\")"
   ],
   "id": "acf2275cd6fbb78d",
   "outputs": [],
   "execution_count": null
  },
  {
   "metadata": {},
   "cell_type": "code",
   "source": "file = pd.read_csv(\"../resources/course_section_descriptions.csv\", encoding=\"ANSI\")",
   "id": "275223a757d09034",
   "outputs": [],
   "execution_count": null
  },
  {
   "metadata": {},
   "cell_type": "code",
   "source": "file['unique_id'] = file['course_id'].astype(str)+ '-' + file['section_id'].astype(str)",
   "id": "4fa1cc911789a119",
   "outputs": [],
   "execution_count": null
  },
  {
   "metadata": {},
   "cell_type": "code",
   "source": [
    "file['metadata'] = file.apply(lambda row: {\n",
    "    \"course_name\" : row['course_name'],\n",
    "    \"section_name\" : row['section_name'],\n",
    "    \"section_description\" : row['section_description'],\n",
    "}, axis=1)"
   ],
   "id": "d3626e9838d047d4",
   "outputs": [],
   "execution_count": null
  },
  {
   "metadata": {},
   "cell_type": "code",
   "source": "file['metadata']",
   "id": "359eb6f7dd4ed0a2",
   "outputs": [],
   "execution_count": null
  },
  {
   "metadata": {},
   "cell_type": "code",
   "source": [
    "def create_embeddings(row):\n",
    "    combined_text = f'''{row[\"course_name\"]} {row[\"course_technology\"]}\n",
    "                        {row[\"course_description\"]} {row[\"section_name\"]}{row[\"section_description\"]}'''\n",
    "    return model.encode(combined_text, show_progress_bar = False)"
   ],
   "id": "5106e4a822e7cc8b",
   "outputs": [],
   "execution_count": null
  },
  {
   "metadata": {},
   "cell_type": "code",
   "source": "file[\"embedding\"] = file.apply(create_embeddings, axis = 1)",
   "id": "45780ed2283c03c7",
   "outputs": [],
   "execution_count": null
  },
  {
   "metadata": {},
   "cell_type": "code",
   "source": "vectors_to_upsert = [(row[\"unique_id\"], row[\"embedding\"].tolist(), row[\"metadata\"]) for index, row in file.iterrows()  ]",
   "id": "dffdfb54499573f6",
   "outputs": [],
   "execution_count": null
  },
  {
   "metadata": {},
   "cell_type": "code",
   "source": [
    "index.upsert(vectors=vectors_to_upsert)\n",
    "print(\"Data is successfully upserted\")"
   ],
   "id": "34f4fb817ec64bef",
   "outputs": [],
   "execution_count": null
  },
  {
   "metadata": {},
   "cell_type": "code",
   "source": [
    "query_results = index.query(\n",
    "    vector = [query_embedding],\n",
    "    top_k = 12,\n",
    "    include_metadata=True\n",
    ")"
   ],
   "id": "7b1abab20ab7b6eb",
   "outputs": [],
   "execution_count": null
  },
  {
   "metadata": {},
   "cell_type": "code",
   "source": "score_threshold = 0.5",
   "id": "5e3a2046b5773d98",
   "outputs": [],
   "execution_count": null
  },
  {
   "metadata": {},
   "cell_type": "code",
   "source": [
    "# Assuming query_results are fetched and include metadata\n",
    "for match in query_results['matches']:\n",
    "    if match['score'] >= score_threshold:\n",
    "        course_details = match.get('metadata', {})\n",
    "        course_name = course_details.get('course_name', 'N/A')\n",
    "        section_name = course_details.get('section_name', 'N/A')\n",
    "        section_description = course_details.get('section_description', 'No description available')\n",
    "        \n",
    "        print(f\"Matched item ID: {match['id']}, Score: {match['score']}\")\n",
    "        print(f\"Course: {course_name} \\nSection: {section_name} \\nDescription: {section_description}\\n\")"
   ],
   "id": "f2ebc2fd5d0cf172",
   "outputs": [],
   "execution_count": null
  }
 ],
 "metadata": {
  "kernelspec": {
   "display_name": "Python 3",
   "language": "python",
   "name": "python3"
  },
  "language_info": {
   "codemirror_mode": {
    "name": "ipython",
    "version": 2
   },
   "file_extension": ".py",
   "mimetype": "text/x-python",
   "name": "python",
   "nbconvert_exporter": "python",
   "pygments_lexer": "ipython2",
   "version": "2.7.6"
  }
 },
 "nbformat": 4,
 "nbformat_minor": 5
}
