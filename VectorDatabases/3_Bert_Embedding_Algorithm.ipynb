{
 "cells": [
  {
   "cell_type": "code",
   "id": "initial_id",
   "metadata": {
    "collapsed": true,
    "ExecuteTime": {
     "end_time": "2025-06-21T11:40:48.274867Z",
     "start_time": "2025-06-21T11:40:48.220869Z"
    }
   },
   "source": [
    "%load_ext dotenv\n",
    "%dotenv"
   ],
   "outputs": [],
   "execution_count": 1
  },
  {
   "metadata": {
    "ExecuteTime": {
     "end_time": "2025-06-21T11:52:41.134893Z",
     "start_time": "2025-06-21T11:52:35.097958Z"
    }
   },
   "cell_type": "code",
   "source": [
    "from pinecone import Pinecone\n",
    "from pinecone import ServerlessSpec\n",
    "import pandas as pd\n",
    "import os"
   ],
   "id": "88de7c9f48c880ee",
   "outputs": [],
   "execution_count": 17
  },
  {
   "metadata": {
    "ExecuteTime": {
     "end_time": "2025-06-21T11:52:41.445491Z",
     "start_time": "2025-06-21T11:52:41.281934Z"
    }
   },
   "cell_type": "code",
   "source": "file = pd.read_csv(\"../resources/course_descriptions.csv\", encoding=\"ANSI\")",
   "id": "1c206b92b602d4b3",
   "outputs": [],
   "execution_count": 18
  },
  {
   "metadata": {},
   "cell_type": "code",
   "outputs": [],
   "execution_count": null,
   "source": "",
   "id": "c8c2c0d9bcc3f036"
  },
  {
   "metadata": {
    "ExecuteTime": {
     "end_time": "2025-06-21T11:44:19.732534Z",
     "start_time": "2025-06-21T11:44:19.717503Z"
    }
   },
   "cell_type": "code",
   "source": "pc = Pinecone(api_key=os.environ.get('PINECONE_API_KEY'), environment=os.environ.get('PINECONE_ENV'))",
   "id": "af14042222470115",
   "outputs": [],
   "execution_count": 6
  },
  {
   "metadata": {
    "ExecuteTime": {
     "end_time": "2025-06-21T11:44:46.034140Z",
     "start_time": "2025-06-21T11:44:46.018141Z"
    }
   },
   "cell_type": "code",
   "source": "",
   "id": "ad03746cfeb97537",
   "outputs": [],
   "execution_count": 7
  },
  {
   "metadata": {
    "ExecuteTime": {
     "end_time": "2025-06-21T11:45:41.981168Z",
     "start_time": "2025-06-21T11:45:41.256219Z"
    }
   },
   "cell_type": "code",
   "source": [
    "if index_name in [index.name for index in pc.list_indexes()]:\n",
    "    pc.delete_index(index_name)"
   ],
   "id": "5976c3011463e421",
   "outputs": [],
   "execution_count": 8
  },
  {
   "metadata": {
    "ExecuteTime": {
     "end_time": "2025-06-21T11:48:48.757523Z",
     "start_time": "2025-06-21T11:48:42.900768Z"
    }
   },
   "cell_type": "code",
   "source": "",
   "id": "a5b96085d15b252f",
   "outputs": [
    {
     "data": {
      "text/plain": [
       "{\n",
       "    \"name\": \"bert\",\n",
       "    \"metric\": \"cosine\",\n",
       "    \"host\": \"bert-boru13i.svc.aped-4627-b74a.pinecone.io\",\n",
       "    \"spec\": {\n",
       "        \"serverless\": {\n",
       "            \"cloud\": \"aws\",\n",
       "            \"region\": \"us-east-1\"\n",
       "        }\n",
       "    },\n",
       "    \"status\": {\n",
       "        \"ready\": true,\n",
       "        \"state\": \"Ready\"\n",
       "    },\n",
       "    \"vector_type\": \"dense\",\n",
       "    \"dimension\": 768,\n",
       "    \"deletion_protection\": \"disabled\",\n",
       "    \"tags\": null\n",
       "}"
      ]
     },
     "execution_count": 14,
     "metadata": {},
     "output_type": "execute_result"
    }
   ],
   "execution_count": 14
  },
  {
   "metadata": {
    "ExecuteTime": {
     "end_time": "2025-06-21T11:51:27.858018Z",
     "start_time": "2025-06-21T11:51:27.069977Z"
    }
   },
   "cell_type": "code",
   "source": "",
   "id": "5853a05d72023eea",
   "outputs": [],
   "execution_count": 15
  },
  {
   "metadata": {},
   "cell_type": "code",
   "outputs": [],
   "execution_count": null,
   "source": "",
   "id": "f74dc507824103eb"
  }
 ],
 "metadata": {
  "kernelspec": {
   "display_name": "Python 3",
   "language": "python",
   "name": "python3"
  },
  "language_info": {
   "codemirror_mode": {
    "name": "ipython",
    "version": 2
   },
   "file_extension": ".py",
   "mimetype": "text/x-python",
   "name": "python",
   "nbconvert_exporter": "python",
   "pygments_lexer": "ipython2",
   "version": "2.7.6"
  }
 },
 "nbformat": 4,
 "nbformat_minor": 5
}
