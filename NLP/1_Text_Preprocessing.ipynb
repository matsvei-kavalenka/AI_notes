{
 "cells": [
  {
   "cell_type": "code",
   "id": "initial_id",
   "metadata": {
    "collapsed": true,
    "ExecuteTime": {
     "end_time": "2025-05-11T13:32:28.577762Z",
     "start_time": "2025-05-11T13:32:28.564759Z"
    }
   },
   "source": [
    "import re\n",
    "from nltk.corpus import stopwords"
   ],
   "outputs": [],
   "execution_count": 33
  },
  {
   "metadata": {},
   "cell_type": "markdown",
   "source": "# Stopwords",
   "id": "f08d4978655f076c"
  },
  {
   "metadata": {
    "ExecuteTime": {
     "end_time": "2025-05-11T13:32:28.672764Z",
     "start_time": "2025-05-11T13:32:28.659760Z"
    }
   },
   "cell_type": "code",
   "source": [
    "en_stop = stopwords.words('english')\n",
    "print(en_stop)"
   ],
   "id": "fba63d76106cf3cf",
   "outputs": [
    {
     "name": "stdout",
     "output_type": "stream",
     "text": [
      "['a', 'about', 'above', 'after', 'again', 'against', 'ain', 'all', 'am', 'an', 'and', 'any', 'are', 'aren', \"aren't\", 'as', 'at', 'be', 'because', 'been', 'before', 'being', 'below', 'between', 'both', 'but', 'by', 'can', 'couldn', \"couldn't\", 'd', 'did', 'didn', \"didn't\", 'do', 'does', 'doesn', \"doesn't\", 'doing', 'don', \"don't\", 'down', 'during', 'each', 'few', 'for', 'from', 'further', 'had', 'hadn', \"hadn't\", 'has', 'hasn', \"hasn't\", 'have', 'haven', \"haven't\", 'having', 'he', \"he'd\", \"he'll\", 'her', 'here', 'hers', 'herself', \"he's\", 'him', 'himself', 'his', 'how', 'i', \"i'd\", 'if', \"i'll\", \"i'm\", 'in', 'into', 'is', 'isn', \"isn't\", 'it', \"it'd\", \"it'll\", \"it's\", 'its', 'itself', \"i've\", 'just', 'll', 'm', 'ma', 'me', 'mightn', \"mightn't\", 'more', 'most', 'mustn', \"mustn't\", 'my', 'myself', 'needn', \"needn't\", 'no', 'nor', 'not', 'now', 'o', 'of', 'off', 'on', 'once', 'only', 'or', 'other', 'our', 'ours', 'ourselves', 'out', 'over', 'own', 're', 's', 'same', 'shan', \"shan't\", 'she', \"she'd\", \"she'll\", \"she's\", 'should', 'shouldn', \"shouldn't\", \"should've\", 'so', 'some', 'such', 't', 'than', 'that', \"that'll\", 'the', 'their', 'theirs', 'them', 'themselves', 'then', 'there', 'these', 'they', \"they'd\", \"they'll\", \"they're\", \"they've\", 'this', 'those', 'through', 'to', 'too', 'under', 'until', 'up', 've', 'very', 'was', 'wasn', \"wasn't\", 'we', \"we'd\", \"we'll\", \"we're\", 'were', 'weren', \"weren't\", \"we've\", 'what', 'when', 'where', 'which', 'while', 'who', 'whom', 'why', 'will', 'with', 'won', \"won't\", 'wouldn', \"wouldn't\", 'y', 'you', \"you'd\", \"you'll\", 'your', \"you're\", 'yours', 'yourself', 'yourselves', \"you've\"]\n"
     ]
    }
   ],
   "execution_count": 34
  },
  {
   "metadata": {
    "ExecuteTime": {
     "end_time": "2025-05-11T13:32:28.719757Z",
     "start_time": "2025-05-11T13:32:28.696764Z"
    }
   },
   "cell_type": "code",
   "source": [
    "sentence = \"it was too far to go to the shop for you and you cannot walk\"\n",
    "sentence_no_stops = ' '.join([word for word in sentence.split() if word not in en_stop])\n",
    "print(sentence_no_stops)"
   ],
   "id": "f9ebc66190de0543",
   "outputs": [
    {
     "name": "stdout",
     "output_type": "stream",
     "text": [
      "far go shop cannot walk\n"
     ]
    }
   ],
   "execution_count": 35
  },
  {
   "metadata": {},
   "cell_type": "markdown",
   "source": "# Regular Expressions",
   "id": "bb11166a2c360f44"
  },
  {
   "metadata": {
    "ExecuteTime": {
     "end_time": "2025-05-11T13:32:28.783761Z",
     "start_time": "2025-05-11T13:32:28.765763Z"
    }
   },
   "cell_type": "code",
   "source": [
    "my_folder = r\"C:\\Desktop\\notes\"\n",
    "print(my_folder)"
   ],
   "id": "49d462e40166a81c",
   "outputs": [
    {
     "name": "stdout",
     "output_type": "stream",
     "text": [
      "C:\\Desktop\\notes\n"
     ]
    }
   ],
   "execution_count": 36
  },
  {
   "metadata": {
    "ExecuteTime": {
     "end_time": "2025-05-11T13:32:28.863763Z",
     "start_time": "2025-05-11T13:32:28.835763Z"
    }
   },
   "cell_type": "code",
   "source": [
    "result_search = re.search(\"pattern\", r\"string to contain pattern\")\n",
    "print(result_search)"
   ],
   "id": "5629b97b71a30f17",
   "outputs": [
    {
     "name": "stdout",
     "output_type": "stream",
     "text": [
      "<re.Match object; span=(18, 25), match='pattern'>\n"
     ]
    }
   ],
   "execution_count": 37
  },
  {
   "metadata": {
    "ExecuteTime": {
     "end_time": "2025-05-11T13:32:28.958005Z",
     "start_time": "2025-05-11T13:32:28.934007Z"
    }
   },
   "cell_type": "code",
   "source": [
    "string = \"random sentence with name matvei\"\n",
    "new_string = re.sub(\"matvei\", \"matsvei\", string)\n",
    "print(new_string)"
   ],
   "id": "edd25dd9438a2583",
   "outputs": [
    {
     "name": "stdout",
     "output_type": "stream",
     "text": [
      "random sentence with name matsvei\n"
     ]
    }
   ],
   "execution_count": 38
  },
  {
   "metadata": {
    "ExecuteTime": {
     "end_time": "2025-05-11T13:32:28.989004Z",
     "start_time": "2025-05-11T13:32:28.970009Z"
    }
   },
   "cell_type": "code",
   "source": [
    "customer_reviews = [\"Sam was a great help to me in the store\",\n",
    "                    \"The cashier was very rude to me, I think her name was Eleanor\",\n",
    "                    \"Amazing work from Sadeen!\",\n",
    "                    \"Sarah was able to help me find the items I needed quickly\",\n",
    "                    \"Lucy is such a great addition to the team\",\n",
    "                    \"Great service from Sara, she found me what I wanted\"\n",
    "                   ]"
   ],
   "id": "f5048614ff5a0ce8",
   "outputs": [],
   "execution_count": 39
  },
  {
   "metadata": {
    "ExecuteTime": {
     "end_time": "2025-05-11T13:32:29.036008Z",
     "start_time": "2025-05-11T13:32:29.024006Z"
    }
   },
   "cell_type": "code",
   "source": [
    "customer_reviews = [string.lower() for string in customer_reviews]\n",
    "sarah_reviews = []"
   ],
   "id": "fc0867ef65d492bc",
   "outputs": [],
   "execution_count": 40
  },
  {
   "metadata": {
    "ExecuteTime": {
     "end_time": "2025-05-11T13:32:29.131010Z",
     "start_time": "2025-05-11T13:32:29.107004Z"
    }
   },
   "cell_type": "code",
   "source": [
    "# ? means that it could be either sara or sarah\n",
    "pattern_to_find = r\"sarah?\"\n",
    "\n",
    "for string in customer_reviews:\n",
    "    if re.search(pattern_to_find, string):\n",
    "        sarah_reviews.append(string)\n",
    "\n",
    "print(sarah_reviews)"
   ],
   "id": "13bc3aa2d67eb4e5",
   "outputs": [
    {
     "name": "stdout",
     "output_type": "stream",
     "text": [
      "['sarah was able to help me find the items i needed quickly', 'great service from sara, she found me what i wanted']\n"
     ]
    }
   ],
   "execution_count": 41
  },
  {
   "metadata": {
    "ExecuteTime": {
     "end_time": "2025-05-11T13:32:29.179006Z",
     "start_time": "2025-05-11T13:32:29.160007Z"
    }
   },
   "cell_type": "code",
   "source": [
    "# strings that are starting with a\n",
    "a_reviews = []\n",
    "pattern_to_find = r\"^a\"\n",
    "\n",
    "for string in customer_reviews:\n",
    "    if re.search(pattern_to_find, string):\n",
    "        a_reviews.append(string)\n",
    "\n",
    "print(a_reviews)"
   ],
   "id": "46cfb1fd3ad93028",
   "outputs": [
    {
     "name": "stdout",
     "output_type": "stream",
     "text": [
      "['amazing work from sadeen!']\n"
     ]
    }
   ],
   "execution_count": 42
  },
  {
   "metadata": {
    "ExecuteTime": {
     "end_time": "2025-05-11T13:32:29.274005Z",
     "start_time": "2025-05-11T13:32:29.256009Z"
    }
   },
   "cell_type": "code",
   "source": [
    "# strings that are ending with y\n",
    "y_reviews = []\n",
    "pattern_to_find = r\"y$\"\n",
    "\n",
    "for string in customer_reviews:\n",
    "    if re.search(pattern_to_find, string):\n",
    "        y_reviews.append(string)\n",
    "\n",
    "print(y_reviews)"
   ],
   "id": "2162da67f2e7f0ac",
   "outputs": [
    {
     "name": "stdout",
     "output_type": "stream",
     "text": [
      "['sarah was able to help me find the items i needed quickly']\n"
     ]
    }
   ],
   "execution_count": 43
  },
  {
   "metadata": {
    "ExecuteTime": {
     "end_time": "2025-05-11T13:32:29.401008Z",
     "start_time": "2025-05-11T13:32:29.373006Z"
    }
   },
   "cell_type": "code",
   "source": [
    "# looks for patterns with words needed and wanted\n",
    "need_want_reviews = []\n",
    "pattern_to_find = r\"(need|want)ed\"\n",
    "\n",
    "for string in customer_reviews:\n",
    "    if re.search(pattern_to_find, string):\n",
    "        need_want_reviews.append(string)\n",
    "\n",
    "print(need_want_reviews)"
   ],
   "id": "900bf7ecb0d96336",
   "outputs": [
    {
     "name": "stdout",
     "output_type": "stream",
     "text": [
      "['sarah was able to help me find the items i needed quickly', 'great service from sara, she found me what i wanted']\n"
     ]
    }
   ],
   "execution_count": 44
  },
  {
   "metadata": {},
   "cell_type": "markdown",
   "source": "# Tokenization",
   "id": "e7d5e59d68e7cf5f"
  },
  {
   "metadata": {
    "ExecuteTime": {
     "end_time": "2025-05-11T13:32:29.465007Z",
     "start_time": "2025-05-11T13:32:29.454010Z"
    }
   },
   "cell_type": "code",
   "source": [
    "import nltk\n",
    "nltk.download('punkt_tab')\n",
    "from nltk.tokenize import word_tokenize, sent_tokenize"
   ],
   "id": "7ade229e88a859a2",
   "outputs": [
    {
     "name": "stderr",
     "output_type": "stream",
     "text": [
      "[nltk_data] Downloading package punkt_tab to\n",
      "[nltk_data]     C:\\Users\\matsv\\AppData\\Roaming\\nltk_data...\n",
      "[nltk_data]   Package punkt_tab is already up-to-date!\n"
     ]
    }
   ],
   "execution_count": 45
  },
  {
   "metadata": {
    "ExecuteTime": {
     "end_time": "2025-05-11T13:32:29.573007Z",
     "start_time": "2025-05-11T13:32:29.552008Z"
    }
   },
   "cell_type": "code",
   "source": [
    "sentences = \"Her cat's name is Luna. Her dog's name is Max.\"\n",
    "print(sent_tokenize(sentences))"
   ],
   "id": "117a739de1101d9b",
   "outputs": [
    {
     "name": "stdout",
     "output_type": "stream",
     "text": [
      "[\"Her cat's name is Luna.\", \"Her dog's name is Max.\"]\n"
     ]
    }
   ],
   "execution_count": 46
  },
  {
   "metadata": {
    "ExecuteTime": {
     "end_time": "2025-05-11T13:32:29.621007Z",
     "start_time": "2025-05-11T13:32:29.598010Z"
    }
   },
   "cell_type": "code",
   "source": [
    "for sentence in sent_tokenize(sentences):\n",
    "    sentence = word_tokenize(sentence)\n",
    "    print(sentence)"
   ],
   "id": "2b8f1a1010a4489d",
   "outputs": [
    {
     "name": "stdout",
     "output_type": "stream",
     "text": [
      "['Her', 'cat', \"'s\", 'name', 'is', 'Luna', '.']\n",
      "['Her', 'dog', \"'s\", 'name', 'is', 'Max', '.']\n"
     ]
    }
   ],
   "execution_count": 47
  },
  {
   "metadata": {
    "ExecuteTime": {
     "end_time": "2025-05-11T13:32:29.700007Z",
     "start_time": "2025-05-11T13:32:29.683005Z"
    }
   },
   "cell_type": "code",
   "source": [
    "sentence_2 = \"Her cat's name is Luna and her dog's name is Max\"\n",
    "print(word_tokenize(sentence_2))"
   ],
   "id": "5853d648c31c19",
   "outputs": [
    {
     "name": "stdout",
     "output_type": "stream",
     "text": [
      "['Her', 'cat', \"'s\", 'name', 'is', 'Luna', 'and', 'her', 'dog', \"'s\", 'name', 'is', 'Max']\n"
     ]
    }
   ],
   "execution_count": 48
  },
  {
   "metadata": {},
   "cell_type": "markdown",
   "source": "# Stemming",
   "id": "901c3be9c0931ec2"
  },
  {
   "metadata": {
    "ExecuteTime": {
     "end_time": "2025-05-11T13:32:29.826007Z",
     "start_time": "2025-05-11T13:32:29.807004Z"
    }
   },
   "cell_type": "code",
   "source": [
    "from nltk.stem import PorterStemmer\n",
    "ps = PorterStemmer()"
   ],
   "id": "5b2cb002afcf90e",
   "outputs": [],
   "execution_count": 49
  },
  {
   "metadata": {
    "ExecuteTime": {
     "end_time": "2025-05-11T13:32:29.907004Z",
     "start_time": "2025-05-11T13:32:29.856009Z"
    }
   },
   "cell_type": "code",
   "source": "connect_tokens = ['connectint', \"connected\", \"connectivity\", \"connect\", \"connects\"]",
   "id": "ca0597ea1a308c29",
   "outputs": [],
   "execution_count": 50
  },
  {
   "metadata": {
    "ExecuteTime": {
     "end_time": "2025-05-11T13:32:30.130003Z",
     "start_time": "2025-05-11T13:32:30.111008Z"
    }
   },
   "cell_type": "code",
   "source": [
    "for t in connect_tokens:\n",
    "    print(t, \": \", ps.stem(t))"
   ],
   "id": "141bd724665f30c5",
   "outputs": [
    {
     "name": "stdout",
     "output_type": "stream",
     "text": [
      "connectint :  connectint\n",
      "connected :  connect\n",
      "connectivity :  connect\n",
      "connect :  connect\n",
      "connects :  connect\n"
     ]
    }
   ],
   "execution_count": 51
  },
  {
   "metadata": {
    "ExecuteTime": {
     "end_time": "2025-05-11T13:32:30.208005Z",
     "start_time": "2025-05-11T13:32:30.197007Z"
    }
   },
   "cell_type": "code",
   "source": "learn_tokens = [\"learned\", \"learning\", \"learn\", \"learns\", \"learner\", \"learners\"]",
   "id": "28f781a1204c3df9",
   "outputs": [],
   "execution_count": 52
  },
  {
   "metadata": {
    "ExecuteTime": {
     "end_time": "2025-05-11T13:32:30.253004Z",
     "start_time": "2025-05-11T13:32:30.225010Z"
    }
   },
   "cell_type": "code",
   "source": [
    "for t in learn_tokens:\n",
    "    print(t, \": \", ps.stem(t))"
   ],
   "id": "ed11625096ebfdc5",
   "outputs": [
    {
     "name": "stdout",
     "output_type": "stream",
     "text": [
      "learned :  learn\n",
      "learning :  learn\n",
      "learn :  learn\n",
      "learns :  learn\n",
      "learner :  learner\n",
      "learners :  learner\n"
     ]
    }
   ],
   "execution_count": 53
  },
  {
   "metadata": {
    "ExecuteTime": {
     "end_time": "2025-05-11T13:32:30.315004Z",
     "start_time": "2025-05-11T13:32:30.292005Z"
    }
   },
   "cell_type": "code",
   "source": "likes_tokens = [\"likes\", \"better\", \"worse\"]",
   "id": "83129e38a2fd5429",
   "outputs": [],
   "execution_count": 54
  },
  {
   "metadata": {
    "ExecuteTime": {
     "end_time": "2025-05-11T13:32:30.377003Z",
     "start_time": "2025-05-11T13:32:30.351009Z"
    }
   },
   "cell_type": "code",
   "source": [
    "for t in likes_tokens:\n",
    "    print(t, \": \", ps.stem(t))\n"
   ],
   "id": "98f06ba943e454d7",
   "outputs": [
    {
     "name": "stdout",
     "output_type": "stream",
     "text": [
      "likes :  like\n",
      "better :  better\n",
      "worse :  wors\n"
     ]
    }
   ],
   "execution_count": 55
  },
  {
   "metadata": {},
   "cell_type": "markdown",
   "source": "# Lemmatization",
   "id": "ea13e350bdf0aa"
  },
  {
   "metadata": {
    "ExecuteTime": {
     "end_time": "2025-05-11T13:32:30.441037Z",
     "start_time": "2025-05-11T13:32:30.428005Z"
    }
   },
   "cell_type": "code",
   "source": [
    "import nltk\n",
    "nltk.download('wordnet')\n",
    "from nltk.stem import WordNetLemmatizer"
   ],
   "id": "707269e8ae12d0c6",
   "outputs": [
    {
     "name": "stderr",
     "output_type": "stream",
     "text": [
      "[nltk_data] Downloading package wordnet to\n",
      "[nltk_data]     C:\\Users\\matsv\\AppData\\Roaming\\nltk_data...\n",
      "[nltk_data]   Package wordnet is already up-to-date!\n"
     ]
    }
   ],
   "execution_count": 56
  },
  {
   "metadata": {
    "ExecuteTime": {
     "end_time": "2025-05-11T13:32:30.489015Z",
     "start_time": "2025-05-11T13:32:30.479005Z"
    }
   },
   "cell_type": "code",
   "source": "lemmatizer = WordNetLemmatizer()",
   "id": "ab55460bb908578",
   "outputs": [],
   "execution_count": 57
  },
  {
   "metadata": {
    "ExecuteTime": {
     "end_time": "2025-05-11T13:32:30.521006Z",
     "start_time": "2025-05-11T13:32:30.508006Z"
    }
   },
   "cell_type": "code",
   "source": "connect_tokens = ['connectint', \"connected\", \"connectivity\", \"connect\", \"connects\"]",
   "id": "24c1a05ee406b895",
   "outputs": [],
   "execution_count": 58
  },
  {
   "metadata": {
    "ExecuteTime": {
     "end_time": "2025-05-11T13:32:30.568011Z",
     "start_time": "2025-05-11T13:32:30.541008Z"
    }
   },
   "cell_type": "code",
   "source": [
    "for t in connect_tokens:\n",
    "    print(t, \": \", lemmatizer.lemmatize(t))"
   ],
   "id": "8bda9ebe9c0bb59e",
   "outputs": [
    {
     "name": "stdout",
     "output_type": "stream",
     "text": [
      "connectint :  connectint\n",
      "connected :  connected\n",
      "connectivity :  connectivity\n",
      "connect :  connect\n",
      "connects :  connects\n"
     ]
    }
   ],
   "execution_count": 59
  },
  {
   "metadata": {
    "ExecuteTime": {
     "end_time": "2025-05-11T13:32:30.617010Z",
     "start_time": "2025-05-11T13:32:30.600003Z"
    }
   },
   "cell_type": "code",
   "source": "learn_tokens = [\"learned\", \"learning\", \"learn\", \"learns\", \"learner\", \"learners\"]",
   "id": "4f5fb85fa98db789",
   "outputs": [],
   "execution_count": 60
  },
  {
   "metadata": {
    "ExecuteTime": {
     "end_time": "2025-05-11T13:32:30.679007Z",
     "start_time": "2025-05-11T13:32:30.651007Z"
    }
   },
   "cell_type": "code",
   "source": [
    "for t in learn_tokens:\n",
    "    print(t, \": \", lemmatizer.lemmatize(t))"
   ],
   "id": "276a1de0f3f179fb",
   "outputs": [
    {
     "name": "stdout",
     "output_type": "stream",
     "text": [
      "learned :  learned\n",
      "learning :  learning\n",
      "learn :  learn\n",
      "learns :  learns\n",
      "learner :  learner\n",
      "learners :  learner\n"
     ]
    }
   ],
   "execution_count": 61
  },
  {
   "metadata": {
    "ExecuteTime": {
     "end_time": "2025-05-11T13:32:30.744009Z",
     "start_time": "2025-05-11T13:32:30.732007Z"
    }
   },
   "cell_type": "code",
   "source": "likes_tokens = [\"likes\", \"better\", \"worse\"]",
   "id": "5bf471150cd46000",
   "outputs": [],
   "execution_count": 62
  },
  {
   "metadata": {
    "ExecuteTime": {
     "end_time": "2025-05-11T13:32:30.807006Z",
     "start_time": "2025-05-11T13:32:30.794006Z"
    }
   },
   "cell_type": "code",
   "source": [
    "for t in likes_tokens:\n",
    "    print(t, \": \", lemmatizer.lemmatize(t))"
   ],
   "id": "48a63494f1cfc4cb",
   "outputs": [
    {
     "name": "stdout",
     "output_type": "stream",
     "text": [
      "likes :  like\n",
      "better :  better\n",
      "worse :  worse\n"
     ]
    }
   ],
   "execution_count": 63
  },
  {
   "metadata": {},
   "cell_type": "markdown",
   "source": "# N-grams",
   "id": "e9f85c05edcb3edb"
  },
  {
   "metadata": {
    "ExecuteTime": {
     "end_time": "2025-05-11T13:32:31.868258Z",
     "start_time": "2025-05-11T13:32:30.924934Z"
    }
   },
   "cell_type": "code",
   "source": [
    "import nltk\n",
    "import pandas as pd\n",
    "import matplotlib.pyplot as plt"
   ],
   "id": "54036d05f34b809f",
   "outputs": [],
   "execution_count": 64
  },
  {
   "metadata": {
    "ExecuteTime": {
     "end_time": "2025-05-11T13:32:31.900262Z",
     "start_time": "2025-05-11T13:32:31.887260Z"
    }
   },
   "cell_type": "code",
   "source": [
    "tokens = ['the', 'rise', 'of', 'artificial', 'intelligence', 'has', 'led', 'to', 'significant', 'advancements', 'in', 'natural', 'language', 'processing', 'computer', 'vision', 'and',\n",
    "          'other' 'fields', 'machine', 'learning', 'algorithms', 'are', 'becoming', 'more' 'sophisticated', 'enabling', 'computers', 'to', 'perform', 'complex', 'tasks', 'that', 'were', 'once',\n",
    "          'thought', 'to', 'be', 'the', 'e', 'exclusive', 'domain', 'of' 'humans' 'with', 'the', 'advent', 'of' 'deep' 'learning', 'neural', 'networks', 'have', 'become', 'even', 'more', 'powerful',\n",
    "          'capable', 'of', 'processing', 'vast', 'amounts', 'of', 'data', 'and', 'learning', 'from', 'it', 'in', 'ways', 'that', 'were', 'not', 'possibl e', 'before', 'as', 'a', 'result', 'ai', 'is',\n",
    "          'increasingly', 'being', 'used', 'in', 'a', 'wide', 'range', 'of', 'industries', 'from', 'healthcare', 'to', 'finance', 'to', 'transportation', 'and', 'its', 'impact', 'is', 'only', 'set',\n",
    "          'to', 'grow', 'in', 'the', 'years', 'to', 'come']\n"
   ],
   "id": "3208f5acdd77273d",
   "outputs": [],
   "execution_count": 65
  },
  {
   "metadata": {
    "ExecuteTime": {
     "end_time": "2025-05-11T13:32:31.948259Z",
     "start_time": "2025-05-11T13:32:31.918259Z"
    }
   },
   "cell_type": "code",
   "source": [
    "unigrams = (pd.Series(nltk.ngrams(tokens, 1))).value_counts()\n",
    "print(unigrams)"
   ],
   "id": "3e73f8809c94d5e1",
   "outputs": [
    {
     "name": "stdout",
     "output_type": "stream",
     "text": [
      "(to,)       7\n",
      "(the,)      4\n",
      "(in,)       4\n",
      "(of,)       4\n",
      "(and,)      3\n",
      "           ..\n",
      "(only,)     1\n",
      "(set,)      1\n",
      "(grow,)     1\n",
      "(years,)    1\n",
      "(come,)     1\n",
      "Name: count, Length: 78, dtype: int64\n"
     ]
    }
   ],
   "execution_count": 66
  },
  {
   "metadata": {
    "ExecuteTime": {
     "end_time": "2025-05-11T13:32:32.472258Z",
     "start_time": "2025-05-11T13:32:32.078258Z"
    }
   },
   "cell_type": "code",
   "source": [
    "unigrams[:10].sort_values().plot.barh(color=\"lightsalmon\", width=.9, figsize=(12, 8))\n",
    "plt.title(\"10 Most recently occuring unigrams\")\n",
    "plt.figure(figsize=(1,1), dpi=100)"
   ],
   "id": "673a29d3cc15d3b8",
   "outputs": [
    {
     "data": {
      "text/plain": [
       "<Figure size 100x100 with 0 Axes>"
      ]
     },
     "execution_count": 67,
     "metadata": {},
     "output_type": "execute_result"
    },
    {
     "data": {
      "text/plain": [
       "<Figure size 1200x800 with 1 Axes>"
      ],
      "image/png": "[encoded data removed]"
     },
     "metadata": {},
     "output_type": "display_data"
    },
    {
     "data": {
      "text/plain": [
       "<Figure size 100x100 with 0 Axes>"
      ]
     },
     "metadata": {},
     "output_type": "display_data"
    }
   ],
   "execution_count": 67
  },
  {
   "metadata": {
    "ExecuteTime": {
     "end_time": "2025-05-11T13:32:32.565274Z",
     "start_time": "2025-05-11T13:32:32.538260Z"
    }
   },
   "cell_type": "code",
   "source": [
    "bigrams = (pd.Series(nltk.ngrams(tokens, 2))).value_counts()\n",
    "print(bigrams)"
   ],
   "id": "860e38b37ed838d2",
   "outputs": [
    {
     "name": "stdout",
     "output_type": "stream",
     "text": [
      "(that, were)                  2\n",
      "(the, rise)                   1\n",
      "(of, artificial)              1\n",
      "(rise, of)                    1\n",
      "(artificial, intelligence)    1\n",
      "                             ..\n",
      "(grow, in)                    1\n",
      "(in, the)                     1\n",
      "(the, years)                  1\n",
      "(years, to)                   1\n",
      "(to, come)                    1\n",
      "Name: count, Length: 100, dtype: int64\n"
     ]
    }
   ],
   "execution_count": 68
  },
  {
   "metadata": {
    "ExecuteTime": {
     "end_time": "2025-05-11T13:32:32.597258Z",
     "start_time": "2025-05-11T13:32:32.580262Z"
    }
   },
   "cell_type": "code",
   "source": "",
   "id": "5419e29b3f2bc6e",
   "outputs": [],
   "execution_count": null
  }
 ],
 "metadata": {
  "kernelspec": {
   "display_name": "Python 3",
   "language": "python",
   "name": "python3"
  },
  "language_info": {
   "codemirror_mode": {
    "name": "ipython",
    "version": 2
   },
   "file_extension": ".py",
   "mimetype": "text/x-python",
   "name": "python",
   "nbconvert_exporter": "python",
   "pygments_lexer": "ipython2",
   "version": "2.7.6"
  }
 },
 "nbformat": 4,
 "nbformat_minor": 5
}
