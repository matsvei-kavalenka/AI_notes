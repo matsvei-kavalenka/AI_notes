{
 "cells": [
  {
   "cell_type": "code",
   "id": "initial_id",
   "metadata": {
    "collapsed": true,
    "ExecuteTime": {
     "end_time": "2025-05-12T05:50:34.330389Z",
     "start_time": "2025-05-12T05:50:31.788672Z"
    }
   },
   "source": [
    "import nltk\n",
    "from nltk.tokenize import word_tokenize\n",
    "from nltk.corpus import stopwords\n",
    "from nltk.stem import WordNetLemmatizer\n",
    "import spacy\n",
    "import re\n",
    "import pandas as pd\n",
    "import matplotlib.pyplot as plt"
   ],
   "outputs": [],
   "execution_count": 2
  },
  {
   "metadata": {
    "ExecuteTime": {
     "end_time": "2025-05-12T05:50:58.519035Z",
     "start_time": "2025-05-12T05:50:58.474323Z"
    }
   },
   "cell_type": "code",
   "source": "bbc_data = pd.read_csv(\"../resources/bbc_news.csv\")",
   "id": "8ffaf8029b9970e7",
   "outputs": [],
   "execution_count": 3
  },
  {
   "metadata": {
    "ExecuteTime": {
     "end_time": "2025-05-12T05:51:04.610108Z",
     "start_time": "2025-05-12T05:51:04.591804Z"
    }
   },
   "cell_type": "code",
   "source": "bbc_data.head()",
   "id": "6926ae03e5f3a7b5",
   "outputs": [
    {
     "data": {
      "text/plain": [
       "   Unnamed: 0  index                                              title  \\\n",
       "0           0   6684                              Can I refuse to work?   \n",
       "1           1   9267  'Liz Truss the Brief?' World reacts to UK poli...   \n",
       "2           2   7387  Rationing energy is nothing new for off-grid c...   \n",
       "3           3    767  The hunt for superyachts of sanctioned Russian...   \n",
       "4           4   3712  Platinum Jubilee: 70 years of the Queen in 70 ...   \n",
       "\n",
       "                         pubDate  \\\n",
       "0  Wed, 10 Aug 2022 15:46:18 GMT   \n",
       "1  Mon, 17 Oct 2022 11:35:12 GMT   \n",
       "2  Wed, 31 Aug 2022 05:20:18 GMT   \n",
       "3  Tue, 22 Mar 2022 14:37:01 GMT   \n",
       "4  Wed, 01 Jun 2022 23:17:33 GMT   \n",
       "\n",
       "                                                guid  \\\n",
       "0       https://www.bbc.co.uk/news/business-62147992   \n",
       "1          https://www.bbc.co.uk/news/world-63285480   \n",
       "2  https://www.bbc.co.uk/news/uk-scotland-highlan...   \n",
       "3                https://www.bbc.co.uk/news/60739336   \n",
       "4             https://www.bbc.co.uk/news/uk-61660128   \n",
       "\n",
       "                                                link  \\\n",
       "0  https://www.bbc.co.uk/news/business-62147992?a...   \n",
       "1  https://www.bbc.co.uk/news/world-63285480?at_m...   \n",
       "2  https://www.bbc.co.uk/news/uk-scotland-highlan...   \n",
       "3  https://www.bbc.co.uk/news/60739336?at_medium=...   \n",
       "4  https://www.bbc.co.uk/news/uk-61660128?at_medi...   \n",
       "\n",
       "                                         description  \n",
       "0  With much of the UK enduring another period of...  \n",
       "1  The UK's political chaos has been watched arou...  \n",
       "2  Scoraig in the north west Highlands has long h...  \n",
       "3  Wealthy Russians sanctioned by the US, EU and ...  \n",
       "4  A quick look back at the Queen's 70 years on t...  "
      ],
      "text/html": [
       "<div>\n",
       "<style scoped>\n",
       "    .dataframe tbody tr th:only-of-type {\n",
       "        vertical-align: middle;\n",
       "    }\n",
       "\n",
       "    .dataframe tbody tr th {\n",
       "        vertical-align: top;\n",
       "    }\n",
       "\n",
       "    .dataframe thead th {\n",
       "        text-align: right;\n",
       "    }\n",
       "</style>\n",
       "<table border=\"1\" class=\"dataframe\">\n",
       "  <thead>\n",
       "    <tr style=\"text-align: right;\">\n",
       "      <th></th>\n",
       "      <th>Unnamed: 0</th>\n",
       "      <th>index</th>\n",
       "      <th>title</th>\n",
       "      <th>pubDate</th>\n",
       "      <th>guid</th>\n",
       "      <th>link</th>\n",
       "      <th>description</th>\n",
       "    </tr>\n",
       "  </thead>\n",
       "  <tbody>\n",
       "    <tr>\n",
       "      <th>0</th>\n",
       "      <td>0</td>\n",
       "      <td>6684</td>\n",
       "      <td>Can I refuse to work?</td>\n",
       "      <td>Wed, 10 Aug 2022 15:46:18 GMT</td>\n",
       "      <td>https://www.bbc.co.uk/news/business-62147992</td>\n",
       "      <td>https://www.bbc.co.uk/news/business-62147992?a...</td>\n",
       "      <td>With much of the UK enduring another period of...</td>\n",
       "    </tr>\n",
       "    <tr>\n",
       "      <th>1</th>\n",
       "      <td>1</td>\n",
       "      <td>9267</td>\n",
       "      <td>'Liz Truss the Brief?' World reacts to UK poli...</td>\n",
       "      <td>Mon, 17 Oct 2022 11:35:12 GMT</td>\n",
       "      <td>https://www.bbc.co.uk/news/world-63285480</td>\n",
       "      <td>https://www.bbc.co.uk/news/world-63285480?at_m...</td>\n",
       "      <td>The UK's political chaos has been watched arou...</td>\n",
       "    </tr>\n",
       "    <tr>\n",
       "      <th>2</th>\n",
       "      <td>2</td>\n",
       "      <td>7387</td>\n",
       "      <td>Rationing energy is nothing new for off-grid c...</td>\n",
       "      <td>Wed, 31 Aug 2022 05:20:18 GMT</td>\n",
       "      <td>https://www.bbc.co.uk/news/uk-scotland-highlan...</td>\n",
       "      <td>https://www.bbc.co.uk/news/uk-scotland-highlan...</td>\n",
       "      <td>Scoraig in the north west Highlands has long h...</td>\n",
       "    </tr>\n",
       "    <tr>\n",
       "      <th>3</th>\n",
       "      <td>3</td>\n",
       "      <td>767</td>\n",
       "      <td>The hunt for superyachts of sanctioned Russian...</td>\n",
       "      <td>Tue, 22 Mar 2022 14:37:01 GMT</td>\n",
       "      <td>https://www.bbc.co.uk/news/60739336</td>\n",
       "      <td>https://www.bbc.co.uk/news/60739336?at_medium=...</td>\n",
       "      <td>Wealthy Russians sanctioned by the US, EU and ...</td>\n",
       "    </tr>\n",
       "    <tr>\n",
       "      <th>4</th>\n",
       "      <td>4</td>\n",
       "      <td>3712</td>\n",
       "      <td>Platinum Jubilee: 70 years of the Queen in 70 ...</td>\n",
       "      <td>Wed, 01 Jun 2022 23:17:33 GMT</td>\n",
       "      <td>https://www.bbc.co.uk/news/uk-61660128</td>\n",
       "      <td>https://www.bbc.co.uk/news/uk-61660128?at_medi...</td>\n",
       "      <td>A quick look back at the Queen's 70 years on t...</td>\n",
       "    </tr>\n",
       "  </tbody>\n",
       "</table>\n",
       "</div>"
      ]
     },
     "execution_count": 4,
     "metadata": {},
     "output_type": "execute_result"
    }
   ],
   "execution_count": 4
  },
  {
   "metadata": {
    "ExecuteTime": {
     "end_time": "2025-05-12T05:51:14.024923Z",
     "start_time": "2025-05-12T05:51:13.990664Z"
    }
   },
   "cell_type": "code",
   "source": "bbc_data.info()",
   "id": "d550112b04894e00",
   "outputs": [
    {
     "name": "stdout",
     "output_type": "stream",
     "text": [
      "<class 'pandas.core.frame.DataFrame'>\n",
      "RangeIndex: 1000 entries, 0 to 999\n",
      "Data columns (total 7 columns):\n",
      " #   Column       Non-Null Count  Dtype \n",
      "---  ------       --------------  ----- \n",
      " 0   Unnamed: 0   1000 non-null   int64 \n",
      " 1   index        1000 non-null   int64 \n",
      " 2   title        1000 non-null   object\n",
      " 3   pubDate      1000 non-null   object\n",
      " 4   guid         1000 non-null   object\n",
      " 5   link         1000 non-null   object\n",
      " 6   description  1000 non-null   object\n",
      "dtypes: int64(2), object(5)\n",
      "memory usage: 54.8+ KB\n"
     ]
    }
   ],
   "execution_count": 5
  },
  {
   "metadata": {
    "ExecuteTime": {
     "end_time": "2025-05-12T05:51:40.429807Z",
     "start_time": "2025-05-12T05:51:40.414178Z"
    }
   },
   "cell_type": "code",
   "source": "titles = pd.DataFrame(bbc_data['title'])",
   "id": "ddc0a06d1d2ee2de",
   "outputs": [],
   "execution_count": 6
  },
  {
   "metadata": {
    "ExecuteTime": {
     "end_time": "2025-05-12T05:51:45.323625Z",
     "start_time": "2025-05-12T05:51:45.301521Z"
    }
   },
   "cell_type": "code",
   "source": "titles.head()",
   "id": "8e76bdd91b12102d",
   "outputs": [
    {
     "data": {
      "text/plain": [
       "                                               title\n",
       "0                              Can I refuse to work?\n",
       "1  'Liz Truss the Brief?' World reacts to UK poli...\n",
       "2  Rationing energy is nothing new for off-grid c...\n",
       "3  The hunt for superyachts of sanctioned Russian...\n",
       "4  Platinum Jubilee: 70 years of the Queen in 70 ..."
      ],
      "text/html": [
       "<div>\n",
       "<style scoped>\n",
       "    .dataframe tbody tr th:only-of-type {\n",
       "        vertical-align: middle;\n",
       "    }\n",
       "\n",
       "    .dataframe tbody tr th {\n",
       "        vertical-align: top;\n",
       "    }\n",
       "\n",
       "    .dataframe thead th {\n",
       "        text-align: right;\n",
       "    }\n",
       "</style>\n",
       "<table border=\"1\" class=\"dataframe\">\n",
       "  <thead>\n",
       "    <tr style=\"text-align: right;\">\n",
       "      <th></th>\n",
       "      <th>title</th>\n",
       "    </tr>\n",
       "  </thead>\n",
       "  <tbody>\n",
       "    <tr>\n",
       "      <th>0</th>\n",
       "      <td>Can I refuse to work?</td>\n",
       "    </tr>\n",
       "    <tr>\n",
       "      <th>1</th>\n",
       "      <td>'Liz Truss the Brief?' World reacts to UK poli...</td>\n",
       "    </tr>\n",
       "    <tr>\n",
       "      <th>2</th>\n",
       "      <td>Rationing energy is nothing new for off-grid c...</td>\n",
       "    </tr>\n",
       "    <tr>\n",
       "      <th>3</th>\n",
       "      <td>The hunt for superyachts of sanctioned Russian...</td>\n",
       "    </tr>\n",
       "    <tr>\n",
       "      <th>4</th>\n",
       "      <td>Platinum Jubilee: 70 years of the Queen in 70 ...</td>\n",
       "    </tr>\n",
       "  </tbody>\n",
       "</table>\n",
       "</div>"
      ]
     },
     "execution_count": 7,
     "metadata": {},
     "output_type": "execute_result"
    }
   ],
   "execution_count": 7
  },
  {
   "metadata": {},
   "cell_type": "markdown",
   "source": "# Clean Data",
   "id": "cd23249c43346c91"
  },
  {
   "metadata": {
    "ExecuteTime": {
     "end_time": "2025-05-12T05:52:51.016766Z",
     "start_time": "2025-05-12T05:52:50.994138Z"
    }
   },
   "cell_type": "code",
   "source": "titles['lowercase'] = titles['title'].str.lower()",
   "id": "b40d2a68725aa0ad",
   "outputs": [],
   "execution_count": 8
  },
  {
   "metadata": {
    "ExecuteTime": {
     "end_time": "2025-05-12T05:54:00.069895Z",
     "start_time": "2025-05-12T05:54:00.032897Z"
    }
   },
   "cell_type": "code",
   "source": [
    "en_stopwords = stopwords.words('english')\n",
    "titles['no_stopwords'] = titles['lowercase'].apply(lambda x: \" \".join([word for word in x.split() if word not in en_stopwords]))"
   ],
   "id": "fc33f53c8ded5bc1",
   "outputs": [],
   "execution_count": 9
  },
  {
   "metadata": {
    "ExecuteTime": {
     "end_time": "2025-05-12T05:56:30.733485Z",
     "start_time": "2025-05-12T05:56:30.687948Z"
    }
   },
   "cell_type": "code",
   "source": "titles['no_stopwords_no_punct'] = titles.apply(lambda x: re.sub(r'([^\\w\\s])', \"\", x['no_stopwords']), axis=1)",
   "id": "ca1ba5df088503ae",
   "outputs": [],
   "execution_count": 10
  },
  {
   "metadata": {
    "ExecuteTime": {
     "end_time": "2025-05-12T05:56:59.938200Z",
     "start_time": "2025-05-12T05:56:59.685213Z"
    }
   },
   "cell_type": "code",
   "source": [
    "# tokenize\n",
    "titles ['tokens_raw'] = titles.apply(lambda x: word_tokenize(x['title']), axis=1)\n",
    "titles ['tokens_clean'] = titles.apply(lambda x: word_tokenize(x['no_stopwords_no_punct']), axis=1)"
   ],
   "id": "5a6175c1668646fa",
   "outputs": [],
   "execution_count": 11
  },
  {
   "metadata": {
    "ExecuteTime": {
     "end_time": "2025-05-12T05:57:42.518107Z",
     "start_time": "2025-05-12T05:57:38.867048Z"
    }
   },
   "cell_type": "code",
   "source": [
    "# lemmatizing\n",
    "lemmatizer = WordNetLemmatizer()\n",
    "titles [\"tokens_clean_lemmatized\"] = titles [\"tokens_clean\"].apply(lambda tokens: [lemmatizer.lemmatize (token) for token in tokens])"
   ],
   "id": "51bd241993917d5c",
   "outputs": [],
   "execution_count": 12
  },
  {
   "metadata": {
    "ExecuteTime": {
     "end_time": "2025-05-12T05:57:51.267012Z",
     "start_time": "2025-05-12T05:57:51.249012Z"
    }
   },
   "cell_type": "code",
   "source": "titles.head()",
   "id": "69193df594a3122d",
   "outputs": [
    {
     "data": {
      "text/plain": [
       "                                               title  \\\n",
       "0                              Can I refuse to work?   \n",
       "1  'Liz Truss the Brief?' World reacts to UK poli...   \n",
       "2  Rationing energy is nothing new for off-grid c...   \n",
       "3  The hunt for superyachts of sanctioned Russian...   \n",
       "4  Platinum Jubilee: 70 years of the Queen in 70 ...   \n",
       "\n",
       "                                           lowercase  \\\n",
       "0                              can i refuse to work?   \n",
       "1  'liz truss the brief?' world reacts to uk poli...   \n",
       "2  rationing energy is nothing new for off-grid c...   \n",
       "3  the hunt for superyachts of sanctioned russian...   \n",
       "4  platinum jubilee: 70 years of the queen in 70 ...   \n",
       "\n",
       "                                        no_stopwords  \\\n",
       "0                                       refuse work?   \n",
       "1  'liz truss brief?' world reacts uk political t...   \n",
       "2    rationing energy nothing new off-grid community   \n",
       "3      hunt superyachts sanctioned russian oligarchs   \n",
       "4        platinum jubilee: 70 years queen 70 seconds   \n",
       "\n",
       "                               no_stopwords_no_punct  \\\n",
       "0                                        refuse work   \n",
       "1  liz truss brief world reacts uk political turmoil   \n",
       "2     rationing energy nothing new offgrid community   \n",
       "3      hunt superyachts sanctioned russian oligarchs   \n",
       "4         platinum jubilee 70 years queen 70 seconds   \n",
       "\n",
       "                                          tokens_raw  \\\n",
       "0                      [Can, I, refuse, to, work, ?]   \n",
       "1  ['Liz, Truss, the, Brief, ?, ', World, reacts,...   \n",
       "2  [Rationing, energy, is, nothing, new, for, off...   \n",
       "3  [The, hunt, for, superyachts, of, sanctioned, ...   \n",
       "4  [Platinum, Jubilee, :, 70, years, of, the, Que...   \n",
       "\n",
       "                                        tokens_clean  \\\n",
       "0                                     [refuse, work]   \n",
       "1  [liz, truss, brief, world, reacts, uk, politic...   \n",
       "2  [rationing, energy, nothing, new, offgrid, com...   \n",
       "3  [hunt, superyachts, sanctioned, russian, oliga...   \n",
       "4  [platinum, jubilee, 70, years, queen, 70, seco...   \n",
       "\n",
       "                             tokens_clean_lemmatized  \n",
       "0                                     [refuse, work]  \n",
       "1  [liz, truss, brief, world, reacts, uk, politic...  \n",
       "2  [rationing, energy, nothing, new, offgrid, com...  \n",
       "3  [hunt, superyachts, sanctioned, russian, oliga...  \n",
       "4   [platinum, jubilee, 70, year, queen, 70, second]  "
      ],
      "text/html": [
       "<div>\n",
       "<style scoped>\n",
       "    .dataframe tbody tr th:only-of-type {\n",
       "        vertical-align: middle;\n",
       "    }\n",
       "\n",
       "    .dataframe tbody tr th {\n",
       "        vertical-align: top;\n",
       "    }\n",
       "\n",
       "    .dataframe thead th {\n",
       "        text-align: right;\n",
       "    }\n",
       "</style>\n",
       "<table border=\"1\" class=\"dataframe\">\n",
       "  <thead>\n",
       "    <tr style=\"text-align: right;\">\n",
       "      <th></th>\n",
       "      <th>title</th>\n",
       "      <th>lowercase</th>\n",
       "      <th>no_stopwords</th>\n",
       "      <th>no_stopwords_no_punct</th>\n",
       "      <th>tokens_raw</th>\n",
       "      <th>tokens_clean</th>\n",
       "      <th>tokens_clean_lemmatized</th>\n",
       "    </tr>\n",
       "  </thead>\n",
       "  <tbody>\n",
       "    <tr>\n",
       "      <th>0</th>\n",
       "      <td>Can I refuse to work?</td>\n",
       "      <td>can i refuse to work?</td>\n",
       "      <td>refuse work?</td>\n",
       "      <td>refuse work</td>\n",
       "      <td>[Can, I, refuse, to, work, ?]</td>\n",
       "      <td>[refuse, work]</td>\n",
       "      <td>[refuse, work]</td>\n",
       "    </tr>\n",
       "    <tr>\n",
       "      <th>1</th>\n",
       "      <td>'Liz Truss the Brief?' World reacts to UK poli...</td>\n",
       "      <td>'liz truss the brief?' world reacts to uk poli...</td>\n",
       "      <td>'liz truss brief?' world reacts uk political t...</td>\n",
       "      <td>liz truss brief world reacts uk political turmoil</td>\n",
       "      <td>['Liz, Truss, the, Brief, ?, ', World, reacts,...</td>\n",
       "      <td>[liz, truss, brief, world, reacts, uk, politic...</td>\n",
       "      <td>[liz, truss, brief, world, reacts, uk, politic...</td>\n",
       "    </tr>\n",
       "    <tr>\n",
       "      <th>2</th>\n",
       "      <td>Rationing energy is nothing new for off-grid c...</td>\n",
       "      <td>rationing energy is nothing new for off-grid c...</td>\n",
       "      <td>rationing energy nothing new off-grid community</td>\n",
       "      <td>rationing energy nothing new offgrid community</td>\n",
       "      <td>[Rationing, energy, is, nothing, new, for, off...</td>\n",
       "      <td>[rationing, energy, nothing, new, offgrid, com...</td>\n",
       "      <td>[rationing, energy, nothing, new, offgrid, com...</td>\n",
       "    </tr>\n",
       "    <tr>\n",
       "      <th>3</th>\n",
       "      <td>The hunt for superyachts of sanctioned Russian...</td>\n",
       "      <td>the hunt for superyachts of sanctioned russian...</td>\n",
       "      <td>hunt superyachts sanctioned russian oligarchs</td>\n",
       "      <td>hunt superyachts sanctioned russian oligarchs</td>\n",
       "      <td>[The, hunt, for, superyachts, of, sanctioned, ...</td>\n",
       "      <td>[hunt, superyachts, sanctioned, russian, oliga...</td>\n",
       "      <td>[hunt, superyachts, sanctioned, russian, oliga...</td>\n",
       "    </tr>\n",
       "    <tr>\n",
       "      <th>4</th>\n",
       "      <td>Platinum Jubilee: 70 years of the Queen in 70 ...</td>\n",
       "      <td>platinum jubilee: 70 years of the queen in 70 ...</td>\n",
       "      <td>platinum jubilee: 70 years queen 70 seconds</td>\n",
       "      <td>platinum jubilee 70 years queen 70 seconds</td>\n",
       "      <td>[Platinum, Jubilee, :, 70, years, of, the, Que...</td>\n",
       "      <td>[platinum, jubilee, 70, years, queen, 70, seco...</td>\n",
       "      <td>[platinum, jubilee, 70, year, queen, 70, second]</td>\n",
       "    </tr>\n",
       "  </tbody>\n",
       "</table>\n",
       "</div>"
      ]
     },
     "execution_count": 13,
     "metadata": {},
     "output_type": "execute_result"
    }
   ],
   "execution_count": 13
  },
  {
   "metadata": {
    "ExecuteTime": {
     "end_time": "2025-05-12T05:58:11.414121Z",
     "start_time": "2025-05-12T05:58:11.376128Z"
    }
   },
   "cell_type": "code",
   "source": [
    "# create lists for just our tokens\n",
    "tokens_raw_list = sum(titles ['tokens_raw'], []) #unpack our lists into a single list\n",
    "tokens_clean_list = sum(titles['tokens_clean_lemmatized'], [])"
   ],
   "id": "42f022a3e7f2ebad",
   "outputs": [],
   "execution_count": 14
  },
  {
   "metadata": {},
   "cell_type": "markdown",
   "source": "# POS Tagging",
   "id": "de999a3a228db074"
  },
  {
   "metadata": {
    "ExecuteTime": {
     "end_time": "2025-05-12T05:59:44.213999Z",
     "start_time": "2025-05-12T05:59:43.584650Z"
    }
   },
   "cell_type": "code",
   "source": "nlp = spacy.load('en_core_web_sm')",
   "id": "74c780aa98250453",
   "outputs": [],
   "execution_count": 17
  },
  {
   "metadata": {
    "ExecuteTime": {
     "end_time": "2025-05-12T05:59:47.397517Z",
     "start_time": "2025-05-12T05:59:44.238593Z"
    }
   },
   "cell_type": "code",
   "source": "spacy_doc = nlp(' '.join(tokens_raw_list))",
   "id": "9a32dd5c9ac6412f",
   "outputs": [],
   "execution_count": 18
  },
  {
   "metadata": {
    "ExecuteTime": {
     "end_time": "2025-05-12T06:00:16.609199Z",
     "start_time": "2025-05-12T06:00:16.482914Z"
    }
   },
   "cell_type": "code",
   "source": "pos_df = pd.DataFrame(columns=['token', 'pos_tag'])",
   "id": "76717930883570a6",
   "outputs": [],
   "execution_count": 19
  },
  {
   "metadata": {
    "ExecuteTime": {
     "end_time": "2025-05-12T06:01:47.693110Z",
     "start_time": "2025-05-12T06:01:43.828662Z"
    }
   },
   "cell_type": "code",
   "source": [
    "for token in spacy_doc:\n",
    "    pos_df = pd.concat([pos_df, pd.DataFrame.from_records([{'token': token.text, 'pos_tag': token.pos_}])], ignore_index=True)"
   ],
   "id": "54cd88ae807db9fb",
   "outputs": [],
   "execution_count": 20
  },
  {
   "metadata": {
    "ExecuteTime": {
     "end_time": "2025-05-12T06:06:19.456510Z",
     "start_time": "2025-05-12T06:06:19.430449Z"
    }
   },
   "cell_type": "code",
   "source": [
    "pos_df_counts = pos_df.groupby(['token', 'pos_tag']).size().reset_index(name='counts').sort_values(by='counts', ascending=False)\n",
    "pos_df_counts.head(10)"
   ],
   "id": "d5df1fd1d1085796",
   "outputs": [
    {
     "data": {
      "text/plain": [
       "     token pos_tag  counts\n",
       "95       :   PUNCT     543\n",
       "8        '   PUNCT     300\n",
       "2897    in     ADP     187\n",
       "4082    to    PART     175\n",
       "3268    of     ADP     172\n",
       "22       -   PUNCT     166\n",
       "4043   the     DET     163\n",
       "1856   and   CCONJ     147\n",
       "15      's    PART     143\n",
       "97       ?   PUNCT     130"
      ],
      "text/html": [
       "<div>\n",
       "<style scoped>\n",
       "    .dataframe tbody tr th:only-of-type {\n",
       "        vertical-align: middle;\n",
       "    }\n",
       "\n",
       "    .dataframe tbody tr th {\n",
       "        vertical-align: top;\n",
       "    }\n",
       "\n",
       "    .dataframe thead th {\n",
       "        text-align: right;\n",
       "    }\n",
       "</style>\n",
       "<table border=\"1\" class=\"dataframe\">\n",
       "  <thead>\n",
       "    <tr style=\"text-align: right;\">\n",
       "      <th></th>\n",
       "      <th>token</th>\n",
       "      <th>pos_tag</th>\n",
       "      <th>counts</th>\n",
       "    </tr>\n",
       "  </thead>\n",
       "  <tbody>\n",
       "    <tr>\n",
       "      <th>95</th>\n",
       "      <td>:</td>\n",
       "      <td>PUNCT</td>\n",
       "      <td>543</td>\n",
       "    </tr>\n",
       "    <tr>\n",
       "      <th>8</th>\n",
       "      <td>'</td>\n",
       "      <td>PUNCT</td>\n",
       "      <td>300</td>\n",
       "    </tr>\n",
       "    <tr>\n",
       "      <th>2897</th>\n",
       "      <td>in</td>\n",
       "      <td>ADP</td>\n",
       "      <td>187</td>\n",
       "    </tr>\n",
       "    <tr>\n",
       "      <th>4082</th>\n",
       "      <td>to</td>\n",
       "      <td>PART</td>\n",
       "      <td>175</td>\n",
       "    </tr>\n",
       "    <tr>\n",
       "      <th>3268</th>\n",
       "      <td>of</td>\n",
       "      <td>ADP</td>\n",
       "      <td>172</td>\n",
       "    </tr>\n",
       "    <tr>\n",
       "      <th>22</th>\n",
       "      <td>-</td>\n",
       "      <td>PUNCT</td>\n",
       "      <td>166</td>\n",
       "    </tr>\n",
       "    <tr>\n",
       "      <th>4043</th>\n",
       "      <td>the</td>\n",
       "      <td>DET</td>\n",
       "      <td>163</td>\n",
       "    </tr>\n",
       "    <tr>\n",
       "      <th>1856</th>\n",
       "      <td>and</td>\n",
       "      <td>CCONJ</td>\n",
       "      <td>147</td>\n",
       "    </tr>\n",
       "    <tr>\n",
       "      <th>15</th>\n",
       "      <td>'s</td>\n",
       "      <td>PART</td>\n",
       "      <td>143</td>\n",
       "    </tr>\n",
       "    <tr>\n",
       "      <th>97</th>\n",
       "      <td>?</td>\n",
       "      <td>PUNCT</td>\n",
       "      <td>130</td>\n",
       "    </tr>\n",
       "  </tbody>\n",
       "</table>\n",
       "</div>"
      ]
     },
     "execution_count": 23,
     "metadata": {},
     "output_type": "execute_result"
    }
   ],
   "execution_count": 23
  },
  {
   "metadata": {
    "ExecuteTime": {
     "end_time": "2025-05-12T06:09:16.812864Z",
     "start_time": "2025-05-12T06:09:16.800831Z"
    }
   },
   "cell_type": "code",
   "source": [
    "nouns = pos_df_counts[pos_df_counts['pos_tag'] == 'NOUN'][0:10]\n",
    "nouns"
   ],
   "id": "c39ec6ac6e1972fc",
   "outputs": [
    {
     "data": {
      "text/plain": [
       "       token pos_tag  counts\n",
       "4267     war    NOUN      35\n",
       "3552  record    NOUN      15\n",
       "3416  police    NOUN      14\n",
       "4316     win    NOUN      14\n",
       "4356    year    NOUN      14\n",
       "3061  living    NOUN      13\n",
       "4009     tax    NOUN      13\n",
       "3368  people    NOUN      12\n",
       "2326     day    NOUN      12\n",
       "2031    boss    NOUN      11"
      ],
      "text/html": [
       "<div>\n",
       "<style scoped>\n",
       "    .dataframe tbody tr th:only-of-type {\n",
       "        vertical-align: middle;\n",
       "    }\n",
       "\n",
       "    .dataframe tbody tr th {\n",
       "        vertical-align: top;\n",
       "    }\n",
       "\n",
       "    .dataframe thead th {\n",
       "        text-align: right;\n",
       "    }\n",
       "</style>\n",
       "<table border=\"1\" class=\"dataframe\">\n",
       "  <thead>\n",
       "    <tr style=\"text-align: right;\">\n",
       "      <th></th>\n",
       "      <th>token</th>\n",
       "      <th>pos_tag</th>\n",
       "      <th>counts</th>\n",
       "    </tr>\n",
       "  </thead>\n",
       "  <tbody>\n",
       "    <tr>\n",
       "      <th>4267</th>\n",
       "      <td>war</td>\n",
       "      <td>NOUN</td>\n",
       "      <td>35</td>\n",
       "    </tr>\n",
       "    <tr>\n",
       "      <th>3552</th>\n",
       "      <td>record</td>\n",
       "      <td>NOUN</td>\n",
       "      <td>15</td>\n",
       "    </tr>\n",
       "    <tr>\n",
       "      <th>3416</th>\n",
       "      <td>police</td>\n",
       "      <td>NOUN</td>\n",
       "      <td>14</td>\n",
       "    </tr>\n",
       "    <tr>\n",
       "      <th>4316</th>\n",
       "      <td>win</td>\n",
       "      <td>NOUN</td>\n",
       "      <td>14</td>\n",
       "    </tr>\n",
       "    <tr>\n",
       "      <th>4356</th>\n",
       "      <td>year</td>\n",
       "      <td>NOUN</td>\n",
       "      <td>14</td>\n",
       "    </tr>\n",
       "    <tr>\n",
       "      <th>3061</th>\n",
       "      <td>living</td>\n",
       "      <td>NOUN</td>\n",
       "      <td>13</td>\n",
       "    </tr>\n",
       "    <tr>\n",
       "      <th>4009</th>\n",
       "      <td>tax</td>\n",
       "      <td>NOUN</td>\n",
       "      <td>13</td>\n",
       "    </tr>\n",
       "    <tr>\n",
       "      <th>3368</th>\n",
       "      <td>people</td>\n",
       "      <td>NOUN</td>\n",
       "      <td>12</td>\n",
       "    </tr>\n",
       "    <tr>\n",
       "      <th>2326</th>\n",
       "      <td>day</td>\n",
       "      <td>NOUN</td>\n",
       "      <td>12</td>\n",
       "    </tr>\n",
       "    <tr>\n",
       "      <th>2031</th>\n",
       "      <td>boss</td>\n",
       "      <td>NOUN</td>\n",
       "      <td>11</td>\n",
       "    </tr>\n",
       "  </tbody>\n",
       "</table>\n",
       "</div>"
      ]
     },
     "execution_count": 25,
     "metadata": {},
     "output_type": "execute_result"
    }
   ],
   "execution_count": 25
  },
  {
   "metadata": {},
   "cell_type": "markdown",
   "source": "# NER",
   "id": "5ce866ff1a967487"
  },
  {
   "metadata": {
    "ExecuteTime": {
     "end_time": "2025-05-12T06:10:03.433272Z",
     "start_time": "2025-05-12T06:10:03.416166Z"
    }
   },
   "cell_type": "code",
   "source": "ner_df = pd.DataFrame(columns=['token', 'ner_tag'])",
   "id": "bf6b1c7e6df9b0ab",
   "outputs": [],
   "execution_count": 26
  },
  {
   "metadata": {
    "ExecuteTime": {
     "end_time": "2025-05-12T06:11:24.399165Z",
     "start_time": "2025-05-12T06:11:23.885066Z"
    }
   },
   "cell_type": "code",
   "source": [
    "for token in spacy_doc.ents:\n",
    "    if pd.isna(token.label_) is False:\n",
    "        ner_df = pd.concat([ner_df, pd.DataFrame.from_records([{'token': token.text, 'ner_tag': token.label_}])], ignore_index=True)"
   ],
   "id": "fb6c4fa915b06639",
   "outputs": [],
   "execution_count": 27
  },
  {
   "metadata": {
    "ExecuteTime": {
     "end_time": "2025-05-12T06:11:34.789258Z",
     "start_time": "2025-05-12T06:11:34.763093Z"
    }
   },
   "cell_type": "code",
   "source": "ner_df.head()",
   "id": "9a5f48c8007b91aa",
   "outputs": [
    {
     "data": {
      "text/plain": [
       "         token   ner_tag\n",
       "0    Liz Truss    PERSON\n",
       "1           UK       GPE\n",
       "2    Rationing   PRODUCT\n",
       "3  superyachts  CARDINAL\n",
       "4      Russian      NORP"
      ],
      "text/html": [
       "<div>\n",
       "<style scoped>\n",
       "    .dataframe tbody tr th:only-of-type {\n",
       "        vertical-align: middle;\n",
       "    }\n",
       "\n",
       "    .dataframe tbody tr th {\n",
       "        vertical-align: top;\n",
       "    }\n",
       "\n",
       "    .dataframe thead th {\n",
       "        text-align: right;\n",
       "    }\n",
       "</style>\n",
       "<table border=\"1\" class=\"dataframe\">\n",
       "  <thead>\n",
       "    <tr style=\"text-align: right;\">\n",
       "      <th></th>\n",
       "      <th>token</th>\n",
       "      <th>ner_tag</th>\n",
       "    </tr>\n",
       "  </thead>\n",
       "  <tbody>\n",
       "    <tr>\n",
       "      <th>0</th>\n",
       "      <td>Liz Truss</td>\n",
       "      <td>PERSON</td>\n",
       "    </tr>\n",
       "    <tr>\n",
       "      <th>1</th>\n",
       "      <td>UK</td>\n",
       "      <td>GPE</td>\n",
       "    </tr>\n",
       "    <tr>\n",
       "      <th>2</th>\n",
       "      <td>Rationing</td>\n",
       "      <td>PRODUCT</td>\n",
       "    </tr>\n",
       "    <tr>\n",
       "      <th>3</th>\n",
       "      <td>superyachts</td>\n",
       "      <td>CARDINAL</td>\n",
       "    </tr>\n",
       "    <tr>\n",
       "      <th>4</th>\n",
       "      <td>Russian</td>\n",
       "      <td>NORP</td>\n",
       "    </tr>\n",
       "  </tbody>\n",
       "</table>\n",
       "</div>"
      ]
     },
     "execution_count": 28,
     "metadata": {},
     "output_type": "execute_result"
    }
   ],
   "execution_count": 28
  },
  {
   "metadata": {
    "ExecuteTime": {
     "end_time": "2025-05-12T06:12:30.741830Z",
     "start_time": "2025-05-12T06:12:30.727125Z"
    }
   },
   "cell_type": "code",
   "source": [
    "ner_df_counts = ner_df.groupby(['token', 'ner_tag']).size().reset_index(name='counts').sort_values(by='counts', ascending=False)\n",
    "ner_df_counts.head(10)"
   ],
   "id": "13665ee444c36e13",
   "outputs": [
    {
     "data": {
      "text/plain": [
       "               token      ner_tag  counts\n",
       "965          Ukraine          GPE      47\n",
       "955               UK          GPE      36\n",
       "329          England          GPE      32\n",
       "819          Russian         NORP      20\n",
       "957               US          GPE      19\n",
       "1031  World Cup 2022        EVENT      18\n",
       "1058           first      ORDINAL      13\n",
       "918       The Papers  WORK_OF_ART      13\n",
       "378           France          GPE      12\n",
       "226            China          GPE      11"
      ],
      "text/html": [
       "<div>\n",
       "<style scoped>\n",
       "    .dataframe tbody tr th:only-of-type {\n",
       "        vertical-align: middle;\n",
       "    }\n",
       "\n",
       "    .dataframe tbody tr th {\n",
       "        vertical-align: top;\n",
       "    }\n",
       "\n",
       "    .dataframe thead th {\n",
       "        text-align: right;\n",
       "    }\n",
       "</style>\n",
       "<table border=\"1\" class=\"dataframe\">\n",
       "  <thead>\n",
       "    <tr style=\"text-align: right;\">\n",
       "      <th></th>\n",
       "      <th>token</th>\n",
       "      <th>ner_tag</th>\n",
       "      <th>counts</th>\n",
       "    </tr>\n",
       "  </thead>\n",
       "  <tbody>\n",
       "    <tr>\n",
       "      <th>965</th>\n",
       "      <td>Ukraine</td>\n",
       "      <td>GPE</td>\n",
       "      <td>47</td>\n",
       "    </tr>\n",
       "    <tr>\n",
       "      <th>955</th>\n",
       "      <td>UK</td>\n",
       "      <td>GPE</td>\n",
       "      <td>36</td>\n",
       "    </tr>\n",
       "    <tr>\n",
       "      <th>329</th>\n",
       "      <td>England</td>\n",
       "      <td>GPE</td>\n",
       "      <td>32</td>\n",
       "    </tr>\n",
       "    <tr>\n",
       "      <th>819</th>\n",
       "      <td>Russian</td>\n",
       "      <td>NORP</td>\n",
       "      <td>20</td>\n",
       "    </tr>\n",
       "    <tr>\n",
       "      <th>957</th>\n",
       "      <td>US</td>\n",
       "      <td>GPE</td>\n",
       "      <td>19</td>\n",
       "    </tr>\n",
       "    <tr>\n",
       "      <th>1031</th>\n",
       "      <td>World Cup 2022</td>\n",
       "      <td>EVENT</td>\n",
       "      <td>18</td>\n",
       "    </tr>\n",
       "    <tr>\n",
       "      <th>1058</th>\n",
       "      <td>first</td>\n",
       "      <td>ORDINAL</td>\n",
       "      <td>13</td>\n",
       "    </tr>\n",
       "    <tr>\n",
       "      <th>918</th>\n",
       "      <td>The Papers</td>\n",
       "      <td>WORK_OF_ART</td>\n",
       "      <td>13</td>\n",
       "    </tr>\n",
       "    <tr>\n",
       "      <th>378</th>\n",
       "      <td>France</td>\n",
       "      <td>GPE</td>\n",
       "      <td>12</td>\n",
       "    </tr>\n",
       "    <tr>\n",
       "      <th>226</th>\n",
       "      <td>China</td>\n",
       "      <td>GPE</td>\n",
       "      <td>11</td>\n",
       "    </tr>\n",
       "  </tbody>\n",
       "</table>\n",
       "</div>"
      ]
     },
     "execution_count": 30,
     "metadata": {},
     "output_type": "execute_result"
    }
   ],
   "execution_count": 30
  },
  {
   "metadata": {
    "ExecuteTime": {
     "end_time": "2025-05-12T06:12:48.302287Z",
     "start_time": "2025-05-12T06:12:48.284224Z"
    }
   },
   "cell_type": "code",
   "source": [
    "people = ner_df_counts[ner_df_counts['ner_tag'] == 'PERSON'][0:10]\n",
    "people"
   ],
   "id": "869563e264b5879b",
   "outputs": [
    {
     "data": {
      "text/plain": [
       "             token ner_tag  counts\n",
       "257          Covid  PERSON       9\n",
       "757          Putin  PERSON       8\n",
       "760          Queen  PERSON       8\n",
       "563      Liz Truss  PERSON       6\n",
       "169  Boris Johnson  PERSON       6\n",
       "788    Rishi Sunak  PERSON       5\n",
       "515   Jurgen Klopp  PERSON       4\n",
       "762           Quiz  PERSON       4\n",
       "325  Emma Raducanu  PERSON       4\n",
       "581         Macron  PERSON       4"
      ],
      "text/html": [
       "<div>\n",
       "<style scoped>\n",
       "    .dataframe tbody tr th:only-of-type {\n",
       "        vertical-align: middle;\n",
       "    }\n",
       "\n",
       "    .dataframe tbody tr th {\n",
       "        vertical-align: top;\n",
       "    }\n",
       "\n",
       "    .dataframe thead th {\n",
       "        text-align: right;\n",
       "    }\n",
       "</style>\n",
       "<table border=\"1\" class=\"dataframe\">\n",
       "  <thead>\n",
       "    <tr style=\"text-align: right;\">\n",
       "      <th></th>\n",
       "      <th>token</th>\n",
       "      <th>ner_tag</th>\n",
       "      <th>counts</th>\n",
       "    </tr>\n",
       "  </thead>\n",
       "  <tbody>\n",
       "    <tr>\n",
       "      <th>257</th>\n",
       "      <td>Covid</td>\n",
       "      <td>PERSON</td>\n",
       "      <td>9</td>\n",
       "    </tr>\n",
       "    <tr>\n",
       "      <th>757</th>\n",
       "      <td>Putin</td>\n",
       "      <td>PERSON</td>\n",
       "      <td>8</td>\n",
       "    </tr>\n",
       "    <tr>\n",
       "      <th>760</th>\n",
       "      <td>Queen</td>\n",
       "      <td>PERSON</td>\n",
       "      <td>8</td>\n",
       "    </tr>\n",
       "    <tr>\n",
       "      <th>563</th>\n",
       "      <td>Liz Truss</td>\n",
       "      <td>PERSON</td>\n",
       "      <td>6</td>\n",
       "    </tr>\n",
       "    <tr>\n",
       "      <th>169</th>\n",
       "      <td>Boris Johnson</td>\n",
       "      <td>PERSON</td>\n",
       "      <td>6</td>\n",
       "    </tr>\n",
       "    <tr>\n",
       "      <th>788</th>\n",
       "      <td>Rishi Sunak</td>\n",
       "      <td>PERSON</td>\n",
       "      <td>5</td>\n",
       "    </tr>\n",
       "    <tr>\n",
       "      <th>515</th>\n",
       "      <td>Jurgen Klopp</td>\n",
       "      <td>PERSON</td>\n",
       "      <td>4</td>\n",
       "    </tr>\n",
       "    <tr>\n",
       "      <th>762</th>\n",
       "      <td>Quiz</td>\n",
       "      <td>PERSON</td>\n",
       "      <td>4</td>\n",
       "    </tr>\n",
       "    <tr>\n",
       "      <th>325</th>\n",
       "      <td>Emma Raducanu</td>\n",
       "      <td>PERSON</td>\n",
       "      <td>4</td>\n",
       "    </tr>\n",
       "    <tr>\n",
       "      <th>581</th>\n",
       "      <td>Macron</td>\n",
       "      <td>PERSON</td>\n",
       "      <td>4</td>\n",
       "    </tr>\n",
       "  </tbody>\n",
       "</table>\n",
       "</div>"
      ]
     },
     "execution_count": 32,
     "metadata": {},
     "output_type": "execute_result"
    }
   ],
   "execution_count": 32
  },
  {
   "metadata": {},
   "cell_type": "code",
   "outputs": [],
   "execution_count": null,
   "source": "",
   "id": "65fd833524d77d61"
  }
 ],
 "metadata": {
  "kernelspec": {
   "display_name": "Python 3",
   "language": "python",
   "name": "python3"
  },
  "language_info": {
   "codemirror_mode": {
    "name": "ipython",
    "version": 2
   },
   "file_extension": ".py",
   "mimetype": "text/x-python",
   "name": "python",
   "nbconvert_exporter": "python",
   "pygments_lexer": "ipython2",
   "version": "2.7.6"
  }
 },
 "nbformat": 4,
 "nbformat_minor": 5
}
