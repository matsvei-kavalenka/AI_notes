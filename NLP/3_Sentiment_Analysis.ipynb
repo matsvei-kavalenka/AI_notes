{
 "cells": [
  {
   "metadata": {},
   "cell_type": "markdown",
   "source": "# Sentiment Analysis",
   "id": "4da2501a907ce075"
  },
  {
   "metadata": {},
   "cell_type": "markdown",
   "source": "## Rule-based Sentiment",
   "id": "f18d8c76033069a8"
  },
  {
   "metadata": {
    "ExecuteTime": {
     "end_time": "2025-05-12T06:56:31.364257Z",
     "start_time": "2025-05-12T06:56:31.354254Z"
    }
   },
   "cell_type": "code",
   "source": [
    "sentence_1 = \"i had a great time at the movie it was really funny\"\n",
    "sentence_2 = \"i had a great time at the movie but the parking was terrible\"\n",
    "sentence_3 = \"i had a great time at the movie but the parking wasn't great\"\n",
    "sentence_4 = \"i went to see a movie\""
   ],
   "id": "4a45aaf1ff4beb17",
   "outputs": [],
   "execution_count": 5
  },
  {
   "metadata": {},
   "cell_type": "markdown",
   "source": "### TextBlob",
   "id": "c24f415a290f16e6"
  },
  {
   "metadata": {
    "ExecuteTime": {
     "end_time": "2025-05-12T06:56:32.749089Z",
     "start_time": "2025-05-12T06:56:31.371832Z"
    }
   },
   "cell_type": "code",
   "source": "from textblob import TextBlob",
   "id": "fce2adfe151f25ce",
   "outputs": [],
   "execution_count": 6
  },
  {
   "metadata": {
    "ExecuteTime": {
     "end_time": "2025-05-12T06:56:32.810613Z",
     "start_time": "2025-05-12T06:56:32.766603Z"
    }
   },
   "cell_type": "code",
   "source": [
    "print(sentence_1)\n",
    "sentiment_score_1 = TextBlob(sentence_1)\n",
    "print(sentiment_score_1.sentiment.polarity)"
   ],
   "id": "ccc5bb9e85517b57",
   "outputs": [
    {
     "name": "stdout",
     "output_type": "stream",
     "text": [
      "i had a great time at the movie it was really funny\n",
      "0.525\n"
     ]
    }
   ],
   "execution_count": 7
  },
  {
   "metadata": {
    "ExecuteTime": {
     "end_time": "2025-05-12T06:56:32.841610Z",
     "start_time": "2025-05-12T06:56:32.831612Z"
    }
   },
   "cell_type": "code",
   "source": [
    "print(sentence_2)\n",
    "sentiment_score_2 = TextBlob(sentence_2)\n",
    "print(sentiment_score_2.sentiment.polarity)"
   ],
   "id": "e510e6db4c2737e8",
   "outputs": [
    {
     "name": "stdout",
     "output_type": "stream",
     "text": [
      "i had a great time at the movie but the parking was terrible\n",
      "-0.09999999999999998\n"
     ]
    }
   ],
   "execution_count": 8
  },
  {
   "metadata": {
    "ExecuteTime": {
     "end_time": "2025-05-12T06:56:32.935127Z",
     "start_time": "2025-05-12T06:56:32.924129Z"
    }
   },
   "cell_type": "code",
   "source": [
    "print(sentence_3)\n",
    "sentiment_score_3 = TextBlob(sentence_3)\n",
    "print(sentiment_score_3.sentiment.polarity)"
   ],
   "id": "b78f8678b6f64787",
   "outputs": [
    {
     "name": "stdout",
     "output_type": "stream",
     "text": [
      "i had a great time at the movie but the parking wasn't great\n",
      "0.8\n"
     ]
    }
   ],
   "execution_count": 9
  },
  {
   "metadata": {
    "ExecuteTime": {
     "end_time": "2025-05-12T06:56:33.059644Z",
     "start_time": "2025-05-12T06:56:33.040641Z"
    }
   },
   "cell_type": "code",
   "source": [
    "print(sentence_4)\n",
    "sentiment_score_4 = TextBlob(sentence_4)\n",
    "print(sentiment_score_4.sentiment.polarity)"
   ],
   "id": "34bd844c840ba396",
   "outputs": [
    {
     "name": "stdout",
     "output_type": "stream",
     "text": [
      "i went to see a movie\n",
      "0.0\n"
     ]
    }
   ],
   "execution_count": 10
  },
  {
   "metadata": {},
   "cell_type": "markdown",
   "source": "### Vader",
   "id": "4cce1f86ee36b030"
  },
  {
   "metadata": {
    "ExecuteTime": {
     "end_time": "2025-05-12T06:56:33.137160Z",
     "start_time": "2025-05-12T06:56:33.122161Z"
    }
   },
   "cell_type": "code",
   "source": "from vaderSentiment.vaderSentiment import SentimentIntensityAnalyzer",
   "id": "9c2abfb0e520f409",
   "outputs": [],
   "execution_count": 11
  },
  {
   "metadata": {
    "ExecuteTime": {
     "end_time": "2025-05-12T06:56:33.184761Z",
     "start_time": "2025-05-12T06:56:33.158168Z"
    }
   },
   "cell_type": "code",
   "source": "vader_sentiment = SentimentIntensityAnalyzer()",
   "id": "6fb751d040507fcc",
   "outputs": [],
   "execution_count": 12
  },
  {
   "metadata": {
    "ExecuteTime": {
     "end_time": "2025-05-12T06:56:33.231446Z",
     "start_time": "2025-05-12T06:56:33.217442Z"
    }
   },
   "cell_type": "code",
   "source": [
    "print(sentence_1)\n",
    "print(vader_sentiment.polarity_scores(sentence_1))"
   ],
   "id": "18ab91f99f1266c4",
   "outputs": [
    {
     "name": "stdout",
     "output_type": "stream",
     "text": [
      "i had a great time at the movie it was really funny\n",
      "{'neg': 0.0, 'neu': 0.578, 'pos': 0.422, 'compound': 0.807}\n"
     ]
    }
   ],
   "execution_count": 13
  },
  {
   "metadata": {
    "ExecuteTime": {
     "end_time": "2025-05-12T06:56:33.292060Z",
     "start_time": "2025-05-12T06:56:33.277060Z"
    }
   },
   "cell_type": "code",
   "source": [
    "print(sentence_2)\n",
    "print(vader_sentiment.polarity_scores(sentence_2))"
   ],
   "id": "e8cf3fd8c0fa587d",
   "outputs": [
    {
     "name": "stdout",
     "output_type": "stream",
     "text": [
      "i had a great time at the movie but the parking was terrible\n",
      "{'neg': 0.234, 'neu': 0.621, 'pos': 0.144, 'compound': -0.3818}\n"
     ]
    }
   ],
   "execution_count": 14
  },
  {
   "metadata": {
    "ExecuteTime": {
     "end_time": "2025-05-12T06:56:33.324061Z",
     "start_time": "2025-05-12T06:56:33.310061Z"
    }
   },
   "cell_type": "code",
   "source": [
    "print(sentence_3)\n",
    "print(vader_sentiment.polarity_scores(sentence_3))"
   ],
   "id": "439ed171c4a4bd67",
   "outputs": [
    {
     "name": "stdout",
     "output_type": "stream",
     "text": [
      "i had a great time at the movie but the parking wasn't great\n",
      "{'neg': 0.247, 'neu': 0.611, 'pos': 0.142, 'compound': -0.4387}\n"
     ]
    }
   ],
   "execution_count": 15
  },
  {
   "metadata": {
    "ExecuteTime": {
     "end_time": "2025-05-12T06:56:33.355071Z",
     "start_time": "2025-05-12T06:56:33.350062Z"
    }
   },
   "cell_type": "code",
   "source": [
    "print(sentence_4)\n",
    "print(vader_sentiment.polarity_scores(sentence_4))"
   ],
   "id": "708c6d96d069b6dc",
   "outputs": [
    {
     "name": "stdout",
     "output_type": "stream",
     "text": [
      "i went to see a movie\n",
      "{'neg': 0.0, 'neu': 1.0, 'pos': 0.0, 'compound': 0.0}\n"
     ]
    }
   ],
   "execution_count": 16
  },
  {
   "metadata": {},
   "cell_type": "markdown",
   "source": "### Pre-trained Transformer",
   "id": "bbe7fb11edb8dcd"
  },
  {
   "metadata": {
    "ExecuteTime": {
     "end_time": "2025-05-12T06:56:33.821413Z",
     "start_time": "2025-05-12T06:56:33.373578Z"
    }
   },
   "cell_type": "code",
   "source": [
    "import transformers\n",
    "from transformers import pipeline\n",
    "\n",
    "sentiment_pipeline = pipeline(\"sentiment-analysis\")"
   ],
   "id": "8adf752110558e78",
   "outputs": [
    {
     "name": "stderr",
     "output_type": "stream",
     "text": [
      "No model was supplied, defaulted to distilbert/distilbert-base-uncased-finetuned-sst-2-english and revision 714eb0f (https://huggingface.co/distilbert/distilbert-base-uncased-finetuned-sst-2-english).\n",
      "Using a pipeline without specifying a model name and revision in production is not recommended.\n",
      "Device set to use cpu\n"
     ]
    }
   ],
   "execution_count": 17
  },
  {
   "metadata": {
    "ExecuteTime": {
     "end_time": "2025-05-12T06:56:34.242957Z",
     "start_time": "2025-05-12T06:56:33.838415Z"
    }
   },
   "cell_type": "code",
   "source": [
    "print(sentence_1)\n",
    "sentiment_pipeline(sentence_1)\n"
   ],
   "id": "4f27d2a1b09d63cb",
   "outputs": [
    {
     "name": "stdout",
     "output_type": "stream",
     "text": [
      "i had a great time at the movie it was really funny\n"
     ]
    },
    {
     "data": {
      "text/plain": [
       "[{'label': 'POSITIVE', 'score': 0.9998176693916321}]"
      ]
     },
     "execution_count": 18,
     "metadata": {},
     "output_type": "execute_result"
    }
   ],
   "execution_count": 18
  },
  {
   "metadata": {
    "ExecuteTime": {
     "end_time": "2025-05-12T06:56:53.071108Z",
     "start_time": "2025-05-12T06:56:53.020993Z"
    }
   },
   "cell_type": "code",
   "source": [
    "print(sentence_2)\n",
    "sentiment_pipeline(sentence_2)\n"
   ],
   "id": "1fa7c16564c0c762",
   "outputs": [
    {
     "name": "stdout",
     "output_type": "stream",
     "text": [
      "i had a great time at the movie but the parking was terrible\n"
     ]
    },
    {
     "data": {
      "text/plain": [
       "[{'label': 'NEGATIVE', 'score': 0.9977464079856873}]"
      ]
     },
     "execution_count": 19,
     "metadata": {},
     "output_type": "execute_result"
    }
   ],
   "execution_count": 19
  },
  {
   "metadata": {
    "ExecuteTime": {
     "end_time": "2025-05-12T06:57:02.659990Z",
     "start_time": "2025-05-12T06:57:02.592246Z"
    }
   },
   "cell_type": "code",
   "source": [
    "print(sentence_3)\n",
    "sentiment_pipeline(sentence_3)"
   ],
   "id": "8e0826552fc40e38",
   "outputs": [
    {
     "name": "stdout",
     "output_type": "stream",
     "text": [
      "i had a great time at the movie but the parking wasn't great\n"
     ]
    },
    {
     "data": {
      "text/plain": [
       "[{'label': 'NEGATIVE', 'score': 0.9984902143478394}]"
      ]
     },
     "execution_count": 20,
     "metadata": {},
     "output_type": "execute_result"
    }
   ],
   "execution_count": 20
  },
  {
   "metadata": {
    "ExecuteTime": {
     "end_time": "2025-05-12T06:57:11.619352Z",
     "start_time": "2025-05-12T06:57:11.574091Z"
    }
   },
   "cell_type": "code",
   "source": [
    "print(sentence_4)\n",
    "sentiment_pipeline(sentence_4)\n"
   ],
   "id": "1ef7f0acca42ab78",
   "outputs": [
    {
     "name": "stdout",
     "output_type": "stream",
     "text": [
      "i went to see a movie\n"
     ]
    },
    {
     "data": {
      "text/plain": [
       "[{'label': 'POSITIVE', 'score': 0.9802700281143188}]"
      ]
     },
     "execution_count": 21,
     "metadata": {},
     "output_type": "execute_result"
    }
   ],
   "execution_count": 21
  },
  {
   "metadata": {
    "ExecuteTime": {
     "end_time": "2025-05-12T06:59:49.221578Z",
     "start_time": "2025-05-12T06:59:48.055022Z"
    }
   },
   "cell_type": "code",
   "source": "specific_model = pipeline('sentiment-analysis', model='finiteautomata/bertweet-base-sentiment-analysis')",
   "id": "629cbd0680118e2e",
   "outputs": [
    {
     "name": "stderr",
     "output_type": "stream",
     "text": [
      "emoji is not installed, thus not converting emoticons or emojis into text. Install emoji: pip3 install emoji==0.6.0\n",
      "Device set to use cpu\n"
     ]
    }
   ],
   "execution_count": 23
  },
  {
   "metadata": {
    "ExecuteTime": {
     "end_time": "2025-05-12T06:59:59.368053Z",
     "start_time": "2025-05-12T06:59:59.096926Z"
    }
   },
   "cell_type": "code",
   "source": [
    "print(sentence_1)\n",
    "specific_model(sentence_1)"
   ],
   "id": "30d37ebf55fc5d31",
   "outputs": [
    {
     "name": "stdout",
     "output_type": "stream",
     "text": [
      "i had a great time at the movie it was really funny\n"
     ]
    },
    {
     "data": {
      "text/plain": [
       "[{'label': 'POS', 'score': 0.9923344254493713}]"
      ]
     },
     "execution_count": 24,
     "metadata": {},
     "output_type": "execute_result"
    }
   ],
   "execution_count": 24
  },
  {
   "metadata": {
    "ExecuteTime": {
     "end_time": "2025-05-12T07:00:11.630726Z",
     "start_time": "2025-05-12T07:00:11.530724Z"
    }
   },
   "cell_type": "code",
   "source": [
    "print(sentence_2)\n",
    "specific_model(sentence_2)"
   ],
   "id": "4097b276af24e303",
   "outputs": [
    {
     "name": "stdout",
     "output_type": "stream",
     "text": [
      "i had a great time at the movie but the parking was terrible\n"
     ]
    },
    {
     "data": {
      "text/plain": [
       "[{'label': 'NEG', 'score': 0.5355526208877563}]"
      ]
     },
     "execution_count": 25,
     "metadata": {},
     "output_type": "execute_result"
    }
   ],
   "execution_count": 25
  },
  {
   "metadata": {
    "ExecuteTime": {
     "end_time": "2025-05-12T07:00:16.685571Z",
     "start_time": "2025-05-12T07:00:16.060282Z"
    }
   },
   "cell_type": "code",
   "source": [
    "print(sentence_3)\n",
    "specific_model(sentence_3)"
   ],
   "id": "5a2809b270432bba",
   "outputs": [
    {
     "name": "stdout",
     "output_type": "stream",
     "text": [
      "i had a great time at the movie but the parking wasn't great\n"
     ]
    },
    {
     "data": {
      "text/plain": [
       "[{'label': 'POS', 'score': 0.6234413981437683}]"
      ]
     },
     "execution_count": 26,
     "metadata": {},
     "output_type": "execute_result"
    }
   ],
   "execution_count": 26
  },
  {
   "metadata": {
    "ExecuteTime": {
     "end_time": "2025-05-12T07:00:28.726578Z",
     "start_time": "2025-05-12T07:00:28.662484Z"
    }
   },
   "cell_type": "code",
   "source": [
    "print(sentence_4)\n",
    "specific_model(sentence_4)"
   ],
   "id": "2c9c2e1247a22b64",
   "outputs": [
    {
     "name": "stdout",
     "output_type": "stream",
     "text": [
      "i went to see a movie\n"
     ]
    },
    {
     "data": {
      "text/plain": [
       "[{'label': 'NEU', 'score': 0.9007406234741211}]"
      ]
     },
     "execution_count": 27,
     "metadata": {},
     "output_type": "execute_result"
    }
   ],
   "execution_count": 27
  },
  {
   "metadata": {},
   "cell_type": "code",
   "outputs": [],
   "execution_count": null,
   "source": "",
   "id": "4e506f9f127de503"
  }
 ],
 "metadata": {
  "kernelspec": {
   "display_name": "Python 3",
   "language": "python",
   "name": "python3"
  },
  "language_info": {
   "codemirror_mode": {
    "name": "ipython",
    "version": 2
   },
   "file_extension": ".py",
   "mimetype": "text/x-python",
   "name": "python",
   "nbconvert_exporter": "python",
   "pygments_lexer": "ipython2",
   "version": "2.7.6"
  }
 },
 "nbformat": 4,
 "nbformat_minor": 5
}
