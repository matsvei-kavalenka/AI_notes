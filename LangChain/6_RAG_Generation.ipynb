{
 "cells": [
  {
   "metadata": {},
   "cell_type": "markdown",
   "source": "# Generation: Stuffing Documents",
   "id": "3bbaf2f909d6cee"
  },
  {
   "metadata": {
    "ExecuteTime": {
     "end_time": "2025-06-12T12:59:21.548544Z",
     "start_time": "2025-06-12T12:59:21.522919Z"
    }
   },
   "cell_type": "code",
   "source": [
    "%load_ext dotenv\n",
    "%dotenv"
   ],
   "id": "323fb1f8d9b5edb9",
   "outputs": [],
   "execution_count": 1
  },
  {
   "metadata": {
    "ExecuteTime": {
     "end_time": "2025-06-12T12:59:31.015168Z",
     "start_time": "2025-06-12T12:59:28.180488Z"
    }
   },
   "cell_type": "code",
   "source": [
    "from langchain_openai.embeddings import OpenAIEmbeddings\n",
    "from langchain_community.vectorstores import Chroma\n",
    "from langchain_core.prompts import PromptTemplate\n",
    "from langchain_openai import ChatOpenAI\n",
    "from langchain_core.runnables import RunnablePassthrough, RunnableParallel\n",
    "from langchain_core.runnables import RunnableParallel\n",
    "from langchain_core.output_parsers import StrOutputParser"
   ],
   "id": "9b7803aa50cdf561",
   "outputs": [],
   "execution_count": 2
  },
  {
   "metadata": {
    "ExecuteTime": {
     "end_time": "2025-06-12T12:59:43.973663Z",
     "start_time": "2025-06-12T12:59:38.449986Z"
    }
   },
   "cell_type": "code",
   "source": [
    "vectorstore = Chroma(persist_directory = \"./test\", \n",
    "                     embedding_function = OpenAIEmbeddings(model='text-embedding-ada-002'))"
   ],
   "id": "79e4848b579c5dc1",
   "outputs": [
    {
     "name": "stderr",
     "output_type": "stream",
     "text": [
      "C:\\Users\\matsv\\AppData\\Local\\Temp\\ipykernel_17980\\1030355313.py:1: LangChainDeprecationWarning: The class `Chroma` was deprecated in LangChain 0.2.9 and will be removed in 1.0. An updated version of the class exists in the :class:`~langchain-chroma package and should be used instead. To use it run `pip install -U :class:`~langchain-chroma` and import as `from :class:`~langchain_chroma import Chroma``.\n",
      "  vectorstore = Chroma(persist_directory = \"./test\",\n"
     ]
    }
   ],
   "execution_count": 3
  },
  {
   "metadata": {
    "ExecuteTime": {
     "end_time": "2025-06-12T13:01:11.424170Z",
     "start_time": "2025-06-12T13:01:11.321077Z"
    }
   },
   "cell_type": "code",
   "source": "retriever = vectorstore.as_retriever(search_type='mmr', search_kwargs={\"k\": 3, \"lambda_mult\": 0.7})",
   "id": "78980d80f0d56b8d",
   "outputs": [],
   "execution_count": 4
  },
  {
   "metadata": {
    "ExecuteTime": {
     "end_time": "2025-06-12T13:01:14.084541Z",
     "start_time": "2025-06-12T13:01:14.055891Z"
    }
   },
   "cell_type": "code",
   "source": [
    "TEMPLATE = '''\n",
    "Answer the following question:\n",
    "{question}\n",
    "\n",
    "To answer the question, use only the following context:\n",
    "{context}\n",
    "\n",
    "At the end of the response, specify the name of the lecture this context is taken from in the format:\n",
    "Resources: *Lecture Title*\n",
    "where *Lecture Title* should be substituted with the title of all resource lectures.\n",
    "'''\n",
    "\n",
    "prompt_template = PromptTemplate.from_template(TEMPLATE)"
   ],
   "id": "a811edf0eab6bb2a",
   "outputs": [],
   "execution_count": 5
  },
  {
   "metadata": {
    "ExecuteTime": {
     "end_time": "2025-06-12T13:02:09.098666Z",
     "start_time": "2025-06-12T13:02:08.712639Z"
    }
   },
   "cell_type": "code",
   "source": "chat = ChatOpenAI(model=\"gpt-4o-mini\", seed=365, max_tokens=200)",
   "id": "10e5f3a6d78c1cf2",
   "outputs": [],
   "execution_count": 6
  },
  {
   "metadata": {
    "ExecuteTime": {
     "end_time": "2025-06-12T13:02:26.880232Z",
     "start_time": "2025-06-12T13:02:26.860222Z"
    }
   },
   "cell_type": "code",
   "source": "question = \"What software do data scientists use?\"",
   "id": "ccc3265281d8cfd1",
   "outputs": [],
   "execution_count": 7
  },
  {
   "metadata": {
    "ExecuteTime": {
     "end_time": "2025-06-12T13:06:22.699934Z",
     "start_time": "2025-06-12T13:06:22.690331Z"
    }
   },
   "cell_type": "code",
   "source": [
    "chain = {'context': retriever,\n",
    "         \"question\": RunnablePassthrough()} | prompt_template | chat | StrOutputParser()"
   ],
   "id": "9bd2d4811c1bc25c",
   "outputs": [],
   "execution_count": 16
  },
  {
   "metadata": {
    "ExecuteTime": {
     "end_time": "2025-06-12T13:06:27.556100Z",
     "start_time": "2025-06-12T13:06:23.238548Z"
    }
   },
   "cell_type": "code",
   "source": "chain.invoke(question)",
   "id": "c190e41c63500d07",
   "outputs": [
    {
     "data": {
      "text/plain": [
       "'Data scientists commonly use several software tools, with R and Python being the two most popular due to their ability to manipulate data and their integration within multiple data and data science platforms. These languages are not only suitable for mathematical and statistical computations but are also adaptable for solving a wide range of business and data-related problems.\\n\\nIn addition to R and Python, other notable software tools include Hadoop, which addresses the complexities of big data by distributing computational tasks across multiple computers. For business intelligence visualizations, tools like Power BI, SAS, Qlik, and Tableau are also widely utilized.\\n\\nResources: *Programming Languages & Software Employed in Data Science - All the Tools You Need*'"
      ]
     },
     "execution_count": 17,
     "metadata": {},
     "output_type": "execute_result"
    }
   ],
   "execution_count": 17
  },
  {
   "metadata": {},
   "cell_type": "code",
   "outputs": [],
   "execution_count": null,
   "source": "",
   "id": "4e3e8935ab911186"
  }
 ],
 "metadata": {
  "kernelspec": {
   "display_name": "Python 3",
   "language": "python",
   "name": "python3"
  },
  "language_info": {
   "codemirror_mode": {
    "name": "ipython",
    "version": 2
   },
   "file_extension": ".py",
   "mimetype": "text/x-python",
   "name": "python",
   "nbconvert_exporter": "python",
   "pygments_lexer": "ipython2",
   "version": "2.7.6"
  }
 },
 "nbformat": 4,
 "nbformat_minor": 5
}
