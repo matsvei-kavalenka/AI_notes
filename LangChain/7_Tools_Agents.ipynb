{
 "cells": [
  {
   "metadata": {},
   "cell_type": "markdown",
   "source": "# Langchain Tools and Agents",
   "id": "c731dd7559c1d705"
  },
  {
   "metadata": {
    "ExecuteTime": {
     "end_time": "2025-06-16T08:03:33.093814Z",
     "start_time": "2025-06-16T08:03:33.043816Z"
    }
   },
   "cell_type": "code",
   "source": [
    "%load_ext dotenv\n",
    "%dotenv"
   ],
   "id": "7561936b31cd39a4",
   "outputs": [],
   "execution_count": 1
  },
  {
   "metadata": {
    "ExecuteTime": {
     "end_time": "2025-06-16T08:03:36.697065Z",
     "start_time": "2025-06-16T08:03:33.129820Z"
    }
   },
   "cell_type": "code",
   "source": [
    "from langchain_core.prompts import PromptTemplate\n",
    "from langchain_core.output_parsers import StrOutputParser\n",
    "\n",
    "from langchain_openai.chat_models import ChatOpenAI\n",
    "\n",
    "from langchain_community.utilities import WikipediaAPIWrapper\n",
    "from langchain_community.tools import WikipediaQueryRun"
   ],
   "id": "c2114479bd42a5ee",
   "outputs": [],
   "execution_count": 2
  },
  {
   "metadata": {
    "ExecuteTime": {
     "end_time": "2025-06-16T08:03:37.739133Z",
     "start_time": "2025-06-16T08:03:37.550374Z"
    }
   },
   "cell_type": "code",
   "source": "wikipedia_api = WikipediaAPIWrapper()",
   "id": "ea6e11d86a14dca7",
   "outputs": [],
   "execution_count": 3
  },
  {
   "metadata": {
    "ExecuteTime": {
     "end_time": "2025-06-16T08:03:41.223780Z",
     "start_time": "2025-06-16T08:03:37.757113Z"
    }
   },
   "cell_type": "code",
   "source": "wikipedia_api.run('Python')",
   "id": "994f5ffa40ffe843",
   "outputs": [
    {
     "data": {
      "text/plain": [
       "'Page: Python (programming language)\\nSummary: Python is a high-level, general-purpose programming language. Its design philosophy emphasizes code readability with the use of significant indentation.\\nPython is dynamically type-checked and garbage-collected. It supports multiple programming paradigms, including structured (particularly procedural), object-oriented and functional programming. It is often described as a \"batteries included\" language due to its comprehensive standard library.\\nGuido van Rossum began working on Python in the late 1980s as a successor to the ABC programming language, and he first released it in 1991 as Python 0.9.0. Python 2.0 was released in 2000. Python 3.0, released in 2008, was a major revision not completely backward-compatible with earlier versions. Python 2.7.18, released in 2020, was the last release of Python 2.\\nPython consistently ranks as one of the most popular programming languages, and it has gained widespread use in the machine learning community.\\n\\nPage: Monty Python\\nSummary: Monty Python, also known as the Pythons, were a British comedy troupe formed in 1969 consisting of Graham Chapman, John Cleese, Terry Gilliam, Eric Idle, Terry Jones and Michael Palin. The group came to prominence for the sketch comedy series Monty Python\\'s Flying Circus, which aired on the BBC from 1969 to 1974. Their work then developed into a larger collection that included live shows, films, albums, books, and musicals; their influence on comedy has been compared to the Beatles\\' influence on music. Their sketch show has been called \"an important moment in the evolution of television comedy\".\\nMonty Python\\'s Flying Circus was loosely structured as a sketch show, but its innovative stream-of-consciousness approach and Gilliam\\'s animation skills pushed the boundaries of what was acceptable in style and content. A self-contained comedy unit, the Pythons had creative control that allowed them to experiment with form and content, discarding rules of television comedy. They followed their television work by making  the films Monty Python and the Holy Grail (1975), Life of Brian (1979), and The Meaning of Life (1983). Their influence on British comedy has been apparent for years, while it has coloured the work of the early editions of Saturday Night Live through to absurdist trends in television comedy.\\nAt the 41st British Academy Film Awards in 1988, Monty Python received the BAFTA Award for Outstanding British Contribution to Cinema. In 1998, they were awarded the AFI Star Award by the American Film Institute. Holy Grail and Life of Brian are frequently ranked on lists of the greatest comedy films. A 2005 poll asked more than 300 comedians, comedy writers, producers, and directors to name the greatest comedians of all time, and half of Monty Python\\'s members made the top 50.'"
      ]
     },
     "execution_count": 4,
     "metadata": {},
     "output_type": "execute_result"
    }
   ],
   "execution_count": 4
  },
  {
   "metadata": {
    "ExecuteTime": {
     "end_time": "2025-06-16T08:03:41.331645Z",
     "start_time": "2025-06-16T08:03:41.325647Z"
    }
   },
   "cell_type": "code",
   "source": "wikipedia_tool = WikipediaQueryRun(api_wrapper=wikipedia_api)",
   "id": "2de9770855872115",
   "outputs": [],
   "execution_count": 5
  },
  {
   "metadata": {
    "ExecuteTime": {
     "end_time": "2025-06-16T08:03:41.393909Z",
     "start_time": "2025-06-16T08:03:41.383575Z"
    }
   },
   "cell_type": "code",
   "source": "wikipedia_tool.name",
   "id": "119a258b510bce6a",
   "outputs": [
    {
     "data": {
      "text/plain": [
       "'wikipedia'"
      ]
     },
     "execution_count": 6,
     "metadata": {},
     "output_type": "execute_result"
    }
   ],
   "execution_count": 6
  },
  {
   "metadata": {
    "ExecuteTime": {
     "end_time": "2025-06-16T08:03:41.519170Z",
     "start_time": "2025-06-16T08:03:41.509868Z"
    }
   },
   "cell_type": "code",
   "source": "wikipedia_tool.description",
   "id": "51952800788e043c",
   "outputs": [
    {
     "data": {
      "text/plain": [
       "'A wrapper around Wikipedia. Useful for when you need to answer general questions about people, places, companies, facts, historical events, or other subjects. Input should be a search query.'"
      ]
     },
     "execution_count": 7,
     "metadata": {},
     "output_type": "execute_result"
    }
   ],
   "execution_count": 7
  },
  {
   "metadata": {
    "ExecuteTime": {
     "end_time": "2025-06-16T08:03:41.628694Z",
     "start_time": "2025-06-16T08:03:41.615599Z"
    }
   },
   "cell_type": "code",
   "source": "wikipedia_tool.args",
   "id": "9b8b896aaaff5005",
   "outputs": [
    {
     "data": {
      "text/plain": [
       "{'query': {'description': 'query to look up on wikipedia',\n",
       "  'title': 'Query',\n",
       "  'type': 'string'}}"
      ]
     },
     "execution_count": 8,
     "metadata": {},
     "output_type": "execute_result"
    }
   ],
   "execution_count": 8
  },
  {
   "metadata": {
    "ExecuteTime": {
     "end_time": "2025-06-16T08:03:44.432377Z",
     "start_time": "2025-06-16T08:03:41.697171Z"
    }
   },
   "cell_type": "code",
   "source": "response = wikipedia_tool.invoke({'query': 'Python'})",
   "id": "2a30bb555b03ae05",
   "outputs": [],
   "execution_count": 9
  },
  {
   "metadata": {
    "ExecuteTime": {
     "end_time": "2025-06-16T08:03:44.462646Z",
     "start_time": "2025-06-16T08:03:44.449512Z"
    }
   },
   "cell_type": "code",
   "source": "print(response)",
   "id": "1242f2a44f77b0d7",
   "outputs": [
    {
     "name": "stdout",
     "output_type": "stream",
     "text": [
      "Page: Python (programming language)\n",
      "Summary: Python is a high-level, general-purpose programming language. Its design philosophy emphasizes code readability with the use of significant indentation.\n",
      "Python is dynamically type-checked and garbage-collected. It supports multiple programming paradigms, including structured (particularly procedural), object-oriented and functional programming. It is often described as a \"batteries included\" language due to its comprehensive standard library.\n",
      "Guido van Rossum began working on Python in the late 1980s as a successor to the ABC programming language, and he first released it in 1991 as Python 0.9.0. Python 2.0 was released in 2000. Python 3.0, released in 2008, was a major revision not completely backward-compatible with earlier versions. Python 2.7.18, released in 2020, was the last release of Python 2.\n",
      "Python consistently ranks as one of the most popular programming languages, and it has gained widespread use in the machine learning community.\n",
      "\n",
      "Page: Monty Python\n",
      "Summary: Monty Python, also known as the Pythons, were a British comedy troupe formed in 1969 consisting of Graham Chapman, John Cleese, Terry Gilliam, Eric Idle, Terry Jones and Michael Palin. The group came to prominence for the sketch comedy series Monty Python's Flying Circus, which aired on the BBC from 1969 to 1974. Their work then developed into a larger collection that included live shows, films, albums, books, and musicals; their influence on comedy has been compared to the Beatles' influence on music. Their sketch show has been called \"an important moment in the evolution of television comedy\".\n",
      "Monty Python's Flying Circus was loosely structured as a sketch show, but its innovative stream-of-consciousness approach and Gilliam's animation skills pushed the boundaries of what was acceptable in style and content. A self-contained comedy unit, the Pythons had creative control that allowed them to experiment with form and content, discarding rules of television comedy. They followed their television work by making  the films Monty Python and the Holy Grail (1975), Life of Brian (1979), and The Meaning of Life (1983). Their influence on British comedy has been apparent for years, while it has coloured the work of the early editions of Saturday Night Live through to absurdist trends in television comedy.\n",
      "At the 41st British Academy Film Awards in 1988, Monty Python received the BAFTA Award for Outstanding British Contribution to Cinema. In 1998, they were awarded the AFI Star Award by the American Film Institute. Holy Grail and Life of Brian are frequently ranked on lists of the greatest comedy films. A 2005 poll asked more than 300 comedians, comedy writers, producers, and directors to name the greatest comedians of all time, and half of Monty Python's members made the top 50.\n"
     ]
    }
   ],
   "execution_count": 10
  },
  {
   "metadata": {
    "ExecuteTime": {
     "end_time": "2025-06-16T08:03:44.554629Z",
     "start_time": "2025-06-16T08:03:44.535687Z"
    }
   },
   "cell_type": "code",
   "source": [
    "TEMPLATE = '''\n",
    "Turn the following user input into a Wikipedia search query. Don't answer the question:\n",
    "\n",
    "{input}\n",
    "'''\n",
    "\n",
    "prompt_template = PromptTemplate.from_template(template = TEMPLATE)"
   ],
   "id": "a593a55b76051a93",
   "outputs": [],
   "execution_count": 11
  },
  {
   "metadata": {
    "ExecuteTime": {
     "end_time": "2025-06-16T08:03:45.221006Z",
     "start_time": "2025-06-16T08:03:44.586377Z"
    }
   },
   "cell_type": "code",
   "source": [
    "chat = ChatOpenAI(model_name = 'gpt-4o-mini', \n",
    "                  temperature = 0,\n",
    "                  seed=365)"
   ],
   "id": "99df6f7de82e8a73",
   "outputs": [],
   "execution_count": 12
  },
  {
   "metadata": {
    "ExecuteTime": {
     "end_time": "2025-06-16T08:03:45.236712Z",
     "start_time": "2025-06-16T08:03:45.225912Z"
    }
   },
   "cell_type": "code",
   "source": "chain = prompt_template | chat | StrOutputParser() | wikipedia_tool",
   "id": "a72a2d60fe780b10",
   "outputs": [],
   "execution_count": 13
  },
  {
   "metadata": {
    "ExecuteTime": {
     "end_time": "2025-06-16T08:03:49.655477Z",
     "start_time": "2025-06-16T08:03:45.253725Z"
    }
   },
   "cell_type": "code",
   "source": "chain.invoke({'input':'Who is the creator of the Python programming language?'})",
   "id": "43535f039036a05b",
   "outputs": [
    {
     "data": {
      "text/plain": [
       "'Page: Python (programming language)\\nSummary: Python is a high-level, general-purpose programming language. Its design philosophy emphasizes code readability with the use of significant indentation.\\nPython is dynamically type-checked and garbage-collected. It supports multiple programming paradigms, including structured (particularly procedural), object-oriented and functional programming. It is often described as a \"batteries included\" language due to its comprehensive standard library.\\nGuido van Rossum began working on Python in the late 1980s as a successor to the ABC programming language, and he first released it in 1991 as Python 0.9.0. Python 2.0 was released in 2000. Python 3.0, released in 2008, was a major revision not completely backward-compatible with earlier versions. Python 2.7.18, released in 2020, was the last release of Python 2.\\nPython consistently ranks as one of the most popular programming languages, and it has gained widespread use in the machine learning community.\\n\\nPage: Guido van Rossum\\nSummary: Guido van Rossum (Dutch: [ˈxidoː vɑn ˈrɔsʏm]; born 31 January 1956) is a Dutch programmer. He is the creator of the Python programming language, for which he was the \"benevolent dictator for life\" (BDFL) until he stepped down from the position on 12 July 2018. He remained a member of the Python Steering Council through 2019, and withdrew from nominations for the 2020 election.\\n\\n\\n\\nPage: Benevolent dictator for life\\nSummary: Benevolent dictator for life (BDFL) is a title given to a small number of open-source software development leaders, typically project founders who retain the final say in disputes or arguments within the community. The phrase originated in 1995 with reference to Guido van Rossum, creator of the Python programming language.\\n\\n'"
      ]
     },
     "execution_count": 14,
     "metadata": {},
     "output_type": "execute_result"
    }
   ],
   "execution_count": 14
  },
  {
   "metadata": {},
   "cell_type": "markdown",
   "source": "## Creating a retriever and a Custom Tool",
   "id": "1a80f44447b50383"
  },
  {
   "metadata": {
    "ExecuteTime": {
     "end_time": "2025-06-16T08:03:49.921079Z",
     "start_time": "2025-06-16T08:03:49.673460Z"
    }
   },
   "cell_type": "code",
   "source": [
    "from langchain_community.vectorstores import Chroma\n",
    "from langchain_openai.embeddings import OpenAIEmbeddings\n",
    "\n",
    "from langchain_core.tools import tool\n",
    "from langchain_core.tools import create_retriever_tool\n",
    "from platform import python_version"
   ],
   "id": "49bd5b9721f67ff5",
   "outputs": [],
   "execution_count": 15
  },
  {
   "metadata": {
    "ExecuteTime": {
     "end_time": "2025-06-16T08:03:50.745382Z",
     "start_time": "2025-06-16T08:03:49.939144Z"
    }
   },
   "cell_type": "code",
   "source": "vectorstore = Chroma(persist_directory=\"./test\", embedding_function=OpenAIEmbeddings())",
   "id": "5e1c43390f4547f1",
   "outputs": [
    {
     "name": "stderr",
     "output_type": "stream",
     "text": [
      "C:\\Users\\matsv\\AppData\\Local\\Temp\\ipykernel_14440\\292454112.py:1: LangChainDeprecationWarning: The class `Chroma` was deprecated in LangChain 0.2.9 and will be removed in 1.0. An updated version of the class exists in the :class:`~langchain-chroma package and should be used instead. To use it run `pip install -U :class:`~langchain-chroma` and import as `from :class:`~langchain_chroma import Chroma``.\n",
      "  vectorstore = Chroma(persist_directory=\"./test\", embedding_function=OpenAIEmbeddings())\n"
     ]
    }
   ],
   "execution_count": 16
  },
  {
   "metadata": {
    "ExecuteTime": {
     "end_time": "2025-06-16T08:03:50.932191Z",
     "start_time": "2025-06-16T08:03:50.918459Z"
    }
   },
   "cell_type": "code",
   "source": [
    "retriever = vectorstore.as_retriever(search_type='mmr', search_kwargs={'k':3, 'lambda_mult': 0.7})\n",
    "retriever_tool = create_retriever_tool(retriever, name=\"Introduction to Data and Data Science Course Lectures\", description='''For any questions regarding the \n",
    "                                       Introduction to Data and Data Science course, you must use this tool.''')"
   ],
   "id": "7729de2a335c215f",
   "outputs": [],
   "execution_count": 17
  },
  {
   "metadata": {
    "ExecuteTime": {
     "end_time": "2025-06-16T08:03:50.964259Z",
     "start_time": "2025-06-16T08:03:50.952125Z"
    }
   },
   "cell_type": "code",
   "source": "retriever_tool",
   "id": "c81fe6a01bcff195",
   "outputs": [
    {
     "data": {
      "text/plain": [
       "Tool(name='Introduction to Data and Data Science Course Lectures', description='For any questions regarding the \\n                                       Introduction to Data and Data Science course, you must use this tool.', args_schema=<class 'langchain_core.tools.retriever.RetrieverInput'>, func=functools.partial(<function _get_relevant_documents at 0x0000018F5EF0B2E0>, retriever=VectorStoreRetriever(tags=['Chroma', 'OpenAIEmbeddings'], vectorstore=<langchain_community.vectorstores.chroma.Chroma object at 0x0000018F5EF03340>, search_type='mmr', search_kwargs={'k': 3, 'lambda_mult': 0.7}), document_prompt=PromptTemplate(input_variables=['page_content'], input_types={}, partial_variables={}, template='{page_content}'), document_separator='\\n\\n', response_format='content'), coroutine=functools.partial(<function _aget_relevant_documents at 0x0000018F5EF0B250>, retriever=VectorStoreRetriever(tags=['Chroma', 'OpenAIEmbeddings'], vectorstore=<langchain_community.vectorstores.chroma.Chroma object at 0x0000018F5EF03340>, search_type='mmr', search_kwargs={'k': 3, 'lambda_mult': 0.7}), document_prompt=PromptTemplate(input_variables=['page_content'], input_types={}, partial_variables={}, template='{page_content}'), document_separator='\\n\\n', response_format='content'))"
      ]
     },
     "execution_count": 18,
     "metadata": {},
     "output_type": "execute_result"
    }
   ],
   "execution_count": 18
  },
  {
   "metadata": {
    "ExecuteTime": {
     "end_time": "2025-06-16T08:03:51.012282Z",
     "start_time": "2025-06-16T08:03:51.004261Z"
    }
   },
   "cell_type": "code",
   "source": "retriever_tool.args",
   "id": "80bb1e8f45849ece",
   "outputs": [
    {
     "data": {
      "text/plain": [
       "{'query': {'description': 'query to look up in retriever',\n",
       "  'title': 'Query',\n",
       "  'type': 'string'}}"
      ]
     },
     "execution_count": 19,
     "metadata": {},
     "output_type": "execute_result"
    }
   ],
   "execution_count": 19
  },
  {
   "metadata": {
    "ExecuteTime": {
     "end_time": "2025-06-16T08:03:51.712727Z",
     "start_time": "2025-06-16T08:03:51.030257Z"
    }
   },
   "cell_type": "code",
   "source": "print(retriever_tool.invoke(\"Could you list the programming languages a data scientist should know?\"))",
   "id": "ea487e0967f30567",
   "outputs": [
    {
     "name": "stdout",
     "output_type": "stream",
     "text": [
      "What about big data? Apart from R and Python, people working in this area are often proficient in other languages like Java or Scala. These two have not been developed specifically for doing statistical analyses, however they turn out to be very useful when combining data from multiple sources. All right! Let’s finish off with machine learning. When it comes to machine learning, we often deal with big data\n",
      "\n",
      "Alright! So… How are the techniques used in data, business intelligence, or predictive analytics applied in real life? Certainly, with the help of computers. You can basically split the relevant tools into two categories—programming languages and software. Knowing a programming language enables you to devise programs that can execute specific operations. Moreover, you can reuse these programs whenever you need to execute the same action\n",
      "\n",
      "Great! We hope we gave you a good idea about the level of applicability of the most frequently used programming and software tools in the field of data science. Thank you for watching!\n"
     ]
    }
   ],
   "execution_count": 20
  },
  {
   "metadata": {
    "ExecuteTime": {
     "end_time": "2025-06-16T08:18:09.327048Z",
     "start_time": "2025-06-16T08:18:09.218738Z"
    }
   },
   "cell_type": "code",
   "source": [
    "@tool\n",
    "def get_python_version() -> str:\n",
    "    ''' Useful for questions regarding the version of Python currently used. '''\n",
    "    return python_version()"
   ],
   "id": "a650de713167d955",
   "outputs": [],
   "execution_count": 46
  },
  {
   "metadata": {
    "ExecuteTime": {
     "end_time": "2025-06-16T08:03:51.776721Z",
     "start_time": "2025-06-16T08:03:51.762725Z"
    }
   },
   "cell_type": "code",
   "source": "get_python_version",
   "id": "a9e75466416eadd7",
   "outputs": [
    {
     "data": {
      "text/plain": [
       "StructuredTool(name='Custom tool', description='Useful for questions regarding the version of Python currently used.', args_schema=<class 'langchain_core.utils.pydantic.Custom tool'>, func=<function get_python_version at 0x0000018F505DBB50>)"
      ]
     },
     "execution_count": 22,
     "metadata": {},
     "output_type": "execute_result"
    }
   ],
   "execution_count": 22
  },
  {
   "metadata": {
    "ExecuteTime": {
     "end_time": "2025-06-16T08:03:51.900723Z",
     "start_time": "2025-06-16T08:03:51.876725Z"
    }
   },
   "cell_type": "code",
   "source": "get_python_version.invoke({})",
   "id": "2b9d2a36784f2a4",
   "outputs": [
    {
     "data": {
      "text/plain": [
       "'3.10.0'"
      ]
     },
     "execution_count": 23,
     "metadata": {},
     "output_type": "execute_result"
    }
   ],
   "execution_count": 23
  },
  {
   "metadata": {},
   "cell_type": "markdown",
   "source": "## Langchain Hub",
   "id": "39749d34bd5cebd2"
  },
  {
   "metadata": {
    "ExecuteTime": {
     "end_time": "2025-06-16T08:15:31.280006Z",
     "start_time": "2025-06-16T08:15:31.228994Z"
    }
   },
   "cell_type": "code",
   "source": [
    "from langchain_community.utilities import WikipediaAPIWrapper\n",
    "from langchain_community.tools import WikipediaQueryRun\n",
    "from langchain_community.vectorstores import Chroma\n",
    "\n",
    "from langchain_openai.embeddings import OpenAIEmbeddings\n",
    "from langchain_openai.chat_models import ChatOpenAI\n",
    "\n",
    "from langchain.tools.retriever import create_retriever_tool\n",
    "\n",
    "from langchain import hub\n",
    "\n",
    "from platform import python_version\n",
    "\n",
    "from langchain.agents import (create_tool_calling_agent, \n",
    "                              AgentExecutor)\n",
    "\n",
    "from langchain_core.prompts import ChatPromptTemplate\n",
    "\n",
    "from langchain_core.prompts import SystemMessagePromptTemplate, MessagesPlaceholder, HumanMessagePromptTemplate\n",
    "\n",
    "import typing\n",
    "import langchain_core.messages"
   ],
   "id": "78f2d8535970ff76",
   "outputs": [],
   "execution_count": 43
  },
  {
   "metadata": {
    "ExecuteTime": {
     "end_time": "2025-06-16T08:03:53.244236Z",
     "start_time": "2025-06-16T08:03:53.223704Z"
    }
   },
   "cell_type": "code",
   "source": "wikipedia_tool = WikipediaQueryRun(api_wrapper = WikipediaAPIWrapper())",
   "id": "bb77d2bc1df7aa6b",
   "outputs": [],
   "execution_count": 25
  },
  {
   "metadata": {
    "ExecuteTime": {
     "end_time": "2025-06-16T08:03:53.387155Z",
     "start_time": "2025-06-16T08:03:53.263028Z"
    }
   },
   "cell_type": "code",
   "source": [
    "vectorstore = Chroma(persist_directory = \"./intro-to-ds-lectures\", \n",
    "                     embedding_function = OpenAIEmbeddings())\n",
    "\n",
    "retriever = vectorstore.as_retriever(search_type = 'mmr', \n",
    "                                     search_kwargs = {'k':3, \n",
    "                                                      'lambda_mult':0.7})\n",
    "\n",
    "retriever_tool = create_retriever_tool(retriever = retriever, \n",
    "                                       name = \"Introduction-to-Data-and-Data-Science-Course-Lectures\", \n",
    "                                       description = '''For any questions regarding \n",
    "                                       the Introduction to Data and Data Science course, you must use this tool.''')"
   ],
   "id": "885200afe6cde4ba",
   "outputs": [],
   "execution_count": 26
  },
  {
   "metadata": {
    "ExecuteTime": {
     "end_time": "2025-06-16T08:03:53.434462Z",
     "start_time": "2025-06-16T08:03:53.421464Z"
    }
   },
   "cell_type": "code",
   "source": [
    "chat = ChatOpenAI(model_name = 'gpt-4o-mini', \n",
    "                  temperature = 0,\n",
    "                  seed=365)"
   ],
   "id": "55cdcae9bc825409",
   "outputs": [],
   "execution_count": 27
  },
  {
   "metadata": {
    "ExecuteTime": {
     "end_time": "2025-06-16T08:03:54.488046Z",
     "start_time": "2025-06-16T08:03:53.469118Z"
    }
   },
   "cell_type": "code",
   "source": "chat_prompt_template = hub.pull(\"hwchase17/openai-tools-agent\")",
   "id": "b97a51fffe8c59b6",
   "outputs": [],
   "execution_count": 28
  },
  {
   "metadata": {
    "ExecuteTime": {
     "end_time": "2025-06-16T08:17:35.283761Z",
     "start_time": "2025-06-16T08:17:35.248759Z"
    }
   },
   "cell_type": "code",
   "source": "chat_prompt_template",
   "id": "2f9e7b847dcf4f6d",
   "outputs": [
    {
     "data": {
      "text/plain": [
       "ChatPromptTemplate(input_variables=['agent_scratchpad', 'input'], optional_variables=['chat_history'], input_types={'chat_history': list[typing.Annotated[typing.Union[typing.Annotated[langchain_core.messages.ai.AIMessage, Tag(tag='ai')], typing.Annotated[langchain_core.messages.human.HumanMessage, Tag(tag='human')], typing.Annotated[langchain_core.messages.chat.ChatMessage, Tag(tag='chat')], typing.Annotated[langchain_core.messages.system.SystemMessage, Tag(tag='system')], typing.Annotated[langchain_core.messages.function.FunctionMessage, Tag(tag='function')], typing.Annotated[langchain_core.messages.tool.ToolMessage, Tag(tag='tool')], typing.Annotated[langchain_core.messages.ai.AIMessageChunk, Tag(tag='AIMessageChunk')], typing.Annotated[langchain_core.messages.human.HumanMessageChunk, Tag(tag='HumanMessageChunk')], typing.Annotated[langchain_core.messages.chat.ChatMessageChunk, Tag(tag='ChatMessageChunk')], typing.Annotated[langchain_core.messages.system.SystemMessageChunk, Tag(tag='SystemMessageChunk')], typing.Annotated[langchain_core.messages.function.FunctionMessageChunk, Tag(tag='FunctionMessageChunk')], typing.Annotated[langchain_core.messages.tool.ToolMessageChunk, Tag(tag='ToolMessageChunk')]], FieldInfo(annotation=NoneType, required=True, discriminator=Discriminator(discriminator=<function _get_type at 0x0000018F4D505AB0>, custom_error_type=None, custom_error_message=None, custom_error_context=None))]], 'agent_scratchpad': list[typing.Annotated[typing.Union[typing.Annotated[langchain_core.messages.ai.AIMessage, Tag(tag='ai')], typing.Annotated[langchain_core.messages.human.HumanMessage, Tag(tag='human')], typing.Annotated[langchain_core.messages.chat.ChatMessage, Tag(tag='chat')], typing.Annotated[langchain_core.messages.system.SystemMessage, Tag(tag='system')], typing.Annotated[langchain_core.messages.function.FunctionMessage, Tag(tag='function')], typing.Annotated[langchain_core.messages.tool.ToolMessage, Tag(tag='tool')], typing.Annotated[langchain_core.messages.ai.AIMessageChunk, Tag(tag='AIMessageChunk')], typing.Annotated[langchain_core.messages.human.HumanMessageChunk, Tag(tag='HumanMessageChunk')], typing.Annotated[langchain_core.messages.chat.ChatMessageChunk, Tag(tag='ChatMessageChunk')], typing.Annotated[langchain_core.messages.system.SystemMessageChunk, Tag(tag='SystemMessageChunk')], typing.Annotated[langchain_core.messages.function.FunctionMessageChunk, Tag(tag='FunctionMessageChunk')], typing.Annotated[langchain_core.messages.tool.ToolMessageChunk, Tag(tag='ToolMessageChunk')]], FieldInfo(annotation=NoneType, required=True, discriminator=Discriminator(discriminator=<function _get_type at 0x0000018F4D505AB0>, custom_error_type=None, custom_error_message=None, custom_error_context=None))]]}, partial_variables={'chat_history': []}, metadata={'lc_hub_owner': 'hwchase17', 'lc_hub_repo': 'openai-tools-agent', 'lc_hub_commit_hash': 'c18672812789a3b9697656dd539edf0120285dcae36396d0b548ae42a4ed66f5'}, messages=[SystemMessagePromptTemplate(prompt=PromptTemplate(input_variables=[], input_types={}, partial_variables={}, template='You are a helpful assistant'), additional_kwargs={}), MessagesPlaceholder(variable_name='chat_history', optional=True), HumanMessagePromptTemplate(prompt=PromptTemplate(input_variables=['input'], input_types={}, partial_variables={}, template='{input}'), additional_kwargs={}), MessagesPlaceholder(variable_name='agent_scratchpad')])"
      ]
     },
     "execution_count": 45,
     "metadata": {},
     "output_type": "execute_result"
    }
   ],
   "execution_count": 45
  },
  {
   "metadata": {
    "ExecuteTime": {
     "end_time": "2025-06-16T08:04:36.520180Z",
     "start_time": "2025-06-16T08:04:36.494522Z"
    }
   },
   "cell_type": "code",
   "source": "chat_prompt_template.pretty_print()",
   "id": "ec32adebdd36e7a6",
   "outputs": [
    {
     "name": "stdout",
     "output_type": "stream",
     "text": [
      "================================\u001B[1m System Message \u001B[0m================================\n",
      "\n",
      "You are a helpful assistant\n",
      "\n",
      "=============================\u001B[1m Messages Placeholder \u001B[0m=============================\n",
      "\n",
      "\u001B[33;1m\u001B[1;3m{chat_history}\u001B[0m\n",
      "\n",
      "================================\u001B[1m Human Message \u001B[0m=================================\n",
      "\n",
      "\u001B[33;1m\u001B[1;3m{input}\u001B[0m\n",
      "\n",
      "=============================\u001B[1m Messages Placeholder \u001B[0m=============================\n",
      "\n",
      "\u001B[33;1m\u001B[1;3m{agent_scratchpad}\u001B[0m\n"
     ]
    }
   ],
   "execution_count": 30
  },
  {
   "metadata": {
    "ExecuteTime": {
     "end_time": "2025-06-16T08:08:08.265374Z",
     "start_time": "2025-06-16T08:08:02.580789Z"
    }
   },
   "cell_type": "code",
   "source": [
    "ChatPromptTemplate(input_variables=['agent_scratchpad', 'input'], \n",
    "                   input_types={'chat_history': typing.List[typing.Union[langchain_core.messages.ai.AIMessage, \n",
    "                                                                         langchain_core.messages.human.HumanMessage, \n",
    "                                                                         langchain_core.messages.chat.ChatMessage, \n",
    "                                                                         langchain_core.messages.system.SystemMessage, \n",
    "                                                                         langchain_core.messages.function.FunctionMessage, \n",
    "                                                                         langchain_core.messages.tool.ToolMessage]], \n",
    "                                'agent_scratchpad': typing.List[typing.Union[langchain_core.messages.ai.AIMessage, \n",
    "                                                                             langchain_core.messages.human.HumanMessage, \n",
    "                                                                             langchain_core.messages.chat.ChatMessage, \n",
    "                                                                             langchain_core.messages.system.SystemMessage, \n",
    "                                                                             langchain_core.messages.function.FunctionMessage, \n",
    "                                                                             langchain_core.messages.tool.ToolMessage]]}, \n",
    "                   messages=[SystemMessagePromptTemplate(prompt=PromptTemplate(input_variables=[], \n",
    "                                                                               template='You are a helpful assistant')), \n",
    "                             MessagesPlaceholder(variable_name='chat_history', optional=True), \n",
    "                             HumanMessagePromptTemplate(prompt=PromptTemplate(input_variables=['input'], \n",
    "                                                                              template='{input}')), \n",
    "                             MessagesPlaceholder(variable_name='agent_scratchpad')])"
   ],
   "id": "a153828316c61d22",
   "outputs": [
    {
     "data": {
      "text/plain": [
       "ChatPromptTemplate(input_variables=['agent_scratchpad', 'input'], optional_variables=['chat_history'], input_types={'chat_history': typing.List[typing.Union[langchain_core.messages.ai.AIMessage, langchain_core.messages.human.HumanMessage, langchain_core.messages.chat.ChatMessage, langchain_core.messages.system.SystemMessage, langchain_core.messages.function.FunctionMessage, langchain_core.messages.tool.ToolMessage]], 'agent_scratchpad': typing.List[typing.Union[langchain_core.messages.ai.AIMessage, langchain_core.messages.human.HumanMessage, langchain_core.messages.chat.ChatMessage, langchain_core.messages.system.SystemMessage, langchain_core.messages.function.FunctionMessage, langchain_core.messages.tool.ToolMessage]]}, partial_variables={'chat_history': []}, messages=[SystemMessagePromptTemplate(prompt=PromptTemplate(input_variables=[], input_types={}, partial_variables={}, template='You are a helpful assistant'), additional_kwargs={}), MessagesPlaceholder(variable_name='chat_history', optional=True), HumanMessagePromptTemplate(prompt=PromptTemplate(input_variables=['input'], input_types={}, partial_variables={}, template='{input}'), additional_kwargs={}), MessagesPlaceholder(variable_name='agent_scratchpad')])"
      ]
     },
     "execution_count": 35,
     "metadata": {},
     "output_type": "execute_result"
    }
   ],
   "execution_count": 35
  },
  {
   "metadata": {
    "ExecuteTime": {
     "end_time": "2025-06-16T08:18:15.351434Z",
     "start_time": "2025-06-16T08:18:15.340508Z"
    }
   },
   "cell_type": "code",
   "source": "tools = [wikipedia_tool, retriever_tool, get_python_version]",
   "id": "291cd1c8d63deac8",
   "outputs": [],
   "execution_count": 47
  },
  {
   "metadata": {
    "ExecuteTime": {
     "end_time": "2025-06-16T08:19:24.570662Z",
     "start_time": "2025-06-16T08:19:24.503100Z"
    }
   },
   "cell_type": "code",
   "source": [
    "agent = create_tool_calling_agent(llm = chat, \n",
    "                                  tools = tools, \n",
    "                                  prompt = chat_prompt_template)"
   ],
   "id": "55147d1ca832d637",
   "outputs": [],
   "execution_count": 52
  },
  {
   "metadata": {
    "ExecuteTime": {
     "end_time": "2025-06-16T08:19:24.882131Z",
     "start_time": "2025-06-16T08:19:24.873131Z"
    }
   },
   "cell_type": "code",
   "source": [
    "agent_executor = AgentExecutor(agent=agent, \n",
    "                               tools=tools, \n",
    "                               verbose=True, \n",
    "                               return_intermediate_steps=True)"
   ],
   "id": "729907cdb57d07bd",
   "outputs": [],
   "execution_count": 53
  },
  {
   "metadata": {
    "ExecuteTime": {
     "end_time": "2025-06-16T08:19:27.565446Z",
     "start_time": "2025-06-16T08:19:25.283349Z"
    }
   },
   "cell_type": "code",
   "source": "response = agent_executor.invoke({\"input\":\"Could you tell me the version of Python I'm currently using?\"})",
   "id": "e4c5a712631458ed",
   "outputs": [
    {
     "name": "stdout",
     "output_type": "stream",
     "text": [
      "\n",
      "\n",
      "\u001B[1m> Entering new AgentExecutor chain...\u001B[0m\n",
      "\u001B[32;1m\u001B[1;3m\n",
      "Invoking: `get_python_version` with `{}`\n",
      "\n",
      "\n",
      "\u001B[0m\u001B[38;5;200m\u001B[1;3m3.10.0\u001B[0m\u001B[32;1m\u001B[1;3mYou are currently using Python version 3.10.0.\u001B[0m\n",
      "\n",
      "\u001B[1m> Finished chain.\u001B[0m\n"
     ]
    }
   ],
   "execution_count": 54
  },
  {
   "metadata": {
    "ExecuteTime": {
     "end_time": "2025-06-16T08:18:53.799676Z",
     "start_time": "2025-06-16T08:18:53.769683Z"
    }
   },
   "cell_type": "code",
   "source": "",
   "id": "855ee89667a2a03b",
   "outputs": [
    {
     "data": {
      "text/plain": [
       "StructuredTool(name='get_python_version', description='Useful for questions regarding the version of Python currently used.', args_schema=<class 'langchain_core.utils.pydantic.get_python_version'>, func=<function get_python_version at 0x0000018F6C140310>)"
      ]
     },
     "execution_count": 51,
     "metadata": {},
     "output_type": "execute_result"
    }
   ],
   "execution_count": 51
  },
  {
   "metadata": {},
   "cell_type": "code",
   "outputs": [],
   "execution_count": null,
   "source": "",
   "id": "ae12c8c310515bd6"
  }
 ],
 "metadata": {
  "kernelspec": {
   "display_name": "Python 3",
   "language": "python",
   "name": "python3"
  },
  "language_info": {
   "codemirror_mode": {
    "name": "ipython",
    "version": 2
   },
   "file_extension": ".py",
   "mimetype": "text/x-python",
   "name": "python",
   "nbconvert_exporter": "python",
   "pygments_lexer": "ipython2",
   "version": "2.7.6"
  }
 },
 "nbformat": 4,
 "nbformat_minor": 5
}
