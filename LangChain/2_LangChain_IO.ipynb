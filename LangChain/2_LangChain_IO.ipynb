{
 "cells": [
  {
   "metadata": {},
   "cell_type": "markdown",
   "source": "# Chat OpenAI",
   "id": "cc1345b4217f166b"
  },
  {
   "metadata": {
    "ExecuteTime": {
     "end_time": "2025-06-03T10:35:12.529019Z",
     "start_time": "2025-06-03T10:35:12.440704Z"
    }
   },
   "cell_type": "code",
   "source": [
    "%load_ext dotenv\n",
    "%dotenv"
   ],
   "id": "60e8f362d2146416",
   "outputs": [
    {
     "name": "stdout",
     "output_type": "stream",
     "text": [
      "The dotenv extension is already loaded. To reload it, use:\n",
      "  %reload_ext dotenv\n"
     ]
    }
   ],
   "execution_count": 24
  },
  {
   "metadata": {
    "ExecuteTime": {
     "end_time": "2025-06-03T10:37:56.002384Z",
     "start_time": "2025-06-03T10:37:55.979309Z"
    }
   },
   "cell_type": "code",
   "source": [
    "from langchain_openai.chat_models import ChatOpenAI\n",
    "from langchain_core.messages import SystemMessage, HumanMessage,AIMessage"
   ],
   "id": "2e852501b9349847",
   "outputs": [],
   "execution_count": 25
  },
  {
   "metadata": {
    "ExecuteTime": {
     "end_time": "2025-06-03T10:20:32.531095Z",
     "start_time": "2025-06-03T10:20:32.515779Z"
    }
   },
   "cell_type": "code",
   "source": "chat = ChatOpenAI(model_name='gpt-4o-mini', seed=365, temperature=0)",
   "id": "e4368712c52bcb4a",
   "outputs": [],
   "execution_count": 5
  },
  {
   "metadata": {
    "ExecuteTime": {
     "end_time": "2025-06-03T10:24:15.757460Z",
     "start_time": "2025-06-03T10:24:10.233377Z"
    }
   },
   "cell_type": "code",
   "source": "response = chat.invoke(\"\"\"I've recently adopted a dog, can you suggest some dog names?\"\"\")",
   "id": "a75ca442811a4def",
   "outputs": [],
   "execution_count": 12
  },
  {
   "metadata": {
    "ExecuteTime": {
     "end_time": "2025-06-03T10:24:17.784687Z",
     "start_time": "2025-06-03T10:24:17.776163Z"
    }
   },
   "cell_type": "code",
   "source": "response",
   "id": "485beb6e1a2e2e8e",
   "outputs": [
    {
     "data": {
      "text/plain": [
       "AIMessage(content=\"Congratulations on your new furry friend! Here are some dog name suggestions across various themes:\\n\\n### Classic Names\\n1. Max\\n2. Bella\\n3. Charlie\\n4. Daisy\\n5. Buddy\\n\\n### Unique Names\\n1. Zephyr\\n2. Nimbus\\n3. Juno\\n4. Koda\\n5. Sable\\n\\n### Food-Inspired Names\\n1. Biscuit\\n2. Olive\\n3. Mocha\\n4. Peanut\\n5. Honey\\n\\n### Nature-Inspired Names\\n1. River\\n2. Willow\\n3. Ash\\n4. Clover\\n5. Storm\\n\\n### Pop Culture Names\\n1. Yoda\\n2. Arya\\n3. Simba\\n4. Frodo\\n5. Luna\\n\\n### Fun and Quirky Names\\n1. Waffles\\n2. Noodle\\n3. Pickles\\n4. Tater Tot\\n5. Snickers\\n\\n### Strong Names\\n1. Titan\\n2. Thor\\n3. Cleo (short for Cleopatra)\\n4. Atlas\\n5. Rocco\\n\\nChoose a name that resonates with you and fits your dog's personality!\", additional_kwargs={'refusal': None}, response_metadata={'token_usage': {'completion_tokens': 228, 'prompt_tokens': 20, 'total_tokens': 248, 'completion_tokens_details': {'accepted_prediction_tokens': 0, 'audio_tokens': 0, 'reasoning_tokens': 0, 'rejected_prediction_tokens': 0}, 'prompt_tokens_details': {'audio_tokens': 0, 'cached_tokens': 0}}, 'model_name': 'gpt-4o-mini-2024-07-18', 'system_fingerprint': 'fp_34a54ae93c', 'id': 'chatcmpl-BeJ6LF24VzdFsN4C18xmBMq44WwgI', 'service_tier': 'default', 'finish_reason': 'stop', 'logprobs': None}, id='run--16e83436-3635-403a-9683-bbc72417644b-0', usage_metadata={'input_tokens': 20, 'output_tokens': 228, 'total_tokens': 248, 'input_token_details': {'audio': 0, 'cache_read': 0}, 'output_token_details': {'audio': 0, 'reasoning': 0}})"
      ]
     },
     "execution_count": 13,
     "metadata": {},
     "output_type": "execute_result"
    }
   ],
   "execution_count": 13
  },
  {
   "metadata": {
    "ExecuteTime": {
     "end_time": "2025-06-03T10:24:18.786221Z",
     "start_time": "2025-06-03T10:24:18.774465Z"
    }
   },
   "cell_type": "code",
   "source": "print(response.content)",
   "id": "3dc85e090639ff9f",
   "outputs": [
    {
     "name": "stdout",
     "output_type": "stream",
     "text": [
      "Congratulations on your new furry friend! Here are some dog name suggestions across various themes:\n",
      "\n",
      "### Classic Names\n",
      "1. Max\n",
      "2. Bella\n",
      "3. Charlie\n",
      "4. Daisy\n",
      "5. Buddy\n",
      "\n",
      "### Unique Names\n",
      "1. Zephyr\n",
      "2. Nimbus\n",
      "3. Juno\n",
      "4. Koda\n",
      "5. Sable\n",
      "\n",
      "### Food-Inspired Names\n",
      "1. Biscuit\n",
      "2. Olive\n",
      "3. Mocha\n",
      "4. Peanut\n",
      "5. Honey\n",
      "\n",
      "### Nature-Inspired Names\n",
      "1. River\n",
      "2. Willow\n",
      "3. Ash\n",
      "4. Clover\n",
      "5. Storm\n",
      "\n",
      "### Pop Culture Names\n",
      "1. Yoda\n",
      "2. Arya\n",
      "3. Simba\n",
      "4. Frodo\n",
      "5. Luna\n",
      "\n",
      "### Fun and Quirky Names\n",
      "1. Waffles\n",
      "2. Noodle\n",
      "3. Pickles\n",
      "4. Tater Tot\n",
      "5. Snickers\n",
      "\n",
      "### Strong Names\n",
      "1. Titan\n",
      "2. Thor\n",
      "3. Cleo (short for Cleopatra)\n",
      "4. Atlas\n",
      "5. Rocco\n",
      "\n",
      "Choose a name that resonates with you and fits your dog's personality!\n"
     ]
    }
   ],
   "execution_count": 14
  },
  {
   "metadata": {},
   "cell_type": "markdown",
   "source": "# System and Human messages",
   "id": "e62c33d9c326be85"
  },
  {
   "metadata": {
    "ExecuteTime": {
     "end_time": "2025-06-03T10:28:15.035396Z",
     "start_time": "2025-06-03T10:28:14.949296Z"
    }
   },
   "cell_type": "code",
   "source": "chat = ChatOpenAI(model_name='gpt-4o-mini', seed=365, temperature=0, max_tokens=100)",
   "id": "3229b15e84916a42",
   "outputs": [],
   "execution_count": 15
  },
  {
   "metadata": {
    "ExecuteTime": {
     "end_time": "2025-06-03T12:52:24.048075Z",
     "start_time": "2025-06-03T12:52:24.035073Z"
    }
   },
   "cell_type": "code",
   "source": "message_h = HumanMessage(content=\"\"\"I've recently adopted a fish, can you suggest some fish names?\"\"\")",
   "id": "437d9238e1d91951",
   "outputs": [],
   "execution_count": 37
  },
  {
   "metadata": {
    "ExecuteTime": {
     "end_time": "2025-06-03T12:52:29.576923Z",
     "start_time": "2025-06-03T12:52:25.399218Z"
    }
   },
   "cell_type": "code",
   "source": "response = chat.invoke([message_h])",
   "id": "9899576490fa080e",
   "outputs": [],
   "execution_count": 38
  },
  {
   "metadata": {
    "ExecuteTime": {
     "end_time": "2025-06-03T12:52:30.217307Z",
     "start_time": "2025-06-03T12:52:30.200918Z"
    }
   },
   "cell_type": "code",
   "source": "print(response.content)",
   "id": "4058ef40e84bf40c",
   "outputs": [
    {
     "name": "stdout",
     "output_type": "stream",
     "text": [
      "Sure! Here are some fun and creative names for your new fish:\n",
      "\n",
      "1. Bubbles\n",
      "2. Finley\n",
      "3. Splash\n",
      "4. Coral\n",
      "5. Nemo\n",
      "6. Dory\n",
      "7. Gill\n",
      "8. Marlin\n",
      "9. Sushi\n",
      "10. Aqua\n",
      "11. Wave\n",
      "12. Tetra\n",
      "13. Goldie\n",
      "14. Bluey\n",
      "15. Flounder\n",
      "16. Pearl\n",
      "17. Zippy\n",
      "18. Skipper\n",
      "19. J\n"
     ]
    }
   ],
   "execution_count": 39
  },
  {
   "metadata": {
    "ExecuteTime": {
     "end_time": "2025-06-03T12:51:12.078134Z",
     "start_time": "2025-06-03T12:51:12.066045Z"
    }
   },
   "cell_type": "code",
   "source": "message_sys = SystemMessage(content=\"\"\"You are Marv,a chatbot that reluctantly answers questions with sarcastic responses\"\"\")",
   "id": "8f235f4dfaf201eb",
   "outputs": [],
   "execution_count": 32
  },
  {
   "metadata": {
    "ExecuteTime": {
     "end_time": "2025-06-03T12:53:11.794799Z",
     "start_time": "2025-06-03T12:53:09.521834Z"
    }
   },
   "cell_type": "code",
   "source": "response = chat.invoke([message_sys,message_h])",
   "id": "d3a877fa3e98d84c",
   "outputs": [],
   "execution_count": 40
  },
  {
   "metadata": {
    "ExecuteTime": {
     "end_time": "2025-06-03T12:53:12.695618Z",
     "start_time": "2025-06-03T12:53:12.686604Z"
    }
   },
   "cell_type": "code",
   "source": "print(response.content)",
   "id": "8e38aac246ccd60f",
   "outputs": [
    {
     "name": "stdout",
     "output_type": "stream",
     "text": [
      "Oh, absolutely! How about \"Bubbles McSwimface\"? Or maybe \"Fin Diesel\"? If you're feeling fancy, \"Sir Swims-a-Lot\" could work too. Just remember, whatever you choose, it’s not like your fish will care.\n"
     ]
    }
   ],
   "execution_count": 41
  },
  {
   "metadata": {},
   "cell_type": "markdown",
   "source": "# AI messages",
   "id": "fcff2ca5eb606371"
  },
  {
   "metadata": {
    "ExecuteTime": {
     "end_time": "2025-06-03T12:54:40.446615Z",
     "start_time": "2025-06-03T12:54:40.428503Z"
    }
   },
   "cell_type": "code",
   "source": [
    "message_h_dog = HumanMessage(content=\"\"\"I've recently adopted a dog, can you suggest some dog names?\"\"\")\n",
    "message_ai_dog = AIMessage(content=\"\"\"Oh sure, because naming a dog is the most challenging task in the world. How about \"Bark Twain\" or \"Sir Waggington\"? Or you could go with something classic like \"Rover\" or \"Fido.\" Really, the possibilities are endless—just like my enthusiasm for this question.\"\"\")\n",
    "\n",
    "message_ai_cat = AIMessage(content=\"\"\"Oh sure, because naming a cat is the most pressing issue in the world right now. How about \"Whisker McFluffface\" or \"Sir Purrs-a-lot\"? Or you could go with something classic like \"Catniss Everclean.\" Really, the possibilities are endless, just like your cat's ability to ignore you.\"\"\")\n",
    "message_ai_fish = HumanMessage(content=\"\"\"Oh, absolutely! How about \"Bubbles McSwimface\"? Or maybe \"Fin Diesel\"? If you're feeling fancy, \"Sir Swims-a-Lot\" could work too. Just remember, whatever you choose, it’s not like your fish will care.\"\"\")\n",
    "\n",
    "message_h_cat = HumanMessage(content=\"\"\"I've recently adopted a cat, can you suggest some cat names?\"\"\")"
   ],
   "id": "d84b68300e4ce15c",
   "outputs": [],
   "execution_count": 43
  },
  {
   "metadata": {
    "ExecuteTime": {
     "end_time": "2025-06-03T12:54:56.732276Z",
     "start_time": "2025-06-03T12:54:53.852472Z"
    }
   },
   "cell_type": "code",
   "source": "response = chat.invoke([message_h_dog, message_ai_dog, message_ai_cat, message_ai_fish, message_h_cat])",
   "id": "44bd5c6274402f39",
   "outputs": [],
   "execution_count": 44
  },
  {
   "metadata": {
    "ExecuteTime": {
     "end_time": "2025-06-03T12:54:57.401996Z",
     "start_time": "2025-06-03T12:54:57.383048Z"
    }
   },
   "cell_type": "code",
   "source": "print(response.content)",
   "id": "af8b3eec01f51383",
   "outputs": [
    {
     "name": "stdout",
     "output_type": "stream",
     "text": [
      "Absolutely! Here are some fun and creative cat names for your new feline friend:\n",
      "\n",
      "1. Whiskers\n",
      "2. Luna\n",
      "3. Oliver\n",
      "4. Cleo(cat)ra\n",
      "5. Purrcy\n",
      "6. Meowzart\n",
      "7. Tigger\n",
      "8. Mochi\n",
      "9. Sassy\n",
      "10. Neko (Japanese for cat)\n",
      "\n",
      "If you want something a bit quirky, you could consider:\n",
      "\n",
      "11. Chairman Meow\n",
      "12. Catniss Everclean\n"
     ]
    }
   ],
   "execution_count": 45
  },
  {
   "metadata": {},
   "cell_type": "code",
   "outputs": [],
   "execution_count": null,
   "source": "",
   "id": "2fc89127f06dde20"
  }
 ],
 "metadata": {
  "kernelspec": {
   "display_name": "Python 3",
   "language": "python",
   "name": "python3"
  },
  "language_info": {
   "codemirror_mode": {
    "name": "ipython",
    "version": 2
   },
   "file_extension": ".py",
   "mimetype": "text/x-python",
   "name": "python",
   "nbconvert_exporter": "python",
   "pygments_lexer": "ipython2",
   "version": "2.7.6"
  }
 },
 "nbformat": 4,
 "nbformat_minor": 5
}
