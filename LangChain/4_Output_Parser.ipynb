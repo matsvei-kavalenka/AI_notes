{
 "cells": [
  {
   "metadata": {},
   "cell_type": "markdown",
   "source": "# Output Parsers",
   "id": "27609e1e416d86d1"
  },
  {
   "metadata": {},
   "cell_type": "markdown",
   "source": "### String Output Parser",
   "id": "2e46a4c56ff22bf4"
  },
  {
   "metadata": {
    "ExecuteTime": {
     "end_time": "2025-06-05T16:50:51.872439Z",
     "start_time": "2025-06-05T16:50:51.827430Z"
    }
   },
   "cell_type": "code",
   "source": [
    "%load_ext dotenv\n",
    "%dotenv"
   ],
   "id": "8ed96711376c842",
   "outputs": [],
   "execution_count": 1
  },
  {
   "metadata": {
    "ExecuteTime": {
     "end_time": "2025-06-05T16:52:40.635812Z",
     "start_time": "2025-06-05T16:52:37.248201Z"
    }
   },
   "cell_type": "code",
   "source": [
    "from langchain_openai.chat_models import ChatOpenAI\n",
    "from langchain_core.messages import HumanMessage\n",
    "from langchain_core.output_parsers import StrOutputParser"
   ],
   "id": "e637768fcc2f5817",
   "outputs": [],
   "execution_count": 2
  },
  {
   "metadata": {
    "ExecuteTime": {
     "end_time": "2025-06-05T16:53:10.825936Z",
     "start_time": "2025-06-05T16:53:10.073513Z"
    }
   },
   "cell_type": "code",
   "source": "chat = ChatOpenAI(model='gpt-4o-mini', seed=365, temperature=0, max_tokens=100)",
   "id": "d812fe52572d2fcf",
   "outputs": [],
   "execution_count": 3
  },
  {
   "metadata": {
    "ExecuteTime": {
     "end_time": "2025-06-05T16:53:51.037937Z",
     "start_time": "2025-06-05T16:53:51.021186Z"
    }
   },
   "cell_type": "code",
   "source": "message_human = HumanMessage(content=\"Can you give me an interesting fact that I didn't know about?\")",
   "id": "f3b2c1ca57631d6b",
   "outputs": [],
   "execution_count": 4
  },
  {
   "metadata": {
    "ExecuteTime": {
     "end_time": "2025-06-05T16:54:08.646183Z",
     "start_time": "2025-06-05T16:54:04.321278Z"
    }
   },
   "cell_type": "code",
   "source": "response = chat.invoke([message_human])",
   "id": "39e96264f8987f25",
   "outputs": [],
   "execution_count": 5
  },
  {
   "metadata": {
    "ExecuteTime": {
     "end_time": "2025-06-05T16:54:08.708428Z",
     "start_time": "2025-06-05T16:54:08.661235Z"
    }
   },
   "cell_type": "code",
   "source": "response",
   "id": "2fd00d2a5e06208",
   "outputs": [
    {
     "data": {
      "text/plain": [
       "AIMessage(content=\"Sure! Did you know that octopuses have three hearts? Two of the hearts pump blood to the gills, where it gets oxygenated, while the third heart pumps the oxygen-rich blood to the rest of the body. Interestingly, when an octopus swims, the heart that delivers blood to the body actually stops beating, which is why they prefer to crawl rather than swim—it's less tiring for them!\", additional_kwargs={'refusal': None}, response_metadata={'token_usage': {'completion_tokens': 83, 'prompt_tokens': 20, 'total_tokens': 103, 'completion_tokens_details': {'accepted_prediction_tokens': 0, 'audio_tokens': 0, 'reasoning_tokens': 0, 'rejected_prediction_tokens': 0}, 'prompt_tokens_details': {'audio_tokens': 0, 'cached_tokens': 0}}, 'model_name': 'gpt-4o-mini-2024-07-18', 'system_fingerprint': 'fp_34a54ae93c', 'id': 'chatcmpl-Bf88mJhvZsS7orFMtrAHEMhfIuufL', 'service_tier': 'default', 'finish_reason': 'stop', 'logprobs': None}, id='run--81169162-838e-4282-84f7-77eae4222024-0', usage_metadata={'input_tokens': 20, 'output_tokens': 83, 'total_tokens': 103, 'input_token_details': {'audio': 0, 'cache_read': 0}, 'output_token_details': {'audio': 0, 'reasoning': 0}})"
      ]
     },
     "execution_count": 6,
     "metadata": {},
     "output_type": "execute_result"
    }
   ],
   "execution_count": 6
  },
  {
   "metadata": {
    "ExecuteTime": {
     "end_time": "2025-06-05T16:55:08.719645Z",
     "start_time": "2025-06-05T16:55:08.701644Z"
    }
   },
   "cell_type": "code",
   "source": "str_output_parser = StrOutputParser()",
   "id": "7f8c3997b287da6",
   "outputs": [],
   "execution_count": 9
  },
  {
   "metadata": {
    "ExecuteTime": {
     "end_time": "2025-06-05T16:55:09.176839Z",
     "start_time": "2025-06-05T16:55:09.162848Z"
    }
   },
   "cell_type": "code",
   "source": [
    "response_parsed = str_output_parser.invoke(response)\n",
    "response_parsed"
   ],
   "id": "77ffd080660b5ab3",
   "outputs": [
    {
     "data": {
      "text/plain": [
       "\"Sure! Did you know that octopuses have three hearts? Two of the hearts pump blood to the gills, where it gets oxygenated, while the third heart pumps the oxygen-rich blood to the rest of the body. Interestingly, when an octopus swims, the heart that delivers blood to the body actually stops beating, which is why they prefer to crawl rather than swim—it's less tiring for them!\""
      ]
     },
     "execution_count": 10,
     "metadata": {},
     "output_type": "execute_result"
    }
   ],
   "execution_count": 10
  },
  {
   "metadata": {},
   "cell_type": "markdown",
   "source": "### Comma-Separated Parser",
   "id": "de4b922934557829"
  },
  {
   "metadata": {
    "ExecuteTime": {
     "end_time": "2025-06-05T16:56:24.077723Z",
     "start_time": "2025-06-05T16:56:23.964675Z"
    }
   },
   "cell_type": "code",
   "source": "from langchain_core.output_parsers import CommaSeparatedListOutputParser",
   "id": "bdb72eae1660731f",
   "outputs": [],
   "execution_count": 11
  },
  {
   "metadata": {
    "ExecuteTime": {
     "end_time": "2025-06-05T16:57:14.864508Z",
     "start_time": "2025-06-05T16:57:14.834511Z"
    }
   },
   "cell_type": "code",
   "source": "message_human = HumanMessage(content=\"\"\"I've adopted a dog. Can you suggest some dog names?\"\"\")",
   "id": "cc5f938b2d2238cd",
   "outputs": [],
   "execution_count": 12
  },
  {
   "metadata": {
    "ExecuteTime": {
     "end_time": "2025-06-05T17:00:17.946760Z",
     "start_time": "2025-06-05T17:00:14.163453Z"
    }
   },
   "cell_type": "code",
   "source": [
    "response = chat.invoke([\"Your response should be a list of comma separated values, eg: `foo, bar, baz` or `foo,bar,baz`\", message_human])\n",
    "print(response.content)"
   ],
   "id": "5b0de7ddfb4f58b3",
   "outputs": [
    {
     "name": "stdout",
     "output_type": "stream",
     "text": [
      "Buddy, Bella, Max, Daisy, Charlie, Luna, Rocky, Sadie, Cooper, Molly, Duke, Ruby, Tucker, Zoe, Jack\n"
     ]
    }
   ],
   "execution_count": 20
  },
  {
   "metadata": {
    "ExecuteTime": {
     "end_time": "2025-06-05T17:00:20.662218Z",
     "start_time": "2025-06-05T17:00:20.652217Z"
    }
   },
   "cell_type": "code",
   "source": "list_output_parser = CommaSeparatedListOutputParser()",
   "id": "1138ac53ffe58935",
   "outputs": [],
   "execution_count": 21
  },
  {
   "metadata": {
    "ExecuteTime": {
     "end_time": "2025-06-05T17:00:21.148535Z",
     "start_time": "2025-06-05T17:00:21.138535Z"
    }
   },
   "cell_type": "code",
   "source": "response_parsed = list_output_parser.invoke(response)",
   "id": "4d2aa701ffab754d",
   "outputs": [],
   "execution_count": 22
  },
  {
   "metadata": {
    "ExecuteTime": {
     "end_time": "2025-06-05T17:00:21.654536Z",
     "start_time": "2025-06-05T17:00:21.642536Z"
    }
   },
   "cell_type": "code",
   "source": "response_parsed",
   "id": "2319fb5b20ce903a",
   "outputs": [
    {
     "data": {
      "text/plain": [
       "['Buddy',\n",
       " 'Bella',\n",
       " 'Max',\n",
       " 'Daisy',\n",
       " 'Charlie',\n",
       " 'Luna',\n",
       " 'Rocky',\n",
       " 'Sadie',\n",
       " 'Cooper',\n",
       " 'Molly',\n",
       " 'Duke',\n",
       " 'Ruby',\n",
       " 'Tucker',\n",
       " 'Zoe',\n",
       " 'Jack']"
      ]
     },
     "execution_count": 23,
     "metadata": {},
     "output_type": "execute_result"
    }
   ],
   "execution_count": 23
  },
  {
   "metadata": {
    "ExecuteTime": {
     "end_time": "2025-06-05T16:59:24.122735Z",
     "start_time": "2025-06-05T16:59:24.100677Z"
    }
   },
   "cell_type": "code",
   "source": "print(list_output_parser.get_format_instructions())",
   "id": "4ff395b9005b5e91",
   "outputs": [
    {
     "name": "stdout",
     "output_type": "stream",
     "text": [
      "Your response should be a list of comma separated values, eg: `foo, bar, baz` or `foo,bar,baz`\n"
     ]
    }
   ],
   "execution_count": 19
  },
  {
   "metadata": {},
   "cell_type": "markdown",
   "source": "### Date-Time Output Parser",
   "id": "18e9c71ca5dd8ce0"
  },
  {
   "metadata": {
    "ExecuteTime": {
     "end_time": "2025-06-05T17:02:18.785553Z",
     "start_time": "2025-06-05T17:02:17.906385Z"
    }
   },
   "cell_type": "code",
   "source": "from langchain.output_parsers import DatetimeOutputParser",
   "id": "7553121a37cc684a",
   "outputs": [],
   "execution_count": 24
  },
  {
   "metadata": {
    "ExecuteTime": {
     "end_time": "2025-06-05T17:12:52.508177Z",
     "start_time": "2025-06-05T17:12:52.490106Z"
    }
   },
   "cell_type": "code",
   "source": [
    "message_human = HumanMessage(content=f\"\"\"When was Obama born?\n",
    "\n",
    "{DatetimeOutputParser().get_format_instructions()}\n",
    "\"\"\")"
   ],
   "id": "557ffc0b894b37a0",
   "outputs": [],
   "execution_count": 33
  },
  {
   "metadata": {
    "ExecuteTime": {
     "end_time": "2025-06-05T17:12:57.582604Z",
     "start_time": "2025-06-05T17:12:55.770895Z"
    }
   },
   "cell_type": "code",
   "source": [
    "response = chat.invoke([message_human])\n",
    "print(response.content)"
   ],
   "id": "2e657bf8e2133ab9",
   "outputs": [
    {
     "name": "stdout",
     "output_type": "stream",
     "text": [
      "1961-08-04T00:00:00.000000Z\n"
     ]
    }
   ],
   "execution_count": 34
  },
  {
   "metadata": {
    "ExecuteTime": {
     "end_time": "2025-06-05T17:12:58.687632Z",
     "start_time": "2025-06-05T17:12:58.678626Z"
    }
   },
   "cell_type": "code",
   "source": "date_output_parser = DatetimeOutputParser()",
   "id": "8f41803874424f67",
   "outputs": [],
   "execution_count": 35
  },
  {
   "metadata": {
    "ExecuteTime": {
     "end_time": "2025-06-05T17:13:02.232398Z",
     "start_time": "2025-06-05T17:13:02.203398Z"
    }
   },
   "cell_type": "code",
   "source": "response_parsed = date_output_parser.invoke(response)",
   "id": "ceab606cf4d46180",
   "outputs": [],
   "execution_count": 36
  },
  {
   "metadata": {
    "ExecuteTime": {
     "end_time": "2025-06-05T17:13:03.872544Z",
     "start_time": "2025-06-05T17:13:03.854043Z"
    }
   },
   "cell_type": "code",
   "source": "response_parsed",
   "id": "755f9c5065366df2",
   "outputs": [
    {
     "data": {
      "text/plain": [
       "datetime.datetime(1961, 8, 4, 0, 0)"
      ]
     },
     "execution_count": 37,
     "metadata": {},
     "output_type": "execute_result"
    }
   ],
   "execution_count": 37
  },
  {
   "metadata": {},
   "cell_type": "code",
   "outputs": [],
   "execution_count": null,
   "source": "",
   "id": "9ea946cd7a276fa4"
  }
 ],
 "metadata": {
  "kernelspec": {
   "display_name": "Python 3",
   "language": "python",
   "name": "python3"
  },
  "language_info": {
   "codemirror_mode": {
    "name": "ipython",
    "version": 2
   },
   "file_extension": ".py",
   "mimetype": "text/x-python",
   "name": "python",
   "nbconvert_exporter": "python",
   "pygments_lexer": "ipython2",
   "version": "2.7.6"
  }
 },
 "nbformat": 4,
 "nbformat_minor": 5
}
