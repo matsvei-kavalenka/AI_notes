{
 "cells": [
  {
   "metadata": {},
   "cell_type": "markdown",
   "source": "# Prompt templates and Prompt Values",
   "id": "506a719e1d1e3a6b"
  },
  {
   "metadata": {
    "ExecuteTime": {
     "end_time": "2025-06-03T12:59:53.859292Z",
     "start_time": "2025-06-03T12:59:52.929591Z"
    }
   },
   "cell_type": "code",
   "source": "from langchain_core.prompts import PromptTemplate, AIMessagePromptTemplate",
   "id": "5f7c5877eed23210",
   "outputs": [],
   "execution_count": 2
  },
  {
   "metadata": {
    "ExecuteTime": {
     "end_time": "2025-06-03T12:59:30.517809Z",
     "start_time": "2025-06-03T12:59:30.492041Z"
    }
   },
   "cell_type": "code",
   "source": [
    "TEMPLATE = \"\"\"\n",
    "System:\n",
    "{description}\n",
    "\n",
    "Human:\n",
    "I've recently adopted a {pet}.\n",
    "Could you suggest some {pet} names?\n",
    "\"\"\""
   ],
   "id": "7de410b702c6a088",
   "outputs": [],
   "execution_count": 1
  },
  {
   "metadata": {
    "ExecuteTime": {
     "end_time": "2025-06-03T13:00:22.313599Z",
     "start_time": "2025-06-03T13:00:22.289910Z"
    }
   },
   "cell_type": "code",
   "source": "prompt_template = PromptTemplate.from_template(template=TEMPLATE)",
   "id": "802f35b7c212890a",
   "outputs": [],
   "execution_count": 3
  },
  {
   "metadata": {
    "ExecuteTime": {
     "end_time": "2025-06-03T13:00:35.000335Z",
     "start_time": "2025-06-03T13:00:34.957816Z"
    }
   },
   "cell_type": "code",
   "source": "prompt_template",
   "id": "acae6338182aac6a",
   "outputs": [
    {
     "data": {
      "text/plain": [
       "PromptTemplate(input_variables=['description', 'pet'], input_types={}, partial_variables={}, template=\"\\nSystem:\\n{description}\\n\\nHuman:\\nI've recently adopted a {pet}.\\nCould you suggest some {pet} names?\\n\")"
      ]
     },
     "execution_count": 4,
     "metadata": {},
     "output_type": "execute_result"
    }
   ],
   "execution_count": 4
  },
  {
   "metadata": {
    "ExecuteTime": {
     "end_time": "2025-06-03T13:06:41.810051Z",
     "start_time": "2025-06-03T13:06:41.094373Z"
    }
   },
   "cell_type": "code",
   "source": "prompt_value = prompt_template.invoke({'description': \"\"\"The chatbot should reluctantly answer questions with sarcastic responses.\"\"\", \"pet\":'dog'})",
   "id": "90729091efbaa089",
   "outputs": [],
   "execution_count": 5
  },
  {
   "metadata": {
    "ExecuteTime": {
     "end_time": "2025-06-03T13:06:55.832935Z",
     "start_time": "2025-06-03T13:06:55.816336Z"
    }
   },
   "cell_type": "code",
   "source": "prompt_value",
   "id": "b80aa7070fe747e6",
   "outputs": [
    {
     "data": {
      "text/plain": [
       "StringPromptValue(text=\"\\nSystem:\\nThe chatbot should reluctantly answer questions with sarcastic responses.\\n\\nHuman:\\nI've recently adopted a dog.\\nCould you suggest some dog names?\\n\")"
      ]
     },
     "execution_count": 6,
     "metadata": {},
     "output_type": "execute_result"
    }
   ],
   "execution_count": 6
  },
  {
   "metadata": {},
   "cell_type": "markdown",
   "source": "## Chat Prompt templates and Chat Prompt values",
   "id": "fdf202b8d34a449f"
  },
  {
   "metadata": {
    "ExecuteTime": {
     "end_time": "2025-06-03T13:08:50.851433Z",
     "start_time": "2025-06-03T13:08:50.755531Z"
    }
   },
   "cell_type": "code",
   "source": [
    "%load_ext dotenv\n",
    "%dotenv"
   ],
   "id": "a6d9120ff20a1c3b",
   "outputs": [],
   "execution_count": 7
  },
  {
   "metadata": {
    "ExecuteTime": {
     "end_time": "2025-06-03T13:26:14.233412Z",
     "start_time": "2025-06-03T13:26:11.096614Z"
    }
   },
   "cell_type": "code",
   "source": [
    "from langchain_openai.chat_models import ChatOpenAI\n",
    "from langchain_core.prompts import AIMessagePromptTemplate, HumanMessagePromptTemplate,ChatPromptTemplate, FewShotChatMessagePromptTemplate, SystemMessagePromptTemplate"
   ],
   "id": "230163ce37e253b0",
   "outputs": [],
   "execution_count": 24
  },
  {
   "metadata": {
    "ExecuteTime": {
     "end_time": "2025-06-03T13:18:57.508151Z",
     "start_time": "2025-06-03T13:18:57.494597Z"
    }
   },
   "cell_type": "code",
   "source": "chat = ChatOpenAI(model_name=\"gpt-4o-mini\", seed=365, temperature=0, max_tokens=100)",
   "id": "582b50d57d1c91f6",
   "outputs": [],
   "execution_count": 18
  },
  {
   "metadata": {
    "ExecuteTime": {
     "end_time": "2025-06-03T13:11:52.245301Z",
     "start_time": "2025-06-03T13:11:52.227267Z"
    }
   },
   "cell_type": "code",
   "source": [
    "SYSTEM_TEMPLATE = \"{description}\"\n",
    "HUMAN_TEMPLATE = \"\"\"I've recently adopted a {pet}.\n",
    "Could you suggest some {pet} names?\"\"\""
   ],
   "id": "d780190772e224aa",
   "outputs": [],
   "execution_count": 10
  },
  {
   "metadata": {
    "ExecuteTime": {
     "end_time": "2025-06-03T13:12:25.131046Z",
     "start_time": "2025-06-03T13:12:25.094333Z"
    }
   },
   "cell_type": "code",
   "source": [
    "message_template_system = SystemMessagePromptTemplate.from_template(template=SYSTEM_TEMPLATE)\n",
    "message_template_system"
   ],
   "id": "6a881dcdda771b9b",
   "outputs": [
    {
     "data": {
      "text/plain": [
       "SystemMessagePromptTemplate(prompt=PromptTemplate(input_variables=['description'], input_types={}, partial_variables={}, template='{description}'), additional_kwargs={})"
      ]
     },
     "execution_count": 11,
     "metadata": {},
     "output_type": "execute_result"
    }
   ],
   "execution_count": 11
  },
  {
   "metadata": {
    "ExecuteTime": {
     "end_time": "2025-06-03T13:13:09.923584Z",
     "start_time": "2025-06-03T13:13:09.906853Z"
    }
   },
   "cell_type": "code",
   "source": [
    "message_template_human =HumanMessagePromptTemplate.from_template(template=HUMAN_TEMPLATE)\n",
    "message_template_human"
   ],
   "id": "42853eb3fd1f3212",
   "outputs": [
    {
     "data": {
      "text/plain": [
       "HumanMessagePromptTemplate(prompt=PromptTemplate(input_variables=['pet'], input_types={}, partial_variables={}, template=\"I've recently adopted a {pet}.\\nCould you suggest some {pet} names?\"), additional_kwargs={})"
      ]
     },
     "execution_count": 12,
     "metadata": {},
     "output_type": "execute_result"
    }
   ],
   "execution_count": 12
  },
  {
   "metadata": {
    "ExecuteTime": {
     "end_time": "2025-06-03T13:13:58.016909Z",
     "start_time": "2025-06-03T13:13:57.977946Z"
    }
   },
   "cell_type": "code",
   "source": [
    "chat_template = ChatPromptTemplate.from_messages([message_template_system, message_template_human])\n",
    "chat_template"
   ],
   "id": "9c592e47d0f0551e",
   "outputs": [
    {
     "data": {
      "text/plain": [
       "ChatPromptTemplate(input_variables=['description', 'pet'], input_types={}, partial_variables={}, messages=[SystemMessagePromptTemplate(prompt=PromptTemplate(input_variables=['description'], input_types={}, partial_variables={}, template='{description}'), additional_kwargs={}), HumanMessagePromptTemplate(prompt=PromptTemplate(input_variables=['pet'], input_types={}, partial_variables={}, template=\"I've recently adopted a {pet}.\\nCould you suggest some {pet} names?\"), additional_kwargs={})])"
      ]
     },
     "execution_count": 14,
     "metadata": {},
     "output_type": "execute_result"
    }
   ],
   "execution_count": 14
  },
  {
   "metadata": {
    "ExecuteTime": {
     "end_time": "2025-06-03T13:15:03.228825Z",
     "start_time": "2025-06-03T13:15:03.154727Z"
    }
   },
   "cell_type": "code",
   "source": "chat_value = chat_template.invoke({'description': \"\"\"The chatbot should reluctantly answer questions with sarcastic responses.\"\"\", \"pet\":'dog'})",
   "id": "5125f8ef92e68b0d",
   "outputs": [],
   "execution_count": 15
  },
  {
   "metadata": {
    "ExecuteTime": {
     "end_time": "2025-06-03T13:15:08.920829Z",
     "start_time": "2025-06-03T13:15:08.892729Z"
    }
   },
   "cell_type": "code",
   "source": "chat_value",
   "id": "9078e34e78660cf2",
   "outputs": [
    {
     "data": {
      "text/plain": [
       "ChatPromptValue(messages=[SystemMessage(content='The chatbot should reluctantly answer questions with sarcastic responses.', additional_kwargs={}, response_metadata={}), HumanMessage(content=\"I've recently adopted a dog.\\nCould you suggest some dog names?\", additional_kwargs={}, response_metadata={})])"
      ]
     },
     "execution_count": 16,
     "metadata": {},
     "output_type": "execute_result"
    }
   ],
   "execution_count": 16
  },
  {
   "metadata": {
    "ExecuteTime": {
     "end_time": "2025-06-03T13:19:03.077931Z",
     "start_time": "2025-06-03T13:19:00.705084Z"
    }
   },
   "cell_type": "code",
   "source": "response = chat.invoke(chat_value)",
   "id": "7a4634ef7a0b8d5",
   "outputs": [],
   "execution_count": 19
  },
  {
   "metadata": {
    "ExecuteTime": {
     "end_time": "2025-06-03T13:19:23.232854Z",
     "start_time": "2025-06-03T13:19:23.212704Z"
    }
   },
   "cell_type": "code",
   "source": "response.content",
   "id": "878b9713f7928e0e",
   "outputs": [
    {
     "data": {
      "text/plain": [
       "'Oh, sure, because naming a dog is the most challenging task in the world. How about \"Bark Twain\" or \"Sir Waggington\"? Or you could go with the classic \"Doggo.\" I mean, the possibilities are endless, right?'"
      ]
     },
     "execution_count": 21,
     "metadata": {},
     "output_type": "execute_result"
    }
   ],
   "execution_count": 21
  },
  {
   "metadata": {},
   "cell_type": "markdown",
   "source": "# Few-Shot Chat Message Prompt Templates ",
   "id": "815cf002c7a95e6b"
  },
  {
   "metadata": {
    "ExecuteTime": {
     "end_time": "2025-06-03T13:36:00.883235Z",
     "start_time": "2025-06-03T13:36:00.862128Z"
    }
   },
   "cell_type": "code",
   "source": [
    "AI_TEMPLATE = \"{response}\"\n",
    "HUMAN_TEMPLATE = \"\"\"I've recently adopted a {pet}.\n",
    "Could you suggest some {pet} names?\"\"\""
   ],
   "id": "5c9ad50346efd69c",
   "outputs": [],
   "execution_count": 37
  },
  {
   "metadata": {
    "ExecuteTime": {
     "end_time": "2025-06-03T13:36:01.358856Z",
     "start_time": "2025-06-03T13:36:01.334726Z"
    }
   },
   "cell_type": "code",
   "source": [
    "message_template_ai = AIMessagePromptTemplate.from_template(template=AI_TEMPLATE)\n",
    "message_template_human = HumanMessagePromptTemplate.from_template(template=HUMAN_TEMPLATE)"
   ],
   "id": "2c690d3df06c4738",
   "outputs": [],
   "execution_count": 38
  },
  {
   "metadata": {
    "ExecuteTime": {
     "end_time": "2025-06-03T13:36:01.882547Z",
     "start_time": "2025-06-03T13:36:01.864546Z"
    }
   },
   "cell_type": "code",
   "source": "example_template = ChatPromptTemplate.from_messages([message_template_ai, message_template_human])",
   "id": "24eff8b4f1205ca8",
   "outputs": [],
   "execution_count": 39
  },
  {
   "metadata": {
    "ExecuteTime": {
     "end_time": "2025-06-03T13:36:03.420442Z",
     "start_time": "2025-06-03T13:36:03.407438Z"
    }
   },
   "cell_type": "code",
   "source": [
    "examples = [{'pet':'dog', \n",
    "             'response':'''Oh, absolutely. Because nothing screams \"I'm a responsible pet owner\" \n",
    "like asking a chatbot to name your new furball. How about \"Bark Twain\" (if it's a literary hound)? '''}, \n",
    "            \n",
    "            {'pet':'cat', \n",
    "             'response':'''Oh, absolutely. Because nothing screams \"I'm a unique and creative individual\" \n",
    "             like asking a chatbot to name your cat. How about \"Furry McFurFace\", \"Sir Meowsalot\", or \"Catastrophe\"? '''}, \n",
    "            \n",
    "            {'pet':'fish', \n",
    "             'response':\n",
    "             '''Oh, absolutely. Because nothing screams \"I'm a fun and quirky pet owner\" \n",
    "             like asking a chatbot to name your fish. How about \"Fin Diesel\", \"Gill Gates\", or \"Bubbles\"?'''}]"
   ],
   "id": "8c58f205d39adc7a",
   "outputs": [],
   "execution_count": 40
  },
  {
   "metadata": {
    "ExecuteTime": {
     "end_time": "2025-06-03T13:36:04.736991Z",
     "start_time": "2025-06-03T13:36:04.718991Z"
    }
   },
   "cell_type": "code",
   "source": "few_shot_prompt = FewShotChatMessagePromptTemplate(examples=examples, example_prompt=example_template, input_variables = ['pet'])",
   "id": "a3eb14f70758b0ce",
   "outputs": [],
   "execution_count": 41
  },
  {
   "metadata": {
    "ExecuteTime": {
     "end_time": "2025-06-03T13:37:16.003124Z",
     "start_time": "2025-06-03T13:37:15.991122Z"
    }
   },
   "cell_type": "code",
   "source": "chat_template = ChatPromptTemplate.from_messages([few_shot_prompt, message_template_human])",
   "id": "baecbe23ac72f00c",
   "outputs": [],
   "execution_count": 46
  },
  {
   "metadata": {
    "ExecuteTime": {
     "end_time": "2025-06-03T13:37:17.056692Z",
     "start_time": "2025-06-03T13:37:17.019312Z"
    }
   },
   "cell_type": "code",
   "source": [
    "chat_value = chat_template.invoke({'pet':'rabbit'})\n",
    "chat_value"
   ],
   "id": "68f7e32a42b56542",
   "outputs": [
    {
     "data": {
      "text/plain": [
       "ChatPromptValue(messages=[AIMessage(content='Oh, absolutely. Because nothing screams \"I\\'m a responsible pet owner\" \\nlike asking a chatbot to name your new furball. How about \"Bark Twain\" (if it\\'s a literary hound)? ', additional_kwargs={}, response_metadata={}), HumanMessage(content=\"I've recently adopted a dog.\\nCould you suggest some dog names?\", additional_kwargs={}, response_metadata={}), AIMessage(content='Oh, absolutely. Because nothing screams \"I\\'m a unique and creative individual\" \\n             like asking a chatbot to name your cat. How about \"Furry McFurFace\", \"Sir Meowsalot\", or \"Catastrophe\"? ', additional_kwargs={}, response_metadata={}), HumanMessage(content=\"I've recently adopted a cat.\\nCould you suggest some cat names?\", additional_kwargs={}, response_metadata={}), AIMessage(content='Oh, absolutely. Because nothing screams \"I\\'m a fun and quirky pet owner\" \\n             like asking a chatbot to name your fish. How about \"Fin Diesel\", \"Gill Gates\", or \"Bubbles\"?', additional_kwargs={}, response_metadata={}), HumanMessage(content=\"I've recently adopted a fish.\\nCould you suggest some fish names?\", additional_kwargs={}, response_metadata={}), HumanMessage(content=\"I've recently adopted a rabbit.\\nCould you suggest some rabbit names?\", additional_kwargs={}, response_metadata={})])"
      ]
     },
     "execution_count": 47,
     "metadata": {},
     "output_type": "execute_result"
    }
   ],
   "execution_count": 47
  },
  {
   "metadata": {
    "ExecuteTime": {
     "end_time": "2025-06-03T13:37:35.542046Z",
     "start_time": "2025-06-03T13:37:35.524040Z"
    }
   },
   "cell_type": "code",
   "source": [
    "for i in chat_value.messages:\n",
    "    print(f'{i.typfe}: {i.content}\\n')"
   ],
   "id": "6ff9a7930a034f31",
   "outputs": [
    {
     "name": "stdout",
     "output_type": "stream",
     "text": [
      "ai: Oh, absolutely. Because nothing screams \"I'm a responsible pet owner\" \n",
      "like asking a chatbot to name your new furball. How about \"Bark Twain\" (if it's a literary hound)? \n",
      "\n",
      "human: I've recently adopted a dog.\n",
      "Could you suggest some dog names?\n",
      "\n",
      "ai: Oh, absolutely. Because nothing screams \"I'm a unique and creative individual\" \n",
      "             like asking a chatbot to name your cat. How about \"Furry McFurFace\", \"Sir Meowsalot\", or \"Catastrophe\"? \n",
      "\n",
      "human: I've recently adopted a cat.\n",
      "Could you suggest some cat names?\n",
      "\n",
      "ai: Oh, absolutely. Because nothing screams \"I'm a fun and quirky pet owner\" \n",
      "             like asking a chatbot to name your fish. How about \"Fin Diesel\", \"Gill Gates\", or \"Bubbles\"?\n",
      "\n",
      "human: I've recently adopted a fish.\n",
      "Could you suggest some fish names?\n",
      "\n",
      "human: I've recently adopted a rabbit.\n",
      "Could you suggest some rabbit names?\n",
      "\n"
     ]
    }
   ],
   "execution_count": 48
  },
  {
   "metadata": {
    "ExecuteTime": {
     "end_time": "2025-06-03T13:40:24.709015Z",
     "start_time": "2025-06-03T13:40:21.979775Z"
    }
   },
   "cell_type": "code",
   "source": "response = chat.invoke(chat_value)",
   "id": "e0d63ae5de1b5ac1",
   "outputs": [],
   "execution_count": 49
  },
  {
   "metadata": {
    "ExecuteTime": {
     "end_time": "2025-06-03T13:40:57.016876Z",
     "start_time": "2025-06-03T13:40:57.000831Z"
    }
   },
   "cell_type": "code",
   "source": "print(response.content)",
   "id": "33663d466818a56f",
   "outputs": [
    {
     "name": "stdout",
     "output_type": "stream",
     "text": [
      "Congratulations on your new rabbit! Here are some fun name suggestions:\n",
      "\n",
      "1. **Thumper**\n",
      "2. **BunBun**\n",
      "3. **Clover**\n",
      "4. **Nibbles**\n",
      "5. **Hopper**\n",
      "6. **Flopsy**\n",
      "7. **Peanut**\n",
      "8. **Snowball**\n",
      "9. **Cinnabun**\n",
      "10. **Luna**\n",
      "\n",
      "Feel free to mix and match or modify these names to find the perfect fit for your new furry friend!\n"
     ]
    }
   ],
   "execution_count": 53
  },
  {
   "metadata": {},
   "cell_type": "markdown",
   "source": "## LLM Chain",
   "id": "4d75b84b75296b73"
  },
  {
   "metadata": {
    "ExecuteTime": {
     "end_time": "2025-06-05T07:02:41.875673Z",
     "start_time": "2025-06-05T07:02:41.189427Z"
    }
   },
   "cell_type": "code",
   "source": "from langchain.chains.llm import LLMChain",
   "id": "c15f2265b92e16de",
   "outputs": [],
   "execution_count": 54
  },
  {
   "metadata": {
    "ExecuteTime": {
     "end_time": "2025-06-05T07:05:13.820800Z",
     "start_time": "2025-06-05T07:05:11.102407Z"
    }
   },
   "cell_type": "code",
   "source": [
    "chain = chat_template | chat\n",
    "response = chain.invoke({'pet':'fish'})"
   ],
   "id": "bdd1fb2c67a4d1bd",
   "outputs": [],
   "execution_count": 57
  },
  {
   "metadata": {
    "ExecuteTime": {
     "end_time": "2025-06-05T07:05:16.324037Z",
     "start_time": "2025-06-05T07:05:16.288267Z"
    }
   },
   "cell_type": "code",
   "source": "response",
   "id": "2ca21467b62bedef",
   "outputs": [
    {
     "data": {
      "text/plain": [
       "AIMessage(content='Of course! Here are some fun and creative names for your new fish:\\n\\n1. **Finley**\\n2. **Bubbles**\\n3. **Nemo**\\n4. **Gilly**\\n5. **Swim Shady**\\n6. **Captain Fluff**\\n7. **Marina**\\n8. **Goldie**\\n9. **Splash**\\n10. **Dory**\\n\\nFeel free to mix and match or modify them to find the perfect name for your aquatic friend!', additional_kwargs={'refusal': None}, response_metadata={'token_usage': {'completion_tokens': 96, 'prompt_tokens': 217, 'total_tokens': 313, 'completion_tokens_details': {'accepted_prediction_tokens': 0, 'audio_tokens': 0, 'reasoning_tokens': 0, 'rejected_prediction_tokens': 0}, 'prompt_tokens_details': {'audio_tokens': 0, 'cached_tokens': 0}}, 'model_name': 'gpt-4o-mini-2024-07-18', 'system_fingerprint': 'fp_34a54ae93c', 'id': 'chatcmpl-BeywrYacd9D5pQNGvHcDjnGjJ2cHi', 'service_tier': 'default', 'finish_reason': 'stop', 'logprobs': None}, id='run--1b0e4e56-ee4f-4ab5-8bd8-95f7b26275c4-0', usage_metadata={'input_tokens': 217, 'output_tokens': 96, 'total_tokens': 313, 'input_token_details': {'audio': 0, 'cache_read': 0}, 'output_token_details': {'audio': 0, 'reasoning': 0}})"
      ]
     },
     "execution_count": 58,
     "metadata": {},
     "output_type": "execute_result"
    }
   ],
   "execution_count": 58
  },
  {
   "metadata": {},
   "cell_type": "code",
   "outputs": [],
   "execution_count": null,
   "source": "",
   "id": "a9ddfe809a5de3ce"
  }
 ],
 "metadata": {
  "kernelspec": {
   "display_name": "Python 3",
   "language": "python",
   "name": "python3"
  },
  "language_info": {
   "codemirror_mode": {
    "name": "ipython",
    "version": 2
   },
   "file_extension": ".py",
   "mimetype": "text/x-python",
   "name": "python",
   "nbconvert_exporter": "python",
   "pygments_lexer": "ipython2",
   "version": "2.7.6"
  }
 },
 "nbformat": 4,
 "nbformat_minor": 5
}
