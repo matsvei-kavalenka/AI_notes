{
 "cells": [
  {
   "metadata": {},
   "cell_type": "markdown",
   "source": "## The Runnable and Runnable Sequence Classes",
   "id": "6eb8092788782572"
  },
  {
   "metadata": {
    "ExecuteTime": {
     "end_time": "2025-06-12T09:05:04.199635Z",
     "start_time": "2025-06-12T09:05:04.157913Z"
    }
   },
   "cell_type": "code",
   "source": [
    "%load_ext dotenv\n",
    "%dotenv"
   ],
   "id": "b221df732d708b85",
   "outputs": [],
   "execution_count": 2
  },
  {
   "metadata": {
    "ExecuteTime": {
     "end_time": "2025-06-12T09:05:07.565347Z",
     "start_time": "2025-06-12T09:05:04.218637Z"
    }
   },
   "cell_type": "code",
   "source": [
    "from langchain_core.output_parsers import StrOutputParser\n",
    "from langchain_core.runnables import RunnablePassthrough\n",
    "\n",
    "from langchain_openai import ChatOpenAI\n",
    "from langchain_core.prompts import ChatPromptTemplate"
   ],
   "id": "5671a34907afae41",
   "outputs": [],
   "execution_count": 3
  },
  {
   "metadata": {
    "ExecuteTime": {
     "end_time": "2025-06-12T09:05:08.051989Z",
     "start_time": "2025-06-12T09:05:08.037987Z"
    }
   },
   "cell_type": "code",
   "source": "chat_template = ChatPromptTemplate.from_messages([('human', \"I've recently adopted a {pet}, which is a {breed}. Could you suggest some training tips?? \\n\")])",
   "id": "ea07ce77c48f97bd",
   "outputs": [],
   "execution_count": 4
  },
  {
   "metadata": {
    "ExecuteTime": {
     "end_time": "2025-06-12T09:05:08.940365Z",
     "start_time": "2025-06-12T09:05:08.070003Z"
    }
   },
   "cell_type": "code",
   "source": "chat = ChatOpenAI(model='gpt-4o-mini', seed=365, temperature=0, max_tokens=100)",
   "id": "dfe918d1e85e92a5",
   "outputs": [],
   "execution_count": 5
  },
  {
   "metadata": {
    "ExecuteTime": {
     "end_time": "2025-06-12T09:05:08.970679Z",
     "start_time": "2025-06-12T09:05:08.957677Z"
    }
   },
   "cell_type": "code",
   "source": "chain = chat_template | chat",
   "id": "7d54ce6e0b290752",
   "outputs": [],
   "execution_count": 6
  },
  {
   "metadata": {
    "ExecuteTime": {
     "end_time": "2025-06-12T09:05:09.016005Z",
     "start_time": "2025-06-12T09:05:08.987835Z"
    }
   },
   "cell_type": "code",
   "source": "RunnablePassthrough().invoke([1,2,3])",
   "id": "8bbfc534753b98a8",
   "outputs": [
    {
     "data": {
      "text/plain": [
       "[1, 2, 3]"
      ]
     },
     "execution_count": 7,
     "metadata": {},
     "output_type": "execute_result"
    }
   ],
   "execution_count": 7
  },
  {
   "metadata": {
    "ExecuteTime": {
     "end_time": "2025-06-12T09:05:09.079013Z",
     "start_time": "2025-06-12T09:05:09.069017Z"
    }
   },
   "cell_type": "code",
   "source": [
    "chat_template_tools = ChatPromptTemplate.from_template(\"\"\"\n",
    "What are the five most important tools a {job_title} needs?\n",
    "Answer only by listing the tools.\n",
    "\"\"\")\n",
    "\n",
    "chat_template_strategy = ChatPromptTemplate.from_template(\"\"\"\n",
    "Considering the tools provided, develop a strategy for effectively learning and mastering them:\n",
    "{tools}\n",
    "\"\"\")"
   ],
   "id": "5755ebd46808a73d",
   "outputs": [],
   "execution_count": 8
  },
  {
   "metadata": {
    "ExecuteTime": {
     "end_time": "2025-06-12T09:05:09.125313Z",
     "start_time": "2025-06-12T09:05:09.114312Z"
    }
   },
   "cell_type": "code",
   "source": "chat_template_tools",
   "id": "7bfe223eea58f010",
   "outputs": [
    {
     "data": {
      "text/plain": [
       "ChatPromptTemplate(input_variables=['job_title'], input_types={}, partial_variables={}, messages=[HumanMessagePromptTemplate(prompt=PromptTemplate(input_variables=['job_title'], input_types={}, partial_variables={}, template='\\nWhat are the five most important tools a {job_title} needs?\\nAnswer only by listing the tools.\\n'), additional_kwargs={})])"
      ]
     },
     "execution_count": 9,
     "metadata": {},
     "output_type": "execute_result"
    }
   ],
   "execution_count": 9
  },
  {
   "metadata": {
    "ExecuteTime": {
     "end_time": "2025-06-12T09:05:09.187407Z",
     "start_time": "2025-06-12T09:05:09.173325Z"
    }
   },
   "cell_type": "code",
   "source": "chat_template_strategy",
   "id": "dfaed995d1e0564b",
   "outputs": [
    {
     "data": {
      "text/plain": [
       "ChatPromptTemplate(input_variables=['tools'], input_types={}, partial_variables={}, messages=[HumanMessagePromptTemplate(prompt=PromptTemplate(input_variables=['tools'], input_types={}, partial_variables={}, template='\\nConsidering the tools provided, develop a strategy for effectively learning and mastering them:\\n{tools}\\n'), additional_kwargs={})])"
      ]
     },
     "execution_count": 10,
     "metadata": {},
     "output_type": "execute_result"
    }
   ],
   "execution_count": 10
  },
  {
   "metadata": {
    "ExecuteTime": {
     "end_time": "2025-06-12T09:05:09.251411Z",
     "start_time": "2025-06-12T09:05:09.237409Z"
    }
   },
   "cell_type": "code",
   "source": "string_parser = StrOutputParser()",
   "id": "933608b2baae6f32",
   "outputs": [],
   "execution_count": 11
  },
  {
   "metadata": {
    "ExecuteTime": {
     "end_time": "2025-06-12T09:05:09.329630Z",
     "start_time": "2025-06-12T09:05:09.320631Z"
    }
   },
   "cell_type": "code",
   "source": [
    "chain_tools = chat_template_tools | chat | string_parser | {'tools': RunnablePassthrough()}\n",
    "chain_strategy = chat_template_strategy | chat | string_parser"
   ],
   "id": "9622a66f4f9f448",
   "outputs": [],
   "execution_count": 12
  },
  {
   "metadata": {
    "ExecuteTime": {
     "end_time": "2025-06-12T09:05:11.280264Z",
     "start_time": "2025-06-12T09:05:09.401169Z"
    }
   },
   "cell_type": "code",
   "source": "print(chain_tools.invoke({'job_title': 'data scientist'}))",
   "id": "3532e3f07a31c0f3",
   "outputs": [
    {
     "name": "stdout",
     "output_type": "stream",
     "text": [
      "{'tools': '1. Python\\n2. R\\n3. SQL\\n4. Jupyter Notebook\\n5. Git'}\n"
     ]
    }
   ],
   "execution_count": 13
  },
  {
   "metadata": {
    "ExecuteTime": {
     "end_time": "2025-06-12T09:05:13.619141Z",
     "start_time": "2025-06-12T09:05:11.296176Z"
    }
   },
   "cell_type": "code",
   "source": [
    "print(chain_strategy.invoke({'tools': \"\"\"\n",
    "1. Python\n",
    "2. R\n",
    "3. SQL\n",
    "4. Jupyter Notebook\n",
    "5. TensorFlow/PyTorch\n",
    "\"\"\"}))"
   ],
   "id": "3ba1e62659ae901d",
   "outputs": [
    {
     "name": "stdout",
     "output_type": "stream",
     "text": [
      "To effectively learn and master Python, R, SQL, Jupyter Notebook, and TensorFlow/PyTorch, you can follow a structured strategy that incorporates foundational knowledge, practical application, and continuous improvement. Here’s a step-by-step approach:\n",
      "\n",
      "### Step 1: Establish a Learning Foundation\n",
      "\n",
      "#### 1. **Python**\n",
      "   - **Resources**: Use online platforms like Codecademy, Coursera, or freeCodeCamp to learn Python basics.\n",
      "   - **Practice**: Solve problems on\n"
     ]
    }
   ],
   "execution_count": 14
  },
  {
   "metadata": {
    "ExecuteTime": {
     "end_time": "2025-06-12T09:05:13.666144Z",
     "start_time": "2025-06-12T09:05:13.660146Z"
    }
   },
   "cell_type": "code",
   "source": "chain_combined = chain_tools | chain_strategy",
   "id": "b1b0b9fb4d686226",
   "outputs": [],
   "execution_count": 15
  },
  {
   "metadata": {
    "ExecuteTime": {
     "end_time": "2025-06-12T09:05:18.183228Z",
     "start_time": "2025-06-12T09:05:13.698178Z"
    }
   },
   "cell_type": "code",
   "source": "print(chain_combined.invoke({'job_title': 'data scientist'}))",
   "id": "a7beff6494fd5bdd",
   "outputs": [
    {
     "name": "stdout",
     "output_type": "stream",
     "text": [
      "To effectively learn and master Python, R, SQL, Jupyter Notebook, and Git, you can follow a structured strategy that incorporates a mix of theoretical understanding, practical application, and project-based learning. Here’s a step-by-step approach:\n",
      "\n",
      "### 1. Set Clear Goals\n",
      "- **Define Objectives**: Determine what you want to achieve with each tool. For example, do you want to use Python for data analysis, R for statistical modeling, SQL for database management, Jupyter Notebook for interactive\n"
     ]
    }
   ],
   "execution_count": 16
  },
  {
   "metadata": {},
   "cell_type": "markdown",
   "source": "## Graphing Runnables",
   "id": "cfe70bf9f976e7a4"
  },
  {
   "metadata": {
    "ExecuteTime": {
     "end_time": "2025-06-12T09:05:18.214361Z",
     "start_time": "2025-06-12T09:05:18.206351Z"
    }
   },
   "cell_type": "code",
   "source": [
    "chat_template_tools = ChatPromptTemplate.from_template('''\n",
    "What are the five most important tools a {job title} needs?\n",
    "Answer only by listing the tools.\n",
    "''')\n",
    "\n",
    "chat_template_strategy = ChatPromptTemplate.from_template('''\n",
    "Considering the tools provided, develop a strategy for effectively learning and mastering them:\n",
    "{tools}\n",
    "''')"
   ],
   "id": "c348ad8aacabb4e1",
   "outputs": [],
   "execution_count": 17
  },
  {
   "metadata": {
    "ExecuteTime": {
     "end_time": "2025-06-12T09:05:18.244375Z",
     "start_time": "2025-06-12T09:05:18.234611Z"
    }
   },
   "cell_type": "code",
   "source": [
    "chat = ChatOpenAI(model_name = 'gpt-4', \n",
    "                  seed=365,\n",
    "                  temperature = 0,\n",
    "                  max_tokens = 100)"
   ],
   "id": "63cf5b67f94bdb3b",
   "outputs": [],
   "execution_count": 18
  },
  {
   "metadata": {
    "ExecuteTime": {
     "end_time": "2025-06-12T09:05:18.274894Z",
     "start_time": "2025-06-12T09:05:18.261592Z"
    }
   },
   "cell_type": "code",
   "source": "string_parser = StrOutputParser()",
   "id": "7b9305af470872d6",
   "outputs": [],
   "execution_count": 19
  },
  {
   "metadata": {
    "ExecuteTime": {
     "end_time": "2025-06-12T09:05:18.306492Z",
     "start_time": "2025-06-12T09:05:18.292456Z"
    }
   },
   "cell_type": "code",
   "source": [
    "chain_long = (chat_template_tools | chat | string_parser | {'tools':RunnablePassthrough()} | \n",
    "              chat_template_strategy | chat | string_parser)"
   ],
   "id": "4d0ea9e0ea97bce1",
   "outputs": [],
   "execution_count": 20
  },
  {
   "metadata": {
    "ExecuteTime": {
     "end_time": "2025-06-12T09:05:19.167593Z",
     "start_time": "2025-06-12T09:05:18.325028Z"
    }
   },
   "cell_type": "code",
   "source": "chain_long.get_graph().print_ascii()",
   "id": "9378fe57361277b0",
   "outputs": [
    {
     "name": "stdout",
     "output_type": "stream",
     "text": [
      "     +-------------+       \r\n",
      "     | PromptInput |       \r\n",
      "     +-------------+       \r\n",
      "            *              \r\n",
      "            *              \r\n",
      "            *              \r\n",
      "  +--------------------+   \r\n",
      "  | ChatPromptTemplate |   \r\n",
      "  +--------------------+   \r\n",
      "            *              \r\n",
      "            *              \r\n",
      "            *              \r\n",
      "      +------------+       \r\n",
      "      | ChatOpenAI |       \r\n",
      "      +------------+       \r\n",
      "            *              \r\n",
      "            *              \r\n",
      "            *              \r\n",
      "   +-----------------+     \r\n",
      "   | StrOutputParser |     \r\n",
      "   +-----------------+     \r\n",
      "            *              \r\n",
      "            *              \r\n",
      "            *              \r\n",
      "+-----------------------+  \r\n",
      "| StrOutputParserOutput |  \r\n",
      "+-----------------------+  \r\n",
      "            *              \r\n",
      "            *              \r\n",
      "            *              \r\n",
      "     +-------------+       \r\n",
      "     | Passthrough |       \r\n",
      "     +-------------+       \r\n",
      "            *              \r\n",
      "            *              \r\n",
      "            *              \r\n",
      "  +--------------------+   \r\n",
      "  | ChatPromptTemplate |   \r\n",
      "  +--------------------+   \r\n",
      "            *              \r\n",
      "            *              \r\n",
      "            *              \r\n",
      "      +------------+       \r\n",
      "      | ChatOpenAI |       \r\n",
      "      +------------+       \r\n",
      "            *              \r\n",
      "            *              \r\n",
      "            *              \r\n",
      "   +-----------------+     \r\n",
      "   | StrOutputParser |     \r\n",
      "   +-----------------+     \r\n",
      "            *              \r\n",
      "            *              \r\n",
      "            *              \r\n",
      "+-----------------------+  \r\n",
      "| StrOutputParserOutput |  \r\n",
      "+-----------------------+  \n"
     ]
    }
   ],
   "execution_count": 21
  },
  {
   "metadata": {},
   "cell_type": "markdown",
   "source": "## Runnable Parallel",
   "id": "3f87416234ffdca2"
  },
  {
   "metadata": {
    "ExecuteTime": {
     "end_time": "2025-06-12T09:05:19.199252Z",
     "start_time": "2025-06-12T09:05:19.190213Z"
    }
   },
   "cell_type": "code",
   "source": "from langchain_core.runnables import RunnableParallel",
   "id": "833b13ec819421cf",
   "outputs": [],
   "execution_count": 22
  },
  {
   "metadata": {
    "ExecuteTime": {
     "end_time": "2025-06-12T09:05:19.229960Z",
     "start_time": "2025-06-12T09:05:19.217395Z"
    }
   },
   "cell_type": "code",
   "source": [
    "chat_template_books = ChatPromptTemplate.from_template('''\n",
    "Suggest three of the best intermediate-level {programming language} books. \n",
    "Answer only by listing the books.\n",
    "''')\n",
    "\n",
    "chat_template_projects = ChatPromptTemplate.from_template('''\n",
    "Suggest three interesting {programming language} projects suitable for intermediate-level programmers. \n",
    "Answer only by listing the projects.\n",
    "''')"
   ],
   "id": "637b2e231d26762c",
   "outputs": [],
   "execution_count": 23
  },
  {
   "metadata": {
    "ExecuteTime": {
     "end_time": "2025-06-12T09:05:19.276960Z",
     "start_time": "2025-06-12T09:05:19.262472Z"
    }
   },
   "cell_type": "code",
   "source": "string_parser = StrOutputParser()",
   "id": "187e41c3787546d3",
   "outputs": [],
   "execution_count": 24
  },
  {
   "metadata": {
    "ExecuteTime": {
     "end_time": "2025-06-12T09:05:19.307197Z",
     "start_time": "2025-06-12T09:05:19.294529Z"
    }
   },
   "cell_type": "code",
   "source": [
    "chain_books = chat_template_books | chat | string_parser\n",
    "chain_projects = chat_template_projects | chat | string_parser"
   ],
   "id": "af7d3350b75af595",
   "outputs": [],
   "execution_count": 25
  },
  {
   "metadata": {
    "ExecuteTime": {
     "end_time": "2025-06-12T09:05:19.338242Z",
     "start_time": "2025-06-12T09:05:19.326171Z"
    }
   },
   "cell_type": "code",
   "source": "chain_parallel = RunnableParallel({'books': chain_books, 'projects': chain_projects})",
   "id": "9fd310a9ba324546",
   "outputs": [],
   "execution_count": 26
  },
  {
   "metadata": {
    "ExecuteTime": {
     "end_time": "2025-06-12T09:05:24.048185Z",
     "start_time": "2025-06-12T09:05:19.373321Z"
    }
   },
   "cell_type": "code",
   "source": [
    "%%time\n",
    "chain_parallel.invoke({'programming language': 'Python'})"
   ],
   "id": "e1d555656e0e1522",
   "outputs": [
    {
     "name": "stdout",
     "output_type": "stream",
     "text": [
      "CPU times: total: 0 ns\n",
      "Wall time: 4.66 s\n"
     ]
    },
    {
     "data": {
      "text/plain": [
       "{'books': '1. \"Fluent Python: Clear, Concise, and Effective Programming\" by Luciano Ramalho\\n2. \"Python Cookbook: Recipes for Mastering Python 3\" by David Beazley and Brian K. Jones\\n3. \"Effective Python: 90 Specific Ways to Write Better Python\" by Brett Slatkin',\n",
       " 'projects': '1. Building a Weather Forecasting Application using APIs.\\n2. Developing a Personal Finance Tracker with Data Visualization.\\n3. Creating a Text-based Adventure Game with multiple scenarios and outcomes.'}"
      ]
     },
     "execution_count": 27,
     "metadata": {},
     "output_type": "execute_result"
    }
   ],
   "execution_count": 27
  },
  {
   "metadata": {
    "ExecuteTime": {
     "end_time": "2025-06-12T09:05:24.125505Z",
     "start_time": "2025-06-12T09:05:24.098446Z"
    }
   },
   "cell_type": "code",
   "source": "chain_parallel.get_graph().print_ascii()",
   "id": "4449d58bebdbd7b9",
   "outputs": [
    {
     "name": "stdout",
     "output_type": "stream",
     "text": [
      "            +-------------------------------+              \r\n",
      "            | Parallel<books,projects>Input |              \r\n",
      "            +-------------------------------+              \r\n",
      "                   ***               ***                   \r\n",
      "                ***                     ***                \r\n",
      "              **                           **              \r\n",
      "+--------------------+              +--------------------+ \r\n",
      "| ChatPromptTemplate |              | ChatPromptTemplate | \r\n",
      "+--------------------+              +--------------------+ \r\n",
      "           *                                   *           \r\n",
      "           *                                   *           \r\n",
      "           *                                   *           \r\n",
      "    +------------+                      +------------+     \r\n",
      "    | ChatOpenAI |                      | ChatOpenAI |     \r\n",
      "    +------------+                      +------------+     \r\n",
      "           *                                   *           \r\n",
      "           *                                   *           \r\n",
      "           *                                   *           \r\n",
      "  +-----------------+                 +-----------------+  \r\n",
      "  | StrOutputParser |                 | StrOutputParser |  \r\n",
      "  +-----------------+                 +-----------------+  \r\n",
      "                   ***               ***                   \r\n",
      "                      ***         ***                      \r\n",
      "                         **     **                         \r\n",
      "            +--------------------------------+             \r\n",
      "            | Parallel<books,projects>Output |             \r\n",
      "            +--------------------------------+             \n"
     ]
    }
   ],
   "execution_count": 28
  },
  {
   "metadata": {
    "ExecuteTime": {
     "end_time": "2025-06-12T09:05:27.263320Z",
     "start_time": "2025-06-12T09:05:24.177256Z"
    }
   },
   "cell_type": "code",
   "source": [
    "%%time\n",
    "chain_books.invoke({'programming language': 'Python'})"
   ],
   "id": "c23518897ce22958",
   "outputs": [
    {
     "name": "stdout",
     "output_type": "stream",
     "text": [
      "CPU times: total: 0 ns\n",
      "Wall time: 3.06 s\n"
     ]
    },
    {
     "data": {
      "text/plain": [
       "'1. \"Fluent Python: Clear, Concise, and Effective Programming\" by Luciano Ramalho\\n2. \"Python Cookbook: Recipes for Mastering Python 3\" by David Beazley and Brian K. Jones\\n3. \"Effective Python: 90 Specific Ways to Write Better Python\" by Brett Slatkin'"
      ]
     },
     "execution_count": 29,
     "metadata": {},
     "output_type": "execute_result"
    }
   ],
   "execution_count": 29
  },
  {
   "metadata": {
    "ExecuteTime": {
     "end_time": "2025-06-12T09:05:28.976428Z",
     "start_time": "2025-06-12T09:05:27.312582Z"
    }
   },
   "cell_type": "code",
   "source": [
    "%%time\n",
    "chain_projects.invoke({'programming language': 'Python'})"
   ],
   "id": "a3f972bed22faeb8",
   "outputs": [
    {
     "name": "stdout",
     "output_type": "stream",
     "text": [
      "CPU times: total: 0 ns\n",
      "Wall time: 1.64 s\n"
     ]
    },
    {
     "data": {
      "text/plain": [
       "'1. Building a Web Scraper using BeautifulSoup\\n2. Developing a simple Machine Learning model using Scikit-learn\\n3. Creating a GUI application using Tkinter'"
      ]
     },
     "execution_count": 30,
     "metadata": {},
     "output_type": "execute_result"
    }
   ],
   "execution_count": 30
  },
  {
   "metadata": {},
   "cell_type": "markdown",
   "source": "## Piping Runnable Parallel with another Runnable",
   "id": "c063e63e0a75f2c0"
  },
  {
   "metadata": {
    "ExecuteTime": {
     "end_time": "2025-06-12T09:05:29.024486Z",
     "start_time": "2025-06-12T09:05:29.014446Z"
    }
   },
   "cell_type": "code",
   "source": "chat = ChatOpenAI(model='gpt-4o-mini', seed=365, temperature=0, max_tokens=500)",
   "id": "27a42b699aa038dc",
   "outputs": [],
   "execution_count": 31
  },
  {
   "metadata": {
    "ExecuteTime": {
     "end_time": "2025-06-12T09:05:29.056330Z",
     "start_time": "2025-06-12T09:05:29.050802Z"
    }
   },
   "cell_type": "code",
   "source": [
    "chat_template_books = ChatPromptTemplate.from_template('''\n",
    "Suggest three of the best intermediate-level {programming language} books. \n",
    "Answer only by listing the books.\n",
    "''')\n",
    "\n",
    "chat_template_projects = ChatPromptTemplate.from_template('''\n",
    "Suggest three interesting {programming language} projects suitable for intermediate-level programmers. \n",
    "Answer only by listing the projects.\n",
    "''')\n",
    "\n",
    "chat_template_time = ChatPromptTemplate.from_template(\"\"\"\n",
    "I'm an intermediate level programmer.\n",
    "     \n",
    "Consider the following literature:\n",
    "{books}\n",
    "\n",
    "Also, consider the following projects:\n",
    "{projects}\n",
    "\n",
    "Roughly how much time would it take me to complete the literature and the projects?\n",
    "\"\"\")"
   ],
   "id": "15bee44376e3098b",
   "outputs": [],
   "execution_count": 32
  },
  {
   "metadata": {
    "ExecuteTime": {
     "end_time": "2025-06-12T09:05:29.087392Z",
     "start_time": "2025-06-12T09:05:29.077062Z"
    }
   },
   "cell_type": "code",
   "source": [
    "chain_books = chat_template_books | chat | string_parser\n",
    "chain_projects = chat_template_projects | chat | string_parser"
   ],
   "id": "1b2d2a92e3784492",
   "outputs": [],
   "execution_count": 33
  },
  {
   "metadata": {
    "ExecuteTime": {
     "end_time": "2025-06-12T09:05:29.134670Z",
     "start_time": "2025-06-12T09:05:29.120365Z"
    }
   },
   "cell_type": "code",
   "source": "chain_parallel = RunnableParallel({'books': chain_books, 'projects': chain_projects})",
   "id": "913fb9406784ded1",
   "outputs": [],
   "execution_count": 34
  },
  {
   "metadata": {
    "ExecuteTime": {
     "end_time": "2025-06-12T09:05:30.891447Z",
     "start_time": "2025-06-12T09:05:29.151260Z"
    }
   },
   "cell_type": "code",
   "source": "chain_parallel.invoke({'programming language': 'Python'})",
   "id": "9012db6a4939200a",
   "outputs": [
    {
     "data": {
      "text/plain": [
       "{'books': '1. \"Fluent Python\" by Luciano Ramalho  \\n2. \"Effective Python: 90 Specific Ways to Write Better Python\" by Brett Slatkin  \\n3. \"Python Cookbook\" by David Beazley and Brian K. Jones  ',\n",
       " 'projects': '1. Personal Finance Tracker with Data Visualization  \\n2. Web Scraper with Automated Reporting  \\n3. Chatbot using Natural Language Processing (NLP)'}"
      ]
     },
     "execution_count": 35,
     "metadata": {},
     "output_type": "execute_result"
    }
   ],
   "execution_count": 35
  },
  {
   "metadata": {
    "ExecuteTime": {
     "end_time": "2025-06-12T09:05:30.922354Z",
     "start_time": "2025-06-12T09:05:30.908665Z"
    }
   },
   "cell_type": "code",
   "source": "chain_parallel.get_graph().print_ascii()",
   "id": "d36d3942de025c82",
   "outputs": [
    {
     "name": "stdout",
     "output_type": "stream",
     "text": [
      "            +-------------------------------+              \r\n",
      "            | Parallel<books,projects>Input |              \r\n",
      "            +-------------------------------+              \r\n",
      "                   ***               ***                   \r\n",
      "                ***                     ***                \r\n",
      "              **                           **              \r\n",
      "+--------------------+              +--------------------+ \r\n",
      "| ChatPromptTemplate |              | ChatPromptTemplate | \r\n",
      "+--------------------+              +--------------------+ \r\n",
      "           *                                   *           \r\n",
      "           *                                   *           \r\n",
      "           *                                   *           \r\n",
      "    +------------+                      +------------+     \r\n",
      "    | ChatOpenAI |                      | ChatOpenAI |     \r\n",
      "    +------------+                      +------------+     \r\n",
      "           *                                   *           \r\n",
      "           *                                   *           \r\n",
      "           *                                   *           \r\n",
      "  +-----------------+                 +-----------------+  \r\n",
      "  | StrOutputParser |                 | StrOutputParser |  \r\n",
      "  +-----------------+                 +-----------------+  \r\n",
      "                   ***               ***                   \r\n",
      "                      ***         ***                      \r\n",
      "                         **     **                         \r\n",
      "            +--------------------------------+             \r\n",
      "            | Parallel<books,projects>Output |             \r\n",
      "            +--------------------------------+             \n"
     ]
    }
   ],
   "execution_count": 36
  },
  {
   "metadata": {
    "ExecuteTime": {
     "end_time": "2025-06-12T09:05:30.999342Z",
     "start_time": "2025-06-12T09:05:30.980782Z"
    }
   },
   "cell_type": "code",
   "source": "chain_time1 = RunnableParallel({'books': chain_books, 'projects': chain_projects}) | chat_template_time | chat | string_parser",
   "id": "6a56003228d5dd3d",
   "outputs": [],
   "execution_count": 37
  },
  {
   "metadata": {
    "ExecuteTime": {
     "end_time": "2025-06-12T09:05:31.045555Z",
     "start_time": "2025-06-12T09:05:31.032413Z"
    }
   },
   "cell_type": "code",
   "source": "chain_time2 ={'books': chain_books, 'projects': chain_projects} | chat_template_time | chat | string_parser",
   "id": "7db52791703eb6bc",
   "outputs": [],
   "execution_count": 38
  },
  {
   "metadata": {
    "ExecuteTime": {
     "end_time": "2025-06-12T09:05:39.432606Z",
     "start_time": "2025-06-12T09:05:31.079275Z"
    }
   },
   "cell_type": "code",
   "source": "print(chain_time2.invoke({'programming language': 'Python'}))",
   "id": "e45cc19175a0c25b",
   "outputs": [
    {
     "name": "stdout",
     "output_type": "stream",
     "text": [
      "The time it takes to complete the literature and projects can vary based on your current skill level, the depth of understanding you wish to achieve, and the complexity of the projects. However, I can provide a rough estimate for each.\n",
      "\n",
      "### Literature\n",
      "\n",
      "1. **\"Fluent Python\" by Luciano Ramalho**  \n",
      "   - **Estimated Time**: 4-6 weeks  \n",
      "   - This book is comprehensive and covers advanced Python concepts. Depending on your pace and how much you practice the concepts, it could take a month or more.\n",
      "\n",
      "2. **\"Effective Python: 90 Specific Ways to Write Better Python\" by Brett Slatkin**  \n",
      "   - **Estimated Time**: 2-3 weeks  \n",
      "   - This book is more concise and can be read relatively quickly, especially if you focus on the specific ways that resonate with your current projects.\n",
      "\n",
      "3. **\"Python Cookbook\" by David Beazley and Brian K. Jones**  \n",
      "   - **Estimated Time**: 3-4 weeks  \n",
      "   - This book is practical and hands-on, so you might want to spend time implementing the recipes, which could extend the time needed.\n",
      "\n",
      "### Total Literature Time: **9-13 weeks**\n",
      "\n",
      "### Projects\n",
      "\n",
      "1. **Personal Finance Tracker with Data Visualization**  \n",
      "   - **Estimated Time**: 4-6 weeks  \n",
      "   - This project involves data handling, visualization libraries (like Matplotlib or Seaborn), and possibly some web development if you want to make it interactive.\n",
      "\n",
      "2. **Web Scraper with Automated Reporting**  \n",
      "   - **Estimated Time**: 3-5 weeks  \n",
      "   - Depending on the complexity of the website you're scraping and the reporting format, this could take a few weeks. Familiarity with libraries like Beautiful Soup or Scrapy will help.\n",
      "\n",
      "3. **Chatbot using Natural Language Processing (NLP)**  \n",
      "   - **Estimated Time**: 5-8 weeks  \n",
      "   - This project can be quite complex, especially if you want to implement advanced NLP techniques. Familiarity with libraries like NLTK or spaCy will be beneficial.\n",
      "\n",
      "### Total Project Time: **12-19 weeks**\n",
      "\n",
      "### Overall Estimate\n",
      "\n",
      "Combining both literature and projects, you might expect to spend approximately **21-32 weeks** in total. This is a rough estimate and can vary based on your learning pace, the time you can dedicate each week, and your prior experience with similar topics.\n"
     ]
    }
   ],
   "execution_count": 39
  },
  {
   "metadata": {
    "ExecuteTime": {
     "end_time": "2025-06-12T09:05:39.464363Z",
     "start_time": "2025-06-12T09:05:39.453258Z"
    }
   },
   "cell_type": "code",
   "source": "chain_time1.get_graph().print_ascii()",
   "id": "39cbf4aa671b6cce",
   "outputs": [
    {
     "name": "stdout",
     "output_type": "stream",
     "text": [
      "            +-------------------------------+              \r\n",
      "            | Parallel<books,projects>Input |              \r\n",
      "            +-------------------------------+              \r\n",
      "                   ***               ***                   \r\n",
      "                ***                     ***                \r\n",
      "              **                           **              \r\n",
      "+--------------------+              +--------------------+ \r\n",
      "| ChatPromptTemplate |              | ChatPromptTemplate | \r\n",
      "+--------------------+              +--------------------+ \r\n",
      "           *                                   *           \r\n",
      "           *                                   *           \r\n",
      "           *                                   *           \r\n",
      "    +------------+                      +------------+     \r\n",
      "    | ChatOpenAI |                      | ChatOpenAI |     \r\n",
      "    +------------+                      +------------+     \r\n",
      "           *                                   *           \r\n",
      "           *                                   *           \r\n",
      "           *                                   *           \r\n",
      "  +-----------------+                 +-----------------+  \r\n",
      "  | StrOutputParser |                 | StrOutputParser |  \r\n",
      "  +-----------------+                 +-----------------+  \r\n",
      "                   ***               ***                   \r\n",
      "                      ***         ***                      \r\n",
      "                         **     **                         \r\n",
      "            +--------------------------------+             \r\n",
      "            | Parallel<books,projects>Output |             \r\n",
      "            +--------------------------------+             \r\n",
      "                             *                             \r\n",
      "                             *                             \r\n",
      "                             *                             \r\n",
      "                  +--------------------+                   \r\n",
      "                  | ChatPromptTemplate |                   \r\n",
      "                  +--------------------+                   \r\n",
      "                             *                             \r\n",
      "                             *                             \r\n",
      "                             *                             \r\n",
      "                      +------------+                       \r\n",
      "                      | ChatOpenAI |                       \r\n",
      "                      +------------+                       \r\n",
      "                             *                             \r\n",
      "                             *                             \r\n",
      "                             *                             \r\n",
      "                    +-----------------+                    \r\n",
      "                    | StrOutputParser |                    \r\n",
      "                    +-----------------+                    \r\n",
      "                             *                             \r\n",
      "                             *                             \r\n",
      "                             *                             \r\n",
      "                +-----------------------+                  \r\n",
      "                | StrOutputParserOutput |                  \r\n",
      "                +-----------------------+                  \n"
     ]
    }
   ],
   "execution_count": 40
  },
  {
   "metadata": {},
   "cell_type": "markdown",
   "source": "## Runnable Lambda",
   "id": "adcf89bff08cc07c"
  },
  {
   "metadata": {
    "ExecuteTime": {
     "end_time": "2025-06-12T09:05:39.496433Z",
     "start_time": "2025-06-12T09:05:39.491387Z"
    }
   },
   "cell_type": "code",
   "source": "find_sum = lambda x: sum(x)",
   "id": "76d2c84cc0f416e0",
   "outputs": [],
   "execution_count": 41
  },
  {
   "metadata": {
    "ExecuteTime": {
     "end_time": "2025-06-12T09:05:39.544568Z",
     "start_time": "2025-06-12T09:05:39.535551Z"
    }
   },
   "cell_type": "code",
   "source": "find_sum([1,2,5])",
   "id": "f84443efa0b51d8e",
   "outputs": [
    {
     "data": {
      "text/plain": [
       "8"
      ]
     },
     "execution_count": 42,
     "metadata": {},
     "output_type": "execute_result"
    }
   ],
   "execution_count": 42
  },
  {
   "metadata": {
    "ExecuteTime": {
     "end_time": "2025-06-12T09:05:39.575489Z",
     "start_time": "2025-06-12T09:05:39.563441Z"
    }
   },
   "cell_type": "code",
   "source": "find_square = lambda x: x**2",
   "id": "5642019061d95c1",
   "outputs": [],
   "execution_count": 43
  },
  {
   "metadata": {
    "ExecuteTime": {
     "end_time": "2025-06-12T09:05:39.606763Z",
     "start_time": "2025-06-12T09:05:39.597713Z"
    }
   },
   "cell_type": "code",
   "source": "find_square(5)",
   "id": "1d38c2c145414bd7",
   "outputs": [
    {
     "data": {
      "text/plain": [
       "25"
      ]
     },
     "execution_count": 44,
     "metadata": {},
     "output_type": "execute_result"
    }
   ],
   "execution_count": 44
  },
  {
   "metadata": {
    "ExecuteTime": {
     "end_time": "2025-06-12T09:05:39.653318Z",
     "start_time": "2025-06-12T09:05:39.643229Z"
    }
   },
   "cell_type": "code",
   "source": "from langchain_core.runnables import RunnableLambda",
   "id": "1e82328c69ba3a22",
   "outputs": [],
   "execution_count": 45
  },
  {
   "metadata": {
    "ExecuteTime": {
     "end_time": "2025-06-12T09:05:39.700039Z",
     "start_time": "2025-06-12T09:05:39.686202Z"
    }
   },
   "cell_type": "code",
   "source": "runnable_sum = RunnableLambda(lambda x: sum(x))",
   "id": "b50d7321f6b5f7f1",
   "outputs": [],
   "execution_count": 46
  },
  {
   "metadata": {
    "ExecuteTime": {
     "end_time": "2025-06-12T09:05:39.730454Z",
     "start_time": "2025-06-12T09:05:39.717443Z"
    }
   },
   "cell_type": "code",
   "source": "runnable_sum.invoke([1,2,5])",
   "id": "e5fdea07a54b8a17",
   "outputs": [
    {
     "data": {
      "text/plain": [
       "8"
      ]
     },
     "execution_count": 47,
     "metadata": {},
     "output_type": "execute_result"
    }
   ],
   "execution_count": 47
  },
  {
   "metadata": {
    "ExecuteTime": {
     "end_time": "2025-06-12T09:05:39.761716Z",
     "start_time": "2025-06-12T09:05:39.754424Z"
    }
   },
   "cell_type": "code",
   "source": "runnable_square = RunnableLambda(lambda x: x**2)",
   "id": "e6637b242e98e867",
   "outputs": [],
   "execution_count": 48
  },
  {
   "metadata": {
    "ExecuteTime": {
     "end_time": "2025-06-12T09:05:39.792694Z",
     "start_time": "2025-06-12T09:05:39.779593Z"
    }
   },
   "cell_type": "code",
   "source": "runnable_square.invoke(10)",
   "id": "498ff1ebda4ec9e3",
   "outputs": [
    {
     "data": {
      "text/plain": [
       "100"
      ]
     },
     "execution_count": 49,
     "metadata": {},
     "output_type": "execute_result"
    }
   ],
   "execution_count": 49
  },
  {
   "metadata": {
    "ExecuteTime": {
     "end_time": "2025-06-12T09:05:39.838903Z",
     "start_time": "2025-06-12T09:05:39.818395Z"
    }
   },
   "cell_type": "code",
   "source": "chain = runnable_sum | runnable_square",
   "id": "501f045bf76351ea",
   "outputs": [],
   "execution_count": 50
  },
  {
   "metadata": {
    "ExecuteTime": {
     "end_time": "2025-06-12T09:05:39.870249Z",
     "start_time": "2025-06-12T09:05:39.857482Z"
    }
   },
   "cell_type": "code",
   "source": "chain.invoke([1,2,11])",
   "id": "29e89937759a5efa",
   "outputs": [
    {
     "data": {
      "text/plain": [
       "196"
      ]
     },
     "execution_count": 51,
     "metadata": {},
     "output_type": "execute_result"
    }
   ],
   "execution_count": 51
  },
  {
   "metadata": {},
   "cell_type": "markdown",
   "source": "## The @chain Decorator",
   "id": "5aedf77b4b4053f7"
  },
  {
   "metadata": {
    "ExecuteTime": {
     "end_time": "2025-06-12T09:05:39.900233Z",
     "start_time": "2025-06-12T09:05:39.893414Z"
    }
   },
   "cell_type": "code",
   "source": [
    "from langchain_core.runnables import RunnableLambda\n",
    "from langchain_core.runnables import chain"
   ],
   "id": "98a628e99dc99429",
   "outputs": [],
   "execution_count": 52
  },
  {
   "metadata": {
    "ExecuteTime": {
     "end_time": "2025-06-12T09:05:39.930801Z",
     "start_time": "2025-06-12T09:05:39.917317Z"
    }
   },
   "cell_type": "code",
   "source": [
    "def find_sum(x):\n",
    "    return sum(x)\n",
    "\n",
    "def find_square(x):\n",
    "    return x**2"
   ],
   "id": "546efb207c56d217",
   "outputs": [],
   "execution_count": 53
  },
  {
   "metadata": {
    "ExecuteTime": {
     "end_time": "2025-06-12T09:05:39.962229Z",
     "start_time": "2025-06-12T09:05:39.948489Z"
    }
   },
   "cell_type": "code",
   "source": "chain1 = RunnableLambda(find_sum) | RunnableLambda(find_square)",
   "id": "a033e022a4a1b632",
   "outputs": [],
   "execution_count": 54
  },
  {
   "metadata": {
    "ExecuteTime": {
     "end_time": "2025-06-12T09:05:39.994373Z",
     "start_time": "2025-06-12T09:05:39.979730Z"
    }
   },
   "cell_type": "code",
   "source": "chain1.invoke([2,8,9])",
   "id": "d2d7aa0789a34cb3",
   "outputs": [
    {
     "data": {
      "text/plain": [
       "361"
      ]
     },
     "execution_count": 55,
     "metadata": {},
     "output_type": "execute_result"
    }
   ],
   "execution_count": 55
  },
  {
   "metadata": {
    "ExecuteTime": {
     "end_time": "2025-06-12T09:05:40.041226Z",
     "start_time": "2025-06-12T09:05:40.027641Z"
    }
   },
   "cell_type": "code",
   "source": [
    "@chain\n",
    "def runnable_sum(x):\n",
    "    return sum(x)\n",
    "\n",
    "@chain\n",
    "def runnable_square(x):\n",
    "    return x**2"
   ],
   "id": "d4fa91898be93cbd",
   "outputs": [],
   "execution_count": 56
  },
  {
   "metadata": {
    "ExecuteTime": {
     "end_time": "2025-06-12T09:05:40.086173Z",
     "start_time": "2025-06-12T09:05:40.073039Z"
    }
   },
   "cell_type": "code",
   "source": "chain2 = runnable_sum | runnable_square",
   "id": "c8fd797630d03d85",
   "outputs": [],
   "execution_count": 57
  },
  {
   "metadata": {
    "ExecuteTime": {
     "end_time": "2025-06-12T09:05:40.148103Z",
     "start_time": "2025-06-12T09:05:40.134186Z"
    }
   },
   "cell_type": "code",
   "source": "chain2.invoke([3,9])",
   "id": "4fc0f915f3b2ac11",
   "outputs": [
    {
     "data": {
      "text/plain": [
       "144"
      ]
     },
     "execution_count": 58,
     "metadata": {},
     "output_type": "execute_result"
    }
   ],
   "execution_count": 58
  },
  {
   "metadata": {},
   "cell_type": "markdown",
   "source": "## Adding memory to chain",
   "id": "929fee848fc47d3b"
  },
  {
   "metadata": {
    "ExecuteTime": {
     "end_time": "2025-06-12T09:05:40.179373Z",
     "start_time": "2025-06-12T09:05:40.172209Z"
    }
   },
   "cell_type": "code",
   "source": [
    "%load_ext dotenv\n",
    "%dotenv"
   ],
   "id": "c21ec4daf7a1e56e",
   "outputs": [
    {
     "name": "stdout",
     "output_type": "stream",
     "text": [
      "The dotenv extension is already loaded. To reload it, use:\n",
      "  %reload_ext dotenv\n"
     ]
    }
   ],
   "execution_count": 59
  },
  {
   "metadata": {
    "ExecuteTime": {
     "end_time": "2025-06-12T09:05:40.335416Z",
     "start_time": "2025-06-12T09:05:40.200116Z"
    }
   },
   "cell_type": "code",
   "source": [
    "from langchain.memory import ConversationSummaryMemory\n",
    "from langchain_openai import ChatOpenAI\n",
    "from langchain_core.prompts import PromptTemplate\n",
    "from langchain_core.output_parsers import StrOutputParser\n",
    "from langchain_core.runnables import RunnablePassthrough"
   ],
   "id": "ad554fc23f9d37f8",
   "outputs": [],
   "execution_count": 60
  },
  {
   "metadata": {
    "ExecuteTime": {
     "end_time": "2025-06-12T09:05:40.366560Z",
     "start_time": "2025-06-12T09:05:40.352659Z"
    }
   },
   "cell_type": "code",
   "source": "chat = ChatOpenAI(model=\"gpt-4o-mini\", seed=365, temperature=0, max_tokens=100)",
   "id": "8c9af418fd005ba1",
   "outputs": [],
   "execution_count": 61
  },
  {
   "metadata": {
    "ExecuteTime": {
     "end_time": "2025-06-12T09:05:40.396440Z",
     "start_time": "2025-06-12T09:05:40.383120Z"
    }
   },
   "cell_type": "code",
   "source": [
    "TEMPLATE = '''\n",
    "The following is a friendly conversation between a human and an AI. \n",
    "The AI is talkative and provides lots of specific details from its context. \n",
    "If the AI does not know the answer to a question, it truthfully says it does not know.\n",
    "\n",
    "Current conversation:\n",
    "{message_log}\n",
    "\n",
    "Human: \n",
    "{question}\n",
    "\n",
    "AI:\n",
    "'''\n",
    "\n",
    "prompt_template = PromptTemplate.from_template(template=TEMPLATE)\n"
   ],
   "id": "d271fdcb2e11d59d",
   "outputs": [],
   "execution_count": 62
  },
  {
   "metadata": {
    "ExecuteTime": {
     "end_time": "2025-06-12T09:05:40.427Z",
     "start_time": "2025-06-12T09:05:40.413522Z"
    }
   },
   "cell_type": "code",
   "source": "chain = prompt_template | chat | StrOutputParser()",
   "id": "a901c876367c994e",
   "outputs": [],
   "execution_count": 63
  },
  {
   "metadata": {
    "ExecuteTime": {
     "end_time": "2025-06-12T09:05:42.541382Z",
     "start_time": "2025-06-12T09:05:40.446098Z"
    }
   },
   "cell_type": "code",
   "source": "chain.invoke({'message_log': '', 'question': 'Can you give me an interesting fact?'})",
   "id": "cc2ab4dc3f6fee6a",
   "outputs": [
    {
     "data": {
      "text/plain": [
       "\"Sure! Did you know that honey never spoils? Archaeologists have found pots of honey in ancient Egyptian tombs that are over 3,000 years old and still perfectly edible! Honey's long shelf life is due to its low moisture content and acidic pH, which create an inhospitable environment for bacteria and microorganisms. So, if you have a jar of honey sitting in your pantry, it could last indefinitely!\""
      ]
     },
     "execution_count": 64,
     "metadata": {},
     "output_type": "execute_result"
    }
   ],
   "execution_count": 64
  },
  {
   "metadata": {
    "ExecuteTime": {
     "end_time": "2025-06-12T09:05:42.636118Z",
     "start_time": "2025-06-12T09:05:42.629542Z"
    }
   },
   "cell_type": "code",
   "source": "chat_memory = ConversationSummaryMemory(llm=ChatOpenAI(), memory_key='message_log')",
   "id": "74b5d41790ec6c61",
   "outputs": [
    {
     "name": "stderr",
     "output_type": "stream",
     "text": [
      "C:\\Users\\matsv\\AppData\\Local\\Temp\\ipykernel_11816\\1471810218.py:1: LangChainDeprecationWarning: Please see the migration guide at: https://python.langchain.com/docs/versions/migrating_memory/\n",
      "  chat_memory = ConversationSummaryMemory(llm=ChatOpenAI(), memory_key='message_log')\n"
     ]
    }
   ],
   "execution_count": 65
  },
  {
   "metadata": {
    "ExecuteTime": {
     "end_time": "2025-06-12T09:05:42.792323Z",
     "start_time": "2025-06-12T09:05:42.783289Z"
    }
   },
   "cell_type": "code",
   "source": "chat_memory.load_memory_variables({})",
   "id": "4827fbfab966cbbc",
   "outputs": [
    {
     "data": {
      "text/plain": [
       "{'message_log': ''}"
      ]
     },
     "execution_count": 66,
     "metadata": {},
     "output_type": "execute_result"
    }
   ],
   "execution_count": 66
  },
  {
   "metadata": {
    "ExecuteTime": {
     "end_time": "2025-06-12T09:05:42.978453Z",
     "start_time": "2025-06-12T09:05:42.961443Z"
    }
   },
   "cell_type": "code",
   "source": "RunnablePassthrough(message_log=chat_memory.load_memory_variables).invoke({'question': \"Can you give me an interesting fact?\"})",
   "id": "364ae0bc1fc6e84a",
   "outputs": [
    {
     "data": {
      "text/plain": [
       "{'question': 'Can you give me an interesting fact?'}"
      ]
     },
     "execution_count": 67,
     "metadata": {},
     "output_type": "execute_result"
    }
   ],
   "execution_count": 67
  },
  {
   "metadata": {
    "ExecuteTime": {
     "end_time": "2025-06-12T09:05:43.104756Z",
     "start_time": "2025-06-12T09:05:43.085225Z"
    }
   },
   "cell_type": "code",
   "source": "RunnablePassthrough.assign(first_letter = lambda x: list(x['input'])[0]).invoke({'input': \"fact?\"})",
   "id": "2fd65e2036b7b719",
   "outputs": [
    {
     "data": {
      "text/plain": [
       "{'input': 'fact?', 'first_letter': 'f'}"
      ]
     },
     "execution_count": 68,
     "metadata": {},
     "output_type": "execute_result"
    }
   ],
   "execution_count": 68
  },
  {
   "metadata": {},
   "cell_type": "markdown",
   "source": "## Itemgetter",
   "id": "e99d8c279161729b"
  },
  {
   "metadata": {
    "ExecuteTime": {
     "end_time": "2025-06-12T09:07:20.341684Z",
     "start_time": "2025-06-12T09:07:20.282252Z"
    }
   },
   "cell_type": "code",
   "source": "from operator import itemgetter",
   "id": "507a050207f5a5a0",
   "outputs": [],
   "execution_count": 69
  },
  {
   "metadata": {
    "ExecuteTime": {
     "end_time": "2025-06-12T09:07:31.848258Z",
     "start_time": "2025-06-12T09:07:31.831140Z"
    }
   },
   "cell_type": "code",
   "source": "itemgetter(0)('hi')",
   "id": "6b678fc24ec9431f",
   "outputs": [
    {
     "data": {
      "text/plain": [
       "'h'"
      ]
     },
     "execution_count": 70,
     "metadata": {},
     "output_type": "execute_result"
    }
   ],
   "execution_count": 70
  },
  {
   "metadata": {
    "ExecuteTime": {
     "end_time": "2025-06-12T09:07:48.676617Z",
     "start_time": "2025-06-12T09:07:48.659020Z"
    }
   },
   "cell_type": "code",
   "source": "itemgetter(2)([0,1,2,3,4])",
   "id": "46a8eda0fafad36b",
   "outputs": [
    {
     "data": {
      "text/plain": [
       "2"
      ]
     },
     "execution_count": 71,
     "metadata": {},
     "output_type": "execute_result"
    }
   ],
   "execution_count": 71
  },
  {
   "metadata": {
    "ExecuteTime": {
     "end_time": "2025-06-12T09:08:29.046475Z",
     "start_time": "2025-06-12T09:08:29.025476Z"
    }
   },
   "cell_type": "code",
   "source": "itemgetter('message_log')({'message_log': 'hi'})",
   "id": "5c801b06b8634d53",
   "outputs": [
    {
     "data": {
      "text/plain": [
       "'hi'"
      ]
     },
     "execution_count": 73,
     "metadata": {},
     "output_type": "execute_result"
    }
   ],
   "execution_count": 73
  },
  {
   "metadata": {
    "ExecuteTime": {
     "end_time": "2025-06-12T09:09:26.275652Z",
     "start_time": "2025-06-12T09:09:26.251109Z"
    }
   },
   "cell_type": "code",
   "source": "RunnableLambda(itemgetter('message_log')).invoke({'message_log': 'hello'})",
   "id": "3d9448fa2b0e0102",
   "outputs": [
    {
     "data": {
      "text/plain": [
       "'hello'"
      ]
     },
     "execution_count": 75,
     "metadata": {},
     "output_type": "execute_result"
    }
   ],
   "execution_count": 75
  },
  {
   "metadata": {
    "ExecuteTime": {
     "end_time": "2025-06-12T09:12:38.964915Z",
     "start_time": "2025-06-12T09:12:38.921993Z"
    }
   },
   "cell_type": "code",
   "source": [
    "RunnablePassthrough.assign(message_log=\n",
    "                    RunnableLambda(chat_memory.load_memory_variables) | RunnableLambda(itemgetter('message_log'))).invoke(\n",
    "    {'question': \"Can you give me an interesting fact?\"})"
   ],
   "id": "8a20d0127b8926e3",
   "outputs": [
    {
     "data": {
      "text/plain": [
       "{'question': 'Can you give me an interesting fact?', 'message_log': ''}"
      ]
     },
     "execution_count": 78,
     "metadata": {},
     "output_type": "execute_result"
    }
   ],
   "execution_count": 78
  },
  {
   "metadata": {},
   "cell_type": "markdown",
   "source": "# Adding Memory To chain Part 2",
   "id": "93c96c6fcdb653f3"
  },
  {
   "metadata": {
    "ExecuteTime": {
     "end_time": "2025-06-12T09:20:10.918609Z",
     "start_time": "2025-06-12T09:20:10.896285Z"
    }
   },
   "cell_type": "code",
   "source": [
    "# question = \"Can you give me an interesting fact i didn't know about?\"\n",
    "question = \"Can you elaborate a bit more on this?\""
   ],
   "id": "669740f407bcf878",
   "outputs": [],
   "execution_count": 88
  },
  {
   "metadata": {
    "ExecuteTime": {
     "end_time": "2025-06-12T09:20:14.168227Z",
     "start_time": "2025-06-12T09:20:14.150692Z"
    }
   },
   "cell_type": "code",
   "source": [
    "output = RunnablePassthrough.assign(\n",
    "    message_log= RunnableLambda(chat_memory.load_memory_variables) |\n",
    "                itemgetter('message_log')).invoke(\n",
    "    {'question': question})"
   ],
   "id": "f168178507c893e6",
   "outputs": [],
   "execution_count": 89
  },
  {
   "metadata": {
    "ExecuteTime": {
     "end_time": "2025-06-12T09:20:14.386805Z",
     "start_time": "2025-06-12T09:20:14.375744Z"
    }
   },
   "cell_type": "code",
   "source": "prompt_value_template = prompt_template.invoke(output)",
   "id": "f55a654790037916",
   "outputs": [],
   "execution_count": 90
  },
  {
   "metadata": {
    "ExecuteTime": {
     "end_time": "2025-06-12T09:20:18.328082Z",
     "start_time": "2025-06-12T09:20:14.716160Z"
    }
   },
   "cell_type": "code",
   "source": "ai_message_output = chat.invoke(prompt_value_template)",
   "id": "7d62f0ccabf1a6d9",
   "outputs": [],
   "execution_count": 91
  },
  {
   "metadata": {
    "ExecuteTime": {
     "end_time": "2025-06-12T09:20:18.359385Z",
     "start_time": "2025-06-12T09:20:18.340675Z"
    }
   },
   "cell_type": "code",
   "source": "response = StrOutputParser().invoke(ai_message_output)",
   "id": "c99b96f7c5cf235d",
   "outputs": [],
   "execution_count": 92
  },
  {
   "metadata": {
    "ExecuteTime": {
     "end_time": "2025-06-12T09:20:20.087023Z",
     "start_time": "2025-06-12T09:20:18.395186Z"
    }
   },
   "cell_type": "code",
   "source": "chat_memory.save_context(inputs={'input': question}, outputs={'output': response})",
   "id": "e47d10ddb893e192",
   "outputs": [],
   "execution_count": 93
  },
  {
   "metadata": {
    "ExecuteTime": {
     "end_time": "2025-06-12T09:20:20.133435Z",
     "start_time": "2025-06-12T09:20:20.121252Z"
    }
   },
   "cell_type": "code",
   "source": "chat_memory.load_memory_variables({})",
   "id": "88a6af36ea28e10b",
   "outputs": [
    {
     "data": {
      "text/plain": [
       "{'message_log': \"The human asks for an interesting fact they didn't know about, and the AI shares that honey never spoils due to its low moisture content and acidic pH. Honey found in ancient Egyptian tombs over 3,000 years old is still edible. The AI elaborates on honey's chemical composition, including its low moisture content and natural acidity, which prevent bacteria growth. Bees collect nectar from flowers to create honey, making it a truly fascinating and long-lasting food source.\"}"
      ]
     },
     "execution_count": 94,
     "metadata": {},
     "output_type": "execute_result"
    }
   ],
   "execution_count": 94
  },
  {
   "metadata": {
    "ExecuteTime": {
     "end_time": "2025-06-12T09:21:32.350937Z",
     "start_time": "2025-06-12T09:21:28.179197Z"
    }
   },
   "cell_type": "code",
   "source": [
    "chain1 = (\n",
    "    RunnablePassthrough.assign(\n",
    "        message_log = RunnableLambda(chat_memory.load_memory_variables) | \n",
    "        itemgetter('message_log')) \n",
    "    | prompt_template \n",
    "    | chat \n",
    "    | StrOutputParser()\n",
    ")\n",
    "\n",
    "question = \"Can you elaborate a bit more on this fact?\"\n",
    "\n",
    "response = chain1.invoke({'question':question})\n",
    "\n",
    "chat_memory.save_context(inputs = {'input':question}, \n",
    "                         outputs = {'output':response})\n",
    "\n",
    "response"
   ],
   "id": "24d48b67b45b1af9",
   "outputs": [
    {
     "data": {
      "text/plain": [
       "\"Absolutely! Honey's remarkable longevity is primarily due to its unique chemical composition. When bees collect nectar from flowers, they bring it back to the hive and process it by adding enzymes, which break down the sugars in the nectar. This process not only transforms the nectar into honey but also reduces its moisture content significantly.\\n\\nThe low moisture content is crucial because most bacteria and microorganisms require a certain level of moisture to thrive. Honey typically has a moisture content of around 17-18%, which is too low for\""
      ]
     },
     "execution_count": 95,
     "metadata": {},
     "output_type": "execute_result"
    }
   ],
   "execution_count": 95
  },
  {
   "metadata": {
    "ExecuteTime": {
     "end_time": "2025-06-12T09:22:29.268982Z",
     "start_time": "2025-06-12T09:22:29.260830Z"
    }
   },
   "cell_type": "code",
   "source": "",
   "id": "5f1df3ba426e825f",
   "outputs": [],
   "execution_count": null
  },
  {
   "metadata": {},
   "cell_type": "code",
   "outputs": [],
   "execution_count": null,
   "source": "",
   "id": "a839c94596db9454"
  }
 ],
 "metadata": {
  "kernelspec": {
   "display_name": "Python 3",
   "language": "python",
   "name": "python3"
  },
  "language_info": {
   "codemirror_mode": {
    "name": "ipython",
    "version": 2
   },
   "file_extension": ".py",
   "mimetype": "text/x-python",
   "name": "python",
   "nbconvert_exporter": "python",
   "pygments_lexer": "ipython2",
   "version": "2.7.6"
  }
 },
 "nbformat": 4,
 "nbformat_minor": 5
}
