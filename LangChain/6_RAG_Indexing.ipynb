{
 "cells": [
  {
   "metadata": {},
   "cell_type": "markdown",
   "source": "# Indexing RAG (Retrival Augmented Generation)",
   "id": "323a901b31486f0"
  },
  {
   "metadata": {
    "ExecuteTime": {
     "end_time": "2025-06-12T12:29:48.417993Z",
     "start_time": "2025-06-12T12:29:48.405992Z"
    }
   },
   "cell_type": "code",
   "source": [
    "%load_ext dotenv\n",
    "%dotenv"
   ],
   "id": "96f73042418d8a8e",
   "outputs": [
    {
     "name": "stdout",
     "output_type": "stream",
     "text": [
      "The dotenv extension is already loaded. To reload it, use:\n",
      "  %reload_ext dotenv\n"
     ]
    }
   ],
   "execution_count": 5
  },
  {
   "metadata": {
    "ExecuteTime": {
     "end_time": "2025-06-12T12:29:49.325629Z",
     "start_time": "2025-06-12T12:29:48.512912Z"
    }
   },
   "cell_type": "code",
   "source": [
    "from langchain_community.document_loaders import PyPDFLoader\n",
    "import copy"
   ],
   "id": "8d8e785ffc8dd568",
   "outputs": [],
   "execution_count": 6
  },
  {
   "metadata": {
    "ExecuteTime": {
     "end_time": "2025-06-12T12:29:49.357692Z",
     "start_time": "2025-06-12T12:29:49.343697Z"
    }
   },
   "cell_type": "code",
   "source": "loader_pdf = PyPDFLoader(\"../resources/Introduction_to_Data_and_Data_Science.pdf\")",
   "id": "f1edb78928470703",
   "outputs": [],
   "execution_count": 7
  },
  {
   "metadata": {
    "ExecuteTime": {
     "end_time": "2025-06-12T12:29:49.704678Z",
     "start_time": "2025-06-12T12:29:49.376778Z"
    }
   },
   "cell_type": "code",
   "source": "pages_pdf = loader_pdf.load()",
   "id": "c068cdf038ea6af",
   "outputs": [],
   "execution_count": 8
  },
  {
   "metadata": {
    "ExecuteTime": {
     "end_time": "2025-06-12T12:29:49.736589Z",
     "start_time": "2025-06-12T12:29:49.722589Z"
    }
   },
   "cell_type": "code",
   "source": "pages_pdf[5]",
   "id": "dc17c754354e980c",
   "outputs": [
    {
     "data": {
      "text/plain": [
       "Document(metadata={'producer': 'Microsoft® Word for Microsoft 365', 'creator': 'Microsoft® Word for Microsoft 365', 'creationdate': '2023-11-09T10:16:34+02:00', 'author': 'Hristina  Hristova', 'moddate': '2023-11-09T10:16:34+02:00', 'source': '../resources/Introduction_to_Data_and_Data_Science.pdf', 'total_pages': 6, 'page': 5, 'page_label': '6'}, page_content='We hope we gave you a good idea about the \\nlevel of applicability of the most frequently \\nused programming and software tools in the \\nfield of data science. \\nThank you for watching!')"
      ]
     },
     "execution_count": 9,
     "metadata": {},
     "output_type": "execute_result"
    }
   ],
   "execution_count": 9
  },
  {
   "metadata": {
    "ExecuteTime": {
     "end_time": "2025-06-12T12:29:49.829588Z",
     "start_time": "2025-06-12T12:29:49.819588Z"
    }
   },
   "cell_type": "code",
   "source": "pages_pdf_cut = copy.deepcopy(pages_pdf)",
   "id": "ee2d13780e4b36f8",
   "outputs": [],
   "execution_count": 10
  },
  {
   "metadata": {
    "ExecuteTime": {
     "end_time": "2025-06-12T12:29:49.860589Z",
     "start_time": "2025-06-12T12:29:49.852588Z"
    }
   },
   "cell_type": "code",
   "source": [
    "for i in pages_pdf_cut:\n",
    "    i.page_content = \" \".join(i.page_content.split())"
   ],
   "id": "1d1b2727378ce010",
   "outputs": [],
   "execution_count": 11
  },
  {
   "metadata": {
    "ExecuteTime": {
     "end_time": "2025-06-12T12:29:49.908586Z",
     "start_time": "2025-06-12T12:29:49.888589Z"
    }
   },
   "cell_type": "code",
   "source": "pages_pdf_cut",
   "id": "8f91c39a2a106350",
   "outputs": [
    {
     "data": {
      "text/plain": [
       "[Document(metadata={'producer': 'Microsoft® Word for Microsoft 365', 'creator': 'Microsoft® Word for Microsoft 365', 'creationdate': '2023-11-09T10:16:34+02:00', 'author': 'Hristina  Hristova', 'moddate': '2023-11-09T10:16:34+02:00', 'source': '../resources/Introduction_to_Data_and_Data_Science.pdf', 'total_pages': 6, 'page': 0, 'page_label': '1'}, page_content='Analysis vs Analytics Alright! So… Let’s discuss the not-so-obvious differences between the terms analysis and analytics. Due to the similarity of the words, some people believe they share the same meaning, and thus use them interchangeably. Technically, this isn’t correct. There is, in fact, a distinct difference between the two. And the reason for one often being used instead of the other is the lack of a transparent understanding of both. So, let’s clear this up, shall we? First, we will start with analysis. Consider the following… You have a huge dataset containing data of various types. Instead of tackling the entire dataset and running the risk of becoming overwhelmed, you separate it into easier to digest chunks and study them individually and examine how they relate to other parts. And that’s analysis in a nutshell. One important thing to remember, however, is that you perform analyses on things that have already happened in the past. Such as using an analysis to explain how a story ended the way it did or how there was a decrease in sales last summer. All this means that we do analyses to explain how and/or why something happened. Great! Now, this leads us nicely on to the definition of analytics. As you have probably guessed, analytics generally refers to the future. Instead of explaining past events it explores potential future ones. Analytics is essentially the application of logical and computational reasoning to the component parts obtained in an analysis. And in doing this you are looking for patterns'),\n",
       " Document(metadata={'producer': 'Microsoft® Word for Microsoft 365', 'creator': 'Microsoft® Word for Microsoft 365', 'creationdate': '2023-11-09T10:16:34+02:00', 'author': 'Hristina  Hristova', 'moddate': '2023-11-09T10:16:34+02:00', 'source': '../resources/Introduction_to_Data_and_Data_Science.pdf', 'total_pages': 6, 'page': 1, 'page_label': '2'}, page_content=\"and exploring what you could do with them in the future. Here, analytics branches off into two areas: qualitative analytics – this is using your intuition and experience in conjunction with the analysis to plan your next business move. And quantitative analytics – this is applying formulas and algorithms to numbers you have gathered from your analysis. Here are a couple of examples. Say, you are an owner of an online clothing store. You are ahead of the competition and have a great understanding of what your customer's needs and wants are. You’ve performed a very detailed analysis from women’s clothing articles and feel sure about which fashion trends to follow. You may use this intuition to decide on which styles of clothing to start selling. This would be qualitative analytics. But you might not know when to introduce the new collection. In that case, relying on past sales data and user experience data, you could predict in which month it would be best to do that. This is an example of using quantitative analytics. Fantastic! To backtrack a little, you can combine these areas with analyses also – you could perform qualitative analysis – to explain how or why a story ended the way it did. And you can perform quantitative analysis – working with past data to explain how sales decreased last summer. Perfect! Now that we have cleared up the differences between analysis and analytics it shouldn’t be too difficult to see how terms such as ‘data analysis’, ‘data analytics’, ‘business analysis’ and ‘business analytics’ can have their unique meanings too. More of this will be explained in the next video which aims to simplify these, as well\"),\n",
       " Document(metadata={'producer': 'Microsoft® Word for Microsoft 365', 'creator': 'Microsoft® Word for Microsoft 365', 'creationdate': '2023-11-09T10:16:34+02:00', 'author': 'Hristina  Hristova', 'moddate': '2023-11-09T10:16:34+02:00', 'source': '../resources/Introduction_to_Data_and_Data_Science.pdf', 'total_pages': 6, 'page': 2, 'page_label': '3'}, page_content='as many more with a fantastic diagram. So, let’s move on! Programming Languages & Software Employed in Data Science - All the Tools You Need Alright! So… How are the techniques used in data, business intelligence, or predictive analytics applied in real life? Certainly, with the help of computers. You can basically split the relevant tools into two categories—programming languages and software. Knowing a programming language enables you to devise programs that can execute specific operations. Moreover, you can reuse these programs whenever you need to execute the same action. As you can see from the infographic, R, and Python are the two most popular tools across all columns. Their biggest advantage is that they can manipulate data and are integrated within multiple data and data science software platforms. They are not just suitable for mathematical and statistical computations. In other words, R, and Python are adaptable. They can solve a wide variety of business and data-related problems from beginning to the end. Of course, R, and Python do have their limitations. They are not able to address problems specific to some domains. One example is ‘relational database management systems’—there, SQL is king. It was specifically created for that purpose. SQL is at its most advantageous when working with traditional, historical data. When preparing your BI analysis, for instance, you will surely employ it. Okay. When it comes to data science, mentioning'),\n",
       " Document(metadata={'producer': 'Microsoft® Word for Microsoft 365', 'creator': 'Microsoft® Word for Microsoft 365', 'creationdate': '2023-11-09T10:16:34+02:00', 'author': 'Hristina  Hristova', 'moddate': '2023-11-09T10:16:34+02:00', 'source': '../resources/Introduction_to_Data_and_Data_Science.pdf', 'total_pages': 6, 'page': 3, 'page_label': '4'}, page_content='MATLAB is inevitable. It is ideal for working with mathematical functions or matrix manipulations. That’s why it is present in all categories except for ‘big data’. While respectable, MATLAB usage is a paid service, and that’s one of the reasons why it is losing ground to open-source languages like R and Python. Either way, R, Python, and MATLAB, combined with SQL, cover most of the tools used when working with traditional data, BI, and conventional data science. What about big data? Apart from R and Python, people working in this area are often proficient in other languages like Java or Scala. These two have not been developed specifically for doing statistical analyses, however they turn out to be very useful when combining data from multiple sources. All right! Let’s finish off with machine learning. When it comes to machine learning, we often deal with big data. Thus, we need a lot of computational power, and we can expect people to use the languages similar to those in the big data column. Apart from R, Python, and MATLAB, other, faster languages are used like Java, JavaScript, C, C++, and Scala. Cool. What we said may be wonderful, but that’s not all! By using one or more programming languages, people create application software or, as they are sometimes called, software solutions, that are adjusted for specific business needs. Their smaller scope does not make them less useful, in fact, just the opposite—they are a lot easier to learn and be adopted by others. You have already heard of several of those. Because of its ability to do relatively complex computations and good visualizations quickly, Excel is a tool applicable to more than one'),\n",
       " Document(metadata={'producer': 'Microsoft® Word for Microsoft 365', 'creator': 'Microsoft® Word for Microsoft 365', 'creationdate': '2023-11-09T10:16:34+02:00', 'author': 'Hristina  Hristova', 'moddate': '2023-11-09T10:16:34+02:00', 'source': '../resources/Introduction_to_Data_and_Data_Science.pdf', 'total_pages': 6, 'page': 4, 'page_label': '5'}, page_content='category—traditional data, BI, and Data Science. Similarly, SPSS is a very famous tool for working with traditional data and applying statistical analysis. Among the many applications we have plotted, we can say there is an increasing amount of software designed for working with big data such as Apache Hadoop, Apache Hbase, and Mongo DB. In terms of big data, Hadoop is the name that must stick with you. Hadoop is listed as a software in the sense that it is a collection of programs, but don’t imagine it as a nice-looking application. It’s actually a software framework which was designed to address the complexity of big data and its computational intensity. Most notably, Hadoop distributes the computational tasks on multiple computers which is basically the way to handle big data nowadays. Power BI, SaS, Qlik, and especially Tableau are top-notch examples of software designed for business intelligence visualizations. In terms of predictive analytics, EViews is mostly used for working with econometric time-series models, and Stata—for academic statistical and econometric research, where techniques like regression, cluster, and factor analysis are constantly applied. As a final note, remember the following. Should you have the relevant business and theoretical knowledge, learning a software tool is relatively easy as opposed to learning a programming language. More importantly, it will be sufficient for your need to create quick and accurate analyses. However, if your theoretical preparation is strong enough, you will find yourself restricted by software. Knowing a programming language such as R and Python, gives you the freedom to create specific, ad-hoc tools for each project you are working on. Great!'),\n",
       " Document(metadata={'producer': 'Microsoft® Word for Microsoft 365', 'creator': 'Microsoft® Word for Microsoft 365', 'creationdate': '2023-11-09T10:16:34+02:00', 'author': 'Hristina  Hristova', 'moddate': '2023-11-09T10:16:34+02:00', 'source': '../resources/Introduction_to_Data_and_Data_Science.pdf', 'total_pages': 6, 'page': 5, 'page_label': '6'}, page_content='We hope we gave you a good idea about the level of applicability of the most frequently used programming and software tools in the field of data science. Thank you for watching!')]"
      ]
     },
     "execution_count": 12,
     "metadata": {},
     "output_type": "execute_result"
    }
   ],
   "execution_count": 12
  },
  {
   "metadata": {},
   "cell_type": "markdown",
   "source": "## Indexing DOCX file",
   "id": "8b401c4c8c8ce186"
  },
  {
   "metadata": {
    "ExecuteTime": {
     "end_time": "2025-06-12T12:29:50.031587Z",
     "start_time": "2025-06-12T12:29:50.017588Z"
    }
   },
   "cell_type": "code",
   "source": "from langchain_community.document_loaders import Docx2txtLoader",
   "id": "686cfffb60b2cd4",
   "outputs": [],
   "execution_count": 13
  },
  {
   "metadata": {
    "ExecuteTime": {
     "end_time": "2025-06-12T12:29:50.062586Z",
     "start_time": "2025-06-12T12:29:50.049589Z"
    }
   },
   "cell_type": "code",
   "source": "loader_docx = Docx2txtLoader(\"../resources/Introduction_to_Data_and_Data_Science.docx\")",
   "id": "a6c9b37035b90cb6",
   "outputs": [],
   "execution_count": 14
  },
  {
   "metadata": {
    "ExecuteTime": {
     "end_time": "2025-06-12T12:29:50.109586Z",
     "start_time": "2025-06-12T12:29:50.081594Z"
    }
   },
   "cell_type": "code",
   "source": "pages_docx = loader_docx.load()",
   "id": "5b948b3a04c408c",
   "outputs": [],
   "execution_count": 15
  },
  {
   "metadata": {},
   "cell_type": "markdown",
   "source": "## Document Splitting",
   "id": "4fd3c07da43d3d8c"
  },
  {
   "metadata": {
    "ExecuteTime": {
     "end_time": "2025-06-12T12:29:50.156778Z",
     "start_time": "2025-06-12T12:29:50.127691Z"
    }
   },
   "cell_type": "code",
   "source": "from langchain_text_splitters.character import CharacterTextSplitter",
   "id": "7d8652ef17ea1376",
   "outputs": [],
   "execution_count": 16
  },
  {
   "metadata": {
    "ExecuteTime": {
     "end_time": "2025-06-12T12:29:50.187788Z",
     "start_time": "2025-06-12T12:29:50.174690Z"
    }
   },
   "cell_type": "code",
   "source": [
    "for i in range(len(pages_docx)):\n",
    "    pages_docx[i].page_content = \" \".join(pages_docx[i].page_content.split())\n"
   ],
   "id": "85630468d476d957",
   "outputs": [],
   "execution_count": 17
  },
  {
   "metadata": {
    "ExecuteTime": {
     "end_time": "2025-06-12T12:29:50.218460Z",
     "start_time": "2025-06-12T12:29:50.204790Z"
    }
   },
   "cell_type": "code",
   "source": "pages_docx[0].page_content",
   "id": "122f821fe2607e8a",
   "outputs": [
    {
     "data": {
      "text/plain": [
       "\"Analysis vs Analytics Alright! So… Let’s discuss the not-so-obvious differences between the terms analysis and analytics. Due to the similarity of the words, some people believe they share the same meaning, and thus use them interchangeably. Technically, this isn’t correct. There is, in fact, a distinct difference between the two. And the reason for one often being used instead of the other is the lack of a transparent understanding of both. So, let’s clear this up, shall we? First, we will start with analysis. Consider the following… You have a huge dataset containing data of various types. Instead of tackling the entire dataset and running the risk of becoming overwhelmed, you separate it into easier to digest chunks and study them individually and examine how they relate to other parts. And that’s analysis in a nutshell. One important thing to remember, however, is that you perform analyses on things that have already happened in the past. Such as using an analysis to explain how a story ended the way it did or how there was a decrease in sales last summer. All this means that we do analyses to explain how and/or why something happened. Great! Now, this leads us nicely on to the definition of analytics. As you have probably guessed, analytics generally refers to the future. Instead of explaining past events it explores potential future ones. Analytics is essentially the application of logical and computational reasoning to the component parts obtained in an analysis. And in doing this you are looking for patterns and exploring what you could do with them in the future. Here, analytics branches off into two areas: qualitative analytics – this is using your intuition and experience in conjunction with the analysis to plan your next business move. And quantitative analytics – this is applying formulas and algorithms to numbers you have gathered from your analysis. Here are a couple of examples. Say, you are an owner of an online clothing store. You are ahead of the competition and have a great understanding of what your customer's needs and wants are. You’ve performed a very detailed analysis from women’s clothing articles and feel sure about which fashion trends to follow. You may use this intuition to decide on which styles of clothing to start selling. This would be qualitative analytics. But you might not know when to introduce the new collection. In that case, relying on past sales data and user experience data, you could predict in which month it would be best to do that. This is an example of using quantitative analytics. Fantastic! To backtrack a little, you can combine these areas with analyses also – you could perform qualitative analysis – to explain how or why a story ended the way it did. And you can perform quantitative analysis – working with past data to explain how sales decreased last summer. Perfect! Now that we have cleared up the differences between analysis and analytics it shouldn’t be too difficult to see how terms such as ‘data analysis’, ‘data analytics’, ‘business analysis’ and ‘business analytics’ can have their unique meanings too. More of this will be explained in the next video which aims to simplify these, as well as many more with a fantastic diagram. So, let’s move on! Programming Languages & Software Employed in Data Science - All the Tools You Need Alright! So… How are the techniques used in data, business intelligence, or predictive analytics applied in real life? Certainly, with the help of computers. You can basically split the relevant tools into two categories—programming languages and software. Knowing a programming language enables you to devise programs that can execute specific operations. Moreover, you can reuse these programs whenever you need to execute the same action. As you can see from the infographic, R, and Python are the two most popular tools across all columns. Their biggest advantage is that they can manipulate data and are integrated within multiple data and data science software platforms. They are not just suitable for mathematical and statistical computations. In other words, R, and Python are adaptable. They can solve a wide variety of business and data-related problems from beginning to the end. Of course, R, and Python do have their limitations. They are not able to address problems specific to some domains. One example is ‘relational database management systems’—there, SQL is king. It was specifically created for that purpose. SQL is at its most advantageous when working with traditional, historical data. When preparing your BI analysis, for instance, you will surely employ it. Okay. When it comes to data science, mentioning MATLAB is inevitable. It is ideal for working with mathematical functions or matrix manipulations. That’s why it is present in all categories except for ‘big data’. While respectable, MATLAB usage is a paid service, and that’s one of the reasons why it is losing ground to open-source languages like R and Python. Either way, R, Python, and MATLAB, combined with SQL, cover most of the tools used when working with traditional data, BI, and conventional data science. What about big data? Apart from R and Python, people working in this area are often proficient in other languages like Java or Scala. These two have not been developed specifically for doing statistical analyses, however they turn out to be very useful when combining data from multiple sources. All right! Let’s finish off with machine learning. When it comes to machine learning, we often deal with big data. Thus, we need a lot of computational power, and we can expect people to use the languages similar to those in the big data column. Apart from R, Python, and MATLAB, other, faster languages are used like Java, JavaScript, C, C++, and Scala. Cool. What we said may be wonderful, but that’s not all! By using one or more programming languages, people create application software or, as they are sometimes called, software solutions, that are adjusted for specific business needs. Their smaller scope does not make them less useful, in fact, just the opposite—they are a lot easier to learn and be adopted by others. You have already heard of several of those. Because of its ability to do relatively complex computations and good visualizations quickly, Excel is a tool applicable to more than one category—traditional data, BI, and Data Science. Similarly, SPSS is a very famous tool for working with traditional data and applying statistical analysis. Among the many applications we have plotted, we can say there is an increasing amount of software designed for working with big data such as Apache Hadoop, Apache Hbase, and Mongo DB. In terms of big data, Hadoop is the name that must stick with you. Hadoop is listed as a software in the sense that it is a collection of programs, but don’t imagine it as a nice-looking application. It’s actually a software framework which was designed to address the complexity of big data and its computational intensity. Most notably, Hadoop distributes the computational tasks on multiple computers which is basically the way to handle big data nowadays. Power BI, SaS, Qlik, and especially Tableau are top-notch examples of software designed for business intelligence visualizations. In terms of predictive analytics, EViews is mostly used for working with econometric time-series models, and Stata—for academic statistical and econometric research, where techniques like regression, cluster, and factor analysis are constantly applied. As a final note, remember the following. Should you have the relevant business and theoretical knowledge, learning a software tool is relatively easy as opposed to learning a programming language. More importantly, it will be sufficient for your need to create quick and accurate analyses. However, if your theoretical preparation is strong enough, you will find yourself restricted by software. Knowing a programming language such as R and Python, gives you the freedom to create specific, ad-hoc tools for each project you are working on. Great! We hope we gave you a good idea about the level of applicability of the most frequently used programming and software tools in the field of data science. Thank you for watching!\""
      ]
     },
     "execution_count": 18,
     "metadata": {},
     "output_type": "execute_result"
    }
   ],
   "execution_count": 18
  },
  {
   "metadata": {
    "ExecuteTime": {
     "end_time": "2025-06-12T12:29:50.250543Z",
     "start_time": "2025-06-12T12:29:50.241546Z"
    }
   },
   "cell_type": "code",
   "source": "char_splitter = CharacterTextSplitter(separator=\".\", chunk_size=500, chunk_overlap=50)",
   "id": "8b773ce90c2a2706",
   "outputs": [],
   "execution_count": 19
  },
  {
   "metadata": {
    "ExecuteTime": {
     "end_time": "2025-06-12T12:29:50.281793Z",
     "start_time": "2025-06-12T12:29:50.268548Z"
    }
   },
   "cell_type": "code",
   "source": "pages_char_split = char_splitter.split_documents(pages_docx)",
   "id": "fadc9a90b4380854",
   "outputs": [],
   "execution_count": 20
  },
  {
   "metadata": {
    "ExecuteTime": {
     "end_time": "2025-06-12T12:29:50.312233Z",
     "start_time": "2025-06-12T12:29:50.298017Z"
    }
   },
   "cell_type": "code",
   "source": "len(pages_char_split)",
   "id": "8a4a33783789a732",
   "outputs": [
    {
     "data": {
      "text/plain": [
       "21"
      ]
     },
     "execution_count": 21,
     "metadata": {},
     "output_type": "execute_result"
    }
   ],
   "execution_count": 21
  },
  {
   "metadata": {
    "ExecuteTime": {
     "end_time": "2025-06-12T12:29:50.358679Z",
     "start_time": "2025-06-12T12:29:50.340663Z"
    }
   },
   "cell_type": "code",
   "source": "pages_char_split[0].page_content",
   "id": "b7041ae57ad0928a",
   "outputs": [
    {
     "data": {
      "text/plain": [
       "'Analysis vs Analytics Alright! So… Let’s discuss the not-so-obvious differences between the terms analysis and analytics. Due to the similarity of the words, some people believe they share the same meaning, and thus use them interchangeably. Technically, this isn’t correct. There is, in fact, a distinct difference between the two. And the reason for one often being used instead of the other is the lack of a transparent understanding of both'"
      ]
     },
     "execution_count": 22,
     "metadata": {},
     "output_type": "execute_result"
    }
   ],
   "execution_count": 22
  },
  {
   "metadata": {
    "ExecuteTime": {
     "end_time": "2025-06-12T12:29:50.389639Z",
     "start_time": "2025-06-12T12:29:50.376685Z"
    }
   },
   "cell_type": "code",
   "source": "pages_char_split[1].page_content",
   "id": "d2153681d48424ef",
   "outputs": [
    {
     "data": {
      "text/plain": [
       "'So, let’s clear this up, shall we? First, we will start with analysis. Consider the following… You have a huge dataset containing data of various types. Instead of tackling the entire dataset and running the risk of becoming overwhelmed, you separate it into easier to digest chunks and study them individually and examine how they relate to other parts. And that’s analysis in a nutshell'"
      ]
     },
     "execution_count": 23,
     "metadata": {},
     "output_type": "execute_result"
    }
   ],
   "execution_count": 23
  },
  {
   "metadata": {},
   "cell_type": "markdown",
   "source": "## Document Splitting with Markdown Header Text Splitter",
   "id": "3fff1866ef113893"
  },
  {
   "metadata": {
    "ExecuteTime": {
     "end_time": "2025-06-12T12:29:50.421666Z",
     "start_time": "2025-06-12T12:29:50.407640Z"
    }
   },
   "cell_type": "code",
   "source": "from langchain_text_splitters.markdown import MarkdownHeaderTextSplitter",
   "id": "aff67670d30f908c",
   "outputs": [],
   "execution_count": 24
  },
  {
   "metadata": {
    "ExecuteTime": {
     "end_time": "2025-06-12T12:29:50.451945Z",
     "start_time": "2025-06-12T12:29:50.438925Z"
    }
   },
   "cell_type": "code",
   "source": "pages_docx",
   "id": "f24403f451ac2579",
   "outputs": [
    {
     "data": {
      "text/plain": [
       "[Document(metadata={'source': '../resources/Introduction_to_Data_and_Data_Science.docx'}, page_content=\"Analysis vs Analytics Alright! So… Let’s discuss the not-so-obvious differences between the terms analysis and analytics. Due to the similarity of the words, some people believe they share the same meaning, and thus use them interchangeably. Technically, this isn’t correct. There is, in fact, a distinct difference between the two. And the reason for one often being used instead of the other is the lack of a transparent understanding of both. So, let’s clear this up, shall we? First, we will start with analysis. Consider the following… You have a huge dataset containing data of various types. Instead of tackling the entire dataset and running the risk of becoming overwhelmed, you separate it into easier to digest chunks and study them individually and examine how they relate to other parts. And that’s analysis in a nutshell. One important thing to remember, however, is that you perform analyses on things that have already happened in the past. Such as using an analysis to explain how a story ended the way it did or how there was a decrease in sales last summer. All this means that we do analyses to explain how and/or why something happened. Great! Now, this leads us nicely on to the definition of analytics. As you have probably guessed, analytics generally refers to the future. Instead of explaining past events it explores potential future ones. Analytics is essentially the application of logical and computational reasoning to the component parts obtained in an analysis. And in doing this you are looking for patterns and exploring what you could do with them in the future. Here, analytics branches off into two areas: qualitative analytics – this is using your intuition and experience in conjunction with the analysis to plan your next business move. And quantitative analytics – this is applying formulas and algorithms to numbers you have gathered from your analysis. Here are a couple of examples. Say, you are an owner of an online clothing store. You are ahead of the competition and have a great understanding of what your customer's needs and wants are. You’ve performed a very detailed analysis from women’s clothing articles and feel sure about which fashion trends to follow. You may use this intuition to decide on which styles of clothing to start selling. This would be qualitative analytics. But you might not know when to introduce the new collection. In that case, relying on past sales data and user experience data, you could predict in which month it would be best to do that. This is an example of using quantitative analytics. Fantastic! To backtrack a little, you can combine these areas with analyses also – you could perform qualitative analysis – to explain how or why a story ended the way it did. And you can perform quantitative analysis – working with past data to explain how sales decreased last summer. Perfect! Now that we have cleared up the differences between analysis and analytics it shouldn’t be too difficult to see how terms such as ‘data analysis’, ‘data analytics’, ‘business analysis’ and ‘business analytics’ can have their unique meanings too. More of this will be explained in the next video which aims to simplify these, as well as many more with a fantastic diagram. So, let’s move on! Programming Languages & Software Employed in Data Science - All the Tools You Need Alright! So… How are the techniques used in data, business intelligence, or predictive analytics applied in real life? Certainly, with the help of computers. You can basically split the relevant tools into two categories—programming languages and software. Knowing a programming language enables you to devise programs that can execute specific operations. Moreover, you can reuse these programs whenever you need to execute the same action. As you can see from the infographic, R, and Python are the two most popular tools across all columns. Their biggest advantage is that they can manipulate data and are integrated within multiple data and data science software platforms. They are not just suitable for mathematical and statistical computations. In other words, R, and Python are adaptable. They can solve a wide variety of business and data-related problems from beginning to the end. Of course, R, and Python do have their limitations. They are not able to address problems specific to some domains. One example is ‘relational database management systems’—there, SQL is king. It was specifically created for that purpose. SQL is at its most advantageous when working with traditional, historical data. When preparing your BI analysis, for instance, you will surely employ it. Okay. When it comes to data science, mentioning MATLAB is inevitable. It is ideal for working with mathematical functions or matrix manipulations. That’s why it is present in all categories except for ‘big data’. While respectable, MATLAB usage is a paid service, and that’s one of the reasons why it is losing ground to open-source languages like R and Python. Either way, R, Python, and MATLAB, combined with SQL, cover most of the tools used when working with traditional data, BI, and conventional data science. What about big data? Apart from R and Python, people working in this area are often proficient in other languages like Java or Scala. These two have not been developed specifically for doing statistical analyses, however they turn out to be very useful when combining data from multiple sources. All right! Let’s finish off with machine learning. When it comes to machine learning, we often deal with big data. Thus, we need a lot of computational power, and we can expect people to use the languages similar to those in the big data column. Apart from R, Python, and MATLAB, other, faster languages are used like Java, JavaScript, C, C++, and Scala. Cool. What we said may be wonderful, but that’s not all! By using one or more programming languages, people create application software or, as they are sometimes called, software solutions, that are adjusted for specific business needs. Their smaller scope does not make them less useful, in fact, just the opposite—they are a lot easier to learn and be adopted by others. You have already heard of several of those. Because of its ability to do relatively complex computations and good visualizations quickly, Excel is a tool applicable to more than one category—traditional data, BI, and Data Science. Similarly, SPSS is a very famous tool for working with traditional data and applying statistical analysis. Among the many applications we have plotted, we can say there is an increasing amount of software designed for working with big data such as Apache Hadoop, Apache Hbase, and Mongo DB. In terms of big data, Hadoop is the name that must stick with you. Hadoop is listed as a software in the sense that it is a collection of programs, but don’t imagine it as a nice-looking application. It’s actually a software framework which was designed to address the complexity of big data and its computational intensity. Most notably, Hadoop distributes the computational tasks on multiple computers which is basically the way to handle big data nowadays. Power BI, SaS, Qlik, and especially Tableau are top-notch examples of software designed for business intelligence visualizations. In terms of predictive analytics, EViews is mostly used for working with econometric time-series models, and Stata—for academic statistical and econometric research, where techniques like regression, cluster, and factor analysis are constantly applied. As a final note, remember the following. Should you have the relevant business and theoretical knowledge, learning a software tool is relatively easy as opposed to learning a programming language. More importantly, it will be sufficient for your need to create quick and accurate analyses. However, if your theoretical preparation is strong enough, you will find yourself restricted by software. Knowing a programming language such as R and Python, gives you the freedom to create specific, ad-hoc tools for each project you are working on. Great! We hope we gave you a good idea about the level of applicability of the most frequently used programming and software tools in the field of data science. Thank you for watching!\")]"
      ]
     },
     "execution_count": 25,
     "metadata": {},
     "output_type": "execute_result"
    }
   ],
   "execution_count": 25
  },
  {
   "metadata": {
    "ExecuteTime": {
     "end_time": "2025-06-12T12:29:50.482769Z",
     "start_time": "2025-06-12T12:29:50.469377Z"
    }
   },
   "cell_type": "code",
   "source": [
    "loader_docx = Docx2txtLoader(\"../resources/Introduction_to_Data_and_Data_Science_2.docx\")\n",
    "pages = loader_docx.load()"
   ],
   "id": "f0082940da45468b",
   "outputs": [],
   "execution_count": 26
  },
  {
   "metadata": {
    "ExecuteTime": {
     "end_time": "2025-06-12T12:29:50.513948Z",
     "start_time": "2025-06-12T12:29:50.500276Z"
    }
   },
   "cell_type": "code",
   "source": "markdown_splitter = MarkdownHeaderTextSplitter(headers_to_split_on=[(\"#\", 'Course Title'), (\"##\", \"Lecture Title\")])",
   "id": "992fe8492114bac3",
   "outputs": [],
   "execution_count": 27
  },
  {
   "metadata": {
    "ExecuteTime": {
     "end_time": "2025-06-12T12:29:50.545376Z",
     "start_time": "2025-06-12T12:29:50.531377Z"
    }
   },
   "cell_type": "code",
   "source": "pages_md_split = markdown_splitter.split_text(pages[0].page_content)",
   "id": "31d69d9ed61fe6cd",
   "outputs": [],
   "execution_count": 28
  },
  {
   "metadata": {
    "ExecuteTime": {
     "end_time": "2025-06-12T12:29:50.576625Z",
     "start_time": "2025-06-12T12:29:50.562499Z"
    }
   },
   "cell_type": "code",
   "source": "pages_md_split",
   "id": "c6464bf4e67bbc92",
   "outputs": [
    {
     "data": {
      "text/plain": [
       "[Document(metadata={'Course Title': 'Introduction to Data and Data Science', 'Lecture Title': 'Analysis vs Analytics'}, page_content=\"Alright! So…\\nLet’s discuss the not-so-obvious differences\\nbetween the terms analysis and analytics.\\nDue to the similarity of the words, some people\\nbelieve they share the same meaning, and thus\\nuse them interchangeably. Technically, this\\nisn’t correct. There is, in fact, a distinct\\ndifference between the two. And the reason\\nfor one often being used instead of the other\\nis the lack of a transparent understanding\\nof both.\\nSo, let’s clear this up, shall we?\\nFirst, we will start with analysis.\\nConsider the following…\\nYou have a huge dataset containing data of\\nvarious types. Instead of tackling the entire\\ndataset and running the risk of becoming overwhelmed,\\nyou separate it into easier to digest chunks\\nand study them individually and examine how\\nthey relate to other parts. And that’s analysis\\nin a nutshell.\\nOne important thing to remember, however,\\nis that you perform analyses on things that\\nhave already happened in the past. Such as\\nusing an analysis to explain how a story ended\\nthe way it did or how there was a decrease\\nin sales last summer.\\nAll this means that we do analyses to explain\\nhow and/or why something happened.\\nGreat!\\nNow, this leads us nicely on to the definition\\nof analytics.\\nAs you have probably guessed, analytics generally\\nrefers to the future. Instead of explaining\\npast events it explores potential future ones.\\nAnalytics is essentially the application of\\nlogical and computational reasoning to the\\ncomponent parts obtained in an analysis. And\\nin doing this you are looking for patterns\\nand exploring what you could do with them\\nin the future.\\nHere, analytics branches off into two areas:\\nqualitative analytics – this is using your\\nintuition and experience in conjunction with\\nthe analysis to plan your next business move.\\nAnd quantitative analytics – this is applying\\nformulas and algorithms to numbers you have\\ngathered from your analysis.\\nHere are a couple of examples.\\nSay, you are an owner of an online clothing\\nstore. You are ahead of the competition and\\nhave a great understanding of what your customer's\\nneeds and wants are. You’ve performed a\\nvery detailed analysis from women’s clothing\\narticles and feel sure about which fashion\\ntrends to follow. You may use this intuition\\nto decide on which styles of clothing to start\\nselling. This would be qualitative analytics.\\nBut you might not know when to introduce the\\nnew collection. In that case, relying on past\\nsales data and user experience data, you could\\npredict in which month it would be best to\\ndo that. This is an example of using quantitative\\nanalytics.\\nFantastic!\\nTo backtrack a little, you can combine these\\nareas with analyses also – you could perform\\nqualitative analysis – to explain how or\\nwhy a story ended the way it did. And you\\ncan perform quantitative analysis – working\\nwith past data to explain how sales decreased\\nlast summer.\\nPerfect!\\nNow that we have cleared up the differences\\nbetween analysis and analytics it shouldn’t\\nbe too difficult to see how terms such as\\n‘data analysis’, ‘data analytics’,\\n‘business analysis’ and ‘business analytics’\\ncan have their unique meanings too.\\nMore of this will be explained in the next\\nvideo which aims to simplify these, as well\\nas many more with a fantastic diagram. So,\\nlet’s move on!\"),\n",
       " Document(metadata={'Course Title': 'Introduction to Data and Data Science', 'Lecture Title': 'Programming Languages & Software Employed in Data Science - All the Tools You Need'}, page_content='Alright! So…\\nHow are the techniques used in data, business\\nintelligence, or predictive analytics applied\\nin real life?\\nCertainly, with the help of computers.\\nYou can basically split the relevant tools\\ninto two categories—programming languages\\nand software.\\nKnowing a programming language enables you\\nto devise programs that can execute specific\\noperations. Moreover, you can reuse these\\nprograms whenever you need to execute the\\nsame action.\\nAs you can see from the infographic, R, and\\nPython are the two most popular tools across\\nall columns. Their biggest advantage is that\\nthey can manipulate data and are integrated\\nwithin multiple data and data science software\\nplatforms. They are not just suitable for\\nmathematical and statistical computations.\\nIn other words, R, and Python are adaptable.\\nThey can solve a wide variety of business\\nand data-related problems from beginning to\\nthe end.\\nOf course, R, and Python do have their limitations.\\nThey are not able to address problems specific\\nto some domains. One example is ‘relational\\ndatabase management systems’—there, SQL\\nis king. It was specifically created for that\\npurpose. SQL is at its most advantageous when\\nworking with traditional, historical data.\\nWhen preparing your BI analysis, for instance,\\nyou will surely employ it.\\nOkay.\\nWhen it comes to data science, mentioning\\nMATLAB is inevitable. It is ideal for working\\nwith mathematical functions or matrix manipulations.\\nThat’s why it is present in all categories\\nexcept for ‘big data’. While respectable,\\nMATLAB usage is a paid service, and that’s\\none of the reasons why it is losing ground\\nto open-source languages like R and Python.\\nEither way, R, Python, and MATLAB, combined\\nwith SQL, cover most of the tools used when\\nworking with traditional data, BI, and conventional\\ndata science.\\nWhat about big data?\\nApart from R and Python, people working in\\nthis area are often proficient in other languages\\nlike Java or Scala. These two have not been\\ndeveloped specifically for doing statistical\\nanalyses, however they turn out to be very\\nuseful when combining data from multiple sources.\\nAll right! Let’s finish off with machine\\nlearning.\\nWhen it comes to machine learning, we often\\ndeal with big data. Thus, we need a lot of\\ncomputational power, and we can expect people\\nto use the languages similar to those in the\\nbig data column. Apart from R, Python, and\\nMATLAB, other, faster languages are used like\\nJava, JavaScript, C, C++, and Scala.\\nCool.\\nWhat we said may be wonderful, but that’s\\nnot all!\\nBy using one or more programming languages,\\npeople create application software or, as\\nthey are sometimes called, software solutions,\\nthat are adjusted for specific business needs.\\nTheir smaller scope does not make them less\\nuseful, in fact, just the opposite—they\\nare a lot easier to learn and be adopted by\\nothers. You have already heard of several\\nof those.\\nBecause of its ability to do relatively complex\\ncomputations and good visualizations quickly,\\nExcel is a tool applicable to more than one\\ncategory—traditional data, BI, and Data\\nScience. Similarly, SPSS is a very famous\\ntool for working with traditional data and\\napplying statistical analysis.\\nAmong the many applications we have plotted,\\nwe can say there is an increasing amount of\\nsoftware designed for working with big data\\nsuch as Apache Hadoop, Apache Hbase, and Mongo\\nDB.\\nIn terms of big data, Hadoop is the name that\\nmust stick with you. Hadoop is listed as a\\nsoftware in the sense that it is a collection\\nof programs, but don’t imagine it as a nice-looking\\napplication. It’s actually a software framework\\nwhich was designed to address the complexity\\nof big data and its computational intensity.\\nMost notably, Hadoop distributes the computational\\ntasks on multiple computers which is basically\\nthe way to handle big data nowadays.\\nPower BI, SaS, Qlik, and especially Tableau\\nare top-notch examples of software designed\\nfor business intelligence visualizations.\\nIn terms of predictive analytics, EViews is\\nmostly used for working with econometric time-series\\nmodels, and Stata—for academic statistical\\nand econometric research, where techniques\\nlike regression, cluster, and factor analysis\\nare constantly applied.\\nAs a final note, remember the following.\\nShould you have the relevant business and\\ntheoretical knowledge, learning a software\\ntool is relatively easy as opposed to learning\\na programming language. More importantly,\\nit will be sufficient for your need to create\\nquick and accurate analyses.\\nHowever, if your theoretical preparation is\\nstrong enough, you will find yourself restricted\\nby software. Knowing a programming language\\nsuch as R and Python, gives you the freedom\\nto create specific, ad-hoc tools for each\\nproject you are working on.\\nGreat!\\nWe hope we gave you a good idea about the\\nlevel of applicability of the most frequently\\nused programming and software tools in the\\nfield of data science.\\nThank you for watching!')]"
      ]
     },
     "execution_count": 29,
     "metadata": {},
     "output_type": "execute_result"
    }
   ],
   "execution_count": 29
  },
  {
   "metadata": {},
   "cell_type": "markdown",
   "source": "## Text Embedding",
   "id": "419df84030c0e41f"
  },
  {
   "metadata": {
    "ExecuteTime": {
     "end_time": "2025-06-12T12:29:51.762428Z",
     "start_time": "2025-06-12T12:29:50.593885Z"
    }
   },
   "cell_type": "code",
   "source": [
    "from langchain_community.document_loaders import Docx2txtLoader\n",
    "from langchain_text_splitters.markdown import MarkdownHeaderTextSplitter\n",
    "from langchain_text_splitters.character import CharacterTextSplitter\n",
    "from langchain_openai.embeddings import OpenAIEmbeddings\n",
    "import numpy as np"
   ],
   "id": "f6c75afb7b10c287",
   "outputs": [],
   "execution_count": 30
  },
  {
   "metadata": {
    "ExecuteTime": {
     "end_time": "2025-06-12T12:29:51.810427Z",
     "start_time": "2025-06-12T12:29:51.792433Z"
    }
   },
   "cell_type": "code",
   "source": [
    "loader_docx = Docx2txtLoader(\"../resources/Introduction_to_Data_and_Data_Science_2.docx\")\n",
    "pages = loader_docx.load()\n",
    "\n",
    "md_splitter = MarkdownHeaderTextSplitter(\n",
    "    headers_to_split_on = [(\"#\", \"Course Title\"), \n",
    "                           (\"##\", \"Lecture Title\")]\n",
    ")\n",
    "\n",
    "pages_md_split = md_splitter.split_text(pages[0].page_content)\n",
    "\n",
    "for i in range(len(pages_md_split)):\n",
    "    pages_md_split[i].page_content = ' '.join(pages_md_split[i].page_content.split())\n",
    "    \n",
    "char_splitter = CharacterTextSplitter(\n",
    "    separator = \".\",\n",
    "    chunk_size = 500,\n",
    "    chunk_overlap  = 50\n",
    ")\n",
    "\n",
    "pages_char_split = char_splitter.split_documents(pages_md_split)"
   ],
   "id": "7f4c98d22bee8482",
   "outputs": [],
   "execution_count": 31
  },
  {
   "metadata": {
    "ExecuteTime": {
     "end_time": "2025-06-12T12:29:52.663159Z",
     "start_time": "2025-06-12T12:29:51.855428Z"
    }
   },
   "cell_type": "code",
   "source": "embeddings = OpenAIEmbeddings(model=\"text-embedding-ada-002\")",
   "id": "64db7b291a673189",
   "outputs": [],
   "execution_count": 32
  },
  {
   "metadata": {
    "ExecuteTime": {
     "end_time": "2025-06-12T12:29:55.159453Z",
     "start_time": "2025-06-12T12:29:52.699162Z"
    }
   },
   "cell_type": "code",
   "source": [
    "vector1 = embeddings.embed_query(pages_char_split[3].page_content)\n",
    "vector2 = embeddings.embed_query(pages_char_split[5].page_content)\n",
    "vector3 = embeddings.embed_query(pages_char_split[18].page_content)"
   ],
   "id": "637733a2b0eb36e0",
   "outputs": [],
   "execution_count": 33
  },
  {
   "metadata": {
    "ExecuteTime": {
     "end_time": "2025-06-12T12:29:55.190784Z",
     "start_time": "2025-06-12T12:29:55.176760Z"
    }
   },
   "cell_type": "code",
   "source": "vector1",
   "id": "33646f0081234104",
   "outputs": [
    {
     "data": {
      "text/plain": [
       "[0.0037478648591786623,\n",
       " 0.010548347607254982,\n",
       " 0.009972748346626759,\n",
       " -0.03044857084751129,\n",
       " -0.019738538190722466,\n",
       " 0.012106993235647678,\n",
       " -0.024239856749773026,\n",
       " -0.012947756797075272,\n",
       " 0.01048367377370596,\n",
       " -0.027111386880278587,\n",
       " 0.00476971548050642,\n",
       " 0.01667298562824726,\n",
       " -0.013167648576200008,\n",
       " 0.00635099783539772,\n",
       " -0.010923457331955433,\n",
       " -0.016608310863375664,\n",
       " 0.036139894276857376,\n",
       " -0.0009046291233971715,\n",
       " 0.020217126235365868,\n",
       " -0.023631921038031578,\n",
       " -0.04369382932782173,\n",
       " 0.022584199905395508,\n",
       " -0.008698668330907822,\n",
       " -0.027447693049907684,\n",
       " -0.009972748346626759,\n",
       " 0.0038060713559389114,\n",
       " 0.010296118445694447,\n",
       " -0.02492540329694748,\n",
       " 0.0049443356692790985,\n",
       " -0.01827690377831459,\n",
       " 0.009836932644248009,\n",
       " 0.005801267921924591,\n",
       " -0.007929045706987381,\n",
       " 0.0005254771676845849,\n",
       " -0.009060842916369438,\n",
       " 0.002866680035367608,\n",
       " 0.011214490979909897,\n",
       " 0.01587102748453617,\n",
       " 0.015327764675021172,\n",
       " 0.017643097788095474,\n",
       " 0.015224285423755646,\n",
       " 0.000934540934395045,\n",
       " -0.034044452011585236,\n",
       " -0.019971365109086037,\n",
       " 0.005746294744312763,\n",
       " 0.018160490319132805,\n",
       " 0.006978336721658707,\n",
       " -0.006221649702638388,\n",
       " -0.014939719811081886,\n",
       " 0.003057468682527542,\n",
       " 0.011893569491803646,\n",
       " 0.019505711272358894,\n",
       " -0.04221925884485245,\n",
       " 0.008692200295627117,\n",
       " -0.0002097866527037695,\n",
       " -0.004979906603693962,\n",
       " -0.0059079802595078945,\n",
       " 0.003650853643193841,\n",
       " 0.010522478260099888,\n",
       " 0.008155405521392822,\n",
       " 0.0037252288311719894,\n",
       " 0.008821548894047737,\n",
       " 0.004080936312675476,\n",
       " -0.01668591983616352,\n",
       " -0.010949326679110527,\n",
       " -0.019686799496412277,\n",
       " -0.010800576768815517,\n",
       " 0.03363053873181343,\n",
       " -0.009629975073039532,\n",
       " -0.006561188492923975,\n",
       " 0.016841137781739235,\n",
       " 0.026826821267604828,\n",
       " -0.004061534069478512,\n",
       " 0.015573525801301003,\n",
       " 0.0307331383228302,\n",
       " -0.009507094509899616,\n",
       " -0.024188118055462837,\n",
       " -0.02072158455848694,\n",
       " -0.01340047549456358,\n",
       " 0.013083572499454021,\n",
       " -0.00979812815785408,\n",
       " -0.0020954411011189222,\n",
       " -0.015263089910149574,\n",
       " -0.004724443890154362,\n",
       " -0.00782556738704443,\n",
       " 0.006221649702638388,\n",
       " -0.011563731357455254,\n",
       " 0.015211351215839386,\n",
       " -0.01021850947290659,\n",
       " 0.008381764404475689,\n",
       " -0.013827324844896793,\n",
       " -0.016504833474755287,\n",
       " 0.025662686675786972,\n",
       " 0.015560591593384743,\n",
       " -0.0036476198583841324,\n",
       " 0.01777244545519352,\n",
       " -0.0135298240929842,\n",
       " 0.00768975168466568,\n",
       " -0.004229686688631773,\n",
       " -0.0135298240929842,\n",
       " 0.005655751097947359,\n",
       " 0.024032900109887123,\n",
       " -0.03823533281683922,\n",
       " -0.0074181207455694675,\n",
       " -0.019673865288496017,\n",
       " 0.0030720203649252653,\n",
       " 0.00430729566141963,\n",
       " 0.0064415414817631245,\n",
       " 0.038312941789627075,\n",
       " -0.001569155603647232,\n",
       " -0.00939714815467596,\n",
       " 0.025041816756129265,\n",
       " 0.006739042233675718,\n",
       " -0.025326382368803024,\n",
       " 0.002897400176152587,\n",
       " -0.023515507578849792,\n",
       " 0.025830840691924095,\n",
       " -0.02069571614265442,\n",
       " -0.018432121723890305,\n",
       " -0.009623507969081402,\n",
       " 0.005594310816377401,\n",
       " 0.011389111168682575,\n",
       " 0.008511113002896309,\n",
       " 0.006874857936054468,\n",
       " 0.010613021440804005,\n",
       " 0.005917681381106377,\n",
       " -0.014474065974354744,\n",
       " -0.010199107229709625,\n",
       " -0.02464083582162857,\n",
       " -0.030112266540527344,\n",
       " 0.009190191514790058,\n",
       " -0.010625956580042839,\n",
       " -0.008213612250983715,\n",
       " 0.03707120195031166,\n",
       " -0.03311314433813095,\n",
       " -0.015702873468399048,\n",
       " -0.00836883019655943,\n",
       " 0.005516701843589544,\n",
       " -0.003560309763997793,\n",
       " -0.022920504212379456,\n",
       " -0.009726986289024353,\n",
       " 0.0047858841717243195,\n",
       " 0.0021293950267136097,\n",
       " 0.0018399785039946437,\n",
       " -0.019479842856526375,\n",
       " 0.02098028175532818,\n",
       " 0.015017328783869743,\n",
       " 0.01032198779284954,\n",
       " 0.014163630083203316,\n",
       " -0.009959813207387924,\n",
       " 0.024446813389658928,\n",
       " -0.021652892231941223,\n",
       " 0.0009620274067856371,\n",
       " 0.002653255360201001,\n",
       " -0.013271127827465534,\n",
       " 0.020786259323358536,\n",
       " 0.0021196939051151276,\n",
       " 0.008168340660631657,\n",
       " -0.015301894396543503,\n",
       " 0.009183723479509354,\n",
       " 0.008698668330907822,\n",
       " 0.001763986423611641,\n",
       " 0.018496796488761902,\n",
       " 0.010276716202497482,\n",
       " 0.02386474795639515,\n",
       " 0.028482478111982346,\n",
       " 0.021070824936032295,\n",
       " 0.010050357319414616,\n",
       " 0.00034398541902191937,\n",
       " -0.01931168884038925,\n",
       " 0.0007275837706401944,\n",
       " 0.024459749460220337,\n",
       " -0.012766669504344463,\n",
       " 0.028249651193618774,\n",
       " 0.008983233943581581,\n",
       " -0.016039179638028145,\n",
       " 0.01031552068889141,\n",
       " -0.00030356409843079746,\n",
       " -0.014836241491138935,\n",
       " -0.010664761066436768,\n",
       " 0.038287073373794556,\n",
       " -0.010787641629576683,\n",
       " -6.290568126132712e-05,\n",
       " 0.000834296050015837,\n",
       " -0.001469719223678112,\n",
       " -0.012908952310681343,\n",
       " 0.010263781063258648,\n",
       " 0.019557451829314232,\n",
       " -0.009410083293914795,\n",
       " -0.028689436614513397,\n",
       " -0.0013662405544891953,\n",
       " 0.015444178134202957,\n",
       " 0.015327764675021172,\n",
       " 0.010412531904876232,\n",
       " -0.6606072187423706,\n",
       " -0.011738351546227932,\n",
       " 0.01430591382086277,\n",
       " -0.03339771181344986,\n",
       " 0.027447693049907684,\n",
       " -0.0016944616800174117,\n",
       " 0.026956168934702873,\n",
       " -0.025662686675786972,\n",
       " -0.009086712263524532,\n",
       " 0.019040057435631752,\n",
       " 0.024433879181742668,\n",
       " -0.004886128939688206,\n",
       " 0.021032020449638367,\n",
       " -0.005348549224436283,\n",
       " -0.019984301179647446,\n",
       " -0.03148335590958595,\n",
       " -0.016815269365906715,\n",
       " -0.04051186144351959,\n",
       " 0.000911096518393606,\n",
       " 0.01748787984251976,\n",
       " -0.019790278747677803,\n",
       " 0.024834858253598213,\n",
       " -0.01647896319627762,\n",
       " -0.0018302773823961616,\n",
       " -0.011188621632754803,\n",
       " 0.006144040729850531,\n",
       " 0.03758859261870384,\n",
       " 0.018677882850170135,\n",
       " -0.00942948553711176,\n",
       " 0.024007029831409454,\n",
       " -0.017966467887163162,\n",
       " 0.0005808543646708131,\n",
       " 0.01247563585639,\n",
       " -0.005597544368356466,\n",
       " 0.03451010584831238,\n",
       " -0.0088732885196805,\n",
       " -0.007010673638433218,\n",
       " 0.035932935774326324,\n",
       " 0.0003098294255323708,\n",
       " 0.03225944563746452,\n",
       " -0.02063104137778282,\n",
       " -0.031949009746313095,\n",
       " 0.030655529350042343,\n",
       " 0.027706388384103775,\n",
       " -0.02407170459628105,\n",
       " 0.00810366589576006,\n",
       " 0.00285536190494895,\n",
       " 0.019169406965374947,\n",
       " -0.019441038370132446,\n",
       " -0.014706892892718315,\n",
       " -0.005351782776415348,\n",
       " -0.007786762900650501,\n",
       " -0.0060728988610208035,\n",
       " 0.011240360327064991,\n",
       " -0.0041876486502587795,\n",
       " -0.0027179294265806675,\n",
       " 0.004271725192666054,\n",
       " -0.0057656969875097275,\n",
       " 0.005494065582752228,\n",
       " -0.0014454664196819067,\n",
       " 0.013271127827465534,\n",
       " -0.005070450250059366,\n",
       " -0.041701868176460266,\n",
       " -0.03370814770460129,\n",
       " -0.02677508257329464,\n",
       " 0.05199798569083214,\n",
       " 0.007327576633542776,\n",
       " -0.004349334165453911,\n",
       " -0.008698668330907822,\n",
       " -0.010942859575152397,\n",
       " 0.027137257158756256,\n",
       " 0.02832726016640663,\n",
       " 0.004281426314264536,\n",
       " -0.017358532175421715,\n",
       " 0.021523544564843178,\n",
       " 0.0029184191953390837,\n",
       " 0.017914729192852974,\n",
       " -0.00511248828843236,\n",
       " -0.0010857166489586234,\n",
       " 0.007935513742268085,\n",
       " 0.008976766839623451,\n",
       " -0.009177256375551224,\n",
       " -0.03200075030326843,\n",
       " -0.04503905028104782,\n",
       " 0.037252288311719894,\n",
       " -0.0016289792256429791,\n",
       " -0.003123759524896741,\n",
       " -0.02861182764172554,\n",
       " 0.004498084541410208,\n",
       " -0.011738351546227932,\n",
       " 0.01417656522244215,\n",
       " 0.023437898606061935,\n",
       " 0.00017846011905930936,\n",
       " -0.05062689259648323,\n",
       " 0.0059888227842748165,\n",
       " 0.022610070183873177,\n",
       " -0.006402736995369196,\n",
       " 0.005662218667566776,\n",
       " -0.017345596104860306,\n",
       " -0.0063606989569962025,\n",
       " -0.0301898755133152,\n",
       " -0.0016556571936234832,\n",
       " -0.0011261379113420844,\n",
       " 0.008498177863657475,\n",
       " 0.009701116941869259,\n",
       " 0.0005590268410742283,\n",
       " 0.021044956520199776,\n",
       " 0.004122974816709757,\n",
       " 0.032233577221632004,\n",
       " -0.0296466127038002,\n",
       " -0.015754614025354385,\n",
       " -0.018975384533405304,\n",
       " 0.0005945976008661091,\n",
       " 0.015715809538960457,\n",
       " 0.03078487701714039,\n",
       " -0.02840486913919449,\n",
       " 0.014939719811081886,\n",
       " -0.03601054474711418,\n",
       " -0.00875040702521801,\n",
       " -0.033837493509054184,\n",
       " 0.01828983798623085,\n",
       " 0.00122476601973176,\n",
       " 0.01884603686630726,\n",
       " -0.03787316009402275,\n",
       " -0.0020129818003624678,\n",
       " 0.014202434569597244,\n",
       " 0.003450363874435425,\n",
       " -0.0034406627528369427,\n",
       " -0.021407131105661392,\n",
       " -0.011660742573440075,\n",
       " -0.0026581059210002422,\n",
       " 0.0013492635916918516,\n",
       " -0.0007983210380189121,\n",
       " 0.01496558915823698,\n",
       " 0.007702686823904514,\n",
       " -0.017423205077648163,\n",
       " 0.0038707456551492214,\n",
       " -0.006784314289689064,\n",
       " -0.0044916169717907906,\n",
       " -0.0323629267513752,\n",
       " -0.018639078363776207,\n",
       " -0.022441916167736053,\n",
       " 0.013161181472241879,\n",
       " 0.0014980140840634704,\n",
       " -0.026568124070763588,\n",
       " -0.030836615711450577,\n",
       " -0.018664948642253876,\n",
       " 0.0031803494784981012,\n",
       " -0.023761268705129623,\n",
       " 0.02037234418094158,\n",
       " -0.022959308698773384,\n",
       " 0.010425467044115067,\n",
       " -0.017875924706459045,\n",
       " 0.03551902249455452,\n",
       " 0.0026952936314046383,\n",
       " 0.005070450250059366,\n",
       " 0.019001252949237823,\n",
       " -0.013199985958635807,\n",
       " -0.009474757127463818,\n",
       " -0.026593994349241257,\n",
       " -0.023179201409220695,\n",
       " 0.015082002617418766,\n",
       " -0.003938653506338596,\n",
       " 0.002887699054554105,\n",
       " -0.0008690583636052907,\n",
       " -0.0276029109954834,\n",
       " -0.011589600704610348,\n",
       " 0.0021520310547202826,\n",
       " -0.01499145943671465,\n",
       " -0.028016824275255203,\n",
       " 0.02358018048107624,\n",
       " -0.001401811372488737,\n",
       " 0.01137617602944374,\n",
       " 0.03334597125649452,\n",
       " -0.00810366589576006,\n",
       " 0.035958804190158844,\n",
       " -0.03282858058810234,\n",
       " -0.009752855636179447,\n",
       " 0.020734520629048347,\n",
       " -0.015198416076600552,\n",
       " -0.013465150259435177,\n",
       " -0.004481915850192308,\n",
       " -0.026438776403665543,\n",
       " -0.01165427453815937,\n",
       " 0.005122189410030842,\n",
       " 0.009280734695494175,\n",
       " 0.00796785019338131,\n",
       " 0.02385181188583374,\n",
       " -0.01045780349522829,\n",
       " -0.0001088343997253105,\n",
       " 0.00037248246371746063,\n",
       " 0.03800250589847565,\n",
       " -0.01086525060236454,\n",
       " -0.01274080015718937,\n",
       " -0.0278098676353693,\n",
       " 0.015198416076600552,\n",
       " -0.03368227556347847,\n",
       " 0.01773364096879959,\n",
       " -0.011706014163792133,\n",
       " 0.011466720141470432,\n",
       " 0.015832222998142242,\n",
       " 0.017811249941587448,\n",
       " -0.0072758374735713005,\n",
       " 0.018988318741321564,\n",
       " 0.004161778837442398,\n",
       " -0.015327764675021172,\n",
       " 0.012301015667617321,\n",
       " -0.014577544294297695,\n",
       " 0.007392250932753086,\n",
       " 0.0013217771193012595,\n",
       " 0.019208211451768875,\n",
       " -0.02837900072336197,\n",
       " -0.011764220893383026,\n",
       " -0.013284062035381794,\n",
       " -0.01150552462786436,\n",
       " 0.009177256375551224,\n",
       " -0.006894260179251432,\n",
       " 0.030319223180413246,\n",
       " -0.012346288189291954,\n",
       " -0.0018238099291920662,\n",
       " 0.02938791550695896,\n",
       " -0.009823997505009174,\n",
       " 0.01191943883895874,\n",
       " -0.012100526131689548,\n",
       " -0.015457112342119217,\n",
       " 0.02039821445941925,\n",
       " -0.009694648906588554,\n",
       " 0.03099183365702629,\n",
       " -0.019156470894813538,\n",
       " -0.025572143495082855,\n",
       " -0.004232920706272125,\n",
       " 0.03394097462296486,\n",
       " 0.024692576378583908,\n",
       " 0.020734520629048347,\n",
       " 0.003977457992732525,\n",
       " 0.023748334497213364,\n",
       " 0.006926597096025944,\n",
       " -0.021057890728116035,\n",
       " 0.008866820484399796,\n",
       " -0.012417429126799107,\n",
       " -0.027473563328385353,\n",
       " 0.009093180298805237,\n",
       " -0.005950018297880888,\n",
       " -0.009500626474618912,\n",
       " 0.03632098063826561,\n",
       " 0.02201506681740284,\n",
       " 0.02993117831647396,\n",
       " 0.024188118055462837,\n",
       " -0.008543450385332108,\n",
       " 0.009558833204209805,\n",
       " -0.009636442176997662,\n",
       " 0.01698342151939869,\n",
       " -0.01615559309720993,\n",
       " -0.007269369903951883,\n",
       " 0.005115722306072712,\n",
       " -0.015457112342119217,\n",
       " 0.01850973069667816,\n",
       " 0.011447317898273468,\n",
       " 0.03709707036614418,\n",
       " 0.022881699725985527,\n",
       " -0.006363932508975267,\n",
       " 0.0011544328881427646,\n",
       " -0.019156470894813538,\n",
       " -0.008213612250983715,\n",
       " -0.0050898524932563305,\n",
       " -0.009345409460365772,\n",
       " 0.004960504360496998,\n",
       " -0.014150695875287056,\n",
       " 0.008174807764589787,\n",
       " 0.002653255360201001,\n",
       " -0.0016750594368204474,\n",
       " 0.0029265035409480333,\n",
       " 0.01141498051583767,\n",
       " 0.02122604288160801,\n",
       " 0.008045459166169167,\n",
       " 0.015185480937361717,\n",
       " 0.03215596824884415,\n",
       " -0.01907886192202568,\n",
       " 0.004498084541410208,\n",
       " 0.02088973857462406,\n",
       " -0.007974318228662014,\n",
       " -0.02861182764172554,\n",
       " 0.013245257548987865,\n",
       " 0.027085518464446068,\n",
       " 0.010561282746493816,\n",
       " -0.016504833474755287,\n",
       " 0.010813510976731777,\n",
       " -0.0021617321763187647,\n",
       " -0.019777342677116394,\n",
       " -0.01641429029405117,\n",
       " -0.009494159370660782,\n",
       " -0.004986374173313379,\n",
       " 0.003369521116837859,\n",
       " -0.009836932644248009,\n",
       " 0.0021245444659143686,\n",
       " -0.0013500720961019397,\n",
       " 0.01778537966310978,\n",
       " 0.0020695715211331844,\n",
       " -0.00186908186879009,\n",
       " 0.027395954355597496,\n",
       " 0.0312764011323452,\n",
       " -0.005713957827538252,\n",
       " 0.0025901980698108673,\n",
       " -0.014499935321509838,\n",
       " 0.048065800219774246,\n",
       " 0.005028412211686373,\n",
       " -0.01858733966946602,\n",
       " -0.0036993592511862516,\n",
       " -0.005329146981239319,\n",
       " -0.019402233883738518,\n",
       " 0.01770777255296707,\n",
       " -0.0044948505237698555,\n",
       " -0.01127269770950079,\n",
       " 0.011822427622973919,\n",
       " 0.019247015938162804,\n",
       " -0.0013282445725053549,\n",
       " -0.008045459166169167,\n",
       " 0.02276528626680374,\n",
       " 0.032233577221632004,\n",
       " 0.015819286927580833,\n",
       " 0.01748787984251976,\n",
       " -0.025080621242523193,\n",
       " -0.0006329978350549936,\n",
       " 0.04985080659389496,\n",
       " 0.09173376113176346,\n",
       " -0.026956168934702873,\n",
       " -0.021264847368001938,\n",
       " 0.02204093709588051,\n",
       " -0.016569506376981735,\n",
       " 0.011841829866170883,\n",
       " -0.04232273995876312,\n",
       " -0.016556572169065475,\n",
       " 0.014668088406324387,\n",
       " 0.0035247390624135733,\n",
       " -0.011867699213325977,\n",
       " 0.022183220833539963,\n",
       " 0.03443249687552452,\n",
       " 0.011324437335133553,\n",
       " 0.016246136277914047,\n",
       " 0.012009982019662857,\n",
       " -0.0020437019411474466,\n",
       " 0.002148797269910574,\n",
       " -0.0025287577882409096,\n",
       " 0.0050898524932563305,\n",
       " 0.01721624843776226,\n",
       " -0.005371185019612312,\n",
       " 0.0016467645764350891,\n",
       " 0.008148938417434692,\n",
       " 0.018962450325489044,\n",
       " 0.011531393975019455,\n",
       " 0.013503954745829105,\n",
       " 0.026309428736567497,\n",
       " -0.023981159552931786,\n",
       " -0.03238879516720772,\n",
       " -0.0008593572420068085,\n",
       " 0.01430591382086277,\n",
       " -0.02806856483221054,\n",
       " 0.003304847050458193,\n",
       " 0.0014220220036804676,\n",
       " 0.04418535158038139,\n",
       " 0.0027049947530031204,\n",
       " 0.02355431206524372,\n",
       " -0.004666237160563469,\n",
       " -0.015702873468399048,\n",
       " 0.0019369896035641432,\n",
       " -0.011363240890204906,\n",
       " 0.009604105725884438,\n",
       " -0.015780482441186905,\n",
       " -0.007321109529584646,\n",
       " -0.015754614025354385,\n",
       " 0.03176792338490486,\n",
       " 0.02329561486840248,\n",
       " -0.008420568890869617,\n",
       " -0.0032223875168710947,\n",
       " -0.0014543590368703008,\n",
       " 0.014577544294297695,\n",
       " -0.045194268226623535,\n",
       " -0.02144593559205532,\n",
       " 0.011557263322174549,\n",
       " 0.01496558915823698,\n",
       " 0.005662218667566776,\n",
       " 0.004210284445434809,\n",
       " -0.011693079024553299,\n",
       " -0.04739318788051605,\n",
       " -0.019816147163510323,\n",
       " 0.010904055088758469,\n",
       " 0.00522566819563508,\n",
       " -0.02596018835902214,\n",
       " -0.003309697611257434,\n",
       " -0.021303651854395866,\n",
       " -0.00916432123631239,\n",
       " -0.005859474651515484,\n",
       " -0.027473563328385353,\n",
       " 0.008317090570926666,\n",
       " 0.003029982093721628,\n",
       " -0.010406064800918102,\n",
       " -0.007676817011088133,\n",
       " -0.01311590988188982,\n",
       " 0.013271127827465534,\n",
       " 0.01523722056299448,\n",
       " 0.0072111631743609905,\n",
       " -0.0026063667610287666,\n",
       " -0.024498553946614265,\n",
       " 0.02387768216431141,\n",
       " -0.0013718996196985245,\n",
       " -0.013930803164839745,\n",
       " -0.026982039213180542,\n",
       " -0.03665728494524956,\n",
       " -0.020747454836964607,\n",
       " -0.012540310621261597,\n",
       " -0.02412344329059124,\n",
       " 0.00967524666339159,\n",
       " -0.0065999929793179035,\n",
       " -0.013005963526666164,\n",
       " -0.010250846855342388,\n",
       " -0.006502981763333082,\n",
       " 0.024265727028250694,\n",
       " 0.011246828362345695,\n",
       " 0.024472683668136597,\n",
       " 0.034872282296419144,\n",
       " 0.010703565552830696,\n",
       " -0.005345315206795931,\n",
       " 0.012255744077265263,\n",
       " -0.04721210151910782,\n",
       " 0.00410033855587244,\n",
       " -0.03479467332363129,\n",
       " -0.005487598478794098,\n",
       " -0.005545805208384991,\n",
       " 0.024446813389658928,\n",
       " -0.007929045706987381,\n",
       " -0.02941378578543663,\n",
       " -0.003721995046362281,\n",
       " 0.021057890728116035,\n",
       " -0.027758128941059113,\n",
       " 0.027654649689793587,\n",
       " -0.007010673638433218,\n",
       " 0.018755491822957993,\n",
       " 0.019725603982806206,\n",
       " -0.00040643636020831764,\n",
       " -0.001156858168542385,\n",
       " 0.01932462491095066,\n",
       " 0.026826821267604828,\n",
       " 0.023269744589924812,\n",
       " -0.012313950806856155,\n",
       " 0.026568124070763588,\n",
       " -0.026826821267604828,\n",
       " 0.00524183688685298,\n",
       " 0.01367210689932108,\n",
       " -0.016065049916505814,\n",
       " 0.004459280055016279,\n",
       " 0.006965401582419872,\n",
       " 0.004245855379849672,\n",
       " -0.03264749050140381,\n",
       " -0.008963831700384617,\n",
       " 0.011537861078977585,\n",
       " 0.00902850553393364,\n",
       " -0.02227376401424408,\n",
       " -0.03099183365702629,\n",
       " -0.021808110177516937,\n",
       " 0.009448887780308723,\n",
       " -0.028974002227187157,\n",
       " 0.025507468730211258,\n",
       " -0.005869175773113966,\n",
       " -0.022403111681342125,\n",
       " -0.0003736951039172709,\n",
       " -0.004035664722323418,\n",
       " 0.017436141148209572,\n",
       " -0.007592740468680859,\n",
       " 0.03629511222243309,\n",
       " -0.02434333600103855,\n",
       " -0.007327576633542776,\n",
       " 0.0049314009957015514,\n",
       " -0.012682593427598476,\n",
       " 0.03104357421398163,\n",
       " -0.016750594601035118,\n",
       " 0.02941378578543663,\n",
       " -0.01058715209364891,\n",
       " -0.02489953301846981,\n",
       " 0.007916111499071121,\n",
       " -0.001791472896002233,\n",
       " 0.0005036496440880001,\n",
       " 0.007987252436578274,\n",
       " 0.034846410155296326,\n",
       " 0.03319075331091881,\n",
       " 0.001954775070771575,\n",
       " 0.011971177533268929,\n",
       " 0.02356724627315998,\n",
       " 0.00939714815467596,\n",
       " -0.031172921881079674,\n",
       " -0.005322679411619902,\n",
       " -0.007133554667234421,\n",
       " 0.0021293950267136097,\n",
       " -0.013225855305790901,\n",
       " 0.024317465722560883,\n",
       " 0.007631544955074787,\n",
       " 0.004617731552571058,\n",
       " -0.0012870148057118058,\n",
       " 0.005500533152371645,\n",
       " 0.018626144155859947,\n",
       " 0.02120017446577549,\n",
       " 0.0011010767193511128,\n",
       " -0.026425842195749283,\n",
       " -0.010807043872773647,\n",
       " -0.0007081815274432302,\n",
       " -0.007463392335921526,\n",
       " 0.03898555412888527,\n",
       " 0.009377745911478996,\n",
       " 0.030836615711450577,\n",
       " -0.036165762692689896,\n",
       " 0.020268866792321205,\n",
       " 0.033242493867874146,\n",
       " 0.0029911776073276997,\n",
       " 0.0023007814306765795,\n",
       " -0.0017429672880098224,\n",
       " 0.016815269365906715,\n",
       " 0.017009291797876358,\n",
       " 0.006868390832096338,\n",
       " 0.011259762570261955,\n",
       " 0.011667209677398205,\n",
       " -0.012592049315571785,\n",
       " 0.0005610479274764657,\n",
       " -0.03952881693840027,\n",
       " 0.0001591589389136061,\n",
       " 0.013348736800253391,\n",
       " 0.00281979120336473,\n",
       " 0.012126395478844643,\n",
       " 0.01828983798623085,\n",
       " 0.009610572829842567,\n",
       " -0.007722089067101479,\n",
       " 0.006321894470602274,\n",
       " -0.016504833474755287,\n",
       " -0.00041007428080774844,\n",
       " 0.020294735208153725,\n",
       " -0.012908952310681343,\n",
       " 0.012960691936314106,\n",
       " -0.004950803238898516,\n",
       " -0.003990392666310072,\n",
       " 0.003143161768093705,\n",
       " 0.02359311655163765,\n",
       " 0.03099183365702629,\n",
       " 0.018910709768533707,\n",
       " 0.01860027387738228,\n",
       " -0.029336176812648773,\n",
       " -0.029258567839860916,\n",
       " -0.0044916169717907906,\n",
       " -0.007004206068813801,\n",
       " 0.03396684303879738,\n",
       " -0.0029184191953390837,\n",
       " 0.050497546792030334,\n",
       " 0.019415168091654778,\n",
       " -0.006156975403428078,\n",
       " -0.02700790949165821,\n",
       " -0.019764408469200134,\n",
       " 0.009992150589823723,\n",
       " -0.012753734365105629,\n",
       " 0.004375203512609005,\n",
       " -0.006467411294579506,\n",
       " 0.002098674885928631,\n",
       " -0.014254174195230007,\n",
       " 0.018613209947943687,\n",
       " 0.015405373647809029,\n",
       " 0.00034176226472482085,\n",
       " -0.025041816756129265,\n",
       " 0.02173050120472908,\n",
       " -0.00020059080270584673,\n",
       " 0.01114334911108017,\n",
       " -0.013271127827465534,\n",
       " -0.012255744077265263,\n",
       " -0.008756875060498714,\n",
       " 0.044159483164548874,\n",
       " -0.003764033317565918,\n",
       " 0.006913662422448397,\n",
       " -0.007437522988766432,\n",
       " -0.007799698039889336,\n",
       " 0.01856146939098835,\n",
       " 0.018639078363776207,\n",
       " 0.009448887780308723,\n",
       " 0.0318196639418602,\n",
       " -0.00942948553711176,\n",
       " -0.002331501804292202,\n",
       " 0.009371278807520866,\n",
       " 0.02251952514052391,\n",
       " -0.021135499700903893,\n",
       " -0.0013613899936899543,\n",
       " 0.017694836482405663,\n",
       " 0.0031496291048824787,\n",
       " -0.02995704859495163,\n",
       " 0.0039483546279370785,\n",
       " 0.011473187245428562,\n",
       " 0.030603788793087006,\n",
       " 0.0034859345760196447,\n",
       " 0.03104357421398163,\n",
       " 0.0027146958746016026,\n",
       " 0.02783573791384697,\n",
       " -0.00967524666339159,\n",
       " -0.010250846855342388,\n",
       " -0.007424587849527597,\n",
       " -1.781064383976627e-05,\n",
       " 0.030810747295618057,\n",
       " -0.0006548253586515784,\n",
       " -0.007612142711877823,\n",
       " -0.036139894276857376,\n",
       " -0.0020534030627459288,\n",
       " -0.012229874730110168,\n",
       " 0.014228304848074913,\n",
       " 0.01879429630935192,\n",
       " -0.019027123227715492,\n",
       " -0.007062412798404694,\n",
       " 0.018186360597610474,\n",
       " -0.014409392140805721,\n",
       " 0.02013951912522316,\n",
       " -0.022196155041456223,\n",
       " 0.0028003889601677656,\n",
       " -0.01905299350619316,\n",
       " -0.0323629267513752,\n",
       " 0.004152077715843916,\n",
       " -0.018613209947943687,\n",
       " 0.01150552462786436,\n",
       " 0.009823997505009174,\n",
       " -0.0027971554081887007,\n",
       " -0.025378121063113213,\n",
       " 0.006063197739422321,\n",
       " -0.003025131532922387,\n",
       " -0.010632423684000969,\n",
       " 0.002530374564230442,\n",
       " 0.005529636517167091,\n",
       " -0.04858319088816643,\n",
       " 0.015702873468399048,\n",
       " -0.0187684278935194,\n",
       " -0.01365917269140482,\n",
       " 0.028948131948709488,\n",
       " -0.008388232439756393,\n",
       " -0.00979812815785408,\n",
       " 0.0031221427489072084,\n",
       " 0.012378624640405178,\n",
       " 0.019803212955594063,\n",
       " -0.01140851341187954,\n",
       " -0.017824184149503708,\n",
       " -0.006713172886520624,\n",
       " 0.014344718307256699,\n",
       " -0.004459280055016279,\n",
       " -0.00045150614459998906,\n",
       " -0.02198919840157032,\n",
       " -0.0016702088760212064,\n",
       " -0.026826821267604828,\n",
       " 0.012488570995628834,\n",
       " 0.0019563918467611074,\n",
       " -0.006144040729850531,\n",
       " 0.012650256045162678,\n",
       " -0.027732258662581444,\n",
       " 0.01113688200712204,\n",
       " -0.007896709255874157,\n",
       " -0.024821924045681953,\n",
       " -0.044676877558231354,\n",
       " -0.017048096284270287,\n",
       " 0.016517767682671547,\n",
       " 0.01473276223987341,\n",
       " 0.02892226167023182,\n",
       " 0.01363330241292715,\n",
       " 0.004090637434273958,\n",
       " -0.00042604070040397346,\n",
       " 0.008795679546892643,\n",
       " -0.010296118445694447,\n",
       " 0.008058394305408001,\n",
       " 0.006642031017690897,\n",
       " -0.027887476608157158,\n",
       " 0.010781174525618553,\n",
       " 0.021536478772759438,\n",
       " -0.0023606051690876484,\n",
       " -0.013930803164839745,\n",
       " -0.02941378578543663,\n",
       " -0.0017106302548199892,\n",
       " -0.0524895079433918,\n",
       " -0.0023509040474891663,\n",
       " -0.01671179011464119,\n",
       " 0.03104357421398163,\n",
       " 0.02382594347000122,\n",
       " -0.026335297152400017,\n",
       " -0.014538739807903767,\n",
       " -0.020475823432207108,\n",
       " -0.015327764675021172,\n",
       " -0.014267109334468842,\n",
       " -0.006496514659374952,\n",
       " 0.0018609975231811404,\n",
       " -0.007857904769480228,\n",
       " 0.030267484486103058,\n",
       " -0.0012304249685257673,\n",
       " 0.04475448653101921,\n",
       " -0.016582442447543144,\n",
       " -0.0017656031996011734,\n",
       " -0.02625769004225731,\n",
       " 0.014422326348721981,\n",
       " -0.013491019606590271,\n",
       " -0.008685733191668987,\n",
       " 0.014267109334468842,\n",
       " -0.008414101786911488,\n",
       " -0.015392438508570194,\n",
       " -0.02915508858859539,\n",
       " -0.0005586226470768452,\n",
       " -0.034044452011585236,\n",
       " -0.00367348943836987,\n",
       " 0.027421822771430016,\n",
       " -0.02275235205888748,\n",
       " -0.020023105666041374,\n",
       " -0.0002987135376315564,\n",
       " 0.0019984301179647446,\n",
       " 0.03228531777858734,\n",
       " 0.01270846277475357,\n",
       " 0.013031833805143833,\n",
       " -0.022623004391789436,\n",
       " 0.027758128941059113,\n",
       " -0.0018658480839803815,\n",
       " 0.00465006846934557,\n",
       " -0.022467786446213722,\n",
       " 0.031379878520965576,\n",
       " -0.010755304247140884,\n",
       " -0.014939719811081886,\n",
       " 0.003469766117632389,\n",
       " -0.004320230800658464,\n",
       " -0.00417147995904088,\n",
       " -0.002987943822517991,\n",
       " 0.009306604973971844,\n",
       " 0.011046337895095348,\n",
       " 0.014913850463926792,\n",
       " 0.022855831310153008,\n",
       " 0.02253246121108532,\n",
       " 0.0006495706038549542,\n",
       " -0.024252790957689285,\n",
       " -0.019803212955594063,\n",
       " -0.007450457662343979,\n",
       " -0.0037737344391644,\n",
       " -0.002758350921794772,\n",
       " 0.012165199965238571,\n",
       " -0.03479467332363129,\n",
       " 0.013135312125086784,\n",
       " -0.014241239055991173,\n",
       " -0.001763986423611641,\n",
       " 0.015263089910149574,\n",
       " -0.0015966420760378242,\n",
       " -0.00016239265096373856,\n",
       " 0.0033533526584506035,\n",
       " -0.011932373978197575,\n",
       " -0.0036023480352014303,\n",
       " 0.0038933814503252506,\n",
       " 0.003990392666310072,\n",
       " 0.0027809867169708014,\n",
       " 0.0013646237784996629,\n",
       " -0.006612927652895451,\n",
       " -0.001383217517286539,\n",
       " -0.01404721662402153,\n",
       " 0.004666237160563469,\n",
       " -0.016569506376981735,\n",
       " -0.0012862064177170396,\n",
       " 0.024718444794416428,\n",
       " 0.002389708301052451,\n",
       " -0.015004393644630909,\n",
       " -0.00016269581101369113,\n",
       " 0.001228808076120913,\n",
       " -0.03213009983301163,\n",
       " 0.005371185019612312,\n",
       " 0.18512317538261414,\n",
       " -0.01363330241292715,\n",
       " -0.0027227799873799086,\n",
       " 0.001201321603730321,\n",
       " -0.007948447950184345,\n",
       " 0.010205574333667755,\n",
       " 0.011757753789424896,\n",
       " 0.005558739881962538,\n",
       " -0.005726892501115799,\n",
       " 0.011363240890204906,\n",
       " -0.0008302538772113621,\n",
       " 0.002742182230576873,\n",
       " -0.017927663400769234,\n",
       " -0.00577539810910821,\n",
       " 0.009746388532221317,\n",
       " -0.025235837325453758,\n",
       " -0.019247015938162804,\n",
       " -0.013335801661014557,\n",
       " -0.018225165084004402,\n",
       " 0.015845157206058502,\n",
       " 0.00029325668583624065,\n",
       " 0.01499145943671465,\n",
       " -0.007334044203162193,\n",
       " -0.007424587849527597,\n",
       " 0.05010950192809105,\n",
       " 0.001969326753169298,\n",
       " -0.0024511488154530525,\n",
       " 0.004278192296624184,\n",
       " 0.008407634682953358,\n",
       " 0.006732575129717588,\n",
       " -0.01495265495032072,\n",
       " -0.012546777725219727,\n",
       " 0.01365917269140482,\n",
       " 0.008672798052430153,\n",
       " -0.002098674885928631,\n",
       " -0.0031043572816997766,\n",
       " 0.01417656522244215,\n",
       " 0.008595189079642296,\n",
       " 0.02649051509797573,\n",
       " -0.006273388862609863,\n",
       " 0.03427727892994881,\n",
       " 0.00889268983155489,\n",
       " 0.0257014911621809,\n",
       " -0.0272666048258543,\n",
       " 0.021044956520199776,\n",
       " 0.003582945792004466,\n",
       " ...]"
      ]
     },
     "execution_count": 34,
     "metadata": {},
     "output_type": "execute_result"
    }
   ],
   "execution_count": 34
  },
  {
   "metadata": {
    "ExecuteTime": {
     "end_time": "2025-06-12T12:29:55.301450Z",
     "start_time": "2025-06-12T12:29:55.281454Z"
    }
   },
   "cell_type": "code",
   "source": "len(vector1), len(vector2),len(vector3)",
   "id": "de7b56a0268cbf6f",
   "outputs": [
    {
     "data": {
      "text/plain": [
       "(1536, 1536, 1536)"
      ]
     },
     "execution_count": 35,
     "metadata": {},
     "output_type": "execute_result"
    }
   ],
   "execution_count": 35
  },
  {
   "metadata": {
    "ExecuteTime": {
     "end_time": "2025-06-12T12:29:55.455423Z",
     "start_time": "2025-06-12T12:29:55.436428Z"
    }
   },
   "cell_type": "code",
   "source": "np.dot(vector1, vector2)",
   "id": "e1fa7d3c68fc10a4",
   "outputs": [
    {
     "data": {
      "text/plain": [
       "0.8792246875132874"
      ]
     },
     "execution_count": 36,
     "metadata": {},
     "output_type": "execute_result"
    }
   ],
   "execution_count": 36
  },
  {
   "metadata": {
    "ExecuteTime": {
     "end_time": "2025-06-12T12:29:55.577611Z",
     "start_time": "2025-06-12T12:29:55.560563Z"
    }
   },
   "cell_type": "code",
   "source": "np.dot(vector1, vector3)",
   "id": "8222a160fa21f985",
   "outputs": [
    {
     "data": {
      "text/plain": [
       "0.800001028609988"
      ]
     },
     "execution_count": 37,
     "metadata": {},
     "output_type": "execute_result"
    }
   ],
   "execution_count": 37
  },
  {
   "metadata": {
    "ExecuteTime": {
     "end_time": "2025-06-12T12:29:55.639867Z",
     "start_time": "2025-06-12T12:29:55.630913Z"
    }
   },
   "cell_type": "code",
   "source": "np.dot(vector2, vector3)",
   "id": "17a0b17da2750af",
   "outputs": [
    {
     "data": {
      "text/plain": [
       "0.7936194098992386"
      ]
     },
     "execution_count": 38,
     "metadata": {},
     "output_type": "execute_result"
    }
   ],
   "execution_count": 38
  },
  {
   "metadata": {
    "ExecuteTime": {
     "end_time": "2025-06-12T12:29:55.717953Z",
     "start_time": "2025-06-12T12:29:55.706869Z"
    }
   },
   "cell_type": "code",
   "source": "np.linalg.norm(vector3)",
   "id": "5bc56f9875d54e29",
   "outputs": [
    {
     "data": {
      "text/plain": [
       "1.0000000544512242"
      ]
     },
     "execution_count": 39,
     "metadata": {},
     "output_type": "execute_result"
    }
   ],
   "execution_count": 39
  },
  {
   "metadata": {},
   "cell_type": "markdown",
   "source": "## Creating Chroma Vectorstore",
   "id": "e0a0f35c2de42c97"
  },
  {
   "metadata": {
    "ExecuteTime": {
     "end_time": "2025-06-12T12:29:55.781868Z",
     "start_time": "2025-06-12T12:29:55.772868Z"
    }
   },
   "cell_type": "code",
   "source": "from langchain_community.vectorstores import Chroma",
   "id": "f3c405855f84c96",
   "outputs": [],
   "execution_count": 40
  },
  {
   "metadata": {
    "ExecuteTime": {
     "end_time": "2025-06-12T12:29:57.477382Z",
     "start_time": "2025-06-12T12:29:55.813581Z"
    }
   },
   "cell_type": "code",
   "source": "vectorstore = Chroma.from_documents(documents=pages_char_split, embedding=embeddings, persist_directory=\"./test\")",
   "id": "b29ea19cebab9488",
   "outputs": [],
   "execution_count": 41
  },
  {
   "metadata": {
    "ExecuteTime": {
     "end_time": "2025-06-12T12:31:54.222287Z",
     "start_time": "2025-06-12T12:31:53.595232Z"
    }
   },
   "cell_type": "code",
   "source": "vectorstore_from_directory = Chroma(persist_directory=\"./test\", embedding_function=embeddings)",
   "id": "22419858fcbe905e",
   "outputs": [
    {
     "name": "stderr",
     "output_type": "stream",
     "text": [
      "C:\\Users\\matsv\\AppData\\Local\\Temp\\ipykernel_16876\\2870937609.py:1: LangChainDeprecationWarning: The class `Chroma` was deprecated in LangChain 0.2.9 and will be removed in 1.0. An updated version of the class exists in the :class:`~langchain-chroma package and should be used instead. To use it run `pip install -U :class:`~langchain-chroma` and import as `from :class:`~langchain_chroma import Chroma``.\n",
      "  vectorstore_from_directory = Chroma(persist_directory=\"./test\", embedding_function=embeddings)\n"
     ]
    }
   ],
   "execution_count": 42
  },
  {
   "metadata": {},
   "cell_type": "markdown",
   "source": "## Inspecting and Managing documents in a Vectorstore",
   "id": "a4a281c87b5e4561"
  },
  {
   "metadata": {
    "ExecuteTime": {
     "end_time": "2025-06-12T12:34:02.016658Z",
     "start_time": "2025-06-12T12:34:01.992565Z"
    }
   },
   "cell_type": "code",
   "source": "from langchain_core.documents import Document",
   "id": "39034df9c11a58c3",
   "outputs": [],
   "execution_count": 45
  },
  {
   "metadata": {
    "ExecuteTime": {
     "end_time": "2025-06-12T12:35:30.198579Z",
     "start_time": "2025-06-12T12:35:29.939349Z"
    }
   },
   "cell_type": "code",
   "source": "vectorstore_from_directory.get(ids=\"49cfd0e2-b712-477b-b89b-93b956db667a\",include=[\"embeddings\"])",
   "id": "9ba2d2b3c20d6f77",
   "outputs": [
    {
     "data": {
      "text/plain": [
       "{'ids': ['49cfd0e2-b712-477b-b89b-93b956db667a'],\n",
       " 'embeddings': array([[-0.00145079,  0.00294724,  0.04136246, ...,  0.00858565,\n",
       "         -0.02052466, -0.00128198]]),\n",
       " 'documents': None,\n",
       " 'uris': None,\n",
       " 'included': ['embeddings'],\n",
       " 'data': None,\n",
       " 'metadatas': None}"
      ]
     },
     "execution_count": 47,
     "metadata": {},
     "output_type": "execute_result"
    }
   ],
   "execution_count": 47
  },
  {
   "metadata": {
    "ExecuteTime": {
     "end_time": "2025-06-12T12:36:12.837849Z",
     "start_time": "2025-06-12T12:36:12.795610Z"
    }
   },
   "cell_type": "code",
   "source": [
    "added_document = Document(page_content='Alright! So… Let’s discuss the not-so-obvious differences between the terms analysis and analytics. Due to the similarity of the words, some people believe they share the same meaning, and thus use them interchangeably. Technically, this isn’t correct. There is, in fact, a distinct difference between the two. And the reason for one often being used instead of the other is the lack of a transparent understanding of both. So, let’s clear this up, shall we? First, we will start with analysis', \n",
    "                          metadata={'Course Title': 'Introduction to Data and Data Science', \n",
    "                                    'Lecture Title': 'Analysis vs Analytics'})"
   ],
   "id": "2194210759bd6b64",
   "outputs": [],
   "execution_count": 48
  },
  {
   "metadata": {
    "ExecuteTime": {
     "end_time": "2025-06-12T12:36:25.333283Z",
     "start_time": "2025-06-12T12:36:24.037983Z"
    }
   },
   "cell_type": "code",
   "source": "vectorstore_from_directory.add_documents([added_document])",
   "id": "89a2d178b9e61ac",
   "outputs": [
    {
     "data": {
      "text/plain": [
       "['f3351060-fe7c-44f5-a0d4-3166ecf43f4a']"
      ]
     },
     "execution_count": 49,
     "metadata": {},
     "output_type": "execute_result"
    }
   ],
   "execution_count": 49
  },
  {
   "metadata": {
    "ExecuteTime": {
     "end_time": "2025-06-12T12:37:18.985852Z",
     "start_time": "2025-06-12T12:37:18.970856Z"
    }
   },
   "cell_type": "code",
   "source": "vectorstore_from_directory.get(\"f3351060-fe7c-44f5-a0d4-3166ecf43f4a\")",
   "id": "dacd372431613e71",
   "outputs": [
    {
     "data": {
      "text/plain": [
       "{'ids': ['f3351060-fe7c-44f5-a0d4-3166ecf43f4a'],\n",
       " 'embeddings': None,\n",
       " 'documents': ['Alright! So… Let’s discuss the not-so-obvious differences between the terms analysis and analytics. Due to the similarity of the words, some people believe they share the same meaning, and thus use them interchangeably. Technically, this isn’t correct. There is, in fact, a distinct difference between the two. And the reason for one often being used instead of the other is the lack of a transparent understanding of both. So, let’s clear this up, shall we? First, we will start with analysis'],\n",
       " 'uris': None,\n",
       " 'included': ['metadatas', 'documents'],\n",
       " 'data': None,\n",
       " 'metadatas': [{'Course Title': 'Introduction to Data and Data Science',\n",
       "   'Lecture Title': 'Analysis vs Analytics'}]}"
      ]
     },
     "execution_count": 52,
     "metadata": {},
     "output_type": "execute_result"
    }
   ],
   "execution_count": 52
  },
  {
   "metadata": {
    "ExecuteTime": {
     "end_time": "2025-06-12T12:37:33.381702Z",
     "start_time": "2025-06-12T12:37:33.357895Z"
    }
   },
   "cell_type": "code",
   "source": [
    "updated_document = Document(page_content='Great! We hope we gave you a good idea about the level of applicability of the most frequently used programming and software tools in the field of data science. Thank you for watching!', \n",
    "                            metadata={'Course Title': 'Introduction to Data and Data Science', \n",
    "                                     'Lecture Title': 'Programming Languages & Software Employed in Data Science - All the Tools You Need'})"
   ],
   "id": "84f6c6e06d514020",
   "outputs": [],
   "execution_count": 53
  },
  {
   "metadata": {
    "ExecuteTime": {
     "end_time": "2025-06-12T12:38:06.533168Z",
     "start_time": "2025-06-12T12:38:05.846954Z"
    }
   },
   "cell_type": "code",
   "source": [
    "vectorstore_from_directory.update_document(document_id = \"f3351060-fe7c-44f5-a0d4-3166ecf43f4a\", \n",
    "                                           document = updated_document)"
   ],
   "id": "62d43b848ce064e0",
   "outputs": [],
   "execution_count": 54
  },
  {
   "metadata": {
    "ExecuteTime": {
     "end_time": "2025-06-12T12:38:11.188071Z",
     "start_time": "2025-06-12T12:38:10.980036Z"
    }
   },
   "cell_type": "code",
   "source": "updated_document",
   "id": "a565cab3f4142935",
   "outputs": [
    {
     "data": {
      "text/plain": [
       "Document(metadata={'Course Title': 'Introduction to Data and Data Science', 'Lecture Title': 'Programming Languages & Software Employed in Data Science - All the Tools You Need'}, page_content='Great! We hope we gave you a good idea about the level of applicability of the most frequently used programming and software tools in the field of data science. Thank you for watching!')"
      ]
     },
     "execution_count": 55,
     "metadata": {},
     "output_type": "execute_result"
    }
   ],
   "execution_count": 55
  },
  {
   "metadata": {
    "ExecuteTime": {
     "end_time": "2025-06-12T12:38:47.065221Z",
     "start_time": "2025-06-12T12:38:46.911259Z"
    }
   },
   "cell_type": "code",
   "source": "vectorstore_from_directory.delete(\"f3351060-fe7c-44f5-a0d4-3166ecf43f4a\")",
   "id": "31b50f52739a9481",
   "outputs": [],
   "execution_count": 56
  },
  {
   "metadata": {
    "ExecuteTime": {
     "end_time": "2025-06-12T12:38:55.230989Z",
     "start_time": "2025-06-12T12:38:55.190169Z"
    }
   },
   "cell_type": "code",
   "source": "vectorstore_from_directory.get(\"f3351060-fe7c-44f5-a0d4-3166ecf43f4a\")",
   "id": "7dce24d20f87dd8d",
   "outputs": [
    {
     "data": {
      "text/plain": [
       "{'ids': [],\n",
       " 'embeddings': None,\n",
       " 'documents': [],\n",
       " 'uris': None,\n",
       " 'included': ['metadatas', 'documents'],\n",
       " 'data': None,\n",
       " 'metadatas': []}"
      ]
     },
     "execution_count": 57,
     "metadata": {},
     "output_type": "execute_result"
    }
   ],
   "execution_count": 57
  },
  {
   "metadata": {},
   "cell_type": "code",
   "outputs": [],
   "execution_count": null,
   "source": "",
   "id": "c006778ceb2c478c"
  }
 ],
 "metadata": {
  "kernelspec": {
   "display_name": "Python 3",
   "language": "python",
   "name": "python3"
  },
  "language_info": {
   "codemirror_mode": {
    "name": "ipython",
    "version": 2
   },
   "file_extension": ".py",
   "mimetype": "text/x-python",
   "name": "python",
   "nbconvert_exporter": "python",
   "pygments_lexer": "ipython2",
   "version": "2.7.6"
  }
 },
 "nbformat": 4,
 "nbformat_minor": 5
}
