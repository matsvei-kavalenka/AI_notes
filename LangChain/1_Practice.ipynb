{
 "cells": [
  {
   "metadata": {},
   "cell_type": "markdown",
   "source": "# Tweet Classifier",
   "id": "f0cac4de330871c7"
  },
  {
   "metadata": {
    "ExecuteTime": {
     "end_time": "2025-06-03T09:12:01.915661Z",
     "start_time": "2025-06-03T09:12:01.882340Z"
    }
   },
   "cell_type": "code",
   "source": [
    "%load_ext dotenv\n",
    "%dotenv"
   ],
   "id": "c83c5c09af7119e4",
   "outputs": [],
   "execution_count": 1
  },
  {
   "metadata": {
    "ExecuteTime": {
     "end_time": "2025-06-03T09:37:21.531165Z",
     "start_time": "2025-06-03T09:37:21.461163Z"
    }
   },
   "cell_type": "code",
   "source": [
    "import os\n",
    "from openai import OpenAI"
   ],
   "id": "8c1ec220a3559f13",
   "outputs": [],
   "execution_count": 6
  },
  {
   "metadata": {
    "ExecuteTime": {
     "end_time": "2025-06-03T09:39:19.221589Z",
     "start_time": "2025-06-03T09:39:19.095486Z"
    }
   },
   "cell_type": "code",
   "source": "client = OpenAI(api_key=os.getenv(\"OPENAI_API_KEY\"))",
   "id": "646eb6940db27826",
   "outputs": [],
   "execution_count": 7
  },
  {
   "metadata": {
    "ExecuteTime": {
     "end_time": "2025-06-03T09:48:52.516617Z",
     "start_time": "2025-06-03T09:48:51.430716Z"
    }
   },
   "cell_type": "code",
   "source": [
    "response = client.responses.create(model=\"gpt-4o-mini\", input=[{\"role\":\"system\", \n",
    "                                                                            \"content\": [\n",
    "                                                                                {\n",
    "                                                                                    \"type\": \"input_text\",\n",
    "                                                                                    \"text\": \"You will be provided a tweet and you need to recognize it as positive,neutral and negative\"\n",
    "                                                                                }\n",
    "                                                                            ]},\n",
    "                                                                           {\"role\":\"user\",\n",
    "                                                                            \"content\": [\n",
    "                                                                                {\n",
    "                                                                                  \"type\": \"input_text\",\n",
    "                                                                                  \"text\": \"I loved the new Batman movie!\"\n",
    "                                                                                }\n",
    "                                                                            ]\n",
    "                                                                            }], \n",
    "                                            temperature=0,\n",
    "                                            max_output_tokens=16)"
   ],
   "id": "2918627c17fdc34c",
   "outputs": [],
   "execution_count": 13
  },
  {
   "metadata": {
    "ExecuteTime": {
     "end_time": "2025-06-03T09:52:33.015597Z",
     "start_time": "2025-06-03T09:52:33.000599Z"
    }
   },
   "cell_type": "code",
   "source": "response.output[0].content[0].text",
   "id": "430f0f96ee99fa77",
   "outputs": [
    {
     "data": {
      "text/plain": [
       "'Positive'"
      ]
     },
     "execution_count": 18,
     "metadata": {},
     "output_type": "execute_result"
    }
   ],
   "execution_count": 18
  },
  {
   "metadata": {
    "ExecuteTime": {
     "end_time": "2025-06-03T09:54:29.683956Z",
     "start_time": "2025-06-03T09:54:28.761073Z"
    }
   },
   "cell_type": "code",
   "source": [
    "response_neutral = client.responses.create(model=\"gpt-4o-mini\", input=[{\"role\":\"system\", \n",
    "                                                                            \"content\": [\n",
    "                                                                                {\n",
    "                                                                                    \"type\": \"input_text\",\n",
    "                                                                                    \"text\": \"You will be provided a tweet and you need to recognize it as positive,neutral and negative\"\n",
    "                                                                                }\n",
    "                                                                            ]},\n",
    "                                                                           {\"role\":\"user\",\n",
    "                                                                            \"content\": [\n",
    "                                                                                {\n",
    "                                                                                  \"type\": \"input_text\",\n",
    "                                                                                  \"text\": \"I think the movie was okay\"\n",
    "                                                                                }\n",
    "                                                                            ]\n",
    "                                                                            }], \n",
    "                                            temperature=0,\n",
    "                                            max_output_tokens=16)"
   ],
   "id": "eab180f849438cb4",
   "outputs": [],
   "execution_count": 19
  },
  {
   "metadata": {
    "ExecuteTime": {
     "end_time": "2025-06-03T09:54:53.733597Z",
     "start_time": "2025-06-03T09:54:53.714596Z"
    }
   },
   "cell_type": "code",
   "source": "response_neutral.output[0].content[0].text",
   "id": "d11ca22d7bd41045",
   "outputs": [
    {
     "data": {
      "text/plain": [
       "'The tweet is neutral.'"
      ]
     },
     "execution_count": 21,
     "metadata": {},
     "output_type": "execute_result"
    }
   ],
   "execution_count": 21
  },
  {
   "metadata": {
    "ExecuteTime": {
     "end_time": "2025-06-03T09:55:49.893709Z",
     "start_time": "2025-06-03T09:55:48.935881Z"
    }
   },
   "cell_type": "code",
   "source": [
    "response_negative = client.responses.create(model=\"gpt-4o-mini\", input=[{\"role\":\"system\", \n",
    "                                                                            \"content\": [\n",
    "                                                                                {\n",
    "                                                                                    \"type\": \"input_text\",\n",
    "                                                                                    \"text\": \"You will be provided a tweet and you need to recognize it as positive,neutral and negative\"\n",
    "                                                                                }\n",
    "                                                                            ]},\n",
    "                                                                           {\"role\":\"user\",\n",
    "                                                                            \"content\": [\n",
    "                                                                                {\n",
    "                                                                                  \"type\": \"input_text\",\n",
    "                                                                                  \"text\": \"The movie was terrible\"\n",
    "                                                                                }\n",
    "                                                                            ]\n",
    "                                                                            }], \n",
    "                                            temperature=0,\n",
    "                                            max_output_tokens=16)"
   ],
   "id": "ec6c5f7e97a85d89",
   "outputs": [],
   "execution_count": 22
  },
  {
   "metadata": {
    "ExecuteTime": {
     "end_time": "2025-06-03T09:56:11.422013Z",
     "start_time": "2025-06-03T09:56:11.410014Z"
    }
   },
   "cell_type": "code",
   "source": "response_negative.output[0].content[0].text",
   "id": "c80b94a7503f92d4",
   "outputs": [
    {
     "data": {
      "text/plain": [
       "'Negative'"
      ]
     },
     "execution_count": 23,
     "metadata": {},
     "output_type": "execute_result"
    }
   ],
   "execution_count": 23
  },
  {
   "metadata": {},
   "cell_type": "code",
   "outputs": [],
   "execution_count": null,
   "source": "",
   "id": "a7bd30c8e503d53c"
  }
 ],
 "metadata": {
  "kernelspec": {
   "display_name": "Python 3",
   "language": "python",
   "name": "python3"
  },
  "language_info": {
   "codemirror_mode": {
    "name": "ipython",
    "version": 2
   },
   "file_extension": ".py",
   "mimetype": "text/x-python",
   "name": "python",
   "nbconvert_exporter": "python",
   "pygments_lexer": "ipython2",
   "version": "2.7.6"
  }
 },
 "nbformat": 4,
 "nbformat_minor": 5
}
