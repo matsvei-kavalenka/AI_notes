{
 "cells": [
  {
   "metadata": {},
   "cell_type": "markdown",
   "source": "# Chat Message History",
   "id": "27c453266415c080"
  },
  {
   "metadata": {
    "ExecuteTime": {
     "end_time": "2025-06-05T07:07:50.984860Z",
     "start_time": "2025-06-05T07:07:50.944729Z"
    }
   },
   "cell_type": "code",
   "source": [
    "%load_ext dotenv\n",
    "%dotenv"
   ],
   "id": "f3fd122bdd999c30",
   "outputs": [],
   "execution_count": 1
  },
  {
   "metadata": {
    "ExecuteTime": {
     "end_time": "2025-06-05T07:09:02.857428Z",
     "start_time": "2025-06-05T07:08:57.543119Z"
    }
   },
   "cell_type": "code",
   "source": [
    "from langchain_openai.chat_models import ChatOpenAI\n",
    "\n",
    "from langchain_core.prompts import (ChatPromptTemplate, \n",
    "                                    HumanMessagePromptTemplate)\n",
    "\n",
    "from langchain.chains.llm import LLMChain\n",
    "\n",
    "from langchain_community.chat_message_histories import ChatMessageHistory"
   ],
   "id": "2e32f8a04dd36497",
   "outputs": [],
   "execution_count": 2
  },
  {
   "metadata": {
    "ExecuteTime": {
     "end_time": "2025-06-05T07:09:50.614979Z",
     "start_time": "2025-06-05T07:09:49.953320Z"
    }
   },
   "cell_type": "code",
   "source": "chat = ChatOpenAI(model_name='gpt-4o-mini', seed=365, temperature=0, max_tokens=100)",
   "id": "ee5f293bd520507e",
   "outputs": [],
   "execution_count": 3
  },
  {
   "metadata": {
    "ExecuteTime": {
     "end_time": "2025-06-05T07:10:42.877645Z",
     "start_time": "2025-06-05T07:10:42.857665Z"
    }
   },
   "cell_type": "code",
   "source": "background_info = ChatMessageHistory()",
   "id": "28528382130c81f6",
   "outputs": [],
   "execution_count": 4
  },
  {
   "metadata": {
    "ExecuteTime": {
     "end_time": "2025-06-05T07:10:46.196105Z",
     "start_time": "2025-06-05T07:10:46.138550Z"
    }
   },
   "cell_type": "code",
   "source": "background_info",
   "id": "5d70754d5e9bfffe",
   "outputs": [
    {
     "data": {
      "text/plain": [
       "InMemoryChatMessageHistory(messages=[])"
      ]
     },
     "execution_count": 5,
     "metadata": {},
     "output_type": "execute_result"
    }
   ],
   "execution_count": 5
  },
  {
   "metadata": {
    "ExecuteTime": {
     "end_time": "2025-06-05T07:22:07.144877Z",
     "start_time": "2025-06-05T07:22:07.121743Z"
    }
   },
   "cell_type": "code",
   "source": "background_info.add_user_message(\"Can you give me an interesting fact I probably didnt know about?\")",
   "id": "1f4d39d810927d4",
   "outputs": [],
   "execution_count": 25
  },
  {
   "metadata": {
    "ExecuteTime": {
     "end_time": "2025-06-05T07:22:07.844170Z",
     "start_time": "2025-06-05T07:22:07.835148Z"
    }
   },
   "cell_type": "code",
   "source": "background_info.add_ai_message(\"Sure, did you know that the longest place name on the planet is 85 letters?\")",
   "id": "5f192efea4ae7f36",
   "outputs": [],
   "execution_count": 26
  },
  {
   "metadata": {
    "ExecuteTime": {
     "end_time": "2025-06-05T07:22:11.433487Z",
     "start_time": "2025-06-05T07:22:11.410274Z"
    }
   },
   "cell_type": "code",
   "source": "background_info.messages",
   "id": "e74518ce39b436a7",
   "outputs": [
    {
     "data": {
      "text/plain": [
       "[HumanMessage(content='Can you give me an interesting fact I probably didnt know about?', additional_kwargs={}, response_metadata={}),\n",
       " AIMessage(content='Sure, did you know that the longest place name on the planet is 85 letters?', additional_kwargs={}, response_metadata={})]"
      ]
     },
     "execution_count": 27,
     "metadata": {},
     "output_type": "execute_result"
    }
   ],
   "execution_count": 27
  },
  {
   "metadata": {
    "ExecuteTime": {
     "end_time": "2025-06-05T07:12:52.915989Z",
     "start_time": "2025-06-05T07:12:52.896409Z"
    }
   },
   "cell_type": "code",
   "source": "background_info.clear()",
   "id": "2603cf61ce22a22e",
   "outputs": [],
   "execution_count": 12
  },
  {
   "metadata": {
    "ExecuteTime": {
     "end_time": "2025-06-05T07:22:14.698785Z",
     "start_time": "2025-06-05T07:22:14.685791Z"
    }
   },
   "cell_type": "code",
   "source": "message_template_human = HumanMessagePromptTemplate.from_template(template=\"{follow-up question}\")",
   "id": "2ed3d26aba570ba5",
   "outputs": [],
   "execution_count": 28
  },
  {
   "metadata": {
    "ExecuteTime": {
     "end_time": "2025-06-05T07:22:17.588871Z",
     "start_time": "2025-06-05T07:22:17.570870Z"
    }
   },
   "cell_type": "code",
   "source": "chat_template = ChatPromptTemplate.from_messages(background_info.messages + [message_template_human])",
   "id": "c34e52e55d8ae2bb",
   "outputs": [],
   "execution_count": 29
  },
  {
   "metadata": {
    "ExecuteTime": {
     "end_time": "2025-06-05T07:22:18.190379Z",
     "start_time": "2025-06-05T07:22:18.184406Z"
    }
   },
   "cell_type": "code",
   "source": "chain = chat_template | chat",
   "id": "94f88a13bede7195",
   "outputs": [],
   "execution_count": 30
  },
  {
   "metadata": {
    "ExecuteTime": {
     "end_time": "2025-06-05T07:22:21.535835Z",
     "start_time": "2025-06-05T07:22:18.867396Z"
    }
   },
   "cell_type": "code",
   "source": "response = chain.invoke({'follow-up question': 'What is the name?'})",
   "id": "b81c8e04e69b045b",
   "outputs": [],
   "execution_count": 31
  },
  {
   "metadata": {
    "ExecuteTime": {
     "end_time": "2025-06-05T07:22:46.939457Z",
     "start_time": "2025-06-05T07:22:46.928365Z"
    }
   },
   "cell_type": "code",
   "source": "print(response.content)",
   "id": "ec230364b4231ec6",
   "outputs": [
    {
     "name": "stdout",
     "output_type": "stream",
     "text": [
      "The longest place name in the world is \"Taumatawhakatangihangakoauauotamateapokaiwhenuakitanatahu,\" a hill located near Porangahau in New Zealand. The name is of Māori origin and is often shortened to \"Taumata\" for convenience. It roughly translates to \"The place where Tamatea, the man with the big knees, who slid, climbed, and swallowed mountains, known as the land-swallower, played his\n"
     ]
    }
   ],
   "execution_count": 34
  },
  {
   "metadata": {
    "ExecuteTime": {
     "end_time": "2025-06-05T07:23:26.544473Z",
     "start_time": "2025-06-05T07:23:23.121075Z"
    }
   },
   "cell_type": "code",
   "source": "response = chain.invoke({'follow-up question': 'What does the name mean?'})",
   "id": "283e2005b7bc68b9",
   "outputs": [],
   "execution_count": 35
  },
  {
   "metadata": {
    "ExecuteTime": {
     "end_time": "2025-06-05T07:23:28.339590Z",
     "start_time": "2025-06-05T07:23:28.333495Z"
    }
   },
   "cell_type": "code",
   "source": "print(response.content)",
   "id": "f4bdfdef4676a16a",
   "outputs": [
    {
     "name": "stdout",
     "output_type": "stream",
     "text": [
      "The longest place name is often cited as \"Taumatawhakatangihangakoauauotamateapokaiwhenuakitanatahu,\" which is a hill in New Zealand. The name is in the Māori language and translates to something like \"The place where Tamatea, the man with the big knees, who traveled about, played his nose flute to his loved one.\" It reflects the rich storytelling tradition of the Māori culture, encapsulating a narrative about a historical figure and his\n"
     ]
    }
   ],
   "execution_count": 36
  },
  {
   "metadata": {},
   "cell_type": "code",
   "outputs": [],
   "execution_count": null,
   "source": "",
   "id": "db2a5cb8ea8a1494"
  }
 ],
 "metadata": {
  "kernelspec": {
   "display_name": "Python 3",
   "language": "python",
   "name": "python3"
  },
  "language_info": {
   "codemirror_mode": {
    "name": "ipython",
    "version": 2
   },
   "file_extension": ".py",
   "mimetype": "text/x-python",
   "name": "python",
   "nbconvert_exporter": "python",
   "pygments_lexer": "ipython2",
   "version": "2.7.6"
  }
 },
 "nbformat": 4,
 "nbformat_minor": 5
}
