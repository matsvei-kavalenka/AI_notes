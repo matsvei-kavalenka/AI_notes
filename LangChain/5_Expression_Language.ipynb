{
 "cells": [
  {
   "metadata": {},
   "cell_type": "markdown",
   "source": "# Piping a Prompt, Model, and an Output Parser",
   "id": "824e1d5aafa098d8"
  },
  {
   "metadata": {
    "ExecuteTime": {
     "end_time": "2025-06-05T17:18:00.888052Z",
     "start_time": "2025-06-05T17:17:59.887456Z"
    }
   },
   "cell_type": "code",
   "source": [
    "%load_ext dotenv\n",
    "%dotenv"
   ],
   "id": "9e752bf97e4acda7",
   "outputs": [],
   "execution_count": 2
  },
  {
   "metadata": {
    "ExecuteTime": {
     "end_time": "2025-06-05T17:18:58.005904Z",
     "start_time": "2025-06-05T17:18:54.302199Z"
    }
   },
   "cell_type": "code",
   "source": [
    "from langchain_openai import ChatOpenAI\n",
    "from langchain_core.prompts import ChatPromptTemplate\n",
    "from langchain_core.output_parsers import CommaSeparatedListOutputParser"
   ],
   "id": "ba964a6750755306",
   "outputs": [],
   "execution_count": 3
  },
  {
   "metadata": {
    "ExecuteTime": {
     "end_time": "2025-06-05T17:19:26.278302Z",
     "start_time": "2025-06-05T17:19:26.271301Z"
    }
   },
   "cell_type": "code",
   "source": "list_instructions = CommaSeparatedListOutputParser().get_format_instructions()",
   "id": "22b4b2ea40b9869f",
   "outputs": [],
   "execution_count": 5
  },
  {
   "metadata": {
    "ExecuteTime": {
     "end_time": "2025-06-05T17:19:27.000941Z",
     "start_time": "2025-06-05T17:19:26.982939Z"
    }
   },
   "cell_type": "code",
   "source": "list_instructions",
   "id": "6a8cf6e47ca6111e",
   "outputs": [
    {
     "data": {
      "text/plain": [
       "'Your response should be a list of comma separated values, eg: `foo, bar, baz` or `foo,bar,baz`'"
      ]
     },
     "execution_count": 6,
     "metadata": {},
     "output_type": "execute_result"
    }
   ],
   "execution_count": 6
  },
  {
   "metadata": {
    "ExecuteTime": {
     "end_time": "2025-06-05T18:05:11.549123Z",
     "start_time": "2025-06-05T18:05:11.540149Z"
    }
   },
   "cell_type": "code",
   "source": "chat_template = ChatPromptTemplate.from_messages([('human', \"I've recently adopted a {pet},can you suggest some {pet} names? \\n\" +list_instructions)])",
   "id": "99fca687bc680633",
   "outputs": [],
   "execution_count": 10
  },
  {
   "metadata": {
    "ExecuteTime": {
     "end_time": "2025-06-05T18:05:46.243388Z",
     "start_time": "2025-06-05T18:05:46.217387Z"
    }
   },
   "cell_type": "code",
   "source": "print(chat_template.messages[0].prompt.template)",
   "id": "e9d78b0103f39b50",
   "outputs": [
    {
     "name": "stdout",
     "output_type": "stream",
     "text": [
      "I've recently adopted a {pet},can you suggest some {pet} names? \n",
      "Your response should be a list of comma separated values, eg: `foo, bar, baz` or `foo,bar,baz`\n"
     ]
    }
   ],
   "execution_count": 11
  },
  {
   "metadata": {
    "ExecuteTime": {
     "end_time": "2025-06-05T18:06:13.190039Z",
     "start_time": "2025-06-05T18:06:10.544890Z"
    }
   },
   "cell_type": "code",
   "source": "chat = ChatOpenAI(model='gpt-4o-mini', seed=365, temperature=0, max_tokens=100)\n",
   "id": "8b385a60e5878379",
   "outputs": [],
   "execution_count": 12
  },
  {
   "metadata": {
    "ExecuteTime": {
     "end_time": "2025-06-05T18:06:32.890701Z",
     "start_time": "2025-06-05T18:06:32.880530Z"
    }
   },
   "cell_type": "code",
   "source": "list_output_parser = CommaSeparatedListOutputParser()",
   "id": "276c7d6b1ba11637",
   "outputs": [],
   "execution_count": 13
  },
  {
   "metadata": {
    "ExecuteTime": {
     "end_time": "2025-06-05T18:08:37.447766Z",
     "start_time": "2025-06-05T18:08:37.431765Z"
    }
   },
   "cell_type": "code",
   "source": "chat_template_result = chat_template.invoke({'pet':'dog'})",
   "id": "2358936efdf40027",
   "outputs": [],
   "execution_count": 18
  },
  {
   "metadata": {
    "ExecuteTime": {
     "end_time": "2025-06-05T18:08:40.725831Z",
     "start_time": "2025-06-05T18:08:37.929952Z"
    }
   },
   "cell_type": "code",
   "source": "chat_result = chat.invoke(chat_template_result)",
   "id": "35f869d5441565ef",
   "outputs": [],
   "execution_count": 19
  },
  {
   "metadata": {
    "ExecuteTime": {
     "end_time": "2025-06-05T18:08:40.755888Z",
     "start_time": "2025-06-05T18:08:40.733824Z"
    }
   },
   "cell_type": "code",
   "source": "list_output_parser.invoke(chat_result)",
   "id": "f479bbe46feb2c8",
   "outputs": [
    {
     "data": {
      "text/plain": [
       "['Max',\n",
       " 'Bella',\n",
       " 'Charlie',\n",
       " 'Luna',\n",
       " 'Rocky',\n",
       " 'Daisy',\n",
       " 'Cooper',\n",
       " 'Sadie',\n",
       " 'Buddy',\n",
       " 'Molly',\n",
       " 'Duke',\n",
       " 'Ruby',\n",
       " 'Oliver',\n",
       " 'Chloe',\n",
       " 'Jack',\n",
       " 'Zoey',\n",
       " 'Bear',\n",
       " 'Sophie',\n",
       " 'Tucker',\n",
       " 'Lily']"
      ]
     },
     "execution_count": 20,
     "metadata": {},
     "output_type": "execute_result"
    }
   ],
   "execution_count": 20
  },
  {
   "metadata": {
    "ExecuteTime": {
     "end_time": "2025-06-05T18:09:23.144708Z",
     "start_time": "2025-06-05T18:09:23.124713Z"
    }
   },
   "cell_type": "code",
   "source": "chain = chat_template | chat | list_output_parser",
   "id": "5a89d2bfd7155eb0",
   "outputs": [],
   "execution_count": 21
  },
  {
   "metadata": {
    "ExecuteTime": {
     "end_time": "2025-06-05T18:09:24.897080Z",
     "start_time": "2025-06-05T18:09:24.879746Z"
    }
   },
   "cell_type": "code",
   "source": "chain",
   "id": "70529e11c325ed9e",
   "outputs": [
    {
     "data": {
      "text/plain": [
       "ChatPromptTemplate(input_variables=['pet'], input_types={}, partial_variables={}, messages=[HumanMessagePromptTemplate(prompt=PromptTemplate(input_variables=['pet'], input_types={}, partial_variables={}, template=\"I've recently adopted a {pet},can you suggest some {pet} names? \\nYour response should be a list of comma separated values, eg: `foo, bar, baz` or `foo,bar,baz`\"), additional_kwargs={})])\n",
       "| ChatOpenAI(client=<openai.resources.chat.completions.completions.Completions object at 0x0000021582A07F40>, async_client=<openai.resources.chat.completions.completions.AsyncCompletions object at 0x0000021582F4F7C0>, root_client=<openai.OpenAI object at 0x00000215829DB8E0>, root_async_client=<openai.AsyncOpenAI object at 0x0000021582A04FD0>, model_name='gpt-4o-mini', temperature=0.0, model_kwargs={}, openai_api_key=SecretStr('**********'), seed=365, max_tokens=100)\n",
       "| CommaSeparatedListOutputParser()"
      ]
     },
     "execution_count": 22,
     "metadata": {},
     "output_type": "execute_result"
    }
   ],
   "execution_count": 22
  },
  {
   "metadata": {
    "ExecuteTime": {
     "end_time": "2025-06-05T18:10:14.344494Z",
     "start_time": "2025-06-05T18:10:12.765945Z"
    }
   },
   "cell_type": "code",
   "source": "chain.invoke({'pet':'dog'})",
   "id": "fbbfb6f2e4cb3839",
   "outputs": [
    {
     "data": {
      "text/plain": [
       "['Max',\n",
       " 'Bella',\n",
       " 'Charlie',\n",
       " 'Luna',\n",
       " 'Cooper',\n",
       " 'Daisy',\n",
       " 'Rocky',\n",
       " 'Sadie',\n",
       " 'Buddy',\n",
       " 'Molly',\n",
       " 'Duke',\n",
       " 'Ruby',\n",
       " 'Oliver',\n",
       " 'Chloe',\n",
       " 'Jack',\n",
       " 'Zoey',\n",
       " 'Bear',\n",
       " 'Sophie',\n",
       " 'Tucker',\n",
       " 'Lily']"
      ]
     },
     "execution_count": 24,
     "metadata": {},
     "output_type": "execute_result"
    }
   ],
   "execution_count": 24
  },
  {
   "metadata": {},
   "cell_type": "markdown",
   "source": "## Batching",
   "id": "dc0320abda00cc1a"
  },
  {
   "metadata": {
    "ExecuteTime": {
     "end_time": "2025-06-05T18:16:25.845469Z",
     "start_time": "2025-06-05T18:16:25.762032Z"
    }
   },
   "cell_type": "code",
   "source": "chat_template = ChatPromptTemplate.from_messages([('human', \"I've recently adopted a {pet}, which is a {breed}. Could you suggest some training tips?? \\n\")])",
   "id": "bda75ae53086f2a",
   "outputs": [],
   "execution_count": 25
  },
  {
   "metadata": {
    "ExecuteTime": {
     "end_time": "2025-06-05T18:17:05.751004Z",
     "start_time": "2025-06-05T18:17:05.737427Z"
    }
   },
   "cell_type": "code",
   "source": "chain = chat_template | chat",
   "id": "ca88f54178a6099b",
   "outputs": [],
   "execution_count": 26
  },
  {
   "metadata": {
    "ExecuteTime": {
     "end_time": "2025-06-08T09:46:36.155552Z",
     "start_time": "2025-06-08T09:46:30.652547Z"
    }
   },
   "cell_type": "code",
   "source": [
    "%%time\n",
    "chain.invoke({'pet': 'dog','breed':'shepherd'})"
   ],
   "id": "10aceb5c8a20213d",
   "outputs": [
    {
     "name": "stdout",
     "output_type": "stream",
     "text": [
      "CPU times: total: 46.9 ms\n",
      "Wall time: 5.16 s\n"
     ]
    },
    {
     "data": {
      "text/plain": [
       "AIMessage(content='Congratulations on your new shepherd! Shepherds are intelligent and eager to please, making them great candidates for training. Here are some tips to help you get started:\\n\\n1. **Start with Basic Commands**: Teach essential commands like \"sit,\" \"stay,\" \"come,\" and \"down.\" Use positive reinforcement, such as treats or praise, to encourage good behavior.\\n\\n2. **Be Consistent**: Use the same commands and gestures for each behavior. Consistency helps your dog understand what you expect', additional_kwargs={'refusal': None}, response_metadata={'token_usage': {'completion_tokens': 100, 'prompt_tokens': 26, 'total_tokens': 126, 'completion_tokens_details': {'accepted_prediction_tokens': 0, 'audio_tokens': 0, 'reasoning_tokens': 0, 'rejected_prediction_tokens': 0}, 'prompt_tokens_details': {'audio_tokens': 0, 'cached_tokens': 0}}, 'model_name': 'gpt-4o-mini-2024-07-18', 'system_fingerprint': 'fp_62a23a81ef', 'id': 'chatcmpl-Bg6tfv1Fl0oDVlzD4QdKmxH5kFUeM', 'service_tier': 'default', 'finish_reason': 'length', 'logprobs': None}, id='run--25dea450-4632-40ba-af5a-0530dcdabc65-0', usage_metadata={'input_tokens': 26, 'output_tokens': 100, 'total_tokens': 126, 'input_token_details': {'audio': 0, 'cache_read': 0}, 'output_token_details': {'audio': 0, 'reasoning': 0}})"
      ]
     },
     "execution_count": 30,
     "metadata": {},
     "output_type": "execute_result"
    }
   ],
   "execution_count": 30
  },
  {
   "metadata": {
    "ExecuteTime": {
     "end_time": "2025-06-08T09:46:43.331467Z",
     "start_time": "2025-06-08T09:46:39.975562Z"
    }
   },
   "cell_type": "code",
   "source": [
    "%%time\n",
    "chain.invoke({'pet': 'dragon','breed':'night fury'})"
   ],
   "id": "11e8cce8e91a86db",
   "outputs": [
    {
     "name": "stdout",
     "output_type": "stream",
     "text": [
      "CPU times: total: 0 ns\n",
      "Wall time: 3.33 s\n"
     ]
    },
    {
     "data": {
      "text/plain": [
       "AIMessage(content='Congratulations on adopting a Night Fury! While they are fictional creatures from the \"How to Train Your Dragon\" series, here are some fun and imaginative training tips inspired by the lore:\\n\\n1. **Build Trust**: Spend time with your Night Fury to build a bond. Offer treats (like fish or other dragon-friendly snacks) and speak softly to help them feel comfortable around you.\\n\\n2. **Create a Safe Space**: Ensure your dragon has a cozy and secure area to rest. Night Furies', additional_kwargs={'refusal': None}, response_metadata={'token_usage': {'completion_tokens': 100, 'prompt_tokens': 27, 'total_tokens': 127, 'completion_tokens_details': {'accepted_prediction_tokens': 0, 'audio_tokens': 0, 'reasoning_tokens': 0, 'rejected_prediction_tokens': 0}, 'prompt_tokens_details': {'audio_tokens': 0, 'cached_tokens': 0}}, 'model_name': 'gpt-4o-mini-2024-07-18', 'system_fingerprint': 'fp_34a54ae93c', 'id': 'chatcmpl-Bg6tn6b4eWv3QYXDTwB2LDoJf07qD', 'service_tier': 'default', 'finish_reason': 'length', 'logprobs': None}, id='run--3d4e327e-e180-4f7b-b91f-b4197be7fa9b-0', usage_metadata={'input_tokens': 27, 'output_tokens': 100, 'total_tokens': 127, 'input_token_details': {'audio': 0, 'cache_read': 0}, 'output_token_details': {'audio': 0, 'reasoning': 0}})"
      ]
     },
     "execution_count": 31,
     "metadata": {},
     "output_type": "execute_result"
    }
   ],
   "execution_count": 31
  },
  {
   "metadata": {
    "ExecuteTime": {
     "end_time": "2025-06-08T09:46:46.052900Z",
     "start_time": "2025-06-08T09:46:43.491834Z"
    }
   },
   "cell_type": "code",
   "source": [
    "%%time\n",
    "chain.batch([{'pet': 'dog','breed':'shepherd'}, {'pet': 'dragon','breed':'night fury'}])"
   ],
   "id": "13c89161545330c1",
   "outputs": [
    {
     "name": "stdout",
     "output_type": "stream",
     "text": [
      "CPU times: total: 0 ns\n",
      "Wall time: 2.54 s\n"
     ]
    },
    {
     "data": {
      "text/plain": [
       "[AIMessage(content='Congratulations on your new shepherd! Shepherds are intelligent and eager to please, making them great candidates for training. Here are some tips to help you get started:\\n\\n### Basic Training Tips\\n\\n1. **Start with Basic Commands**: Teach essential commands like \"sit,\" \"stay,\" \"come,\" \"down,\" and \"leave it.\" Use positive reinforcement, such as treats and praise, to encourage good behavior.\\n\\n2. **Consistency is Key**: Use the same commands and gestures consistently. This helps', additional_kwargs={'refusal': None}, response_metadata={'token_usage': {'completion_tokens': 100, 'prompt_tokens': 26, 'total_tokens': 126, 'completion_tokens_details': {'accepted_prediction_tokens': 0, 'audio_tokens': 0, 'reasoning_tokens': 0, 'rejected_prediction_tokens': 0}, 'prompt_tokens_details': {'audio_tokens': 0, 'cached_tokens': 0}}, 'model_name': 'gpt-4o-mini-2024-07-18', 'system_fingerprint': 'fp_34a54ae93c', 'id': 'chatcmpl-Bg6tqun2SzHP1A8q5TzHWJht1Oh7D', 'service_tier': 'default', 'finish_reason': 'length', 'logprobs': None}, id='run--06885ce6-c6fd-4d7e-b0b4-b83f1c7b6331-0', usage_metadata={'input_tokens': 26, 'output_tokens': 100, 'total_tokens': 126, 'input_token_details': {'audio': 0, 'cache_read': 0}, 'output_token_details': {'audio': 0, 'reasoning': 0}}),\n",
       " AIMessage(content='Congratulations on adopting a Night Fury! While they are fictional creatures from the \"How to Train Your Dragon\" series, here are some fun and imaginative training tips inspired by the lore:\\n\\n1. **Build Trust**: Spend time with your Night Fury to build a bond. Offer treats (like fish or other dragon-friendly snacks) and speak softly to create a sense of safety and comfort.\\n\\n2. **Positive Reinforcement**: Use rewards to encourage good behavior. When your Night Fury follows a command or', additional_kwargs={'refusal': None}, response_metadata={'token_usage': {'completion_tokens': 100, 'prompt_tokens': 27, 'total_tokens': 127, 'completion_tokens_details': {'accepted_prediction_tokens': 0, 'audio_tokens': 0, 'reasoning_tokens': 0, 'rejected_prediction_tokens': 0}, 'prompt_tokens_details': {'audio_tokens': 0, 'cached_tokens': 0}}, 'model_name': 'gpt-4o-mini-2024-07-18', 'system_fingerprint': 'fp_62a23a81ef', 'id': 'chatcmpl-Bg6tqPbKQx04evdOplGYF3eF8hv7g', 'service_tier': 'default', 'finish_reason': 'length', 'logprobs': None}, id='run--816bc14a-c9df-460c-8db9-5d64811b61ec-0', usage_metadata={'input_tokens': 27, 'output_tokens': 100, 'total_tokens': 127, 'input_token_details': {'audio': 0, 'cache_read': 0}, 'output_token_details': {'audio': 0, 'reasoning': 0}})]"
      ]
     },
     "execution_count": 32,
     "metadata": {},
     "output_type": "execute_result"
    }
   ],
   "execution_count": 32
  },
  {
   "metadata": {},
   "cell_type": "markdown",
   "source": "## Streaming",
   "id": "2665225a7091c320"
  },
  {
   "metadata": {
    "ExecuteTime": {
     "end_time": "2025-06-08T09:55:17.726198Z",
     "start_time": "2025-06-08T09:55:17.662200Z"
    }
   },
   "cell_type": "code",
   "source": "chat = ChatOpenAI(model='gpt-4o-mini', seed=365, temperature=0, max_tokens=10)",
   "id": "1d63e5735e582c95",
   "outputs": [],
   "execution_count": 34
  },
  {
   "metadata": {
    "ExecuteTime": {
     "end_time": "2025-06-08T09:55:41.590784Z",
     "start_time": "2025-06-08T09:55:41.577755Z"
    }
   },
   "cell_type": "code",
   "source": [
    "%%time\n",
    "response = chain.stream({'pet': 'dragon','breed':'night fury'})"
   ],
   "id": "f938840882bf5750",
   "outputs": [
    {
     "name": "stdout",
     "output_type": "stream",
     "text": [
      "CPU times: total: 0 ns\n",
      "Wall time: 0 ns\n"
     ]
    }
   ],
   "execution_count": 36
  },
  {
   "metadata": {
    "ExecuteTime": {
     "end_time": "2025-06-08T09:56:43.665839Z",
     "start_time": "2025-06-08T09:56:43.645694Z"
    }
   },
   "cell_type": "code",
   "source": "next(response)",
   "id": "fd7dde0b487086ca",
   "outputs": [
    {
     "data": {
      "text/plain": [
       "AIMessageChunk(content=' Train', additional_kwargs={}, response_metadata={}, id='run--65405233-8ea8-4620-928c-4b8417712815')"
      ]
     },
     "execution_count": 55,
     "metadata": {},
     "output_type": "execute_result"
    }
   ],
   "execution_count": 55
  },
  {
   "metadata": {
    "ExecuteTime": {
     "end_time": "2025-06-08T09:57:21.854331Z",
     "start_time": "2025-06-08T09:57:21.559826Z"
    }
   },
   "cell_type": "code",
   "source": [
    "for i in response:\n",
    "    print(i.content)"
   ],
   "id": "c109ec117759b111",
   "outputs": [
    {
     "name": "stdout",
     "output_type": "stream",
     "text": [
      " Your\n",
      " Dragon\n",
      "\"\n",
      " series\n",
      ",\n",
      " here\n",
      " are\n",
      " some\n",
      " fun\n",
      " and\n",
      " imaginative\n",
      " training\n",
      " tips\n",
      " inspired\n",
      " by\n",
      " the\n",
      " lore\n",
      ":\n",
      "\n",
      "\n",
      "1\n",
      ".\n",
      " **\n",
      "Build\n",
      " Trust\n",
      "**\n",
      ":\n",
      " Spend\n",
      " time\n",
      " with\n",
      " your\n",
      " Night\n",
      " Fury\n",
      " to\n",
      " build\n",
      " a\n",
      " bond\n",
      ".\n",
      " Offer\n",
      " treats\n",
      " (\n",
      "like\n",
      " fish\n",
      " or\n",
      " meat\n",
      ")\n",
      " and\n",
      " speak\n",
      " softly\n",
      " to\n",
      " help\n",
      " them\n",
      " feel\n",
      " comfortable\n",
      " around\n",
      " you\n",
      ".\n",
      "\n",
      "\n",
      "2\n",
      ".\n",
      " **\n",
      "Positive\n",
      " Rein\n",
      "forcement\n",
      "**\n",
      ":\n",
      " Use\n",
      " rewards\n",
      " to\n",
      " encourage\n",
      " good\n",
      " behavior\n",
      ".\n",
      " When\n",
      " your\n",
      " Night\n",
      " Fury\n",
      " follows\n",
      " a\n",
      " command\n",
      " or\n",
      " performs\n",
      " a\n",
      " trick\n",
      ",\n",
      "\n"
     ]
    }
   ],
   "execution_count": 56
  },
  {
   "metadata": {},
   "cell_type": "markdown",
   "source": "## The Runnable and Runnable Sequence Classes",
   "id": "9b9c24f0673e493a"
  },
  {
   "metadata": {
    "ExecuteTime": {
     "end_time": "2025-06-08T10:15:59.056267Z",
     "start_time": "2025-06-08T10:15:58.918852Z"
    }
   },
   "cell_type": "code",
   "source": [
    "from langchain_core.output_parsers import StrOutputParser\n",
    "from langchain_core.runnables import RunnablePassthrough"
   ],
   "id": "75ee4d4f20770c91",
   "outputs": [],
   "execution_count": 62
  },
  {
   "metadata": {
    "ExecuteTime": {
     "end_time": "2025-06-08T10:08:51.106701Z",
     "start_time": "2025-06-08T10:08:51.038346Z"
    }
   },
   "cell_type": "code",
   "source": "chat_template = ChatPromptTemplate.from_messages([('human', \"I've recently adopted a {pet}, which is a {breed}. Could you suggest some training tips?? \\n\")])",
   "id": "4e318cb094ccb86c",
   "outputs": [],
   "execution_count": 57
  },
  {
   "metadata": {
    "ExecuteTime": {
     "end_time": "2025-06-08T10:09:02.078238Z",
     "start_time": "2025-06-08T10:09:02.041240Z"
    }
   },
   "cell_type": "code",
   "source": "chat = ChatOpenAI(model='gpt-4o-mini', seed=365, temperature=0, max_tokens=100)",
   "id": "d789855c06b617d2",
   "outputs": [],
   "execution_count": 58
  },
  {
   "metadata": {
    "ExecuteTime": {
     "end_time": "2025-06-08T10:09:21.874626Z",
     "start_time": "2025-06-08T10:09:21.858109Z"
    }
   },
   "cell_type": "code",
   "source": "chain = chat_template | chat",
   "id": "90e5350502cb1524",
   "outputs": [],
   "execution_count": 59
  },
  {
   "metadata": {
    "ExecuteTime": {
     "end_time": "2025-06-08T10:16:49.296598Z",
     "start_time": "2025-06-08T10:16:49.269400Z"
    }
   },
   "cell_type": "code",
   "source": "RunnablePassthrough().invoke([1,2,3])",
   "id": "cddbb5bdfc45067f",
   "outputs": [
    {
     "data": {
      "text/plain": [
       "[1, 2, 3]"
      ]
     },
     "execution_count": 65,
     "metadata": {},
     "output_type": "execute_result"
    }
   ],
   "execution_count": 65
  },
  {
   "metadata": {
    "ExecuteTime": {
     "end_time": "2025-06-08T10:22:34.900731Z",
     "start_time": "2025-06-08T10:22:34.869737Z"
    }
   },
   "cell_type": "code",
   "source": [
    "chat_template_tools = ChatPromptTemplate.from_template(\"\"\"\n",
    "What are the five most important tools a {job_title} needs?\n",
    "Answer only by listing the tools.\n",
    "\"\"\")\n",
    "\n",
    "chat_template_strategy = ChatPromptTemplate.from_template(\"\"\"\n",
    "Considering the tools provided, develop a strategy for effectively learning and mastering them:\n",
    "{tools}\n",
    "\"\"\")"
   ],
   "id": "3588ab2cf322e86f",
   "outputs": [],
   "execution_count": 68
  },
  {
   "metadata": {
    "ExecuteTime": {
     "end_time": "2025-06-08T10:22:53.888245Z",
     "start_time": "2025-06-08T10:22:53.865440Z"
    }
   },
   "cell_type": "code",
   "source": "chat_template_tools",
   "id": "c8172605e8602ef2",
   "outputs": [
    {
     "data": {
      "text/plain": [
       "ChatPromptTemplate(input_variables=['job_title'], input_types={}, partial_variables={}, messages=[HumanMessagePromptTemplate(prompt=PromptTemplate(input_variables=['job_title'], input_types={}, partial_variables={}, template='\\nWhat are the five most important tools a {job_title} needs?\\nAnswer only by listing the tools.\\n'), additional_kwargs={})])"
      ]
     },
     "execution_count": 70,
     "metadata": {},
     "output_type": "execute_result"
    }
   ],
   "execution_count": 70
  },
  {
   "metadata": {
    "ExecuteTime": {
     "end_time": "2025-06-08T10:22:55.400124Z",
     "start_time": "2025-06-08T10:22:55.378117Z"
    }
   },
   "cell_type": "code",
   "source": "chat_template_strategy",
   "id": "befed6cab5ab1b1",
   "outputs": [
    {
     "data": {
      "text/plain": [
       "ChatPromptTemplate(input_variables=['tools'], input_types={}, partial_variables={}, messages=[HumanMessagePromptTemplate(prompt=PromptTemplate(input_variables=['tools'], input_types={}, partial_variables={}, template='\\nConsidering the tools provided, develop a strategy for effectively learning and mastering them:\\n{tools}\\n'), additional_kwargs={})])"
      ]
     },
     "execution_count": 71,
     "metadata": {},
     "output_type": "execute_result"
    }
   ],
   "execution_count": 71
  },
  {
   "metadata": {
    "ExecuteTime": {
     "end_time": "2025-06-08T10:23:35.098445Z",
     "start_time": "2025-06-08T10:23:35.080606Z"
    }
   },
   "cell_type": "code",
   "source": "string_parser = StrOutputParser()",
   "id": "457bd387d9ed1989",
   "outputs": [],
   "execution_count": 72
  },
  {
   "metadata": {
    "ExecuteTime": {
     "end_time": "2025-06-08T10:27:52.456207Z",
     "start_time": "2025-06-08T10:27:52.440225Z"
    }
   },
   "cell_type": "code",
   "source": [
    "chain_tools = chat_template_tools | chat | string_parser | {'tools': RunnablePassthrough()}\n",
    "chain_strategy = chat_template_strategy | chat | string_parser"
   ],
   "id": "aa58d2e5b6d181a4",
   "outputs": [],
   "execution_count": 82
  },
  {
   "metadata": {
    "ExecuteTime": {
     "end_time": "2025-06-08T10:28:35.890736Z",
     "start_time": "2025-06-08T10:28:34.607964Z"
    }
   },
   "cell_type": "code",
   "source": "print(chain_tools.invoke({'job_title': 'data scientist'}))",
   "id": "4e53577cf1ca3c95",
   "outputs": [
    {
     "name": "stdout",
     "output_type": "stream",
     "text": [
      "{'tools': '1. Python\\n2. R\\n3. SQL\\n4. Jupyter Notebook\\n5. Git'}\n"
     ]
    }
   ],
   "execution_count": 83
  },
  {
   "metadata": {
    "ExecuteTime": {
     "end_time": "2025-06-08T10:28:49.513265Z",
     "start_time": "2025-06-08T10:28:47.534653Z"
    }
   },
   "cell_type": "code",
   "source": [
    "print(chain_strategy.invoke({'tools': \"\"\"\n",
    "1. Python\n",
    "2. R\n",
    "3. SQL\n",
    "4. Jupyter Notebook\n",
    "5. TensorFlow/PyTorch\n",
    "\"\"\"}))"
   ],
   "id": "caf5646a03978ad2",
   "outputs": [
    {
     "name": "stdout",
     "output_type": "stream",
     "text": [
      "To effectively learn and master Python, R, SQL, Jupyter Notebook, and TensorFlow/PyTorch, you can follow a structured strategy that includes setting clear goals, utilizing resources, practicing regularly, and applying your knowledge through projects. Here’s a step-by-step approach:\n",
      "\n",
      "### Step 1: Set Clear Goals\n",
      "- **Define Your Purpose**: Understand why you want to learn these tools. Are you interested in data analysis, machine learning, or data science? This will help you focus your\n"
     ]
    }
   ],
   "execution_count": 84
  },
  {
   "metadata": {
    "ExecuteTime": {
     "end_time": "2025-06-08T10:29:48.325087Z",
     "start_time": "2025-06-08T10:29:48.316470Z"
    }
   },
   "cell_type": "code",
   "source": "chain_combined = chain_tools | chain_strategy",
   "id": "a0ed7ac67315b931",
   "outputs": [],
   "execution_count": 85
  },
  {
   "metadata": {
    "ExecuteTime": {
     "end_time": "2025-06-08T10:30:55.076524Z",
     "start_time": "2025-06-08T10:30:50.266712Z"
    }
   },
   "cell_type": "code",
   "source": "print(chain_combined.invoke({'job_title': 'data scientist'}))",
   "id": "b67e0e91235c0614",
   "outputs": [
    {
     "name": "stdout",
     "output_type": "stream",
     "text": [
      "To effectively learn and master Python, R, SQL, Jupyter Notebook, and TensorFlow/PyTorch, you can follow a structured strategy that incorporates foundational knowledge, practical application, and continuous improvement. Here’s a step-by-step approach:\n",
      "\n",
      "### Step 1: Establish a Learning Foundation\n",
      "\n",
      "#### 1. Python\n",
      "- **Resources**: Start with online courses (e.g., Codecademy, Coursera, or edX) that cover Python basics.\n",
      "- **Practice**: Work on\n"
     ]
    }
   ],
   "execution_count": 87
  },
  {
   "metadata": {},
   "cell_type": "code",
   "outputs": [],
   "execution_count": null,
   "source": "",
   "id": "33a8ecd09040b370"
  }
 ],
 "metadata": {
  "kernelspec": {
   "display_name": "Python 3",
   "language": "python",
   "name": "python3"
  },
  "language_info": {
   "codemirror_mode": {
    "name": "ipython",
    "version": 2
   },
   "file_extension": ".py",
   "mimetype": "text/x-python",
   "name": "python",
   "nbconvert_exporter": "python",
   "pygments_lexer": "ipython2",
   "version": "2.7.6"
  }
 },
 "nbformat": 4,
 "nbformat_minor": 5
}
