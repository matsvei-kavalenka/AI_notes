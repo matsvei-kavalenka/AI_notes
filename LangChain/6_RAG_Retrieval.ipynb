{
 "cells": [
  {
   "metadata": {},
   "cell_type": "markdown",
   "source": "# Retrieval: Similarity Search",
   "id": "98c6e50c73ee848"
  },
  {
   "metadata": {
    "ExecuteTime": {
     "end_time": "2025-06-12T12:41:26.980571Z",
     "start_time": "2025-06-12T12:41:26.934268Z"
    }
   },
   "cell_type": "code",
   "source": [
    "%load_ext dotenv\n",
    "%dotenv"
   ],
   "id": "6eb9b9af2bfcbbbe",
   "outputs": [],
   "execution_count": 1
  },
  {
   "metadata": {
    "ExecuteTime": {
     "end_time": "2025-06-12T12:41:45.198334Z",
     "start_time": "2025-06-12T12:41:38.773493Z"
    }
   },
   "cell_type": "code",
   "source": [
    "from langchain_openai.embeddings import OpenAIEmbeddings\n",
    "from langchain_community.vectorstores import Chroma\n",
    "from langchain_core.documents import Document"
   ],
   "id": "f1417ee13ae709d4",
   "outputs": [],
   "execution_count": 2
  },
  {
   "metadata": {
    "ExecuteTime": {
     "end_time": "2025-06-12T12:41:49.453981Z",
     "start_time": "2025-06-12T12:41:47.071481Z"
    }
   },
   "cell_type": "code",
   "source": "embedding = OpenAIEmbeddings(model='text-embedding-ada-002')",
   "id": "ba49fc5efbb0785",
   "outputs": [],
   "execution_count": 3
  },
  {
   "metadata": {
    "ExecuteTime": {
     "end_time": "2025-06-12T12:42:13.754317Z",
     "start_time": "2025-06-12T12:42:02.195527Z"
    }
   },
   "cell_type": "code",
   "source": [
    "vectorstore = Chroma(persist_directory = \"./test\", \n",
    "                     embedding_function = embedding)"
   ],
   "id": "7070291651ef3e88",
   "outputs": [
    {
     "name": "stderr",
     "output_type": "stream",
     "text": [
      "C:\\Users\\matsv\\AppData\\Local\\Temp\\ipykernel_21928\\940093750.py:1: LangChainDeprecationWarning: The class `Chroma` was deprecated in LangChain 0.2.9 and will be removed in 1.0. An updated version of the class exists in the :class:`~langchain-chroma package and should be used instead. To use it run `pip install -U :class:`~langchain-chroma` and import as `from :class:`~langchain_chroma import Chroma``.\n",
      "  vectorstore = Chroma(persist_directory = \"./test\",\n"
     ]
    }
   ],
   "execution_count": 4
  },
  {
   "metadata": {
    "ExecuteTime": {
     "end_time": "2025-06-12T12:42:13.942652Z",
     "start_time": "2025-06-12T12:42:13.917065Z"
    }
   },
   "cell_type": "code",
   "source": [
    "added_document = Document(page_content='Alright! So… How are the techniques used in data, business intelligence, or predictive analytics applied in real life? Certainly, with the help of computers. You can basically split the relevant tools into two categories—programming languages and software. Knowing a programming language enables you to devise programs that can execute specific operations. Moreover, you can reuse these programs whenever you need to execute the same action', \n",
    "                          metadata={'Course Title': 'Introduction to Data and Data Science', \n",
    "                                    'Lecture Title': 'Programming Languages & Software Employed in Data Science - All the Tools You Need'})"
   ],
   "id": "70f17140b8c0eb45",
   "outputs": [],
   "execution_count": 5
  },
  {
   "metadata": {
    "ExecuteTime": {
     "end_time": "2025-06-12T12:42:25.897408Z",
     "start_time": "2025-06-12T12:42:25.143701Z"
    }
   },
   "cell_type": "code",
   "source": "vectorstore.add_documents([added_document])",
   "id": "57a604ea7b6b5207",
   "outputs": [
    {
     "data": {
      "text/plain": [
       "['faaa330e-a2f0-40ad-9cc2-b160f26b714a']"
      ]
     },
     "execution_count": 6,
     "metadata": {},
     "output_type": "execute_result"
    }
   ],
   "execution_count": 6
  },
  {
   "metadata": {
    "ExecuteTime": {
     "end_time": "2025-06-12T12:47:16.846899Z",
     "start_time": "2025-06-12T12:47:16.809716Z"
    }
   },
   "cell_type": "code",
   "source": "question = \"What software do Data Sciences use?\"",
   "id": "f74feb971b881637",
   "outputs": [],
   "execution_count": 11
  },
  {
   "metadata": {
    "ExecuteTime": {
     "end_time": "2025-06-12T12:47:43.082726Z",
     "start_time": "2025-06-12T12:47:42.239296Z"
    }
   },
   "cell_type": "code",
   "source": "retrieved_docs = vectorstore.similarity_search(query=question, k=3)",
   "id": "be3beaaf77111e2c",
   "outputs": [],
   "execution_count": 12
  },
  {
   "metadata": {
    "ExecuteTime": {
     "end_time": "2025-06-12T12:47:43.757112Z",
     "start_time": "2025-06-12T12:47:43.737917Z"
    }
   },
   "cell_type": "code",
   "source": "retrieved_docs",
   "id": "e58d3dcbb560719e",
   "outputs": [
    {
     "data": {
      "text/plain": [
       "[Document(metadata={'Lecture Title': 'Programming Languages & Software Employed in Data Science - All the Tools You Need', 'Course Title': 'Introduction to Data and Data Science'}, page_content='It’s actually a software framework which was designed to address the complexity of big data and its computational intensity. Most notably, Hadoop distributes the computational tasks on multiple computers which is basically the way to handle big data nowadays. Power BI, SaS, Qlik, and especially Tableau are top-notch examples of software designed for business intelligence visualizations'),\n",
       " Document(metadata={'Course Title': 'Introduction to Data and Data Science', 'Lecture Title': 'Programming Languages & Software Employed in Data Science - All the Tools You Need'}, page_content='Alright! So… How are the techniques used in data, business intelligence, or predictive analytics applied in real life? Certainly, with the help of computers. You can basically split the relevant tools into two categories—programming languages and software. Knowing a programming language enables you to devise programs that can execute specific operations. Moreover, you can reuse these programs whenever you need to execute the same action'),\n",
       " Document(metadata={'Course Title': 'Introduction to Data and Data Science', 'Lecture Title': 'Programming Languages & Software Employed in Data Science - All the Tools You Need'}, page_content='Alright! So… How are the techniques used in data, business intelligence, or predictive analytics applied in real life? Certainly, with the help of computers. You can basically split the relevant tools into two categories—programming languages and software. Knowing a programming language enables you to devise programs that can execute specific operations. Moreover, you can reuse these programs whenever you need to execute the same action')]"
      ]
     },
     "execution_count": 13,
     "metadata": {},
     "output_type": "execute_result"
    }
   ],
   "execution_count": 13
  },
  {
   "metadata": {
    "ExecuteTime": {
     "end_time": "2025-06-12T12:47:44.347901Z",
     "start_time": "2025-06-12T12:47:44.340375Z"
    }
   },
   "cell_type": "code",
   "source": [
    "for i in retrieved_docs:\n",
    "    print(f\"Page Content: {i.page_content}\\n----------\\nLecture Title:{i.metadata['Lecture Title']}\\n\")"
   ],
   "id": "e2153c6352d80bdd",
   "outputs": [
    {
     "name": "stdout",
     "output_type": "stream",
     "text": [
      "Page Content: It’s actually a software framework which was designed to address the complexity of big data and its computational intensity. Most notably, Hadoop distributes the computational tasks on multiple computers which is basically the way to handle big data nowadays. Power BI, SaS, Qlik, and especially Tableau are top-notch examples of software designed for business intelligence visualizations\n",
      "----------\n",
      "Lecture Title:Programming Languages & Software Employed in Data Science - All the Tools You Need\n",
      "\n",
      "Page Content: Alright! So… How are the techniques used in data, business intelligence, or predictive analytics applied in real life? Certainly, with the help of computers. You can basically split the relevant tools into two categories—programming languages and software. Knowing a programming language enables you to devise programs that can execute specific operations. Moreover, you can reuse these programs whenever you need to execute the same action\n",
      "----------\n",
      "Lecture Title:Programming Languages & Software Employed in Data Science - All the Tools You Need\n",
      "\n",
      "Page Content: Alright! So… How are the techniques used in data, business intelligence, or predictive analytics applied in real life? Certainly, with the help of computers. You can basically split the relevant tools into two categories—programming languages and software. Knowing a programming language enables you to devise programs that can execute specific operations. Moreover, you can reuse these programs whenever you need to execute the same action\n",
      "----------\n",
      "Lecture Title:Programming Languages & Software Employed in Data Science - All the Tools You Need\n",
      "\n"
     ]
    }
   ],
   "execution_count": 14
  },
  {
   "metadata": {},
   "cell_type": "markdown",
   "source": "## Retrieval: Maximal Marginal Relevant Search (MMR Search)",
   "id": "a328089fb61eb3e7"
  },
  {
   "metadata": {
    "ExecuteTime": {
     "end_time": "2025-06-12T12:53:10.861697Z",
     "start_time": "2025-06-12T12:53:10.352076Z"
    }
   },
   "cell_type": "code",
   "source": "retrieved_docs = vectorstore.max_marginal_relevance_search(query=question,k=3, lambda_mult=1, filter={\"Lecture Title\": \"Programming Languages & Software Employed in Data Science - All the Tools You Need\"})",
   "id": "7dd9aa84e935c16f",
   "outputs": [],
   "execution_count": 21
  },
  {
   "metadata": {
    "ExecuteTime": {
     "end_time": "2025-06-12T12:53:10.893018Z",
     "start_time": "2025-06-12T12:53:10.877795Z"
    }
   },
   "cell_type": "code",
   "source": [
    "for i in retrieved_docs:\n",
    "    print(f\"Page Content: {i.page_content}\\n----------\\nLecture Title:{i.metadata['Lecture Title']}\\n\")"
   ],
   "id": "f26572a0f1f710d0",
   "outputs": [
    {
     "name": "stdout",
     "output_type": "stream",
     "text": [
      "Page Content: It’s actually a software framework which was designed to address the complexity of big data and its computational intensity. Most notably, Hadoop distributes the computational tasks on multiple computers which is basically the way to handle big data nowadays. Power BI, SaS, Qlik, and especially Tableau are top-notch examples of software designed for business intelligence visualizations\n",
      "----------\n",
      "Lecture Title:Programming Languages & Software Employed in Data Science - All the Tools You Need\n",
      "\n",
      "Page Content: Alright! So… How are the techniques used in data, business intelligence, or predictive analytics applied in real life? Certainly, with the help of computers. You can basically split the relevant tools into two categories—programming languages and software. Knowing a programming language enables you to devise programs that can execute specific operations. Moreover, you can reuse these programs whenever you need to execute the same action\n",
      "----------\n",
      "Lecture Title:Programming Languages & Software Employed in Data Science - All the Tools You Need\n",
      "\n",
      "Page Content: Alright! So… How are the techniques used in data, business intelligence, or predictive analytics applied in real life? Certainly, with the help of computers. You can basically split the relevant tools into two categories—programming languages and software. Knowing a programming language enables you to devise programs that can execute specific operations. Moreover, you can reuse these programs whenever you need to execute the same action\n",
      "----------\n",
      "Lecture Title:Programming Languages & Software Employed in Data Science - All the Tools You Need\n",
      "\n"
     ]
    }
   ],
   "execution_count": 22
  },
  {
   "metadata": {},
   "cell_type": "markdown",
   "source": "## Retrieval: Vectorstore-backed retriever",
   "id": "fa50a8ec69c59333"
  },
  {
   "metadata": {
    "ExecuteTime": {
     "end_time": "2025-06-12T12:54:46.409540Z",
     "start_time": "2025-06-12T12:54:42.645025Z"
    }
   },
   "cell_type": "code",
   "source": [
    "embedding = OpenAIEmbeddings()\n",
    "\n",
    "vectorstore = Chroma(persist_directory = \"./test\", \n",
    "                     embedding_function = embedding)"
   ],
   "id": "a50a3df6e255a12e",
   "outputs": [],
   "execution_count": 23
  },
  {
   "metadata": {
    "ExecuteTime": {
     "end_time": "2025-06-12T12:54:50.453710Z",
     "start_time": "2025-06-12T12:54:50.414180Z"
    }
   },
   "cell_type": "code",
   "source": [
    "retriever = vectorstore.as_retriever(search_type = 'mmr', \n",
    "                                     search_kwargs = {'k': 3, \n",
    "                                                      'lambda_mult': 0.7})"
   ],
   "id": "774318df527e3061",
   "outputs": [],
   "execution_count": 24
  },
  {
   "metadata": {
    "ExecuteTime": {
     "end_time": "2025-06-12T12:55:35.406939Z",
     "start_time": "2025-06-12T12:55:35.388636Z"
    }
   },
   "cell_type": "code",
   "source": "retriever",
   "id": "47987b8151d01d28",
   "outputs": [
    {
     "data": {
      "text/plain": [
       "VectorStoreRetriever(tags=['Chroma', 'OpenAIEmbeddings'], vectorstore=<langchain_community.vectorstores.chroma.Chroma object at 0x0000020CFBCB7DC0>, search_type='mmr', search_kwargs={'k': 3, 'lambda_mult': 0.7})"
      ]
     },
     "execution_count": 25,
     "metadata": {},
     "output_type": "execute_result"
    }
   ],
   "execution_count": 25
  },
  {
   "metadata": {
    "ExecuteTime": {
     "end_time": "2025-06-12T12:56:35.145680Z",
     "start_time": "2025-06-12T12:56:35.131535Z"
    }
   },
   "cell_type": "code",
   "source": "question = \"what software do Data Sciences use?\"",
   "id": "226402a426cad07a",
   "outputs": [],
   "execution_count": 26
  },
  {
   "metadata": {
    "ExecuteTime": {
     "end_time": "2025-06-12T12:57:32.218527Z",
     "start_time": "2025-06-12T12:57:28.268447Z"
    }
   },
   "cell_type": "code",
   "source": "retrieved_docs = retriever.invoke(question)",
   "id": "4dbc9b612bf1ce70",
   "outputs": [],
   "execution_count": 28
  },
  {
   "metadata": {
    "ExecuteTime": {
     "end_time": "2025-06-12T12:58:27.317877Z",
     "start_time": "2025-06-12T12:58:27.126646Z"
    }
   },
   "cell_type": "code",
   "source": [
    "for i in retrieved_docs:\n",
    "    print(f\"Page Content: {i.page_content}\\n----------\\nLecture Title:{i.metadata['Lecture Title']}\\n\")"
   ],
   "id": "54d5ce87c9e550f6",
   "outputs": [
    {
     "name": "stdout",
     "output_type": "stream",
     "text": [
      "Page Content: It’s actually a software framework which was designed to address the complexity of big data and its computational intensity. Most notably, Hadoop distributes the computational tasks on multiple computers which is basically the way to handle big data nowadays. Power BI, SaS, Qlik, and especially Tableau are top-notch examples of software designed for business intelligence visualizations\n",
      "----------\n",
      "Lecture Title:Programming Languages & Software Employed in Data Science - All the Tools You Need\n",
      "\n",
      "Page Content: Great! We hope we gave you a good idea about the level of applicability of the most frequently used programming and software tools in the field of data science. Thank you for watching!\n",
      "----------\n",
      "Lecture Title:Programming Languages & Software Employed in Data Science - All the Tools You Need\n",
      "\n",
      "Page Content: As you can see from the infographic, R, and Python are the two most popular tools across all columns. Their biggest advantage is that they can manipulate data and are integrated within multiple data and data science software platforms. They are not just suitable for mathematical and statistical computations. In other words, R, and Python are adaptable. They can solve a wide variety of business and data-related problems from beginning to the end\n",
      "----------\n",
      "Lecture Title:Programming Languages & Software Employed in Data Science - All the Tools You Need\n",
      "\n"
     ]
    }
   ],
   "execution_count": 29
  },
  {
   "metadata": {},
   "cell_type": "code",
   "outputs": [],
   "execution_count": null,
   "source": "",
   "id": "a8e010a524bc7365"
  }
 ],
 "metadata": {
  "kernelspec": {
   "display_name": "Python 3",
   "language": "python",
   "name": "python3"
  },
  "language_info": {
   "codemirror_mode": {
    "name": "ipython",
    "version": 2
   },
   "file_extension": ".py",
   "mimetype": "text/x-python",
   "name": "python",
   "nbconvert_exporter": "python",
   "pygments_lexer": "ipython2",
   "version": "2.7.6"
  }
 },
 "nbformat": 4,
 "nbformat_minor": 5
}
