{
 "cells": [
  {
   "metadata": {},
   "cell_type": "markdown",
   "source": "# The annotated Construct and Reducer ",
   "id": "327fdc9c90ed7e77"
  },
  {
   "metadata": {
    "ExecuteTime": {
     "end_time": "2025-06-27T09:47:10.565268Z",
     "start_time": "2025-06-27T09:47:10.529573Z"
    }
   },
   "cell_type": "code",
   "source": [
    "%load_ext dotenv\n",
    "%dotenv"
   ],
   "id": "88e190bc2b0adc2a",
   "outputs": [],
   "execution_count": 1
  },
  {
   "metadata": {
    "ExecuteTime": {
     "end_time": "2025-06-27T10:08:07.602870Z",
     "start_time": "2025-06-27T10:08:07.549798Z"
    }
   },
   "cell_type": "code",
   "source": [
    "from langgraph.graph import START, END, StateGraph, add_messages, MessagesState\n",
    "from typing_extensions import TypedDict\n",
    "from langchain_openai.chat_models import ChatOpenAI\n",
    "from langchain_core.messages import HumanMessage, BaseMessage, AIMessage, RemoveMessage\n",
    "from collections.abc import Sequence\n",
    "from typing import Literal, Annotated"
   ],
   "id": "2510a29d2c38aeeb",
   "outputs": [],
   "execution_count": 37
  },
  {
   "metadata": {
    "ExecuteTime": {
     "end_time": "2025-06-27T09:49:23.687016Z",
     "start_time": "2025-06-27T09:49:23.507023Z"
    }
   },
   "cell_type": "code",
   "source": [
    "my_list = add_messages([HumanMessage(\"Hi! I'm Oscar.\"), \n",
    "                        AIMessage(\"Hey, Oscar. How can I assist you?\")],\n",
    "                       [HumanMessage(\"Could you summarize today's news?\")])"
   ],
   "id": "bfc2df6b1135b65",
   "outputs": [],
   "execution_count": 3
  },
  {
   "metadata": {
    "ExecuteTime": {
     "end_time": "2025-06-27T09:49:29.994410Z",
     "start_time": "2025-06-27T09:49:29.877288Z"
    }
   },
   "cell_type": "code",
   "source": "my_list",
   "id": "60a129a4dc264abd",
   "outputs": [
    {
     "data": {
      "text/plain": [
       "[HumanMessage(content=\"Hi! I'm Oscar.\", additional_kwargs={}, response_metadata={}, id='d35ad86f-eb0d-4f3c-aeda-58db994efd7c'),\n",
       " AIMessage(content='Hey, Oscar. How can I assist you?', additional_kwargs={}, response_metadata={}, id='65e0b82a-69b0-43ab-bc47-1f79bb79ea2a'),\n",
       " HumanMessage(content=\"Could you summarize today's news?\", additional_kwargs={}, response_metadata={}, id='c8ebce1a-9247-4ebf-b15c-28a045339938')]"
      ]
     },
     "execution_count": 4,
     "metadata": {},
     "output_type": "execute_result"
    }
   ],
   "execution_count": 4
  },
  {
   "metadata": {
    "ExecuteTime": {
     "end_time": "2025-06-27T10:00:29.325477Z",
     "start_time": "2025-06-27T10:00:29.102970Z"
    }
   },
   "cell_type": "code",
   "source": [
    "class State(TypedDict):\n",
    "    messages: Annotated[Sequence[BaseMessage], add_messages]"
   ],
   "id": "5f870556d4242812",
   "outputs": [],
   "execution_count": 27
  },
  {
   "metadata": {
    "ExecuteTime": {
     "end_time": "2025-06-27T09:49:46.886217Z",
     "start_time": "2025-06-27T09:49:45.013999Z"
    }
   },
   "cell_type": "code",
   "source": [
    "chat = ChatOpenAI(model = \"gpt-4o\", \n",
    "                  seed = 365, \n",
    "                  temperature = 0, \n",
    "                  max_completion_tokens = 100)"
   ],
   "id": "678fa53ba2670ceb",
   "outputs": [],
   "execution_count": 6
  },
  {
   "metadata": {
    "ExecuteTime": {
     "end_time": "2025-06-27T09:53:55.834540Z",
     "start_time": "2025-06-27T09:53:55.779438Z"
    }
   },
   "cell_type": "code",
   "source": [
    "def ask_question(state: State) -> State:\n",
    "    \n",
    "    print(f\"\\n-------> ENTERING ask_question:\")\n",
    "    \n",
    "    print(\"What is your question?\")\n",
    "    \n",
    "    return State(messages = [HumanMessage(input())])"
   ],
   "id": "5fd4a9eb8f2ae366",
   "outputs": [],
   "execution_count": 16
  },
  {
   "metadata": {
    "ExecuteTime": {
     "end_time": "2025-06-27T09:49:55.721227Z",
     "start_time": "2025-06-27T09:49:55.709215Z"
    }
   },
   "cell_type": "code",
   "source": [
    "def chatbot(state: State) -> State:\n",
    "    \n",
    "    print(f\"\\n-------> ENTERING chatbot:\")\n",
    "    \n",
    "    response = chat.invoke(state[\"messages\"])\n",
    "    response.pretty_print()\n",
    "    \n",
    "    return State(messages = [response])"
   ],
   "id": "a418b896ebb7f97d",
   "outputs": [],
   "execution_count": 8
  },
  {
   "metadata": {
    "ExecuteTime": {
     "end_time": "2025-06-27T09:50:00.497319Z",
     "start_time": "2025-06-27T09:50:00.474318Z"
    }
   },
   "cell_type": "code",
   "source": [
    "def ask_another_question(state: State) -> State:\n",
    "    \n",
    "    print(f\"\\n-------> ENTERING ask_another_question:\")\n",
    "    \n",
    "    print(\"Would you like to ask one more question (yes/no)?\")\n",
    "    \n",
    "    return State(messages = [HumanMessage(input())])"
   ],
   "id": "43bc639cdbfa203b",
   "outputs": [],
   "execution_count": 9
  },
  {
   "metadata": {
    "ExecuteTime": {
     "end_time": "2025-06-27T09:50:07.292987Z",
     "start_time": "2025-06-27T09:50:07.270987Z"
    }
   },
   "cell_type": "code",
   "source": [
    "def routing_function(state: State) -> Literal[\"ask_question\", \"__end__\"]:\n",
    "    \n",
    "    if state[\"messages\"][0].content == \"yes\":\n",
    "        return \"ask_question\"\n",
    "    else:\n",
    "        return \"__end__\""
   ],
   "id": "17e24d57bfbcd5de",
   "outputs": [],
   "execution_count": 10
  },
  {
   "metadata": {
    "ExecuteTime": {
     "end_time": "2025-06-27T09:50:14.730953Z",
     "start_time": "2025-06-27T09:50:14.701618Z"
    }
   },
   "cell_type": "code",
   "source": "graph = StateGraph(State)",
   "id": "4a90674a51bacba0",
   "outputs": [],
   "execution_count": 11
  },
  {
   "metadata": {
    "ExecuteTime": {
     "end_time": "2025-06-27T09:50:19.128283Z",
     "start_time": "2025-06-27T09:50:19.055818Z"
    }
   },
   "cell_type": "code",
   "source": [
    "graph.add_node(\"ask_question\", ask_question)\n",
    "graph.add_node(\"chatbot\", chatbot)\n",
    "graph.add_node(\"ask_another_question\", ask_another_question)\n",
    "\n",
    "graph.add_edge(START, \"ask_question\")\n",
    "graph.add_edge(\"ask_question\", \"chatbot\")\n",
    "graph.add_edge(\"chatbot\", \"ask_another_question\")\n",
    "graph.add_conditional_edges(source = \"ask_another_question\", \n",
    "                            path = routing_function)"
   ],
   "id": "e9a9eaec77035646",
   "outputs": [
    {
     "data": {
      "text/plain": [
       "<langgraph.graph.state.StateGraph at 0x19f62a5ac80>"
      ]
     },
     "execution_count": 12,
     "metadata": {},
     "output_type": "execute_result"
    }
   ],
   "execution_count": 12
  },
  {
   "metadata": {
    "ExecuteTime": {
     "end_time": "2025-06-27T09:50:24.784957Z",
     "start_time": "2025-06-27T09:50:24.721735Z"
    }
   },
   "cell_type": "code",
   "source": "graph_compiled = graph.compile()",
   "id": "6e54b932c1529d2",
   "outputs": [],
   "execution_count": 13
  },
  {
   "metadata": {
    "ExecuteTime": {
     "end_time": "2025-06-27T09:50:28.922816Z",
     "start_time": "2025-06-27T09:50:28.331994Z"
    }
   },
   "cell_type": "code",
   "source": "graph_compiled",
   "id": "81401eac728b029a",
   "outputs": [
    {
     "data": {
      "text/plain": [
       "<langgraph.graph.state.CompiledStateGraph object at 0x0000019F62A5BB50>"
      ],
      "image/png": "[encoded data removed]"
     },
     "execution_count": 14,
     "metadata": {},
     "output_type": "execute_result"
    }
   ],
   "execution_count": 14
  },
  {
   "metadata": {
    "ExecuteTime": {
     "end_time": "2025-06-27T09:51:21.074971Z",
     "start_time": "2025-06-27T09:50:34.639848Z"
    }
   },
   "cell_type": "code",
   "source": "graph_compiled.invoke(State(messages = []))",
   "id": "bf8b4e3882687f68",
   "outputs": [
    {
     "name": "stdout",
     "output_type": "stream",
     "text": [
      "\n",
      "-------> ENTERING ask_question:\n",
      "What is your question?\n",
      "\n",
      "-------> ENTERING chatbot:\n",
      "==================================\u001B[1m Ai Message \u001B[0m==================================\n",
      "\n",
      "Certainly! Piet Hein was a Danish poet and scientist known for his short, witty poems called \"grooks.\" One of his most famous grooks is:\n",
      "\n",
      "```\n",
      "Losing one glove\n",
      "is certainly painful,\n",
      "but nothing\n",
      "compared to the pain\n",
      "of losing one,\n",
      "throwing away the other,\n",
      "and finding\n",
      "the first one again.\n",
      "```\n",
      "\n",
      "This grook, like many of Hein's works, captures a simple yet profound observation about life. If you have a specific grook in mind\n",
      "\n",
      "-------> ENTERING ask_another_question:\n",
      "Would you like to ask one more question (yes/no)?\n"
     ]
    },
    {
     "ename": "KeyboardInterrupt",
     "evalue": "Interrupted by user",
     "output_type": "error",
     "traceback": [
      "\u001B[1;31m---------------------------------------------------------------------------\u001B[0m",
      "\u001B[1;31mKeyboardInterrupt\u001B[0m                         Traceback (most recent call last)",
      "Cell \u001B[1;32mIn[15], line 1\u001B[0m\n\u001B[1;32m----> 1\u001B[0m \u001B[43mgraph_compiled\u001B[49m\u001B[38;5;241;43m.\u001B[39;49m\u001B[43minvoke\u001B[49m\u001B[43m(\u001B[49m\u001B[43mState\u001B[49m\u001B[43m(\u001B[49m\u001B[43mmessages\u001B[49m\u001B[43m \u001B[49m\u001B[38;5;241;43m=\u001B[39;49m\u001B[43m \u001B[49m\u001B[43m[\u001B[49m\u001B[43m]\u001B[49m\u001B[43m)\u001B[49m\u001B[43m)\u001B[49m\n",
      "File \u001B[1;32m~\\PyCharm\\ai_engineer_course_notes\\.venv\\lib\\site-packages\\langgraph\\pregel\\__init__.py:2719\u001B[0m, in \u001B[0;36mPregel.invoke\u001B[1;34m(self, input, config, stream_mode, output_keys, interrupt_before, interrupt_after, checkpoint_during, debug, **kwargs)\u001B[0m\n\u001B[0;32m   2716\u001B[0m chunks: \u001B[38;5;28mlist\u001B[39m[Union[\u001B[38;5;28mdict\u001B[39m[\u001B[38;5;28mstr\u001B[39m, Any], Any]] \u001B[38;5;241m=\u001B[39m []\n\u001B[0;32m   2717\u001B[0m interrupts: \u001B[38;5;28mlist\u001B[39m[Interrupt] \u001B[38;5;241m=\u001B[39m []\n\u001B[1;32m-> 2719\u001B[0m \u001B[38;5;28;01mfor\u001B[39;00m chunk \u001B[38;5;129;01min\u001B[39;00m \u001B[38;5;28mself\u001B[39m\u001B[38;5;241m.\u001B[39mstream(\n\u001B[0;32m   2720\u001B[0m     \u001B[38;5;28minput\u001B[39m,\n\u001B[0;32m   2721\u001B[0m     config,\n\u001B[0;32m   2722\u001B[0m     stream_mode\u001B[38;5;241m=\u001B[39mstream_mode,\n\u001B[0;32m   2723\u001B[0m     output_keys\u001B[38;5;241m=\u001B[39moutput_keys,\n\u001B[0;32m   2724\u001B[0m     interrupt_before\u001B[38;5;241m=\u001B[39minterrupt_before,\n\u001B[0;32m   2725\u001B[0m     interrupt_after\u001B[38;5;241m=\u001B[39minterrupt_after,\n\u001B[0;32m   2726\u001B[0m     checkpoint_during\u001B[38;5;241m=\u001B[39mcheckpoint_during,\n\u001B[0;32m   2727\u001B[0m     debug\u001B[38;5;241m=\u001B[39mdebug,\n\u001B[0;32m   2728\u001B[0m     \u001B[38;5;241m*\u001B[39m\u001B[38;5;241m*\u001B[39mkwargs,\n\u001B[0;32m   2729\u001B[0m ):\n\u001B[0;32m   2730\u001B[0m     \u001B[38;5;28;01mif\u001B[39;00m stream_mode \u001B[38;5;241m==\u001B[39m \u001B[38;5;124m\"\u001B[39m\u001B[38;5;124mvalues\u001B[39m\u001B[38;5;124m\"\u001B[39m:\n\u001B[0;32m   2731\u001B[0m         \u001B[38;5;28;01mif\u001B[39;00m (\n\u001B[0;32m   2732\u001B[0m             \u001B[38;5;28misinstance\u001B[39m(chunk, \u001B[38;5;28mdict\u001B[39m)\n\u001B[0;32m   2733\u001B[0m             \u001B[38;5;129;01mand\u001B[39;00m (ints \u001B[38;5;241m:=\u001B[39m chunk\u001B[38;5;241m.\u001B[39mget(INTERRUPT)) \u001B[38;5;129;01mis\u001B[39;00m \u001B[38;5;129;01mnot\u001B[39;00m \u001B[38;5;28;01mNone\u001B[39;00m\n\u001B[0;32m   2734\u001B[0m         ):\n",
      "File \u001B[1;32m~\\PyCharm\\ai_engineer_course_notes\\.venv\\lib\\site-packages\\langgraph\\pregel\\__init__.py:2436\u001B[0m, in \u001B[0;36mPregel.stream\u001B[1;34m(self, input, config, stream_mode, output_keys, interrupt_before, interrupt_after, checkpoint_during, debug, subgraphs)\u001B[0m\n\u001B[0;32m   2434\u001B[0m         \u001B[38;5;28;01mfor\u001B[39;00m task \u001B[38;5;129;01min\u001B[39;00m loop\u001B[38;5;241m.\u001B[39mmatch_cached_writes():\n\u001B[0;32m   2435\u001B[0m             loop\u001B[38;5;241m.\u001B[39moutput_writes(task\u001B[38;5;241m.\u001B[39mid, task\u001B[38;5;241m.\u001B[39mwrites, cached\u001B[38;5;241m=\u001B[39m\u001B[38;5;28;01mTrue\u001B[39;00m)\n\u001B[1;32m-> 2436\u001B[0m         \u001B[38;5;28;01mfor\u001B[39;00m _ \u001B[38;5;129;01min\u001B[39;00m runner\u001B[38;5;241m.\u001B[39mtick(\n\u001B[0;32m   2437\u001B[0m             [t \u001B[38;5;28;01mfor\u001B[39;00m t \u001B[38;5;129;01min\u001B[39;00m loop\u001B[38;5;241m.\u001B[39mtasks\u001B[38;5;241m.\u001B[39mvalues() \u001B[38;5;28;01mif\u001B[39;00m \u001B[38;5;129;01mnot\u001B[39;00m t\u001B[38;5;241m.\u001B[39mwrites],\n\u001B[0;32m   2438\u001B[0m             timeout\u001B[38;5;241m=\u001B[39m\u001B[38;5;28mself\u001B[39m\u001B[38;5;241m.\u001B[39mstep_timeout,\n\u001B[0;32m   2439\u001B[0m             get_waiter\u001B[38;5;241m=\u001B[39mget_waiter,\n\u001B[0;32m   2440\u001B[0m             schedule_task\u001B[38;5;241m=\u001B[39mloop\u001B[38;5;241m.\u001B[39maccept_push,\n\u001B[0;32m   2441\u001B[0m         ):\n\u001B[0;32m   2442\u001B[0m             \u001B[38;5;66;03m# emit output\u001B[39;00m\n\u001B[0;32m   2443\u001B[0m             \u001B[38;5;28;01myield from\u001B[39;00m output()\n\u001B[0;32m   2444\u001B[0m \u001B[38;5;66;03m# emit output\u001B[39;00m\n",
      "File \u001B[1;32m~\\PyCharm\\ai_engineer_course_notes\\.venv\\lib\\site-packages\\langgraph\\pregel\\runner.py:161\u001B[0m, in \u001B[0;36mPregelRunner.tick\u001B[1;34m(self, tasks, reraise, timeout, retry_policy, get_waiter, schedule_task)\u001B[0m\n\u001B[0;32m    159\u001B[0m t \u001B[38;5;241m=\u001B[39m tasks[\u001B[38;5;241m0\u001B[39m]\n\u001B[0;32m    160\u001B[0m \u001B[38;5;28;01mtry\u001B[39;00m:\n\u001B[1;32m--> 161\u001B[0m     \u001B[43mrun_with_retry\u001B[49m\u001B[43m(\u001B[49m\n\u001B[0;32m    162\u001B[0m \u001B[43m        \u001B[49m\u001B[43mt\u001B[49m\u001B[43m,\u001B[49m\n\u001B[0;32m    163\u001B[0m \u001B[43m        \u001B[49m\u001B[43mretry_policy\u001B[49m\u001B[43m,\u001B[49m\n\u001B[0;32m    164\u001B[0m \u001B[43m        \u001B[49m\u001B[43mconfigurable\u001B[49m\u001B[38;5;241;43m=\u001B[39;49m\u001B[43m{\u001B[49m\n\u001B[0;32m    165\u001B[0m \u001B[43m            \u001B[49m\u001B[43mCONFIG_KEY_CALL\u001B[49m\u001B[43m:\u001B[49m\u001B[43m \u001B[49m\u001B[43mpartial\u001B[49m\u001B[43m(\u001B[49m\n\u001B[0;32m    166\u001B[0m \u001B[43m                \u001B[49m\u001B[43m_call\u001B[49m\u001B[43m,\u001B[49m\n\u001B[0;32m    167\u001B[0m \u001B[43m                \u001B[49m\u001B[43mweakref\u001B[49m\u001B[38;5;241;43m.\u001B[39;49m\u001B[43mref\u001B[49m\u001B[43m(\u001B[49m\u001B[43mt\u001B[49m\u001B[43m)\u001B[49m\u001B[43m,\u001B[49m\n\u001B[0;32m    168\u001B[0m \u001B[43m                \u001B[49m\u001B[43mretry\u001B[49m\u001B[38;5;241;43m=\u001B[39;49m\u001B[43mretry_policy\u001B[49m\u001B[43m,\u001B[49m\n\u001B[0;32m    169\u001B[0m \u001B[43m                \u001B[49m\u001B[43mfutures\u001B[49m\u001B[38;5;241;43m=\u001B[39;49m\u001B[43mweakref\u001B[49m\u001B[38;5;241;43m.\u001B[39;49m\u001B[43mref\u001B[49m\u001B[43m(\u001B[49m\u001B[43mfutures\u001B[49m\u001B[43m)\u001B[49m\u001B[43m,\u001B[49m\n\u001B[0;32m    170\u001B[0m \u001B[43m                \u001B[49m\u001B[43mschedule_task\u001B[49m\u001B[38;5;241;43m=\u001B[39;49m\u001B[43mschedule_task\u001B[49m\u001B[43m,\u001B[49m\n\u001B[0;32m    171\u001B[0m \u001B[43m                \u001B[49m\u001B[43msubmit\u001B[49m\u001B[38;5;241;43m=\u001B[39;49m\u001B[38;5;28;43mself\u001B[39;49m\u001B[38;5;241;43m.\u001B[39;49m\u001B[43msubmit\u001B[49m\u001B[43m,\u001B[49m\n\u001B[0;32m    172\u001B[0m \u001B[43m            \u001B[49m\u001B[43m)\u001B[49m\u001B[43m,\u001B[49m\n\u001B[0;32m    173\u001B[0m \u001B[43m        \u001B[49m\u001B[43m}\u001B[49m\u001B[43m,\u001B[49m\n\u001B[0;32m    174\u001B[0m \u001B[43m    \u001B[49m\u001B[43m)\u001B[49m\n\u001B[0;32m    175\u001B[0m     \u001B[38;5;28mself\u001B[39m\u001B[38;5;241m.\u001B[39mcommit(t, \u001B[38;5;28;01mNone\u001B[39;00m)\n\u001B[0;32m    176\u001B[0m \u001B[38;5;28;01mexcept\u001B[39;00m \u001B[38;5;167;01mException\u001B[39;00m \u001B[38;5;28;01mas\u001B[39;00m exc:\n",
      "File \u001B[1;32m~\\PyCharm\\ai_engineer_course_notes\\.venv\\lib\\site-packages\\langgraph\\pregel\\retry.py:40\u001B[0m, in \u001B[0;36mrun_with_retry\u001B[1;34m(task, retry_policy, configurable)\u001B[0m\n\u001B[0;32m     38\u001B[0m     task\u001B[38;5;241m.\u001B[39mwrites\u001B[38;5;241m.\u001B[39mclear()\n\u001B[0;32m     39\u001B[0m     \u001B[38;5;66;03m# run the task\u001B[39;00m\n\u001B[1;32m---> 40\u001B[0m     \u001B[38;5;28;01mreturn\u001B[39;00m \u001B[43mtask\u001B[49m\u001B[38;5;241;43m.\u001B[39;49m\u001B[43mproc\u001B[49m\u001B[38;5;241;43m.\u001B[39;49m\u001B[43minvoke\u001B[49m\u001B[43m(\u001B[49m\u001B[43mtask\u001B[49m\u001B[38;5;241;43m.\u001B[39;49m\u001B[43minput\u001B[49m\u001B[43m,\u001B[49m\u001B[43m \u001B[49m\u001B[43mconfig\u001B[49m\u001B[43m)\u001B[49m\n\u001B[0;32m     41\u001B[0m \u001B[38;5;28;01mexcept\u001B[39;00m ParentCommand \u001B[38;5;28;01mas\u001B[39;00m exc:\n\u001B[0;32m     42\u001B[0m     ns: \u001B[38;5;28mstr\u001B[39m \u001B[38;5;241m=\u001B[39m config[CONF][CONFIG_KEY_CHECKPOINT_NS]\n",
      "File \u001B[1;32m~\\PyCharm\\ai_engineer_course_notes\\.venv\\lib\\site-packages\\langgraph\\utils\\runnable.py:623\u001B[0m, in \u001B[0;36mRunnableSeq.invoke\u001B[1;34m(self, input, config, **kwargs)\u001B[0m\n\u001B[0;32m    621\u001B[0m     \u001B[38;5;66;03m# run in context\u001B[39;00m\n\u001B[0;32m    622\u001B[0m     \u001B[38;5;28;01mwith\u001B[39;00m set_config_context(config, run) \u001B[38;5;28;01mas\u001B[39;00m context:\n\u001B[1;32m--> 623\u001B[0m         \u001B[38;5;28minput\u001B[39m \u001B[38;5;241m=\u001B[39m context\u001B[38;5;241m.\u001B[39mrun(step\u001B[38;5;241m.\u001B[39minvoke, \u001B[38;5;28minput\u001B[39m, config, \u001B[38;5;241m*\u001B[39m\u001B[38;5;241m*\u001B[39mkwargs)\n\u001B[0;32m    624\u001B[0m \u001B[38;5;28;01melse\u001B[39;00m:\n\u001B[0;32m    625\u001B[0m     \u001B[38;5;28minput\u001B[39m \u001B[38;5;241m=\u001B[39m step\u001B[38;5;241m.\u001B[39minvoke(\u001B[38;5;28minput\u001B[39m, config)\n",
      "File \u001B[1;32m~\\PyCharm\\ai_engineer_course_notes\\.venv\\lib\\site-packages\\langgraph\\utils\\runnable.py:377\u001B[0m, in \u001B[0;36mRunnableCallable.invoke\u001B[1;34m(self, input, config, **kwargs)\u001B[0m\n\u001B[0;32m    375\u001B[0m         run_manager\u001B[38;5;241m.\u001B[39mon_chain_end(ret)\n\u001B[0;32m    376\u001B[0m \u001B[38;5;28;01melse\u001B[39;00m:\n\u001B[1;32m--> 377\u001B[0m     ret \u001B[38;5;241m=\u001B[39m \u001B[38;5;28mself\u001B[39m\u001B[38;5;241m.\u001B[39mfunc(\u001B[38;5;241m*\u001B[39margs, \u001B[38;5;241m*\u001B[39m\u001B[38;5;241m*\u001B[39mkwargs)\n\u001B[0;32m    378\u001B[0m \u001B[38;5;28;01mif\u001B[39;00m \u001B[38;5;28mself\u001B[39m\u001B[38;5;241m.\u001B[39mrecurse \u001B[38;5;129;01mand\u001B[39;00m \u001B[38;5;28misinstance\u001B[39m(ret, Runnable):\n\u001B[0;32m    379\u001B[0m     \u001B[38;5;28;01mreturn\u001B[39;00m ret\u001B[38;5;241m.\u001B[39minvoke(\u001B[38;5;28minput\u001B[39m, config)\n",
      "Cell \u001B[1;32mIn[9], line 7\u001B[0m, in \u001B[0;36mask_another_question\u001B[1;34m(state)\u001B[0m\n\u001B[0;32m      3\u001B[0m \u001B[38;5;28mprint\u001B[39m(\u001B[38;5;124mf\u001B[39m\u001B[38;5;124m\"\u001B[39m\u001B[38;5;130;01m\\n\u001B[39;00m\u001B[38;5;124m-------> ENTERING ask_another_question:\u001B[39m\u001B[38;5;124m\"\u001B[39m)\n\u001B[0;32m      5\u001B[0m \u001B[38;5;28mprint\u001B[39m(\u001B[38;5;124m\"\u001B[39m\u001B[38;5;124mWould you like to ask one more question (yes/no)?\u001B[39m\u001B[38;5;124m\"\u001B[39m)\n\u001B[1;32m----> 7\u001B[0m \u001B[38;5;28;01mreturn\u001B[39;00m State(messages \u001B[38;5;241m=\u001B[39m [HumanMessage(\u001B[38;5;28;43minput\u001B[39;49m\u001B[43m(\u001B[49m\u001B[43m)\u001B[49m)])\n",
      "File \u001B[1;32m~\\PyCharm\\ai_engineer_course_notes\\.venv\\lib\\site-packages\\ipykernel\\kernelbase.py:1282\u001B[0m, in \u001B[0;36mKernel.raw_input\u001B[1;34m(self, prompt)\u001B[0m\n\u001B[0;32m   1280\u001B[0m     msg \u001B[38;5;241m=\u001B[39m \u001B[38;5;124m\"\u001B[39m\u001B[38;5;124mraw_input was called, but this frontend does not support input requests.\u001B[39m\u001B[38;5;124m\"\u001B[39m\n\u001B[0;32m   1281\u001B[0m     \u001B[38;5;28;01mraise\u001B[39;00m StdinNotImplementedError(msg)\n\u001B[1;32m-> 1282\u001B[0m \u001B[38;5;28;01mreturn\u001B[39;00m \u001B[38;5;28;43mself\u001B[39;49m\u001B[38;5;241;43m.\u001B[39;49m\u001B[43m_input_request\u001B[49m\u001B[43m(\u001B[49m\n\u001B[0;32m   1283\u001B[0m \u001B[43m    \u001B[49m\u001B[38;5;28;43mstr\u001B[39;49m\u001B[43m(\u001B[49m\u001B[43mprompt\u001B[49m\u001B[43m)\u001B[49m\u001B[43m,\u001B[49m\n\u001B[0;32m   1284\u001B[0m \u001B[43m    \u001B[49m\u001B[38;5;28;43mself\u001B[39;49m\u001B[38;5;241;43m.\u001B[39;49m\u001B[43m_parent_ident\u001B[49m\u001B[43m[\u001B[49m\u001B[38;5;124;43m\"\u001B[39;49m\u001B[38;5;124;43mshell\u001B[39;49m\u001B[38;5;124;43m\"\u001B[39;49m\u001B[43m]\u001B[49m\u001B[43m,\u001B[49m\n\u001B[0;32m   1285\u001B[0m \u001B[43m    \u001B[49m\u001B[38;5;28;43mself\u001B[39;49m\u001B[38;5;241;43m.\u001B[39;49m\u001B[43mget_parent\u001B[49m\u001B[43m(\u001B[49m\u001B[38;5;124;43m\"\u001B[39;49m\u001B[38;5;124;43mshell\u001B[39;49m\u001B[38;5;124;43m\"\u001B[39;49m\u001B[43m)\u001B[49m\u001B[43m,\u001B[49m\n\u001B[0;32m   1286\u001B[0m \u001B[43m    \u001B[49m\u001B[43mpassword\u001B[49m\u001B[38;5;241;43m=\u001B[39;49m\u001B[38;5;28;43;01mFalse\u001B[39;49;00m\u001B[43m,\u001B[49m\n\u001B[0;32m   1287\u001B[0m \u001B[43m\u001B[49m\u001B[43m)\u001B[49m\n",
      "File \u001B[1;32m~\\PyCharm\\ai_engineer_course_notes\\.venv\\lib\\site-packages\\ipykernel\\kernelbase.py:1325\u001B[0m, in \u001B[0;36mKernel._input_request\u001B[1;34m(self, prompt, ident, parent, password)\u001B[0m\n\u001B[0;32m   1322\u001B[0m \u001B[38;5;28;01mexcept\u001B[39;00m \u001B[38;5;167;01mKeyboardInterrupt\u001B[39;00m:\n\u001B[0;32m   1323\u001B[0m     \u001B[38;5;66;03m# re-raise KeyboardInterrupt, to truncate traceback\u001B[39;00m\n\u001B[0;32m   1324\u001B[0m     msg \u001B[38;5;241m=\u001B[39m \u001B[38;5;124m\"\u001B[39m\u001B[38;5;124mInterrupted by user\u001B[39m\u001B[38;5;124m\"\u001B[39m\n\u001B[1;32m-> 1325\u001B[0m     \u001B[38;5;28;01mraise\u001B[39;00m \u001B[38;5;167;01mKeyboardInterrupt\u001B[39;00m(msg) \u001B[38;5;28;01mfrom\u001B[39;00m\u001B[38;5;250m \u001B[39m\u001B[38;5;28;01mNone\u001B[39;00m\n\u001B[0;32m   1326\u001B[0m \u001B[38;5;28;01mexcept\u001B[39;00m \u001B[38;5;167;01mException\u001B[39;00m:\n\u001B[0;32m   1327\u001B[0m     \u001B[38;5;28mself\u001B[39m\u001B[38;5;241m.\u001B[39mlog\u001B[38;5;241m.\u001B[39mwarning(\u001B[38;5;124m\"\u001B[39m\u001B[38;5;124mInvalid Message:\u001B[39m\u001B[38;5;124m\"\u001B[39m, exc_info\u001B[38;5;241m=\u001B[39m\u001B[38;5;28;01mTrue\u001B[39;00m)\n",
      "\u001B[1;31mKeyboardInterrupt\u001B[0m: Interrupted by user"
     ]
    }
   ],
   "execution_count": 15
  },
  {
   "metadata": {},
   "cell_type": "markdown",
   "source": "## Reducer functions",
   "id": "7e9626e4580db76d"
  },
  {
   "metadata": {
    "ExecuteTime": {
     "end_time": "2025-06-27T09:54:31.386060Z",
     "start_time": "2025-06-27T09:54:31.373058Z"
    }
   },
   "cell_type": "code",
   "source": [
    "def ask_question(state: State) -> State:\n",
    "    \n",
    "    print(f\"\\n-------> ENTERING ask_question:\")\n",
    "    for i in state[\"messages\"]:\n",
    "        i.pretty_print()\n",
    "    \n",
    "    question = \"What is your question?\"\n",
    "    print(question)\n",
    "    \n",
    "    return State(messages = [AIMessage(question), HumanMessage(input())])"
   ],
   "id": "1a7c4b9fb4df2aa9",
   "outputs": [],
   "execution_count": 17
  },
  {
   "metadata": {
    "ExecuteTime": {
     "end_time": "2025-06-27T09:54:35.782946Z",
     "start_time": "2025-06-27T09:54:35.751949Z"
    }
   },
   "cell_type": "code",
   "source": [
    "def chatbot(state: State) -> State:\n",
    "    \n",
    "    print(f\"\\n-------> ENTERING chatbot:\")\n",
    "    for i in state[\"messages\"]:\n",
    "        i.pretty_print()\n",
    "    \n",
    "    response = chat.invoke(state[\"messages\"])\n",
    "    response.pretty_print()\n",
    "    \n",
    "    return State(messages = [response])"
   ],
   "id": "bba9cc0f5d2475b7",
   "outputs": [],
   "execution_count": 18
  },
  {
   "metadata": {
    "ExecuteTime": {
     "end_time": "2025-06-27T09:54:41.244103Z",
     "start_time": "2025-06-27T09:54:41.221110Z"
    }
   },
   "cell_type": "code",
   "source": [
    "def ask_another_question(state: State) -> State:\n",
    "    \n",
    "    print(f\"\\n-------> ENTERING ask_another_question:\")\n",
    "    for i in state[\"messages\"]:\n",
    "        i.pretty_print()\n",
    "    \n",
    "    question = \"Would you like to ask one more question (yes/no)?\"\n",
    "    print(question)\n",
    "    \n",
    "    return State(messages = [AIMessage(question), HumanMessage(input())])"
   ],
   "id": "211cca1af5fbfedf",
   "outputs": [],
   "execution_count": 19
  },
  {
   "metadata": {
    "ExecuteTime": {
     "end_time": "2025-06-27T09:55:38.109720Z",
     "start_time": "2025-06-27T09:55:38.090003Z"
    }
   },
   "cell_type": "code",
   "source": [
    "def routing_function(state: State) -> Literal[\"ask_question\", \"__end__\"]:\n",
    "    \n",
    "    if state[\"messages\"][-1].content == \"yes\":\n",
    "        return \"ask_question\"\n",
    "    else:\n",
    "        return \"__end__\""
   ],
   "id": "b23b849e720af9d7",
   "outputs": [],
   "execution_count": 20
  },
  {
   "metadata": {
    "ExecuteTime": {
     "end_time": "2025-06-27T09:55:52.785101Z",
     "start_time": "2025-06-27T09:55:52.744514Z"
    }
   },
   "cell_type": "code",
   "source": "graph = StateGraph(State)",
   "id": "21478c773a5669ba",
   "outputs": [],
   "execution_count": 21
  },
  {
   "metadata": {
    "ExecuteTime": {
     "end_time": "2025-06-27T09:55:56.788583Z",
     "start_time": "2025-06-27T09:55:56.719555Z"
    }
   },
   "cell_type": "code",
   "source": [
    "graph.add_node(\"ask_question\", ask_question)\n",
    "graph.add_node(\"chatbot\", chatbot)\n",
    "graph.add_node(\"ask_another_question\", ask_another_question)\n",
    "\n",
    "graph.add_edge(START, \"ask_question\")\n",
    "graph.add_edge(\"ask_question\", \"chatbot\")\n",
    "graph.add_edge(\"chatbot\", \"ask_another_question\")\n",
    "graph.add_conditional_edges(source = \"ask_another_question\", \n",
    "                            path = routing_function)"
   ],
   "id": "3254604aa5162271",
   "outputs": [
    {
     "data": {
      "text/plain": [
       "<langgraph.graph.state.StateGraph at 0x19f6391b400>"
      ]
     },
     "execution_count": 22,
     "metadata": {},
     "output_type": "execute_result"
    }
   ],
   "execution_count": 22
  },
  {
   "metadata": {
    "ExecuteTime": {
     "end_time": "2025-06-27T09:56:02.894890Z",
     "start_time": "2025-06-27T09:56:02.827805Z"
    }
   },
   "cell_type": "code",
   "source": "graph_compiled = graph.compile()",
   "id": "d670750ec883e71e",
   "outputs": [],
   "execution_count": 23
  },
  {
   "metadata": {
    "ExecuteTime": {
     "end_time": "2025-06-27T09:56:08.868493Z",
     "start_time": "2025-06-27T09:56:06.438089Z"
    }
   },
   "cell_type": "code",
   "source": "graph_compiled",
   "id": "50c46dace508e8ca",
   "outputs": [
    {
     "data": {
      "text/plain": [
       "<langgraph.graph.state.CompiledStateGraph object at 0x0000019F6391BC70>"
      ],
      "image/png": "[encoded data removed]"
     },
     "execution_count": 24,
     "metadata": {},
     "output_type": "execute_result"
    }
   ],
   "execution_count": 24
  },
  {
   "metadata": {
    "ExecuteTime": {
     "end_time": "2025-06-27T09:57:11.265604Z",
     "start_time": "2025-06-27T09:56:19.372459Z"
    }
   },
   "cell_type": "code",
   "source": "graph_compiled.invoke(State(messages = []))",
   "id": "e17b7431bc8d7e8d",
   "outputs": [
    {
     "name": "stdout",
     "output_type": "stream",
     "text": [
      "\n",
      "-------> ENTERING ask_question:\n",
      "What is your question?\n",
      "\n",
      "-------> ENTERING chatbot:\n",
      "==================================\u001B[1m Ai Message \u001B[0m==================================\n",
      "\n",
      "What is your question?\n",
      "================================\u001B[1m Human Message \u001B[0m=================================\n",
      "\n",
      "Can you tell me the grook by Piet Hein?\n",
      "==================================\u001B[1m Ai Message \u001B[0m==================================\n",
      "\n",
      "Certainly! Piet Hein was a Danish poet and scientist known for his short, witty poems called \"grooks.\" Here is one of his most famous grooks:\n",
      "\n",
      "**The Road to Wisdom**\n",
      "\n",
      "The road to wisdom?—Well, it's plain\n",
      "and simple to express:\n",
      "Err\n",
      "and err\n",
      "and err again,\n",
      "but less\n",
      "and less\n",
      "and less.\n",
      "\n",
      "This grook captures the essence of learning through experience and the gradual improvement that comes with making mistakes and learning from them. If you are interested\n",
      "\n",
      "-------> ENTERING ask_another_question:\n",
      "==================================\u001B[1m Ai Message \u001B[0m==================================\n",
      "\n",
      "What is your question?\n",
      "================================\u001B[1m Human Message \u001B[0m=================================\n",
      "\n",
      "Can you tell me the grook by Piet Hein?\n",
      "==================================\u001B[1m Ai Message \u001B[0m==================================\n",
      "\n",
      "Certainly! Piet Hein was a Danish poet and scientist known for his short, witty poems called \"grooks.\" Here is one of his most famous grooks:\n",
      "\n",
      "**The Road to Wisdom**\n",
      "\n",
      "The road to wisdom?—Well, it's plain\n",
      "and simple to express:\n",
      "Err\n",
      "and err\n",
      "and err again,\n",
      "but less\n",
      "and less\n",
      "and less.\n",
      "\n",
      "This grook captures the essence of learning through experience and the gradual improvement that comes with making mistakes and learning from them. If you are interested\n",
      "Would you like to ask one more question (yes/no)?\n",
      "\n",
      "-------> ENTERING ask_question:\n",
      "==================================\u001B[1m Ai Message \u001B[0m==================================\n",
      "\n",
      "What is your question?\n",
      "================================\u001B[1m Human Message \u001B[0m=================================\n",
      "\n",
      "Can you tell me the grook by Piet Hein?\n",
      "==================================\u001B[1m Ai Message \u001B[0m==================================\n",
      "\n",
      "Certainly! Piet Hein was a Danish poet and scientist known for his short, witty poems called \"grooks.\" Here is one of his most famous grooks:\n",
      "\n",
      "**The Road to Wisdom**\n",
      "\n",
      "The road to wisdom?—Well, it's plain\n",
      "and simple to express:\n",
      "Err\n",
      "and err\n",
      "and err again,\n",
      "but less\n",
      "and less\n",
      "and less.\n",
      "\n",
      "This grook captures the essence of learning through experience and the gradual improvement that comes with making mistakes and learning from them. If you are interested\n",
      "==================================\u001B[1m Ai Message \u001B[0m==================================\n",
      "\n",
      "Would you like to ask one more question (yes/no)?\n",
      "================================\u001B[1m Human Message \u001B[0m=================================\n",
      "\n",
      "yes\n",
      "What is your question?\n",
      "\n",
      "-------> ENTERING chatbot:\n",
      "==================================\u001B[1m Ai Message \u001B[0m==================================\n",
      "\n",
      "What is your question?\n",
      "================================\u001B[1m Human Message \u001B[0m=================================\n",
      "\n",
      "Can you tell me the grook by Piet Hein?\n",
      "==================================\u001B[1m Ai Message \u001B[0m==================================\n",
      "\n",
      "Certainly! Piet Hein was a Danish poet and scientist known for his short, witty poems called \"grooks.\" Here is one of his most famous grooks:\n",
      "\n",
      "**The Road to Wisdom**\n",
      "\n",
      "The road to wisdom?—Well, it's plain\n",
      "and simple to express:\n",
      "Err\n",
      "and err\n",
      "and err again,\n",
      "but less\n",
      "and less\n",
      "and less.\n",
      "\n",
      "This grook captures the essence of learning through experience and the gradual improvement that comes with making mistakes and learning from them. If you are interested\n",
      "==================================\u001B[1m Ai Message \u001B[0m==================================\n",
      "\n",
      "Would you like to ask one more question (yes/no)?\n",
      "================================\u001B[1m Human Message \u001B[0m=================================\n",
      "\n",
      "yes\n",
      "==================================\u001B[1m Ai Message \u001B[0m==================================\n",
      "\n",
      "What is your question?\n",
      "================================\u001B[1m Human Message \u001B[0m=================================\n",
      "\n",
      "where was a poet born?\n",
      "==================================\u001B[1m Ai Message \u001B[0m==================================\n",
      "\n",
      "Piet Hein was born in Copenhagen, Denmark, on December 16, 1905. He was a versatile figure, known not only for his poetry but also for his work as a scientist, mathematician, and inventor. If you have more questions about him or his work, feel free to ask!\n",
      "\n",
      "-------> ENTERING ask_another_question:\n",
      "==================================\u001B[1m Ai Message \u001B[0m==================================\n",
      "\n",
      "What is your question?\n",
      "================================\u001B[1m Human Message \u001B[0m=================================\n",
      "\n",
      "Can you tell me the grook by Piet Hein?\n",
      "==================================\u001B[1m Ai Message \u001B[0m==================================\n",
      "\n",
      "Certainly! Piet Hein was a Danish poet and scientist known for his short, witty poems called \"grooks.\" Here is one of his most famous grooks:\n",
      "\n",
      "**The Road to Wisdom**\n",
      "\n",
      "The road to wisdom?—Well, it's plain\n",
      "and simple to express:\n",
      "Err\n",
      "and err\n",
      "and err again,\n",
      "but less\n",
      "and less\n",
      "and less.\n",
      "\n",
      "This grook captures the essence of learning through experience and the gradual improvement that comes with making mistakes and learning from them. If you are interested\n",
      "==================================\u001B[1m Ai Message \u001B[0m==================================\n",
      "\n",
      "Would you like to ask one more question (yes/no)?\n",
      "================================\u001B[1m Human Message \u001B[0m=================================\n",
      "\n",
      "yes\n",
      "==================================\u001B[1m Ai Message \u001B[0m==================================\n",
      "\n",
      "What is your question?\n",
      "================================\u001B[1m Human Message \u001B[0m=================================\n",
      "\n",
      "where was a poet born?\n",
      "==================================\u001B[1m Ai Message \u001B[0m==================================\n",
      "\n",
      "Piet Hein was born in Copenhagen, Denmark, on December 16, 1905. He was a versatile figure, known not only for his poetry but also for his work as a scientist, mathematician, and inventor. If you have more questions about him or his work, feel free to ask!\n",
      "Would you like to ask one more question (yes/no)?\n"
     ]
    },
    {
     "data": {
      "text/plain": [
       "{'messages': [AIMessage(content='What is your question?', additional_kwargs={}, response_metadata={}, id='90a58200-1238-4e5a-bdb2-6c718396eb96'),\n",
       "  HumanMessage(content='Can you tell me the grook by Piet Hein?', additional_kwargs={}, response_metadata={}, id='17d9c5d1-7931-46ca-8b13-a3b4a9264304'),\n",
       "  AIMessage(content='Certainly! Piet Hein was a Danish poet and scientist known for his short, witty poems called \"grooks.\" Here is one of his most famous grooks:\\n\\n**The Road to Wisdom**\\n\\nThe road to wisdom?—Well, it\\'s plain\\nand simple to express:\\nErr\\nand err\\nand err again,\\nbut less\\nand less\\nand less.\\n\\nThis grook captures the essence of learning through experience and the gradual improvement that comes with making mistakes and learning from them. If you are interested', additional_kwargs={'refusal': None}, response_metadata={'token_usage': {'completion_tokens': 100, 'prompt_tokens': 27, 'total_tokens': 127, 'completion_tokens_details': {'accepted_prediction_tokens': 0, 'audio_tokens': 0, 'reasoning_tokens': 0, 'rejected_prediction_tokens': 0}, 'prompt_tokens_details': {'audio_tokens': 0, 'cached_tokens': 0}}, 'model_name': 'gpt-4o-2024-08-06', 'system_fingerprint': 'fp_a288987b44', 'id': 'chatcmpl-Bn06qt1MqKsYHyVsRz3eKOO82hY3J', 'service_tier': 'default', 'finish_reason': 'length', 'logprobs': None}, id='run--4a74f9d3-d914-41eb-b248-e517627fdc0b-0', usage_metadata={'input_tokens': 27, 'output_tokens': 100, 'total_tokens': 127, 'input_token_details': {'audio': 0, 'cache_read': 0}, 'output_token_details': {'audio': 0, 'reasoning': 0}}),\n",
       "  AIMessage(content='Would you like to ask one more question (yes/no)?', additional_kwargs={}, response_metadata={}, id='9302c58d-e334-44c0-8188-1bf95b6cb391'),\n",
       "  HumanMessage(content='yes', additional_kwargs={}, response_metadata={}, id='f3cd3405-68a4-4078-b56f-36d42fdc9de8'),\n",
       "  AIMessage(content='What is your question?', additional_kwargs={}, response_metadata={}, id='b6f90dc1-fe0e-40a6-bb0d-50350a4a2424'),\n",
       "  HumanMessage(content='where was a poet born?', additional_kwargs={}, response_metadata={}, id='3d2dd6fc-d2ad-418d-805e-607938df0507'),\n",
       "  AIMessage(content='Piet Hein was born in Copenhagen, Denmark, on December 16, 1905. He was a versatile figure, known not only for his poetry but also for his work as a scientist, mathematician, and inventor. If you have more questions about him or his work, feel free to ask!', additional_kwargs={'refusal': None}, response_metadata={'token_usage': {'completion_tokens': 62, 'prompt_tokens': 171, 'total_tokens': 233, 'completion_tokens_details': {'accepted_prediction_tokens': 0, 'audio_tokens': 0, 'reasoning_tokens': 0, 'rejected_prediction_tokens': 0}, 'prompt_tokens_details': {'audio_tokens': 0, 'cached_tokens': 0}}, 'model_name': 'gpt-4o-2024-08-06', 'system_fingerprint': 'fp_a288987b44', 'id': 'chatcmpl-Bn07MKtxUDwbsJJo2XwvkDo9knhr9', 'service_tier': 'default', 'finish_reason': 'stop', 'logprobs': None}, id='run--30494d9b-94d6-4c83-aed5-3082e7a4e8d9-0', usage_metadata={'input_tokens': 171, 'output_tokens': 62, 'total_tokens': 233, 'input_token_details': {'audio': 0, 'cache_read': 0}, 'output_token_details': {'audio': 0, 'reasoning': 0}}),\n",
       "  AIMessage(content='Would you like to ask one more question (yes/no)?', additional_kwargs={}, response_metadata={}, id='315c2ed1-9a77-4d72-8205-4520d89c34ac'),\n",
       "  HumanMessage(content='no', additional_kwargs={}, response_metadata={}, id='1b363ed6-af6b-4655-944d-a292a82b9e08')]}"
      ]
     },
     "execution_count": 25,
     "metadata": {},
     "output_type": "execute_result"
    }
   ],
   "execution_count": 25
  },
  {
   "metadata": {},
   "cell_type": "markdown",
   "source": "## Messages State",
   "id": "48e90a4bd2f3f8f1"
  },
  {
   "metadata": {
    "ExecuteTime": {
     "end_time": "2025-06-27T10:00:56.937723Z",
     "start_time": "2025-06-27T10:00:56.878848Z"
    }
   },
   "cell_type": "code",
   "source": [
    "def ask_question(state: MessagesState) -> MessagesState:\n",
    "    \n",
    "    print(f\"\\n-------> ENTERING ask_question:\")\n",
    "    for i in state[\"messages\"]:\n",
    "        i.pretty_print()\n",
    "    \n",
    "    question = \"What is your question?\"\n",
    "    print(question)\n",
    "    \n",
    "    return MessagesState(messages = [AIMessage(question), HumanMessage(input())])"
   ],
   "id": "6fe759fc7153650d",
   "outputs": [],
   "execution_count": 28
  },
  {
   "metadata": {
    "ExecuteTime": {
     "end_time": "2025-06-27T10:01:02.096065Z",
     "start_time": "2025-06-27T10:01:02.069066Z"
    }
   },
   "cell_type": "code",
   "source": [
    "def chatbot(state: MessagesState) -> MessagesState:\n",
    "    \n",
    "    print(f\"\\n-------> ENTERING chatbot:\")\n",
    "    for i in state[\"messages\"]:\n",
    "        i.pretty_print()\n",
    "    \n",
    "    response = chat.invoke(state[\"messages\"])\n",
    "    response.pretty_print()\n",
    "    \n",
    "    return MessagesState(messages = [response])"
   ],
   "id": "cca4a0e7df51e4c6",
   "outputs": [],
   "execution_count": 29
  },
  {
   "metadata": {
    "ExecuteTime": {
     "end_time": "2025-06-27T10:01:07.828518Z",
     "start_time": "2025-06-27T10:01:07.799678Z"
    }
   },
   "cell_type": "code",
   "source": [
    "def ask_another_question(state: MessagesState) -> MessagesState:\n",
    "    \n",
    "    print(f\"\\n-------> ENTERING ask_another_question:\")\n",
    "    for i in state[\"messages\"]:\n",
    "        i.pretty_print()\n",
    "    \n",
    "    question = \"Would you like to ask one more question (yes/no)?\"\n",
    "    print(question)\n",
    "    \n",
    "    return MessagesState(messages = [AIMessage(question), HumanMessage(input())])"
   ],
   "id": "d1f4fa533c0defa9",
   "outputs": [],
   "execution_count": 30
  },
  {
   "metadata": {
    "ExecuteTime": {
     "end_time": "2025-06-27T10:01:14.322395Z",
     "start_time": "2025-06-27T10:01:14.302347Z"
    }
   },
   "cell_type": "code",
   "source": [
    "def routing_function(state: MessagesState) -> Literal[\"ask_question\", \"__end__\"]:\n",
    "    \n",
    "    if state[\"messages\"][-1].content == \"yes\":\n",
    "        return \"ask_question\"\n",
    "    else:\n",
    "        return \"__end__\""
   ],
   "id": "272ab002e6fe8c7f",
   "outputs": [],
   "execution_count": 31
  },
  {
   "metadata": {
    "ExecuteTime": {
     "end_time": "2025-06-27T10:01:23.238827Z",
     "start_time": "2025-06-27T10:01:23.193298Z"
    }
   },
   "cell_type": "code",
   "source": "graph = StateGraph(MessagesState)",
   "id": "d1ba59d36f2de245",
   "outputs": [],
   "execution_count": 32
  },
  {
   "metadata": {
    "ExecuteTime": {
     "end_time": "2025-06-27T10:01:27.543899Z",
     "start_time": "2025-06-27T10:01:27.471156Z"
    }
   },
   "cell_type": "code",
   "source": [
    "graph.add_node(\"ask_question\", ask_question)\n",
    "graph.add_node(\"chatbot\", chatbot)\n",
    "graph.add_node(\"ask_another_question\", ask_another_question)\n",
    "\n",
    "graph.add_edge(START, \"ask_question\")\n",
    "graph.add_edge(\"ask_question\", \"chatbot\")\n",
    "graph.add_edge(\"chatbot\", \"ask_another_question\")\n",
    "graph.add_conditional_edges(source = \"ask_another_question\", \n",
    "                            path = routing_function)"
   ],
   "id": "623bccb35d3035e2",
   "outputs": [
    {
     "data": {
      "text/plain": [
       "<langgraph.graph.state.StateGraph at 0x19f6391b820>"
      ]
     },
     "execution_count": 33,
     "metadata": {},
     "output_type": "execute_result"
    }
   ],
   "execution_count": 33
  },
  {
   "metadata": {
    "ExecuteTime": {
     "end_time": "2025-06-27T10:01:43.958335Z",
     "start_time": "2025-06-27T10:01:43.921203Z"
    }
   },
   "cell_type": "code",
   "source": "graph_compiled = graph.compile()",
   "id": "215039de06072399",
   "outputs": [],
   "execution_count": 34
  },
  {
   "metadata": {
    "ExecuteTime": {
     "end_time": "2025-06-27T10:01:47.426806Z",
     "start_time": "2025-06-27T10:01:47.075655Z"
    }
   },
   "cell_type": "code",
   "source": "graph_compiled",
   "id": "cca8233a6c935b77",
   "outputs": [
    {
     "data": {
      "text/plain": [
       "<langgraph.graph.state.CompiledStateGraph object at 0x0000019F6391AE90>"
      ],
      "image/png": "[encoded data removed]"
     },
     "execution_count": 35,
     "metadata": {},
     "output_type": "execute_result"
    }
   ],
   "execution_count": 35
  },
  {
   "metadata": {
    "ExecuteTime": {
     "end_time": "2025-06-27T10:02:56.603131Z",
     "start_time": "2025-06-27T10:02:10.462215Z"
    }
   },
   "cell_type": "code",
   "source": "graph_compiled.invoke(MessagesState(messages = []))",
   "id": "9627622fd13c4c1a",
   "outputs": [
    {
     "name": "stdout",
     "output_type": "stream",
     "text": [
      "\n",
      "-------> ENTERING ask_question:\n",
      "What is your question?\n",
      "\n",
      "-------> ENTERING chatbot:\n",
      "==================================\u001B[1m Ai Message \u001B[0m==================================\n",
      "\n",
      "What is your question?\n",
      "================================\u001B[1m Human Message \u001B[0m=================================\n",
      "\n",
      "Can you tell me the grook by Piet Hein?\n",
      "==================================\u001B[1m Ai Message \u001B[0m==================================\n",
      "\n",
      "Certainly! Piet Hein was a Danish poet and scientist known for his short, witty poems called \"grooks.\" Here's one of his famous grooks:\n",
      "\n",
      "```\n",
      "Losing one glove\n",
      "is certainly painful,\n",
      "but nothing\n",
      "compared to the pain\n",
      "of losing one,\n",
      "throwing away the other,\n",
      "and finding\n",
      "the first one again.\n",
      "```\n",
      "\n",
      "Piet Hein's grooks often contain philosophical insights wrapped in simple language and humor. If you have a specific grook in mind or want to hear\n",
      "\n",
      "-------> ENTERING ask_another_question:\n",
      "==================================\u001B[1m Ai Message \u001B[0m==================================\n",
      "\n",
      "What is your question?\n",
      "================================\u001B[1m Human Message \u001B[0m=================================\n",
      "\n",
      "Can you tell me the grook by Piet Hein?\n",
      "==================================\u001B[1m Ai Message \u001B[0m==================================\n",
      "\n",
      "Certainly! Piet Hein was a Danish poet and scientist known for his short, witty poems called \"grooks.\" Here's one of his famous grooks:\n",
      "\n",
      "```\n",
      "Losing one glove\n",
      "is certainly painful,\n",
      "but nothing\n",
      "compared to the pain\n",
      "of losing one,\n",
      "throwing away the other,\n",
      "and finding\n",
      "the first one again.\n",
      "```\n",
      "\n",
      "Piet Hein's grooks often contain philosophical insights wrapped in simple language and humor. If you have a specific grook in mind or want to hear\n",
      "Would you like to ask one more question (yes/no)?\n",
      "\n",
      "-------> ENTERING ask_question:\n",
      "==================================\u001B[1m Ai Message \u001B[0m==================================\n",
      "\n",
      "What is your question?\n",
      "================================\u001B[1m Human Message \u001B[0m=================================\n",
      "\n",
      "Can you tell me the grook by Piet Hein?\n",
      "==================================\u001B[1m Ai Message \u001B[0m==================================\n",
      "\n",
      "Certainly! Piet Hein was a Danish poet and scientist known for his short, witty poems called \"grooks.\" Here's one of his famous grooks:\n",
      "\n",
      "```\n",
      "Losing one glove\n",
      "is certainly painful,\n",
      "but nothing\n",
      "compared to the pain\n",
      "of losing one,\n",
      "throwing away the other,\n",
      "and finding\n",
      "the first one again.\n",
      "```\n",
      "\n",
      "Piet Hein's grooks often contain philosophical insights wrapped in simple language and humor. If you have a specific grook in mind or want to hear\n",
      "==================================\u001B[1m Ai Message \u001B[0m==================================\n",
      "\n",
      "Would you like to ask one more question (yes/no)?\n",
      "================================\u001B[1m Human Message \u001B[0m=================================\n",
      "\n",
      "yes\n",
      "What is your question?\n",
      "\n",
      "-------> ENTERING chatbot:\n",
      "==================================\u001B[1m Ai Message \u001B[0m==================================\n",
      "\n",
      "What is your question?\n",
      "================================\u001B[1m Human Message \u001B[0m=================================\n",
      "\n",
      "Can you tell me the grook by Piet Hein?\n",
      "==================================\u001B[1m Ai Message \u001B[0m==================================\n",
      "\n",
      "Certainly! Piet Hein was a Danish poet and scientist known for his short, witty poems called \"grooks.\" Here's one of his famous grooks:\n",
      "\n",
      "```\n",
      "Losing one glove\n",
      "is certainly painful,\n",
      "but nothing\n",
      "compared to the pain\n",
      "of losing one,\n",
      "throwing away the other,\n",
      "and finding\n",
      "the first one again.\n",
      "```\n",
      "\n",
      "Piet Hein's grooks often contain philosophical insights wrapped in simple language and humor. If you have a specific grook in mind or want to hear\n",
      "==================================\u001B[1m Ai Message \u001B[0m==================================\n",
      "\n",
      "Would you like to ask one more question (yes/no)?\n",
      "================================\u001B[1m Human Message \u001B[0m=================================\n",
      "\n",
      "yes\n",
      "==================================\u001B[1m Ai Message \u001B[0m==================================\n",
      "\n",
      "What is your question?\n",
      "================================\u001B[1m Human Message \u001B[0m=================================\n",
      "\n",
      "How old is he?\n",
      "==================================\u001B[1m Ai Message \u001B[0m==================================\n",
      "\n",
      "Piet Hein was born on December 16, 1905, and he passed away on April 17, 1996. If he were still alive today, he would be 117 years old.\n",
      "\n",
      "-------> ENTERING ask_another_question:\n",
      "==================================\u001B[1m Ai Message \u001B[0m==================================\n",
      "\n",
      "What is your question?\n",
      "================================\u001B[1m Human Message \u001B[0m=================================\n",
      "\n",
      "Can you tell me the grook by Piet Hein?\n",
      "==================================\u001B[1m Ai Message \u001B[0m==================================\n",
      "\n",
      "Certainly! Piet Hein was a Danish poet and scientist known for his short, witty poems called \"grooks.\" Here's one of his famous grooks:\n",
      "\n",
      "```\n",
      "Losing one glove\n",
      "is certainly painful,\n",
      "but nothing\n",
      "compared to the pain\n",
      "of losing one,\n",
      "throwing away the other,\n",
      "and finding\n",
      "the first one again.\n",
      "```\n",
      "\n",
      "Piet Hein's grooks often contain philosophical insights wrapped in simple language and humor. If you have a specific grook in mind or want to hear\n",
      "==================================\u001B[1m Ai Message \u001B[0m==================================\n",
      "\n",
      "Would you like to ask one more question (yes/no)?\n",
      "================================\u001B[1m Human Message \u001B[0m=================================\n",
      "\n",
      "yes\n",
      "==================================\u001B[1m Ai Message \u001B[0m==================================\n",
      "\n",
      "What is your question?\n",
      "================================\u001B[1m Human Message \u001B[0m=================================\n",
      "\n",
      "How old is he?\n",
      "==================================\u001B[1m Ai Message \u001B[0m==================================\n",
      "\n",
      "Piet Hein was born on December 16, 1905, and he passed away on April 17, 1996. If he were still alive today, he would be 117 years old.\n",
      "Would you like to ask one more question (yes/no)?\n"
     ]
    },
    {
     "data": {
      "text/plain": [
       "{'messages': [AIMessage(content='What is your question?', additional_kwargs={}, response_metadata={}, id='2310bac0-b2a9-4d02-937f-86a8ecb3740b'),\n",
       "  HumanMessage(content='Can you tell me the grook by Piet Hein?', additional_kwargs={}, response_metadata={}, id='05a1c6f0-fd42-4d7e-8499-bcae13ad28c1'),\n",
       "  AIMessage(content='Certainly! Piet Hein was a Danish poet and scientist known for his short, witty poems called \"grooks.\" Here\\'s one of his famous grooks:\\n\\n```\\nLosing one glove\\nis certainly painful,\\nbut nothing\\ncompared to the pain\\nof losing one,\\nthrowing away the other,\\nand finding\\nthe first one again.\\n```\\n\\nPiet Hein\\'s grooks often contain philosophical insights wrapped in simple language and humor. If you have a specific grook in mind or want to hear', additional_kwargs={'refusal': None}, response_metadata={'token_usage': {'completion_tokens': 100, 'prompt_tokens': 27, 'total_tokens': 127, 'completion_tokens_details': {'accepted_prediction_tokens': 0, 'audio_tokens': 0, 'reasoning_tokens': 0, 'rejected_prediction_tokens': 0}, 'prompt_tokens_details': {'audio_tokens': 0, 'cached_tokens': 0}}, 'model_name': 'gpt-4o-2024-08-06', 'system_fingerprint': 'fp_a288987b44', 'id': 'chatcmpl-Bn0Cgq9LfjMoynsmfdwaKOtpMJJao', 'service_tier': 'default', 'finish_reason': 'length', 'logprobs': None}, id='run--22484412-7f9b-4e17-b212-52ba8d665e16-0', usage_metadata={'input_tokens': 27, 'output_tokens': 100, 'total_tokens': 127, 'input_token_details': {'audio': 0, 'cache_read': 0}, 'output_token_details': {'audio': 0, 'reasoning': 0}}),\n",
       "  AIMessage(content='Would you like to ask one more question (yes/no)?', additional_kwargs={}, response_metadata={}, id='5be52f85-e35c-4d29-b927-fc9ed9534340'),\n",
       "  HumanMessage(content='yes', additional_kwargs={}, response_metadata={}, id='0d5930b7-796b-45c4-9621-da2a52a43822'),\n",
       "  AIMessage(content='What is your question?', additional_kwargs={}, response_metadata={}, id='fa60d2e7-aeec-4ba0-8934-aea75d64dc93'),\n",
       "  HumanMessage(content='How old is he?', additional_kwargs={}, response_metadata={}, id='10f9be45-31c3-40b7-b6ed-0d9ff96036c2'),\n",
       "  AIMessage(content='Piet Hein was born on December 16, 1905, and he passed away on April 17, 1996. If he were still alive today, he would be 117 years old.', additional_kwargs={'refusal': None}, response_metadata={'token_usage': {'completion_tokens': 42, 'prompt_tokens': 170, 'total_tokens': 212, 'completion_tokens_details': {'accepted_prediction_tokens': 0, 'audio_tokens': 0, 'reasoning_tokens': 0, 'rejected_prediction_tokens': 0}, 'prompt_tokens_details': {'audio_tokens': 0, 'cached_tokens': 0}}, 'model_name': 'gpt-4o-2024-08-06', 'system_fingerprint': 'fp_a288987b44', 'id': 'chatcmpl-Bn0CvFMNZGW7G91FBqamFWqbqgFrE', 'service_tier': 'default', 'finish_reason': 'stop', 'logprobs': None}, id='run--924d4aaf-2933-439e-ab47-b71dadd4bfb6-0', usage_metadata={'input_tokens': 170, 'output_tokens': 42, 'total_tokens': 212, 'input_token_details': {'audio': 0, 'cache_read': 0}, 'output_token_details': {'audio': 0, 'reasoning': 0}}),\n",
       "  AIMessage(content='Would you like to ask one more question (yes/no)?', additional_kwargs={}, response_metadata={}, id='7dabe4fa-87b9-42d9-8da7-d57dc090df44'),\n",
       "  HumanMessage(content='no', additional_kwargs={}, response_metadata={}, id='e0f1e897-5cb6-44ad-b06d-935b8843e12f')]}"
      ]
     },
     "execution_count": 36,
     "metadata": {},
     "output_type": "execute_result"
    }
   ],
   "execution_count": 36
  },
  {
   "metadata": {},
   "cell_type": "markdown",
   "source": "## Adding RemoveMessages",
   "id": "241eaeb539c4dfdb"
  },
  {
   "metadata": {
    "ExecuteTime": {
     "end_time": "2025-06-27T10:09:36.108645Z",
     "start_time": "2025-06-27T10:09:36.070204Z"
    }
   },
   "cell_type": "code",
   "source": [
    "my_list = add_messages([AIMessage(\"What is your question?\"), \n",
    "                        HumanMessage(\"Could you tell me a grook by Piet Hein?\"),\n",
    "                        AIMessage(\"Certainly! Here's a well-known grook by Piet Hein...\"),\n",
    "                        AIMessage(\"Would you like to ask one more question?\"),\n",
    "                        HumanMessage(\"yes\"),\n",
    "                        AIMessage(\"What is your question?\"),\n",
    "                        HumanMessage(\"Where was the poet born?\"),\n",
    "                        AIMessage(\"Piet Hein was born in Copenhagen, Denmark, on December 16, 1905.\"),\n",
    "                        AIMessage(\"Would you like to ask one more question?\")],\n",
    "                       [HumanMessage(\"yes\")]\n",
    "                      )"
   ],
   "id": "5ac6b0c02b4511c",
   "outputs": [],
   "execution_count": 38
  },
  {
   "metadata": {
    "ExecuteTime": {
     "end_time": "2025-06-27T10:10:01.768155Z",
     "start_time": "2025-06-27T10:10:01.719448Z"
    }
   },
   "cell_type": "code",
   "source": "remove_messages = [RemoveMessage(id = i.id) for i in my_list[:-5]]",
   "id": "434bb1a7bb00b5e8",
   "outputs": [],
   "execution_count": 39
  },
  {
   "metadata": {
    "ExecuteTime": {
     "end_time": "2025-06-27T10:10:10.851440Z",
     "start_time": "2025-06-27T10:10:10.794958Z"
    }
   },
   "cell_type": "code",
   "source": "remove_messages",
   "id": "310199b6656fcc39",
   "outputs": [
    {
     "data": {
      "text/plain": [
       "[RemoveMessage(content='', additional_kwargs={}, response_metadata={}, id='0713a689-754d-42b8-9d9e-3872dd2fa514'),\n",
       " RemoveMessage(content='', additional_kwargs={}, response_metadata={}, id='87917634-9ed0-426d-80df-8189ace34a24'),\n",
       " RemoveMessage(content='', additional_kwargs={}, response_metadata={}, id='ab4f2af2-1b47-4dac-abd9-6fcb25932f7e'),\n",
       " RemoveMessage(content='', additional_kwargs={}, response_metadata={}, id='54ca9afa-e5e3-49c1-bfb2-61ec105e5159'),\n",
       " RemoveMessage(content='', additional_kwargs={}, response_metadata={}, id='80ee34aa-c439-496e-a70f-f54f4ee43aaa')]"
      ]
     },
     "execution_count": 40,
     "metadata": {},
     "output_type": "execute_result"
    }
   ],
   "execution_count": 40
  },
  {
   "metadata": {
    "ExecuteTime": {
     "end_time": "2025-06-27T10:11:12.083076Z",
     "start_time": "2025-06-27T10:11:12.039124Z"
    }
   },
   "cell_type": "code",
   "source": "add_messages(my_list, remove_messages)",
   "id": "e871002505cdbc87",
   "outputs": [
    {
     "data": {
      "text/plain": [
       "[AIMessage(content='What is your question?', additional_kwargs={}, response_metadata={}, id='b55ffc81-d7b4-4a4e-b10e-33cbf909d6d8'),\n",
       " HumanMessage(content='Where was the poet born?', additional_kwargs={}, response_metadata={}, id='85718b66-e177-4fbf-a773-2bdbd0e6f5e1'),\n",
       " AIMessage(content='Piet Hein was born in Copenhagen, Denmark, on December 16, 1905.', additional_kwargs={}, response_metadata={}, id='b648dd98-152a-464d-bb08-7525d2982688'),\n",
       " AIMessage(content='Would you like to ask one more question?', additional_kwargs={}, response_metadata={}, id='92aa00ab-f73a-4f2d-85c6-ce178b0f42ba'),\n",
       " HumanMessage(content='yes', additional_kwargs={}, response_metadata={}, id='cec391f5-7c8d-4ff7-942a-49e3371885bb')]"
      ]
     },
     "execution_count": 41,
     "metadata": {},
     "output_type": "execute_result"
    }
   ],
   "execution_count": 41
  },
  {
   "metadata": {},
   "cell_type": "code",
   "outputs": [],
   "execution_count": null,
   "source": "",
   "id": "1b4e5337e4a451c6"
  }
 ],
 "metadata": {
  "kernelspec": {
   "display_name": "Python 3",
   "language": "python",
   "name": "python3"
  },
  "language_info": {
   "codemirror_mode": {
    "name": "ipython",
    "version": 2
   },
   "file_extension": ".py",
   "mimetype": "text/x-python",
   "name": "python",
   "nbconvert_exporter": "python",
   "pygments_lexer": "ipython2",
   "version": "2.7.6"
  }
 },
 "nbformat": 4,
 "nbformat_minor": 5
}
