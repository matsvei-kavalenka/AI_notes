{
 "cells": [
  {
   "cell_type": "code",
   "id": "initial_id",
   "metadata": {
    "collapsed": true,
    "ExecuteTime": {
     "end_time": "2025-06-27T08:11:58.764475Z",
     "start_time": "2025-06-27T08:11:58.372245Z"
    }
   },
   "source": [
    "%load_ext dotenv\n",
    "%dotenv\n",
    "%load_ext mypy_ipython"
   ],
   "outputs": [],
   "execution_count": 1
  },
  {
   "metadata": {
    "ExecuteTime": {
     "end_time": "2025-06-27T08:12:06.400069Z",
     "start_time": "2025-06-27T08:11:58.821459Z"
    }
   },
   "cell_type": "code",
   "source": [
    "from langgraph.graph import START, END, StateGraph\n",
    "from typing_extensions import TypedDict\n",
    "from langchain_openai.chat_models import ChatOpenAI\n",
    "from langchain_core.runnables import Runnable\n",
    "from langchain_core.messages import HumanMessage, BaseMessage\n",
    "from collections.abc import Sequence"
   ],
   "id": "d5946e835e83a5a9",
   "outputs": [],
   "execution_count": 2
  },
  {
   "metadata": {
    "ExecuteTime": {
     "end_time": "2025-06-27T08:12:08.424448Z",
     "start_time": "2025-06-27T08:12:08.377382Z"
    }
   },
   "cell_type": "code",
   "source": [
    "class State(TypedDict):\n",
    "    messages: Sequence[BaseMessage]"
   ],
   "id": "929a50a5d4d84acc",
   "outputs": [],
   "execution_count": 3
  },
  {
   "metadata": {
    "ExecuteTime": {
     "end_time": "2025-06-27T08:12:08.498418Z",
     "start_time": "2025-06-27T08:12:08.478748Z"
    }
   },
   "cell_type": "code",
   "source": "state = State(messages=[HumanMessage('Could you tell me a grook by Piet Hein?')])",
   "id": "8b24041acea7b045",
   "outputs": [],
   "execution_count": 4
  },
  {
   "metadata": {
    "ExecuteTime": {
     "end_time": "2025-06-27T08:12:08.589416Z",
     "start_time": "2025-06-27T08:12:08.569431Z"
    }
   },
   "cell_type": "code",
   "source": "state['messages'][0].pretty_print()",
   "id": "4b42aad1f29ed5bf",
   "outputs": [
    {
     "name": "stdout",
     "output_type": "stream",
     "text": [
      "================================\u001B[1m Human Message \u001B[0m=================================\n",
      "\n",
      "Could you tell me a grook by Piet Hein?\n"
     ]
    }
   ],
   "execution_count": 5
  },
  {
   "metadata": {},
   "cell_type": "markdown",
   "source": "## Define the Nodes",
   "id": "c1a7a344c394b1b4"
  },
  {
   "metadata": {
    "ExecuteTime": {
     "end_time": "2025-06-27T08:12:10.458320Z",
     "start_time": "2025-06-27T08:12:08.849810Z"
    }
   },
   "cell_type": "code",
   "source": "chat = ChatOpenAI(model=\"gpt-4o-mini\", seed=365, temperature=0, max_tokens=100)",
   "id": "ac127b49b4e40031",
   "outputs": [],
   "execution_count": 6
  },
  {
   "metadata": {
    "ExecuteTime": {
     "end_time": "2025-06-27T08:12:13.296772Z",
     "start_time": "2025-06-27T08:12:10.496242Z"
    }
   },
   "cell_type": "code",
   "source": "response = chat.invoke(state['messages'])",
   "id": "cd83cb2bd7542d90",
   "outputs": [],
   "execution_count": 7
  },
  {
   "metadata": {
    "ExecuteTime": {
     "end_time": "2025-06-27T08:12:13.373417Z",
     "start_time": "2025-06-27T08:12:13.349259Z"
    }
   },
   "cell_type": "code",
   "source": "response.pretty_print()",
   "id": "b1bfde5c2c58f0c6",
   "outputs": [
    {
     "name": "stdout",
     "output_type": "stream",
     "text": [
      "==================================\u001B[1m Ai Message \u001B[0m==================================\n",
      "\n",
      "Certainly! Piet Hein was a Danish poet and scientist known for his short, witty poems called \"grooks.\" Here’s one of his famous grooks:\n",
      "\n",
      "**\"The road to wisdom? Well, it’s plain  \n",
      "And simple to express:  \n",
      "Err and err and err again  \n",
      "But less and less and less.\"**\n",
      "\n",
      "This grook captures the essence of learning through experience and the importance of refining one's understanding over time. If you'd like to hear more or discuss his work further, feel free to\n"
     ]
    }
   ],
   "execution_count": 8
  },
  {
   "metadata": {
    "ExecuteTime": {
     "end_time": "2025-06-27T08:12:13.530284Z",
     "start_time": "2025-06-27T08:12:13.508170Z"
    }
   },
   "cell_type": "code",
   "source": [
    "def chatbot(state: State) -> State:\n",
    "    response = chat.invoke(state['messages'])\n",
    "    response.pretty_print()\n",
    "    return State(messages=[response])\n",
    "    "
   ],
   "id": "9eaf40fdfad5884a",
   "outputs": [],
   "execution_count": 9
  },
  {
   "metadata": {
    "ExecuteTime": {
     "end_time": "2025-06-27T08:12:16.398302Z",
     "start_time": "2025-06-27T08:12:13.639378Z"
    }
   },
   "cell_type": "code",
   "source": "chatbot(state)",
   "id": "4c07d35b3077edda",
   "outputs": [
    {
     "name": "stdout",
     "output_type": "stream",
     "text": [
      "==================================\u001B[1m Ai Message \u001B[0m==================================\n",
      "\n",
      "Certainly! Piet Hein was a Danish poet and scientist known for his short, witty poems called \"grooks.\" Here’s one of his famous grooks:\n",
      "\n",
      "**\"The road to wisdom? Well, it’s plain  \n",
      "And simple to express:  \n",
      "Err and err and err again  \n",
      "But less and less and less.\"**\n",
      "\n",
      "This grook reflects on the process of learning and the importance of making mistakes along the way. If you'd like to hear more or discuss his work further, feel free to ask\n"
     ]
    },
    {
     "data": {
      "text/plain": [
       "{'messages': [AIMessage(content='Certainly! Piet Hein was a Danish poet and scientist known for his short, witty poems called \"grooks.\" Here’s one of his famous grooks:\\n\\n**\"The road to wisdom? Well, it’s plain  \\nAnd simple to express:  \\nErr and err and err again  \\nBut less and less and less.\"**\\n\\nThis grook reflects on the process of learning and the importance of making mistakes along the way. If you\\'d like to hear more or discuss his work further, feel free to ask', additional_kwargs={'refusal': None}, response_metadata={'token_usage': {'completion_tokens': 100, 'prompt_tokens': 18, 'total_tokens': 118, 'completion_tokens_details': {'accepted_prediction_tokens': 0, 'audio_tokens': 0, 'reasoning_tokens': 0, 'rejected_prediction_tokens': 0}, 'prompt_tokens_details': {'audio_tokens': 0, 'cached_tokens': 0}}, 'model_name': 'gpt-4o-mini-2024-07-18', 'system_fingerprint': 'fp_34a54ae93c', 'id': 'chatcmpl-BmyTuuV3XA7kfjS2iOp7Y8shsS8Yr', 'service_tier': 'default', 'finish_reason': 'length', 'logprobs': None}, id='run--8977591f-aa71-4366-9150-50d6c875310a-0', usage_metadata={'input_tokens': 18, 'output_tokens': 100, 'total_tokens': 118, 'input_token_details': {'audio': 0, 'cache_read': 0}, 'output_token_details': {'audio': 0, 'reasoning': 0}})]}"
      ]
     },
     "execution_count": 10,
     "metadata": {},
     "output_type": "execute_result"
    }
   ],
   "execution_count": 10
  },
  {
   "metadata": {},
   "cell_type": "markdown",
   "source": "## Define the graph",
   "id": "4ef7a120002c8603"
  },
  {
   "metadata": {
    "ExecuteTime": {
     "end_time": "2025-06-27T08:12:16.868467Z",
     "start_time": "2025-06-27T08:12:16.858302Z"
    }
   },
   "cell_type": "code",
   "source": "graph = StateGraph(State)",
   "id": "c0f344d07db5b47d",
   "outputs": [],
   "execution_count": 12
  },
  {
   "metadata": {
    "ExecuteTime": {
     "end_time": "2025-06-27T08:12:17.008550Z",
     "start_time": "2025-06-27T08:12:16.982218Z"
    }
   },
   "cell_type": "code",
   "source": "graph.add_node(\"chatbot\", chatbot)",
   "id": "8ee7066081ceada5",
   "outputs": [
    {
     "data": {
      "text/plain": [
       "<langgraph.graph.state.StateGraph at 0x2199cb83a90>"
      ]
     },
     "execution_count": 13,
     "metadata": {},
     "output_type": "execute_result"
    }
   ],
   "execution_count": 13
  },
  {
   "metadata": {
    "ExecuteTime": {
     "end_time": "2025-06-27T08:12:34.407652Z",
     "start_time": "2025-06-27T08:12:34.393062Z"
    }
   },
   "cell_type": "code",
   "source": [
    "graph.add_edge(START, \"chatbot\")\n",
    "graph.add_edge(\"chatbot\", END)"
   ],
   "id": "233c20ac368370ca",
   "outputs": [
    {
     "data": {
      "text/plain": [
       "<langgraph.graph.state.StateGraph at 0x2199cb83a90>"
      ]
     },
     "execution_count": 14,
     "metadata": {},
     "output_type": "execute_result"
    }
   ],
   "execution_count": 14
  },
  {
   "metadata": {
    "ExecuteTime": {
     "end_time": "2025-06-27T08:12:48.882311Z",
     "start_time": "2025-06-27T08:12:48.871204Z"
    }
   },
   "cell_type": "code",
   "source": "graph_compiled = graph.compile()",
   "id": "3df16661f024fa63",
   "outputs": [],
   "execution_count": 15
  },
  {
   "metadata": {
    "ExecuteTime": {
     "end_time": "2025-06-27T08:13:03.178650Z",
     "start_time": "2025-06-27T08:13:03.157540Z"
    }
   },
   "cell_type": "code",
   "source": "isinstance(graph_compiled, Runnable)",
   "id": "b24b08ea34c64c47",
   "outputs": [
    {
     "data": {
      "text/plain": [
       "True"
      ]
     },
     "execution_count": 16,
     "metadata": {},
     "output_type": "execute_result"
    }
   ],
   "execution_count": 16
  },
  {
   "metadata": {
    "ExecuteTime": {
     "end_time": "2025-06-27T08:13:30.557514Z",
     "start_time": "2025-06-27T08:13:30.297091Z"
    }
   },
   "cell_type": "code",
   "source": "graph_compiled",
   "id": "a93897ee21a949fb",
   "outputs": [
    {
     "data": {
      "text/plain": [
       "<langgraph.graph.state.CompiledStateGraph object at 0x000002199829FD90>"
      ],
      "image/png": "[encoded data removed]"
     },
     "execution_count": 18,
     "metadata": {},
     "output_type": "execute_result"
    }
   ],
   "execution_count": 18
  },
  {
   "metadata": {},
   "cell_type": "markdown",
   "source": "##  Test the graph",
   "id": "af573d0a30b1ac2d"
  },
  {
   "metadata": {
    "ExecuteTime": {
     "end_time": "2025-06-27T08:14:07.353210Z",
     "start_time": "2025-06-27T08:14:04.543169Z"
    }
   },
   "cell_type": "code",
   "source": "graph_compiled.invoke(state)",
   "id": "8e1ff7073fef79d1",
   "outputs": [
    {
     "name": "stdout",
     "output_type": "stream",
     "text": [
      "==================================\u001B[1m Ai Message \u001B[0m==================================\n",
      "\n",
      "Certainly! Piet Hein was a Danish poet and scientist known for his short, witty poems called \"grooks.\" Here’s one of his famous grooks:\n",
      "\n",
      "**\"The road to wisdom? Well, it’s plain  \n",
      "And simple to express:  \n",
      "Err and err and err again  \n",
      "But less and less and less.\"**\n",
      "\n",
      "This grook reflects on the process of learning and the importance of making mistakes along the way. If you'd like to hear more or discuss his work further, feel free to ask\n"
     ]
    },
    {
     "data": {
      "text/plain": [
       "{'messages': [AIMessage(content='Certainly! Piet Hein was a Danish poet and scientist known for his short, witty poems called \"grooks.\" Here’s one of his famous grooks:\\n\\n**\"The road to wisdom? Well, it’s plain  \\nAnd simple to express:  \\nErr and err and err again  \\nBut less and less and less.\"**\\n\\nThis grook reflects on the process of learning and the importance of making mistakes along the way. If you\\'d like to hear more or discuss his work further, feel free to ask', additional_kwargs={'refusal': None}, response_metadata={'token_usage': {'completion_tokens': 100, 'prompt_tokens': 18, 'total_tokens': 118, 'completion_tokens_details': {'accepted_prediction_tokens': 0, 'audio_tokens': 0, 'reasoning_tokens': 0, 'rejected_prediction_tokens': 0}, 'prompt_tokens_details': {'audio_tokens': 0, 'cached_tokens': 0}}, 'model_name': 'gpt-4o-mini-2024-07-18', 'system_fingerprint': 'fp_34a54ae93c', 'id': 'chatcmpl-BmyVgtY7kKwHinCDe2NnigvBMYhSI', 'service_tier': 'default', 'finish_reason': 'length', 'logprobs': None}, id='run--ba86a4f5-753b-478f-8f64-87a630a417ee-0', usage_metadata={'input_tokens': 18, 'output_tokens': 100, 'total_tokens': 118, 'input_token_details': {'audio': 0, 'cache_read': 0}, 'output_token_details': {'audio': 0, 'reasoning': 0}})]}"
      ]
     },
     "execution_count": 19,
     "metadata": {},
     "output_type": "execute_result"
    }
   ],
   "execution_count": 19
  },
  {
   "metadata": {},
   "cell_type": "markdown",
   "source": "",
   "id": "5e88207621f6b0f3"
  },
  {
   "metadata": {
    "ExecuteTime": {
     "end_time": "2025-06-27T08:20:47.687378Z",
     "start_time": "2025-06-27T08:14:47.110422Z"
    }
   },
   "cell_type": "code",
   "source": "",
   "id": "53d5e6b71a41075e",
   "outputs": [
    {
     "name": "stderr",
     "output_type": "stream",
     "text": [
      "\n",
      "KeyboardInterrupt\n",
      "\n"
     ]
    }
   ],
   "execution_count": null
  },
  {
   "metadata": {},
   "cell_type": "code",
   "outputs": [],
   "execution_count": null,
   "source": "",
   "id": "8c01d8d9c449dcfa"
  }
 ],
 "metadata": {
  "kernelspec": {
   "display_name": "Python 3",
   "language": "python",
   "name": "python3"
  },
  "language_info": {
   "codemirror_mode": {
    "name": "ipython",
    "version": 2
   },
   "file_extension": ".py",
   "mimetype": "text/x-python",
   "name": "python",
   "nbconvert_exporter": "python",
   "pygments_lexer": "ipython2",
   "version": "2.7.6"
  }
 },
 "nbformat": 4,
 "nbformat_minor": 5
}
