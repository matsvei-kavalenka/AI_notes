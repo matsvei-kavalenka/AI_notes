{
 "cells": [
  {
   "cell_type": "code",
   "id": "initial_id",
   "metadata": {
    "collapsed": true,
    "ExecuteTime": {
     "end_time": "2025-06-27T10:12:58.128695Z",
     "start_time": "2025-06-27T10:12:58.002603Z"
    }
   },
   "source": [
    "%load_ext dotenv\n",
    "%dotenv"
   ],
   "outputs": [],
   "execution_count": 1
  },
  {
   "metadata": {
    "ExecuteTime": {
     "end_time": "2025-06-27T10:24:45.195218Z",
     "start_time": "2025-06-27T10:24:45.184309Z"
    }
   },
   "cell_type": "code",
   "source": [
    "from langgraph.graph import START, END, StateGraph, add_messages, MessagesState\n",
    "from typing_extensions import TypedDict\n",
    "from langchain_openai.chat_models import ChatOpenAI\n",
    "from langchain_core.messages import AIMessage, HumanMessage, BaseMessage, RemoveMessage, SystemMessage\n",
    "from collections.abc import Sequence\n",
    "from typing import Literal, Annotated"
   ],
   "id": "f384fdf6fde0fb87",
   "outputs": [],
   "execution_count": 28
  },
  {
   "metadata": {
    "ExecuteTime": {
     "end_time": "2025-06-27T10:13:20.058606Z",
     "start_time": "2025-06-27T10:13:17.521093Z"
    }
   },
   "cell_type": "code",
   "source": [
    "chat = ChatOpenAI(model = \"gpt-4o-mini\", \n",
    "                  seed = 365, \n",
    "                  temperature = 0, \n",
    "                  max_completion_tokens = 100)"
   ],
   "id": "7a62752eca548310",
   "outputs": [],
   "execution_count": 3
  },
  {
   "metadata": {
    "ExecuteTime": {
     "end_time": "2025-06-27T10:13:21.763192Z",
     "start_time": "2025-06-27T10:13:21.733985Z"
    }
   },
   "cell_type": "code",
   "source": [
    "def ask_question(state: MessagesState) -> MessagesState:\n",
    "    \n",
    "    print(f\"\\n-------> ENTERING ask_question:\")\n",
    "    for i in state[\"messages\"]:\n",
    "        i.pretty_print()\n",
    "    \n",
    "    question = \"What is your question?\"\n",
    "    print(question)\n",
    "    \n",
    "    return MessagesState(messages = [AIMessage(question), HumanMessage(input())])"
   ],
   "id": "9a0bb7e20ccbdad2",
   "outputs": [],
   "execution_count": 4
  },
  {
   "metadata": {
    "ExecuteTime": {
     "end_time": "2025-06-27T10:13:28.039856Z",
     "start_time": "2025-06-27T10:13:28.015144Z"
    }
   },
   "cell_type": "code",
   "source": [
    "def chatbot(state: MessagesState) -> MessagesState:\n",
    "    \n",
    "    print(f\"\\n-------> ENTERING chatbot:\")\n",
    "    for i in state[\"messages\"]:\n",
    "        i.pretty_print()\n",
    "    \n",
    "    response = chat.invoke(state[\"messages\"])\n",
    "    response.pretty_print()\n",
    "    \n",
    "    return MessagesState(messages = [response])"
   ],
   "id": "9599045142dff87",
   "outputs": [],
   "execution_count": 5
  },
  {
   "metadata": {
    "ExecuteTime": {
     "end_time": "2025-06-27T10:13:33.796345Z",
     "start_time": "2025-06-27T10:13:33.779180Z"
    }
   },
   "cell_type": "code",
   "source": [
    "def ask_another_question(state: MessagesState) -> MessagesState:\n",
    "    \n",
    "    print(f\"\\n-------> ENTERING ask_another_question:\")\n",
    "    for i in state[\"messages\"]:\n",
    "        i.pretty_print()\n",
    "    \n",
    "    question = \"Would you like to ask one more question (yes/no)?\"\n",
    "    print(question)\n",
    "    \n",
    "    return MessagesState(messages = [AIMessage(question), HumanMessage(input())])"
   ],
   "id": "46c8ce6b7b5d6dd7",
   "outputs": [],
   "execution_count": 6
  },
  {
   "metadata": {
    "ExecuteTime": {
     "end_time": "2025-06-27T10:13:38.928603Z",
     "start_time": "2025-06-27T10:13:38.912457Z"
    }
   },
   "cell_type": "code",
   "source": [
    "def trim_messages(state: MessagesState) -> MessagesState:\n",
    "    print(f\"\\n-------> ENTERING trim_messages:\")\n",
    "    \n",
    "    remove_messages = [RemoveMessage(id = i.id) for i in state[\"messages\"][:-5]]\n",
    "    \n",
    "    return MessagesState(messages = remove_messages)"
   ],
   "id": "381a5a09f716533d",
   "outputs": [],
   "execution_count": 7
  },
  {
   "metadata": {
    "ExecuteTime": {
     "end_time": "2025-06-27T10:13:43.671501Z",
     "start_time": "2025-06-27T10:13:43.654186Z"
    }
   },
   "cell_type": "code",
   "source": [
    "def routing_function(state: MessagesState) -> Literal[\"trim_messages\", \"__end__\"]:\n",
    "    if state[\"messages\"][-1].content == \"yes\":\n",
    "        return \"trim_messages\"\n",
    "    else:\n",
    "        return \"__end__\""
   ],
   "id": "2815567bba05d09d",
   "outputs": [],
   "execution_count": 8
  },
  {
   "metadata": {
    "ExecuteTime": {
     "end_time": "2025-06-27T10:13:48.588576Z",
     "start_time": "2025-06-27T10:13:48.566300Z"
    }
   },
   "cell_type": "code",
   "source": "graph = StateGraph(MessagesState)",
   "id": "64b9c8c315a64007",
   "outputs": [],
   "execution_count": 9
  },
  {
   "metadata": {
    "ExecuteTime": {
     "end_time": "2025-06-27T10:13:56.520149Z",
     "start_time": "2025-06-27T10:13:56.483831Z"
    }
   },
   "cell_type": "code",
   "source": [
    "graph.add_node(\"ask_question\", ask_question)\n",
    "graph.add_node(\"chatbot\", chatbot)\n",
    "graph.add_node(\"ask_another_question\", ask_another_question)\n",
    "graph.add_node(\"trim_messages\", trim_messages)\n",
    "\n",
    "graph.add_edge(START, \"ask_question\")\n",
    "graph.add_edge(\"ask_question\", \"chatbot\")\n",
    "graph.add_edge(\"chatbot\", \"ask_another_question\")\n",
    "graph.add_conditional_edges(source = \"ask_another_question\", \n",
    "                            path = routing_function)\n",
    "graph.add_edge(\"trim_messages\", \"ask_question\")"
   ],
   "id": "233a66d69b9de33",
   "outputs": [
    {
     "data": {
      "text/plain": [
       "<langgraph.graph.state.StateGraph at 0x183dd0ffaf0>"
      ]
     },
     "execution_count": 10,
     "metadata": {},
     "output_type": "execute_result"
    }
   ],
   "execution_count": 10
  },
  {
   "metadata": {
    "ExecuteTime": {
     "end_time": "2025-06-27T10:14:03.099411Z",
     "start_time": "2025-06-27T10:14:03.069259Z"
    }
   },
   "cell_type": "code",
   "source": "graph_compiled = graph.compile()",
   "id": "170a4e7e65e07d69",
   "outputs": [],
   "execution_count": 11
  },
  {
   "metadata": {
    "ExecuteTime": {
     "end_time": "2025-06-27T10:14:07.804439Z",
     "start_time": "2025-06-27T10:14:07.127205Z"
    }
   },
   "cell_type": "code",
   "source": "graph_compiled",
   "id": "e0c59d3a5bf1ba56",
   "outputs": [
    {
     "data": {
      "text/plain": [
       "<langgraph.graph.state.CompiledStateGraph object at 0x00000183E1309F90>"
      ],
      "image/png": "[encoded data removed]"
     },
     "execution_count": 12,
     "metadata": {},
     "output_type": "execute_result"
    }
   ],
   "execution_count": 12
  },
  {
   "metadata": {
    "ExecuteTime": {
     "end_time": "2025-06-27T10:16:34.506042Z",
     "start_time": "2025-06-27T10:15:09.758394Z"
    }
   },
   "cell_type": "code",
   "source": "graph_compiled.invoke(MessagesState(messages = []))",
   "id": "581f66f947d3b810",
   "outputs": [
    {
     "name": "stdout",
     "output_type": "stream",
     "text": [
      "\n",
      "-------> ENTERING ask_question:\n",
      "What is your question?\n",
      "\n",
      "-------> ENTERING chatbot:\n",
      "==================================\u001B[1m Ai Message \u001B[0m==================================\n",
      "\n",
      "What is your question?\n",
      "================================\u001B[1m Human Message \u001B[0m=================================\n",
      "\n",
      "How old is Piet Hein\n",
      "==================================\u001B[1m Ai Message \u001B[0m==================================\n",
      "\n",
      "Piet Hein, the Dutch poet, scientist, and philosopher, was born on December 16, 1905, and passed away on April 17, 1996. If we calculate his age as of now, in October 2023, he would have been 117 years old.\n",
      "\n",
      "-------> ENTERING ask_another_question:\n",
      "==================================\u001B[1m Ai Message \u001B[0m==================================\n",
      "\n",
      "What is your question?\n",
      "================================\u001B[1m Human Message \u001B[0m=================================\n",
      "\n",
      "How old is Piet Hein\n",
      "==================================\u001B[1m Ai Message \u001B[0m==================================\n",
      "\n",
      "Piet Hein, the Dutch poet, scientist, and philosopher, was born on December 16, 1905, and passed away on April 17, 1996. If we calculate his age as of now, in October 2023, he would have been 117 years old.\n",
      "Would you like to ask one more question (yes/no)?\n",
      "\n",
      "-------> ENTERING trim_messages:\n",
      "\n",
      "-------> ENTERING ask_question:\n",
      "==================================\u001B[1m Ai Message \u001B[0m==================================\n",
      "\n",
      "What is your question?\n",
      "================================\u001B[1m Human Message \u001B[0m=================================\n",
      "\n",
      "How old is Piet Hein\n",
      "==================================\u001B[1m Ai Message \u001B[0m==================================\n",
      "\n",
      "Piet Hein, the Dutch poet, scientist, and philosopher, was born on December 16, 1905, and passed away on April 17, 1996. If we calculate his age as of now, in October 2023, he would have been 117 years old.\n",
      "==================================\u001B[1m Ai Message \u001B[0m==================================\n",
      "\n",
      "Would you like to ask one more question (yes/no)?\n",
      "================================\u001B[1m Human Message \u001B[0m=================================\n",
      "\n",
      "yes\n",
      "What is your question?\n",
      "\n",
      "-------> ENTERING chatbot:\n",
      "==================================\u001B[1m Ai Message \u001B[0m==================================\n",
      "\n",
      "What is your question?\n",
      "================================\u001B[1m Human Message \u001B[0m=================================\n",
      "\n",
      "How old is Piet Hein\n",
      "==================================\u001B[1m Ai Message \u001B[0m==================================\n",
      "\n",
      "Piet Hein, the Dutch poet, scientist, and philosopher, was born on December 16, 1905, and passed away on April 17, 1996. If we calculate his age as of now, in October 2023, he would have been 117 years old.\n",
      "==================================\u001B[1m Ai Message \u001B[0m==================================\n",
      "\n",
      "Would you like to ask one more question (yes/no)?\n",
      "================================\u001B[1m Human Message \u001B[0m=================================\n",
      "\n",
      "yes\n",
      "==================================\u001B[1m Ai Message \u001B[0m==================================\n",
      "\n",
      "What is your question?\n",
      "================================\u001B[1m Human Message \u001B[0m=================================\n",
      "\n",
      "Where was he born?\n",
      "==================================\u001B[1m Ai Message \u001B[0m==================================\n",
      "\n",
      "Piet Hein was born in Groningen, Netherlands.\n",
      "\n",
      "-------> ENTERING ask_another_question:\n",
      "==================================\u001B[1m Ai Message \u001B[0m==================================\n",
      "\n",
      "What is your question?\n",
      "================================\u001B[1m Human Message \u001B[0m=================================\n",
      "\n",
      "How old is Piet Hein\n",
      "==================================\u001B[1m Ai Message \u001B[0m==================================\n",
      "\n",
      "Piet Hein, the Dutch poet, scientist, and philosopher, was born on December 16, 1905, and passed away on April 17, 1996. If we calculate his age as of now, in October 2023, he would have been 117 years old.\n",
      "==================================\u001B[1m Ai Message \u001B[0m==================================\n",
      "\n",
      "Would you like to ask one more question (yes/no)?\n",
      "================================\u001B[1m Human Message \u001B[0m=================================\n",
      "\n",
      "yes\n",
      "==================================\u001B[1m Ai Message \u001B[0m==================================\n",
      "\n",
      "What is your question?\n",
      "================================\u001B[1m Human Message \u001B[0m=================================\n",
      "\n",
      "Where was he born?\n",
      "==================================\u001B[1m Ai Message \u001B[0m==================================\n",
      "\n",
      "Piet Hein was born in Groningen, Netherlands.\n",
      "Would you like to ask one more question (yes/no)?\n",
      "\n",
      "-------> ENTERING trim_messages:\n",
      "\n",
      "-------> ENTERING ask_question:\n",
      "==================================\u001B[1m Ai Message \u001B[0m==================================\n",
      "\n",
      "What is your question?\n",
      "================================\u001B[1m Human Message \u001B[0m=================================\n",
      "\n",
      "Where was he born?\n",
      "==================================\u001B[1m Ai Message \u001B[0m==================================\n",
      "\n",
      "Piet Hein was born in Groningen, Netherlands.\n",
      "==================================\u001B[1m Ai Message \u001B[0m==================================\n",
      "\n",
      "Would you like to ask one more question (yes/no)?\n",
      "================================\u001B[1m Human Message \u001B[0m=================================\n",
      "\n",
      "yes\n",
      "What is your question?\n",
      "\n",
      "-------> ENTERING chatbot:\n",
      "==================================\u001B[1m Ai Message \u001B[0m==================================\n",
      "\n",
      "What is your question?\n",
      "================================\u001B[1m Human Message \u001B[0m=================================\n",
      "\n",
      "Where was he born?\n",
      "==================================\u001B[1m Ai Message \u001B[0m==================================\n",
      "\n",
      "Piet Hein was born in Groningen, Netherlands.\n",
      "==================================\u001B[1m Ai Message \u001B[0m==================================\n",
      "\n",
      "Would you like to ask one more question (yes/no)?\n",
      "================================\u001B[1m Human Message \u001B[0m=================================\n",
      "\n",
      "yes\n",
      "==================================\u001B[1m Ai Message \u001B[0m==================================\n",
      "\n",
      "What is your question?\n",
      "================================\u001B[1m Human Message \u001B[0m=================================\n",
      "\n",
      "Was he married?\n",
      "==================================\u001B[1m Ai Message \u001B[0m==================================\n",
      "\n",
      "Yes, Piet Hein was married. He married his wife, the artist and writer, in 1943. They had a family together, and his personal life often influenced his work. If you have more specific questions about his life or work, feel free to ask!\n",
      "\n",
      "-------> ENTERING ask_another_question:\n",
      "==================================\u001B[1m Ai Message \u001B[0m==================================\n",
      "\n",
      "What is your question?\n",
      "================================\u001B[1m Human Message \u001B[0m=================================\n",
      "\n",
      "Where was he born?\n",
      "==================================\u001B[1m Ai Message \u001B[0m==================================\n",
      "\n",
      "Piet Hein was born in Groningen, Netherlands.\n",
      "==================================\u001B[1m Ai Message \u001B[0m==================================\n",
      "\n",
      "Would you like to ask one more question (yes/no)?\n",
      "================================\u001B[1m Human Message \u001B[0m=================================\n",
      "\n",
      "yes\n",
      "==================================\u001B[1m Ai Message \u001B[0m==================================\n",
      "\n",
      "What is your question?\n",
      "================================\u001B[1m Human Message \u001B[0m=================================\n",
      "\n",
      "Was he married?\n",
      "==================================\u001B[1m Ai Message \u001B[0m==================================\n",
      "\n",
      "Yes, Piet Hein was married. He married his wife, the artist and writer, in 1943. They had a family together, and his personal life often influenced his work. If you have more specific questions about his life or work, feel free to ask!\n",
      "Would you like to ask one more question (yes/no)?\n"
     ]
    },
    {
     "data": {
      "text/plain": [
       "{'messages': [AIMessage(content='What is your question?', additional_kwargs={}, response_metadata={}, id='33ff085f-173e-4b9f-9608-32a0d6484192'),\n",
       "  HumanMessage(content='Where was he born?', additional_kwargs={}, response_metadata={}, id='38afb297-b66f-4fcb-9e0a-6d4fa79edd29'),\n",
       "  AIMessage(content='Piet Hein was born in Groningen, Netherlands.', additional_kwargs={'refusal': None}, response_metadata={'token_usage': {'completion_tokens': 10, 'prompt_tokens': 124, 'total_tokens': 134, 'completion_tokens_details': {'accepted_prediction_tokens': 0, 'audio_tokens': 0, 'reasoning_tokens': 0, 'rejected_prediction_tokens': 0}, 'prompt_tokens_details': {'audio_tokens': 0, 'cached_tokens': 0}}, 'model_name': 'gpt-4o-mini-2024-07-18', 'system_fingerprint': 'fp_62a23a81ef', 'id': 'chatcmpl-Bn0PTgzdnSVVqpfiPxpXoQeAH95Y7', 'service_tier': 'default', 'finish_reason': 'stop', 'logprobs': None}, id='run--d2acfab2-687f-4d5b-810a-01aa7af3260d-0', usage_metadata={'input_tokens': 124, 'output_tokens': 10, 'total_tokens': 134, 'input_token_details': {'audio': 0, 'cache_read': 0}, 'output_token_details': {'audio': 0, 'reasoning': 0}}),\n",
       "  AIMessage(content='Would you like to ask one more question (yes/no)?', additional_kwargs={}, response_metadata={}, id='0ea2b125-b2d4-4bf6-aa90-9dcc9cd20725'),\n",
       "  HumanMessage(content='yes', additional_kwargs={}, response_metadata={}, id='cb1faf45-4c7f-464f-9300-d1a8153085c1'),\n",
       "  AIMessage(content='What is your question?', additional_kwargs={}, response_metadata={}, id='fe99f2f1-375f-4a89-a883-d1b7c3cf9f76'),\n",
       "  HumanMessage(content='Was he married?', additional_kwargs={}, response_metadata={}, id='ab6f6d8e-60bb-4169-920a-1ff6b33c8024'),\n",
       "  AIMessage(content='Yes, Piet Hein was married. He married his wife, the artist and writer, in 1943. They had a family together, and his personal life often influenced his work. If you have more specific questions about his life or work, feel free to ask!', additional_kwargs={'refusal': None}, response_metadata={'token_usage': {'completion_tokens': 54, 'prompt_tokens': 73, 'total_tokens': 127, 'completion_tokens_details': {'accepted_prediction_tokens': 0, 'audio_tokens': 0, 'reasoning_tokens': 0, 'rejected_prediction_tokens': 0}, 'prompt_tokens_details': {'audio_tokens': 0, 'cached_tokens': 0}}, 'model_name': 'gpt-4o-mini-2024-07-18', 'system_fingerprint': 'fp_34a54ae93c', 'id': 'chatcmpl-Bn0PhPxoLIR3jR30e3yDgnKrjL9Zy', 'service_tier': 'default', 'finish_reason': 'stop', 'logprobs': None}, id='run--dc9fcc8b-9434-466a-8a9c-4415737f0cba-0', usage_metadata={'input_tokens': 73, 'output_tokens': 54, 'total_tokens': 127, 'input_token_details': {'audio': 0, 'cache_read': 0}, 'output_token_details': {'audio': 0, 'reasoning': 0}}),\n",
       "  AIMessage(content='Would you like to ask one more question (yes/no)?', additional_kwargs={}, response_metadata={}, id='1f1efc28-ff3a-42bf-a4a3-568190748c8d'),\n",
       "  HumanMessage(content='no', additional_kwargs={}, response_metadata={}, id='ede61799-0890-4633-894a-3f7653fbf1c6')]}"
      ]
     },
     "execution_count": 13,
     "metadata": {},
     "output_type": "execute_result"
    }
   ],
   "execution_count": 13
  },
  {
   "metadata": {},
   "cell_type": "markdown",
   "source": "## Summarizing messages",
   "id": "741b8ebd31a6a643"
  },
  {
   "metadata": {
    "ExecuteTime": {
     "end_time": "2025-06-27T10:19:19.922613Z",
     "start_time": "2025-06-27T10:19:19.890109Z"
    }
   },
   "cell_type": "code",
   "source": [
    "class State(MessagesState):\n",
    "    summary: str"
   ],
   "id": "cf4f9ca843efe00b",
   "outputs": [],
   "execution_count": 14
  },
  {
   "metadata": {
    "ExecuteTime": {
     "end_time": "2025-06-27T10:20:04.007779Z",
     "start_time": "2025-06-27T10:20:03.997826Z"
    }
   },
   "cell_type": "code",
   "source": "test_state = State()",
   "id": "aae8de28c2f113b4",
   "outputs": [],
   "execution_count": 15
  },
  {
   "metadata": {
    "ExecuteTime": {
     "end_time": "2025-06-27T10:20:07.467077Z",
     "start_time": "2025-06-27T10:20:05.134213Z"
    }
   },
   "cell_type": "code",
   "source": "test_state[\"summary\"]",
   "id": "c30c77612f3e87e",
   "outputs": [
    {
     "ename": "KeyError",
     "evalue": "'summary'",
     "output_type": "error",
     "traceback": [
      "\u001B[1;31m---------------------------------------------------------------------------\u001B[0m",
      "\u001B[1;31mKeyError\u001B[0m                                  Traceback (most recent call last)",
      "Cell \u001B[1;32mIn[16], line 1\u001B[0m\n\u001B[1;32m----> 1\u001B[0m \u001B[43mtest_state\u001B[49m\u001B[43m[\u001B[49m\u001B[38;5;124;43m\"\u001B[39;49m\u001B[38;5;124;43msummary\u001B[39;49m\u001B[38;5;124;43m\"\u001B[39;49m\u001B[43m]\u001B[49m\n",
      "\u001B[1;31mKeyError\u001B[0m: 'summary'"
     ]
    }
   ],
   "execution_count": 16
  },
  {
   "metadata": {
    "ExecuteTime": {
     "end_time": "2025-06-27T10:20:29.099989Z",
     "start_time": "2025-06-27T10:20:29.078914Z"
    }
   },
   "cell_type": "code",
   "source": "bool(test_state.get(\"summary\", \"\"))",
   "id": "9fc47c3f8a4f01ad",
   "outputs": [
    {
     "data": {
      "text/plain": [
       "False"
      ]
     },
     "execution_count": 17,
     "metadata": {},
     "output_type": "execute_result"
    }
   ],
   "execution_count": 17
  },
  {
   "metadata": {
    "ExecuteTime": {
     "end_time": "2025-06-27T10:20:57.635234Z",
     "start_time": "2025-06-27T10:20:57.616580Z"
    }
   },
   "cell_type": "code",
   "source": [
    "def ask_question(state: State) -> State:\n",
    "    \n",
    "    print(f\"\\n-------> ENTERING ask_question:\")\n",
    "    \n",
    "    question = \"What is your question?\"\n",
    "    print(question)\n",
    "    \n",
    "    return State(messages = [AIMessage(question), HumanMessage(input())])"
   ],
   "id": "6977d9204aa5ce13",
   "outputs": [],
   "execution_count": 18
  },
  {
   "metadata": {
    "ExecuteTime": {
     "end_time": "2025-06-27T10:21:17.472652Z",
     "start_time": "2025-06-27T10:21:17.455038Z"
    }
   },
   "cell_type": "code",
   "outputs": [],
   "execution_count": 20,
   "source": [
    "def ask_another_question(state: State) -> State:\n",
    "    \n",
    "    print(f\"\\n-------> ENTERING ask_another_question:\")\n",
    "    \n",
    "    question = \"Would you like to ask one more question (yes/no)?\"\n",
    "    print(question)\n",
    "    \n",
    "    return State(messages = [AIMessage(question), HumanMessage(input())])"
   ],
   "id": "f7c4ec4caf4421e6"
  },
  {
   "metadata": {
    "ExecuteTime": {
     "end_time": "2025-06-27T10:21:47.407809Z",
     "start_time": "2025-06-27T10:21:47.374977Z"
    }
   },
   "cell_type": "code",
   "source": [
    "def summarize_and_delete_messages(state: State) -> State:\n",
    "    print(f\"\\n-------> ENTERING trim_messages:\")\n",
    "    \n",
    "    new_conversation = \"\"\n",
    "    for i in state[\"messages\"]:\n",
    "        new_conversation += f\"{i.type}: {i.content}\\n\\n\"\n",
    "        \n",
    "    summary_instructions = f'''\n",
    "    Update the ongoing summary by incorporating the new lines of conversation below.  \n",
    "    Build upon the previous summary rather than repeating it so that the result  \n",
    "    reflects the most recent context and developments.\n",
    "    \n",
    "    \n",
    "    Previous Summary:\n",
    "    {state.get(\"summary\", \"\")}\n",
    "    \n",
    "    New Conversation:\n",
    "    {new_conversation}\n",
    "    '''\n",
    "    \n",
    "    print(summary_instructions)\n",
    "    \n",
    "    summary = chat.invoke([HumanMessage(summary_instructions)])\n",
    "    \n",
    "    remove_messages = [RemoveMessage(id = i.id) for i in state[\"messages\"][:]]\n",
    "    \n",
    "    return State(messages = remove_messages, summary = summary.content)"
   ],
   "id": "82f74bfea79b7820",
   "outputs": [],
   "execution_count": 21
  },
  {
   "metadata": {
    "ExecuteTime": {
     "end_time": "2025-06-27T10:21:54.054026Z",
     "start_time": "2025-06-27T10:21:54.032195Z"
    }
   },
   "cell_type": "code",
   "source": [
    "def routing_function(state: State) -> Literal[\"summarize_and_delete_messages\", \"__end__\"]:\n",
    "    \n",
    "    if state[\"messages\"][-1].content == \"yes\":\n",
    "        return \"summarize_and_delete_messages\"\n",
    "    else:\n",
    "        return \"__end__\""
   ],
   "id": "e0789737f0b82fdc",
   "outputs": [],
   "execution_count": 22
  },
  {
   "metadata": {
    "ExecuteTime": {
     "end_time": "2025-06-27T10:22:03.763946Z",
     "start_time": "2025-06-27T10:22:03.634930Z"
    }
   },
   "cell_type": "code",
   "source": "graph = StateGraph(State)",
   "id": "76eb8877c13f2329",
   "outputs": [],
   "execution_count": 23
  },
  {
   "metadata": {
    "ExecuteTime": {
     "end_time": "2025-06-27T10:22:08.884695Z",
     "start_time": "2025-06-27T10:22:08.822437Z"
    }
   },
   "cell_type": "code",
   "source": [
    "graph.add_node(\"ask_question\", ask_question)\n",
    "graph.add_node(\"chatbot\", chatbot)\n",
    "graph.add_node(\"ask_another_question\", ask_another_question)\n",
    "graph.add_node(\"summarize_and_delete_messages\", summarize_and_delete_messages)\n",
    "\n",
    "graph.add_edge(START, \"ask_question\")\n",
    "graph.add_edge(\"ask_question\", \"chatbot\")\n",
    "graph.add_edge(\"chatbot\", \"ask_another_question\")\n",
    "graph.add_conditional_edges(source = \"ask_another_question\", \n",
    "                            path = routing_function)\n",
    "graph.add_edge(\"summarize_and_delete_messages\", \"ask_question\")"
   ],
   "id": "5d72265db5476b97",
   "outputs": [
    {
     "data": {
      "text/plain": [
       "<langgraph.graph.state.StateGraph at 0x183e1ddc130>"
      ]
     },
     "execution_count": 24,
     "metadata": {},
     "output_type": "execute_result"
    }
   ],
   "execution_count": 24
  },
  {
   "metadata": {
    "ExecuteTime": {
     "end_time": "2025-06-27T10:22:14.727278Z",
     "start_time": "2025-06-27T10:22:14.650673Z"
    }
   },
   "cell_type": "code",
   "source": "graph_compiled = graph.compile()",
   "id": "9e5969273feeefb2",
   "outputs": [],
   "execution_count": 25
  },
  {
   "metadata": {
    "ExecuteTime": {
     "end_time": "2025-06-27T10:22:20.586190Z",
     "start_time": "2025-06-27T10:22:19.349162Z"
    }
   },
   "cell_type": "code",
   "source": "graph_compiled",
   "id": "f3f6a5b2c2dfbc4c",
   "outputs": [
    {
     "data": {
      "text/plain": [
       "<langgraph.graph.state.CompiledStateGraph object at 0x00000183E1DC4D30>"
      ],
      "image/png": "[encoded data removed]"
     },
     "execution_count": 26,
     "metadata": {},
     "output_type": "execute_result"
    }
   ],
   "execution_count": 26
  },
  {
   "metadata": {
    "ExecuteTime": {
     "end_time": "2025-06-27T10:26:06.612893Z",
     "start_time": "2025-06-27T10:25:00.822485Z"
    }
   },
   "cell_type": "code",
   "source": "graph_compiled.invoke(State(messages = []))",
   "id": "b88f28274e3e5e47",
   "outputs": [
    {
     "name": "stdout",
     "output_type": "stream",
     "text": [
      "\n",
      "-------> ENTERING ask_question:\n",
      "What is your question?\n",
      "\n",
      "-------> ENTERING chatbot:\n",
      "==================================\u001B[1m Ai Message \u001B[0m==================================\n",
      "\n",
      "What is your question?\n",
      "================================\u001B[1m Human Message \u001B[0m=================================\n",
      "\n",
      "How old is Piet Hein?\n",
      "==================================\u001B[1m Ai Message \u001B[0m==================================\n",
      "\n",
      "Piet Hein, the Dutch poet, philosopher, and scientist, was born on December 16, 1905, and passed away on April 17, 1996. If we calculate his age as of today, October 2023, he would have been 117 years old.\n",
      "\n",
      "-------> ENTERING ask_another_question:\n",
      "Would you like to ask one more question (yes/no)?\n",
      "\n",
      "-------> ENTERING trim_messages:\n",
      "\n",
      "    Update the ongoing summary by incorporating the new lines of conversation below.  \n",
      "    Build upon the previous summary rather than repeating it so that the result  \n",
      "    reflects the most recent context and developments.\n",
      "    \n",
      "    \n",
      "    Previous Summary:\n",
      "    \n",
      "    \n",
      "    New Conversation:\n",
      "    ai: What is your question?\n",
      "\n",
      "human: How old is Piet Hein?\n",
      "\n",
      "ai: Piet Hein, the Dutch poet, philosopher, and scientist, was born on December 16, 1905, and passed away on April 17, 1996. If we calculate his age as of today, October 2023, he would have been 117 years old.\n",
      "\n",
      "ai: Would you like to ask one more question (yes/no)?\n",
      "\n",
      "human: yes\n",
      "\n",
      "\n",
      "    \n",
      "\n",
      "-------> ENTERING ask_question:\n",
      "What is your question?\n",
      "\n",
      "-------> ENTERING chatbot:\n",
      "==================================\u001B[1m Ai Message \u001B[0m==================================\n",
      "\n",
      "What is your question?\n",
      "================================\u001B[1m Human Message \u001B[0m=================================\n",
      "\n",
      "where is he from?\n",
      "==================================\u001B[1m Ai Message \u001B[0m==================================\n",
      "\n",
      "Piet Hein was from the Netherlands. He was born in the city of Groningen.\n",
      "\n",
      "-------> ENTERING ask_another_question:\n",
      "Would you like to ask one more question (yes/no)?\n"
     ]
    },
    {
     "data": {
      "text/plain": [
       "{'messages': [AIMessage(content='What is your question?', additional_kwargs={}, response_metadata={}, id='f7f1713e-d9d5-40cc-b11b-3e18f5c5699b'),\n",
       "  HumanMessage(content='where is he from?', additional_kwargs={}, response_metadata={}, id='5444eda3-0586-405e-8316-8bfc363ab233'),\n",
       "  AIMessage(content='Piet Hein was from the Netherlands. He was born in the city of Groningen.', additional_kwargs={'refusal': None}, response_metadata={'token_usage': {'completion_tokens': 17, 'prompt_tokens': 153, 'total_tokens': 170, 'completion_tokens_details': {'accepted_prediction_tokens': 0, 'audio_tokens': 0, 'reasoning_tokens': 0, 'rejected_prediction_tokens': 0}, 'prompt_tokens_details': {'audio_tokens': 0, 'cached_tokens': 0}}, 'model_name': 'gpt-4o-mini-2024-07-18', 'system_fingerprint': 'fp_34a54ae93c', 'id': 'chatcmpl-Bn0ZOt3sC0cLFULpf46OTNCyOrNv4', 'service_tier': 'default', 'finish_reason': 'stop', 'logprobs': None}, id='run--c6400f90-be3b-4d5e-a689-cbe2f49fd685-0', usage_metadata={'input_tokens': 153, 'output_tokens': 17, 'total_tokens': 170, 'input_token_details': {'audio': 0, 'cache_read': 0}, 'output_token_details': {'audio': 0, 'reasoning': 0}}),\n",
       "  AIMessage(content='Would you like to ask one more question (yes/no)?', additional_kwargs={}, response_metadata={}, id='1edd2fd5-ae75-417d-94c1-bbd15125204f'),\n",
       "  HumanMessage(content='no', additional_kwargs={}, response_metadata={}, id='812fc6c2-fc90-4cf8-ac5a-c5d603d16294')],\n",
       " 'summary': 'Updated Summary:\\n\\nThe conversation began with the human asking a question, to which the AI responded by inquiring about the specific question. The human then asked about the age of Piet Hein, the Dutch poet, philosopher, and scientist. The AI provided the information that Piet Hein was born on December 16, 1905, and passed away on April 17, 1996, calculating that he would be 117 years old as of October 2023. Following this, the AI offered the'}"
      ]
     },
     "execution_count": 29,
     "metadata": {},
     "output_type": "execute_result"
    }
   ],
   "execution_count": 29
  },
  {
   "metadata": {},
   "cell_type": "code",
   "outputs": [],
   "execution_count": null,
   "source": "",
   "id": "a1b46f9795ca9e12"
  }
 ],
 "metadata": {
  "kernelspec": {
   "display_name": "Python 3",
   "language": "python",
   "name": "python3"
  },
  "language_info": {
   "codemirror_mode": {
    "name": "ipython",
    "version": 2
   },
   "file_extension": ".py",
   "mimetype": "text/x-python",
   "name": "python",
   "nbconvert_exporter": "python",
   "pygments_lexer": "ipython2",
   "version": "2.7.6"
  }
 },
 "nbformat": 4,
 "nbformat_minor": 5
}
