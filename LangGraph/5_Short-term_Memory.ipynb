{
 "cells": [
  {
   "cell_type": "code",
   "id": "initial_id",
   "metadata": {
    "collapsed": true,
    "ExecuteTime": {
     "end_time": "2025-06-27T10:31:49.957025Z",
     "start_time": "2025-06-27T10:31:49.925023Z"
    }
   },
   "source": [
    "%load_ext dotenv\n",
    "%dotenv"
   ],
   "outputs": [],
   "execution_count": 1
  },
  {
   "metadata": {
    "ExecuteTime": {
     "end_time": "2025-06-27T10:32:02.770412Z",
     "start_time": "2025-06-27T10:31:57.514463Z"
    }
   },
   "cell_type": "code",
   "source": [
    "from langgraph.graph import START, END, StateGraph, MessagesState\n",
    "from langchain_openai.chat_models import ChatOpenAI\n",
    "from langchain_core.messages import HumanMessage, AIMessage, SystemMessage, BaseMessage, RemoveMessage\n",
    "from langgraph.checkpoint.memory import InMemorySaver"
   ],
   "id": "54e76264d2e2de19",
   "outputs": [],
   "execution_count": 2
  },
  {
   "metadata": {
    "ExecuteTime": {
     "end_time": "2025-06-27T10:32:02.943615Z",
     "start_time": "2025-06-27T10:32:02.930617Z"
    }
   },
   "cell_type": "code",
   "source": [
    "class State(MessagesState):\n",
    "    summary: str"
   ],
   "id": "5dbd49674466c44e",
   "outputs": [],
   "execution_count": 3
  },
  {
   "metadata": {
    "ExecuteTime": {
     "end_time": "2025-06-27T10:32:14.215088Z",
     "start_time": "2025-06-27T10:32:09.794611Z"
    }
   },
   "cell_type": "code",
   "source": [
    "chat = ChatOpenAI(model = \"gpt-4o\", \n",
    "                  seed = 365, \n",
    "                  temperature = 0, \n",
    "                  max_completion_tokens = 100)"
   ],
   "id": "316cc60c9e5d399a",
   "outputs": [],
   "execution_count": 4
  },
  {
   "metadata": {
    "ExecuteTime": {
     "end_time": "2025-06-27T10:32:15.258370Z",
     "start_time": "2025-06-27T10:32:15.241288Z"
    }
   },
   "cell_type": "code",
   "source": [
    "def ask_question(state: State) -> State:\n",
    "    \n",
    "    print(f\"\\n-------> ENTERING ask_question:\")\n",
    "    \n",
    "    question = \"What is your question?\"\n",
    "    print(question)\n",
    "    \n",
    "    return State(messages = [AIMessage(question), HumanMessage(input())])"
   ],
   "id": "18973cbf39eec172",
   "outputs": [],
   "execution_count": 5
  },
  {
   "metadata": {
    "ExecuteTime": {
     "end_time": "2025-06-27T10:32:20.344359Z",
     "start_time": "2025-06-27T10:32:20.325458Z"
    }
   },
   "cell_type": "code",
   "source": [
    "def chatbot(state: State) -> State:\n",
    "    \n",
    "    print(f\"\\n-------> ENTERING chatbot:\")\n",
    "        \n",
    "    system_message = f'''\n",
    "    Here's a quick summary of what's been discussed so far:\n",
    "    {state.get(\"summary\", \"\")}\n",
    "    \n",
    "    Keep this in mind as you answer the next question.\n",
    "    '''\n",
    "    \n",
    "    response = chat.invoke([SystemMessage(system_message)] + state[\"messages\"])\n",
    "    response.pretty_print()\n",
    "    \n",
    "    return State(messages = [response])"
   ],
   "id": "9a3715d0a1ea6820",
   "outputs": [],
   "execution_count": 6
  },
  {
   "metadata": {
    "ExecuteTime": {
     "end_time": "2025-06-27T10:32:25.918177Z",
     "start_time": "2025-06-27T10:32:25.896014Z"
    }
   },
   "cell_type": "code",
   "source": [
    "def summarize_messages(state: State) -> State:\n",
    "    print(f\"\\n-------> ENTERING summarize_messages:\")\n",
    "\n",
    "    new_conversation = \"\"\n",
    "    for i in state[\"messages\"]:\n",
    "        new_conversation += f\"{i.type}: {i.content}\\n\\n\"\n",
    "    \n",
    "    summary_instructions = f'''\n",
    "Update the ongoing summary by incorporating the new lines of conversation below. \n",
    "Build upon the previous summary rather than repeating it, \n",
    "so that the result reflects the most recent context and developments.\n",
    "Respond only with the summary.\n",
    "\n",
    "Previous Summary:\n",
    "{state.get(\"summary\", \"\")}\n",
    "\n",
    "New Conversation:\n",
    "{new_conversation}\n",
    "'''\n",
    "\n",
    "    print(summary_instructions)\n",
    "\n",
    "    summary = chat.invoke([HumanMessage(summary_instructions)])\n",
    "    \n",
    "    remove_messages = [RemoveMessage(id = i.id) for i in state[\"messages\"][:]]\n",
    "\n",
    "    return State(messages = remove_messages, summary = summary.content)"
   ],
   "id": "246ab11a3e199c1c",
   "outputs": [],
   "execution_count": 7
  },
  {
   "metadata": {
    "ExecuteTime": {
     "end_time": "2025-06-27T10:32:31.280759Z",
     "start_time": "2025-06-27T10:32:31.252182Z"
    }
   },
   "cell_type": "code",
   "source": "graph = StateGraph(State)",
   "id": "2a9bf9abaaf3287",
   "outputs": [],
   "execution_count": 8
  },
  {
   "metadata": {
    "ExecuteTime": {
     "end_time": "2025-06-27T10:32:36.906012Z",
     "start_time": "2025-06-27T10:32:36.870523Z"
    }
   },
   "cell_type": "code",
   "source": [
    "graph.add_node(\"ask_question\", ask_question)\n",
    "graph.add_node(\"chatbot\", chatbot)\n",
    "graph.add_node(\"summarize_messages\", summarize_messages)\n",
    "\n",
    "graph.add_edge(START, \"ask_question\")\n",
    "graph.add_edge(\"ask_question\", \"chatbot\")\n",
    "graph.add_edge(\"chatbot\", \"summarize_messages\")\n",
    "graph.add_edge(\"summarize_messages\", END)"
   ],
   "id": "bee103765a11e386",
   "outputs": [
    {
     "data": {
      "text/plain": [
       "<langgraph.graph.state.StateGraph at 0x22a7a4ff580>"
      ]
     },
     "execution_count": 9,
     "metadata": {},
     "output_type": "execute_result"
    }
   ],
   "execution_count": 9
  },
  {
   "metadata": {
    "ExecuteTime": {
     "end_time": "2025-06-27T10:32:42.041067Z",
     "start_time": "2025-06-27T10:32:42.007231Z"
    }
   },
   "cell_type": "code",
   "source": [
    "checkpointer = InMemorySaver()\n",
    "graph_compiled = graph.compile(checkpointer)"
   ],
   "id": "619c34b9472ab5a7",
   "outputs": [],
   "execution_count": 10
  },
  {
   "metadata": {
    "ExecuteTime": {
     "end_time": "2025-06-27T10:32:46.704514Z",
     "start_time": "2025-06-27T10:32:46.348981Z"
    }
   },
   "cell_type": "code",
   "source": "graph_compiled",
   "id": "ab80d26ead7f54ad",
   "outputs": [
    {
     "data": {
      "text/plain": [
       "<langgraph.graph.state.CompiledStateGraph object at 0x0000022A7BFAF310>"
      ],
      "image/png": "[encoded data removed]"
     },
     "execution_count": 11,
     "metadata": {},
     "output_type": "execute_result"
    }
   ],
   "execution_count": 11
  },
  {
   "metadata": {
    "ExecuteTime": {
     "end_time": "2025-06-27T10:32:50.750621Z",
     "start_time": "2025-06-27T10:32:50.731016Z"
    }
   },
   "cell_type": "code",
   "source": [
    "config1 = {\"configurable\": {\"thread_id\": \"1\"}}\n",
    "config2 = {\"configurable\": {\"thread_id\": \"2\"}}"
   ],
   "id": "9163d1323f027cb",
   "outputs": [],
   "execution_count": 12
  },
  {
   "metadata": {
    "ExecuteTime": {
     "end_time": "2025-06-27T10:38:14.914045Z",
     "start_time": "2025-06-27T10:37:58.500445Z"
    }
   },
   "cell_type": "code",
   "source": "graph_compiled.invoke(State(), config1)",
   "id": "a2885ba012064cf3",
   "outputs": [
    {
     "name": "stdout",
     "output_type": "stream",
     "text": [
      "\n",
      "-------> ENTERING ask_question:\n",
      "What is your question?\n",
      "\n",
      "-------> ENTERING chatbot:\n",
      "==================================\u001B[1m Ai Message \u001B[0m==================================\n",
      "\n",
      "Piet Hein was born in Copenhagen, Denmark.\n",
      "\n",
      "-------> ENTERING summarize_messages:\n",
      "\n",
      "Update the ongoing summary by incorporating the new lines of conversation below. \n",
      "Build upon the previous summary rather than repeating it, \n",
      "so that the result reflects the most recent context and developments.\n",
      "Respond only with the summary.\n",
      "\n",
      "Previous Summary:\n",
      "\n",
      "\n",
      "New Conversation:\n",
      "ai: What is your question?\n",
      "\n",
      "human: where was Piet Hein born?\n",
      "\n",
      "ai: Piet Hein was born in Copenhagen, Denmark.\n",
      "\n",
      "\n",
      "\n"
     ]
    },
    {
     "data": {
      "text/plain": [
       "{'messages': [], 'summary': 'Piet Hein was born in Copenhagen, Denmark.'}"
      ]
     },
     "execution_count": 18,
     "metadata": {},
     "output_type": "execute_result"
    }
   ],
   "execution_count": 18
  },
  {
   "metadata": {},
   "cell_type": "markdown",
   "source": "## State Snapshot",
   "id": "b8c515e5ee1c3e71"
  },
  {
   "metadata": {
    "ExecuteTime": {
     "end_time": "2025-06-27T10:38:24.296294Z",
     "start_time": "2025-06-27T10:38:24.270491Z"
    }
   },
   "cell_type": "code",
   "source": "graph_states = [i for i in graph_compiled.get_state_history(config1)]",
   "id": "6975fa6d6efef2bf",
   "outputs": [],
   "execution_count": 19
  },
  {
   "metadata": {
    "ExecuteTime": {
     "end_time": "2025-06-27T10:38:25.065775Z",
     "start_time": "2025-06-27T10:38:25.041762Z"
    }
   },
   "cell_type": "code",
   "source": "graph_states",
   "id": "1c05963d89ccd2fa",
   "outputs": [
    {
     "data": {
      "text/plain": [
       "[StateSnapshot(values={'messages': [], 'summary': 'Piet Hein was born in Copenhagen, Denmark.'}, next=(), config={'configurable': {'thread_id': '1', 'checkpoint_ns': '', 'checkpoint_id': '1f05342d-4a58-610a-8003-78d640e57c06'}}, metadata={'source': 'loop', 'writes': {'summarize_messages': {'messages': [RemoveMessage(content='', additional_kwargs={}, response_metadata={}, id='cdf7b31b-7f33-475f-bdce-4b2950dfa024'), RemoveMessage(content='', additional_kwargs={}, response_metadata={}, id='8e8f1a46-ef9f-4f6f-a5ee-87ed5eaa0878'), RemoveMessage(content='', additional_kwargs={}, response_metadata={}, id='run--e43ef1d4-3ca1-4cec-aae4-391d36a5bdb7-0')], 'summary': 'Piet Hein was born in Copenhagen, Denmark.'}}, 'step': 3, 'parents': {}, 'thread_id': '1'}, created_at='2025-06-27T10:38:14.904858+00:00', parent_config={'configurable': {'thread_id': '1', 'checkpoint_ns': '', 'checkpoint_id': '1f05342d-3a6c-6331-8002-319e34407f29'}}, tasks=(), interrupts=()),\n",
       " StateSnapshot(values={'messages': [AIMessage(content='What is your question?', additional_kwargs={}, response_metadata={}, id='cdf7b31b-7f33-475f-bdce-4b2950dfa024'), HumanMessage(content='where was Piet Hein born?', additional_kwargs={}, response_metadata={}, id='8e8f1a46-ef9f-4f6f-a5ee-87ed5eaa0878'), AIMessage(content='Piet Hein was born in Copenhagen, Denmark.', additional_kwargs={'refusal': None}, response_metadata={'token_usage': {'completion_tokens': 10, 'prompt_tokens': 53, 'total_tokens': 63, 'completion_tokens_details': {'accepted_prediction_tokens': 0, 'audio_tokens': 0, 'reasoning_tokens': 0, 'rejected_prediction_tokens': 0}, 'prompt_tokens_details': {'audio_tokens': 0, 'cached_tokens': 0}}, 'model_name': 'gpt-4o-2024-08-06', 'system_fingerprint': 'fp_a288987b44', 'id': 'chatcmpl-Bn0lAM9gbJVxalRKxHo1PMYXODJ2c', 'service_tier': 'default', 'finish_reason': 'stop', 'logprobs': None}, id='run--e43ef1d4-3ca1-4cec-aae4-391d36a5bdb7-0', usage_metadata={'input_tokens': 53, 'output_tokens': 10, 'total_tokens': 63, 'input_token_details': {'audio': 0, 'cache_read': 0}, 'output_token_details': {'audio': 0, 'reasoning': 0}})]}, next=('summarize_messages',), config={'configurable': {'thread_id': '1', 'checkpoint_ns': '', 'checkpoint_id': '1f05342d-3a6c-6331-8002-319e34407f29'}}, metadata={'source': 'loop', 'writes': {'chatbot': {'messages': [AIMessage(content='Piet Hein was born in Copenhagen, Denmark.', additional_kwargs={'refusal': None}, response_metadata={'token_usage': {'completion_tokens': 10, 'prompt_tokens': 53, 'total_tokens': 63, 'completion_tokens_details': {'accepted_prediction_tokens': 0, 'audio_tokens': 0, 'reasoning_tokens': 0, 'rejected_prediction_tokens': 0}, 'prompt_tokens_details': {'audio_tokens': 0, 'cached_tokens': 0}}, 'model_name': 'gpt-4o-2024-08-06', 'system_fingerprint': 'fp_a288987b44', 'id': 'chatcmpl-Bn0lAM9gbJVxalRKxHo1PMYXODJ2c', 'service_tier': 'default', 'finish_reason': 'stop', 'logprobs': None}, id='run--e43ef1d4-3ca1-4cec-aae4-391d36a5bdb7-0', usage_metadata={'input_tokens': 53, 'output_tokens': 10, 'total_tokens': 63, 'input_token_details': {'audio': 0, 'cache_read': 0}, 'output_token_details': {'audio': 0, 'reasoning': 0}})]}}, 'step': 2, 'parents': {}, 'thread_id': '1'}, created_at='2025-06-27T10:38:13.235384+00:00', parent_config={'configurable': {'thread_id': '1', 'checkpoint_ns': '', 'checkpoint_id': '1f05342d-2e0d-638d-8001-0819e47644e4'}}, tasks=(PregelTask(id='717dc6ee-ad51-4ff7-6421-61e1b3b3af4a', name='summarize_messages', path=('__pregel_pull', 'summarize_messages'), error=None, interrupts=(), state=None, result={'messages': [RemoveMessage(content='', additional_kwargs={}, response_metadata={}, id='cdf7b31b-7f33-475f-bdce-4b2950dfa024'), RemoveMessage(content='', additional_kwargs={}, response_metadata={}, id='8e8f1a46-ef9f-4f6f-a5ee-87ed5eaa0878'), RemoveMessage(content='', additional_kwargs={}, response_metadata={}, id='run--e43ef1d4-3ca1-4cec-aae4-391d36a5bdb7-0')], 'summary': 'Piet Hein was born in Copenhagen, Denmark.'}),), interrupts=()),\n",
       " StateSnapshot(values={'messages': [AIMessage(content='What is your question?', additional_kwargs={}, response_metadata={}, id='cdf7b31b-7f33-475f-bdce-4b2950dfa024'), HumanMessage(content='where was Piet Hein born?', additional_kwargs={}, response_metadata={}, id='8e8f1a46-ef9f-4f6f-a5ee-87ed5eaa0878')]}, next=('chatbot',), config={'configurable': {'thread_id': '1', 'checkpoint_ns': '', 'checkpoint_id': '1f05342d-2e0d-638d-8001-0819e47644e4'}}, metadata={'source': 'loop', 'writes': {'ask_question': {'messages': [AIMessage(content='What is your question?', additional_kwargs={}, response_metadata={}, id='cdf7b31b-7f33-475f-bdce-4b2950dfa024'), HumanMessage(content='where was Piet Hein born?', additional_kwargs={}, response_metadata={}, id='8e8f1a46-ef9f-4f6f-a5ee-87ed5eaa0878')]}}, 'step': 1, 'parents': {}, 'thread_id': '1'}, created_at='2025-06-27T10:38:11.938190+00:00', parent_config={'configurable': {'thread_id': '1', 'checkpoint_ns': '', 'checkpoint_id': '1f05342c-ae8b-6caa-8000-430cd71f6d45'}}, tasks=(PregelTask(id='3d87e9ce-181e-6a8c-3d46-055b88836895', name='chatbot', path=('__pregel_pull', 'chatbot'), error=None, interrupts=(), state=None, result={'messages': [AIMessage(content='Piet Hein was born in Copenhagen, Denmark.', additional_kwargs={'refusal': None}, response_metadata={'token_usage': {'completion_tokens': 10, 'prompt_tokens': 53, 'total_tokens': 63, 'completion_tokens_details': {'accepted_prediction_tokens': 0, 'audio_tokens': 0, 'reasoning_tokens': 0, 'rejected_prediction_tokens': 0}, 'prompt_tokens_details': {'audio_tokens': 0, 'cached_tokens': 0}}, 'model_name': 'gpt-4o-2024-08-06', 'system_fingerprint': 'fp_a288987b44', 'id': 'chatcmpl-Bn0lAM9gbJVxalRKxHo1PMYXODJ2c', 'service_tier': 'default', 'finish_reason': 'stop', 'logprobs': None}, id='run--e43ef1d4-3ca1-4cec-aae4-391d36a5bdb7-0', usage_metadata={'input_tokens': 53, 'output_tokens': 10, 'total_tokens': 63, 'input_token_details': {'audio': 0, 'cache_read': 0}, 'output_token_details': {'audio': 0, 'reasoning': 0}})]}),), interrupts=()),\n",
       " StateSnapshot(values={'messages': []}, next=('ask_question',), config={'configurable': {'thread_id': '1', 'checkpoint_ns': '', 'checkpoint_id': '1f05342c-ae8b-6caa-8000-430cd71f6d45'}}, metadata={'source': 'loop', 'writes': None, 'step': 0, 'parents': {}, 'thread_id': '1'}, created_at='2025-06-27T10:37:58.568260+00:00', parent_config={'configurable': {'thread_id': '1', 'checkpoint_ns': '', 'checkpoint_id': '1f05342c-ae64-6946-bfff-9c2e8e5e732c'}}, tasks=(PregelTask(id='c3645c84-0dff-89dd-a4d5-cfc64f9f7af2', name='ask_question', path=('__pregel_pull', 'ask_question'), error=None, interrupts=(), state=None, result={'messages': [AIMessage(content='What is your question?', additional_kwargs={}, response_metadata={}, id='cdf7b31b-7f33-475f-bdce-4b2950dfa024'), HumanMessage(content='where was Piet Hein born?', additional_kwargs={}, response_metadata={}, id='8e8f1a46-ef9f-4f6f-a5ee-87ed5eaa0878')]}),), interrupts=()),\n",
       " StateSnapshot(values={'messages': []}, next=('__start__',), config={'configurable': {'thread_id': '1', 'checkpoint_ns': '', 'checkpoint_id': '1f05342c-ae64-6946-bfff-9c2e8e5e732c'}}, metadata={'source': 'input', 'writes': {'__start__': {}}, 'step': -1, 'parents': {}, 'thread_id': '1'}, created_at='2025-06-27T10:37:58.552199+00:00', parent_config=None, tasks=(PregelTask(id='d4cdc692-417e-3a3f-ecbc-d35bfe645aa4', name='__start__', path=('__pregel_pull', '__start__'), error=None, interrupts=(), state=None, result={}),), interrupts=())]"
      ]
     },
     "execution_count": 20,
     "metadata": {},
     "output_type": "execute_result"
    }
   ],
   "execution_count": 20
  },
  {
   "metadata": {
    "ExecuteTime": {
     "end_time": "2025-06-27T10:38:31.036399Z",
     "start_time": "2025-06-27T10:38:31.024399Z"
    }
   },
   "cell_type": "code",
   "source": [
    "for i in graph_states[::-1]:\n",
    "    print(f'''\n",
    "Messages: {i.values[\"messages\"]}\n",
    "Summary: {i.values.get(\"summary\", \"\")}\n",
    "Next: {i.next}\n",
    "Step: {i.metadata[\"step\"]}''')"
   ],
   "id": "d65da0e8611d7123",
   "outputs": [
    {
     "name": "stdout",
     "output_type": "stream",
     "text": [
      "\n",
      "Messages: []\n",
      "Summary: \n",
      "Next: ('__start__',)\n",
      "Step: -1\n",
      "\n",
      "Messages: []\n",
      "Summary: \n",
      "Next: ('ask_question',)\n",
      "Step: 0\n",
      "\n",
      "Messages: [AIMessage(content='What is your question?', additional_kwargs={}, response_metadata={}, id='cdf7b31b-7f33-475f-bdce-4b2950dfa024'), HumanMessage(content='where was Piet Hein born?', additional_kwargs={}, response_metadata={}, id='8e8f1a46-ef9f-4f6f-a5ee-87ed5eaa0878')]\n",
      "Summary: \n",
      "Next: ('chatbot',)\n",
      "Step: 1\n",
      "\n",
      "Messages: [AIMessage(content='What is your question?', additional_kwargs={}, response_metadata={}, id='cdf7b31b-7f33-475f-bdce-4b2950dfa024'), HumanMessage(content='where was Piet Hein born?', additional_kwargs={}, response_metadata={}, id='8e8f1a46-ef9f-4f6f-a5ee-87ed5eaa0878'), AIMessage(content='Piet Hein was born in Copenhagen, Denmark.', additional_kwargs={'refusal': None}, response_metadata={'token_usage': {'completion_tokens': 10, 'prompt_tokens': 53, 'total_tokens': 63, 'completion_tokens_details': {'accepted_prediction_tokens': 0, 'audio_tokens': 0, 'reasoning_tokens': 0, 'rejected_prediction_tokens': 0}, 'prompt_tokens_details': {'audio_tokens': 0, 'cached_tokens': 0}}, 'model_name': 'gpt-4o-2024-08-06', 'system_fingerprint': 'fp_a288987b44', 'id': 'chatcmpl-Bn0lAM9gbJVxalRKxHo1PMYXODJ2c', 'service_tier': 'default', 'finish_reason': 'stop', 'logprobs': None}, id='run--e43ef1d4-3ca1-4cec-aae4-391d36a5bdb7-0', usage_metadata={'input_tokens': 53, 'output_tokens': 10, 'total_tokens': 63, 'input_token_details': {'audio': 0, 'cache_read': 0}, 'output_token_details': {'audio': 0, 'reasoning': 0}})]\n",
      "Summary: \n",
      "Next: ('summarize_messages',)\n",
      "Step: 2\n",
      "\n",
      "Messages: []\n",
      "Summary: Piet Hein was born in Copenhagen, Denmark.\n",
      "Next: ()\n",
      "Step: 3\n"
     ]
    }
   ],
   "execution_count": 21
  },
  {
   "metadata": {},
   "cell_type": "code",
   "outputs": [],
   "execution_count": null,
   "source": "",
   "id": "bb82d21708057e89"
  }
 ],
 "metadata": {
  "kernelspec": {
   "display_name": "Python 3",
   "language": "python",
   "name": "python3"
  },
  "language_info": {
   "codemirror_mode": {
    "name": "ipython",
    "version": 2
   },
   "file_extension": ".py",
   "mimetype": "text/x-python",
   "name": "python",
   "nbconvert_exporter": "python",
   "pygments_lexer": "ipython2",
   "version": "2.7.6"
  }
 },
 "nbformat": 4,
 "nbformat_minor": 5
}
