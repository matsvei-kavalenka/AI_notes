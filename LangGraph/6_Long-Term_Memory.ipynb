{
 "cells": [
  {
   "cell_type": "code",
   "id": "initial_id",
   "metadata": {
    "collapsed": true,
    "ExecuteTime": {
     "end_time": "2025-06-27T10:48:37.799264Z",
     "start_time": "2025-06-27T10:48:37.763907Z"
    }
   },
   "source": [
    "%load_ext dotenv\n",
    "%dotenv"
   ],
   "outputs": [],
   "execution_count": 1
  },
  {
   "metadata": {
    "ExecuteTime": {
     "end_time": "2025-06-27T10:48:42.124200Z",
     "start_time": "2025-06-27T10:48:37.806309Z"
    }
   },
   "cell_type": "code",
   "source": [
    "from langgraph.graph import START, END, StateGraph, MessagesState\n",
    "from langchain_openai.chat_models import ChatOpenAI\n",
    "from langchain_core.messages import HumanMessage, AIMessage, SystemMessage, BaseMessage, RemoveMessage\n",
    "from langgraph.checkpoint.memory import InMemorySaver\n",
    "import sqlite3\n",
    "from langgraph.checkpoint.sqlite import SqliteSaver"
   ],
   "id": "dfe35e92160cec84",
   "outputs": [],
   "execution_count": 2
  },
  {
   "metadata": {
    "ExecuteTime": {
     "end_time": "2025-06-27T10:48:43.042925Z",
     "start_time": "2025-06-27T10:48:43.031836Z"
    }
   },
   "cell_type": "code",
   "source": [
    "class State(MessagesState):\n",
    "    summary: str"
   ],
   "id": "807c761d4b7cd924",
   "outputs": [],
   "execution_count": 3
  },
  {
   "metadata": {
    "ExecuteTime": {
     "end_time": "2025-06-27T10:48:44.086934Z",
     "start_time": "2025-06-27T10:48:43.079754Z"
    }
   },
   "cell_type": "code",
   "source": [
    "chat = ChatOpenAI(model = \"gpt-4o\", \n",
    "                  seed = 365, \n",
    "                  temperature = 0, \n",
    "                  max_completion_tokens = 100)"
   ],
   "id": "85df894c372c17d7",
   "outputs": [],
   "execution_count": 4
  },
  {
   "metadata": {
    "ExecuteTime": {
     "end_time": "2025-06-27T10:48:44.118862Z",
     "start_time": "2025-06-27T10:48:44.107768Z"
    }
   },
   "cell_type": "code",
   "source": [
    "def ask_question(state: State) -> State:\n",
    "    \n",
    "    print(f\"\\n-------> ENTERING ask_question:\")\n",
    "    \n",
    "    question = \"What is your question?\"\n",
    "    print(question)\n",
    "    \n",
    "    return State(messages = [AIMessage(question), HumanMessage(input())])"
   ],
   "id": "9f02b7e4e60e0fc1",
   "outputs": [],
   "execution_count": 5
  },
  {
   "metadata": {
    "ExecuteTime": {
     "end_time": "2025-06-27T10:48:44.165767Z",
     "start_time": "2025-06-27T10:48:44.146072Z"
    }
   },
   "cell_type": "code",
   "source": [
    "def chatbot(state: State) -> State:\n",
    "    \n",
    "    print(f\"\\n-------> ENTERING chatbot:\")\n",
    "        \n",
    "    system_message = f'''\n",
    "    Here's a quick summary of what's been discussed so far:\n",
    "    {state.get(\"summary\", \"\")}\n",
    "    \n",
    "    Keep this in mind as you answer the next question.\n",
    "    '''\n",
    "    \n",
    "    response = chat.invoke([SystemMessage(system_message)] + state[\"messages\"])\n",
    "    response.pretty_print()\n",
    "    \n",
    "    return State(messages = [response])"
   ],
   "id": "da9b369b2dfbda1d",
   "outputs": [],
   "execution_count": 6
  },
  {
   "metadata": {
    "ExecuteTime": {
     "end_time": "2025-06-27T10:48:44.227294Z",
     "start_time": "2025-06-27T10:48:44.215049Z"
    }
   },
   "cell_type": "code",
   "source": [
    "def summarize_messages(state: State) -> State:\n",
    "    print(f\"\\n-------> ENTERING summarize_messages:\")\n",
    "\n",
    "    new_conversation = \"\"\n",
    "    for i in state[\"messages\"]:\n",
    "        new_conversation += f\"{i.type}: {i.content}\\n\\n\"\n",
    "    \n",
    "    summary_instructions = f'''\n",
    "Update the ongoing summary by incorporating the new lines of conversation below. \n",
    "Build upon the previous summary rather than repeating it, \n",
    "so that the result reflects the most recent context and developments.\n",
    "Respond only with the summary.\n",
    "\n",
    "Previous Summary:\n",
    "{state.get(\"summary\", \"\")}\n",
    "\n",
    "New Conversation:\n",
    "{new_conversation}\n",
    "'''\n",
    "\n",
    "    print(summary_instructions)\n",
    "\n",
    "    summary = chat.invoke([HumanMessage(summary_instructions)])\n",
    "    \n",
    "    remove_messages = [RemoveMessage(id = i.id) for i in state[\"messages\"][:]]\n",
    "\n",
    "    return State(messages = remove_messages, summary = summary.content)"
   ],
   "id": "cf35d2894d3aeaab",
   "outputs": [],
   "execution_count": 7
  },
  {
   "metadata": {
    "ExecuteTime": {
     "end_time": "2025-06-27T10:48:44.273882Z",
     "start_time": "2025-06-27T10:48:44.250840Z"
    }
   },
   "cell_type": "code",
   "source": "graph = StateGraph(State)",
   "id": "8271077b5759565c",
   "outputs": [],
   "execution_count": 8
  },
  {
   "metadata": {
    "ExecuteTime": {
     "end_time": "2025-06-27T10:48:44.320809Z",
     "start_time": "2025-06-27T10:48:44.293130Z"
    }
   },
   "cell_type": "code",
   "source": [
    "graph.add_node(\"ask_question\", ask_question)\n",
    "graph.add_node(\"chatbot\", chatbot)\n",
    "graph.add_node(\"summarize_messages\", summarize_messages)\n",
    "\n",
    "graph.add_edge(START, \"ask_question\")\n",
    "graph.add_edge(\"ask_question\", \"chatbot\")\n",
    "graph.add_edge(\"chatbot\", \"summarize_messages\")\n",
    "graph.add_edge(\"summarize_messages\", END)"
   ],
   "id": "e9258d678dbcea37",
   "outputs": [
    {
     "data": {
      "text/plain": [
       "<langgraph.graph.state.StateGraph at 0x26d078c6380>"
      ]
     },
     "execution_count": 9,
     "metadata": {},
     "output_type": "execute_result"
    }
   ],
   "execution_count": 9
  },
  {
   "metadata": {
    "ExecuteTime": {
     "end_time": "2025-06-27T10:48:44.367130Z",
     "start_time": "2025-06-27T10:48:44.349610Z"
    }
   },
   "cell_type": "code",
   "source": [
    "db_path = \"C:/Users/matsv/PyCharm/ai_engineer_course_notes/LangGraph/langgraph.db\"\n",
    "con = sqlite3.connect(database = db_path, check_same_thread = False)"
   ],
   "id": "51717321e3f3d5eb",
   "outputs": [],
   "execution_count": 10
  },
  {
   "metadata": {
    "ExecuteTime": {
     "end_time": "2025-06-27T10:48:44.413923Z",
     "start_time": "2025-06-27T10:48:44.407813Z"
    }
   },
   "cell_type": "code",
   "source": "checkpointer = SqliteSaver(con)",
   "id": "178242f0443f63a4",
   "outputs": [],
   "execution_count": 11
  },
  {
   "metadata": {
    "ExecuteTime": {
     "end_time": "2025-06-27T10:48:44.459809Z",
     "start_time": "2025-06-27T10:48:44.444160Z"
    }
   },
   "cell_type": "code",
   "source": "graph_compiled = graph.compile(checkpointer = checkpointer)",
   "id": "b6c586c72b569fa7",
   "outputs": [],
   "execution_count": 12
  },
  {
   "metadata": {
    "ExecuteTime": {
     "end_time": "2025-06-27T10:48:44.867530Z",
     "start_time": "2025-06-27T10:48:44.480572Z"
    }
   },
   "cell_type": "code",
   "source": "graph_compiled",
   "id": "438c5bb036f5db81",
   "outputs": [
    {
     "data": {
      "text/plain": [
       "<langgraph.graph.state.CompiledStateGraph object at 0x0000026D078C6200>"
      ],
      "image/png": "[encoded data removed]"
     },
     "execution_count": 13,
     "metadata": {},
     "output_type": "execute_result"
    }
   ],
   "execution_count": 13
  },
  {
   "metadata": {
    "ExecuteTime": {
     "end_time": "2025-06-27T10:48:44.929905Z",
     "start_time": "2025-06-27T10:48:44.912268Z"
    }
   },
   "cell_type": "code",
   "source": "config1 = {\"configurable\": {\"thread_id\": \"1\"}}",
   "id": "e0b3c9be3f99f8a4",
   "outputs": [],
   "execution_count": 14
  },
  {
   "metadata": {
    "ExecuteTime": {
     "end_time": "2025-06-27T10:48:57.371767Z",
     "start_time": "2025-06-27T10:48:44.998135Z"
    }
   },
   "cell_type": "code",
   "source": "graph_compiled.invoke(State(), config1)",
   "id": "ca104e759021588b",
   "outputs": [
    {
     "name": "stdout",
     "output_type": "stream",
     "text": [
      "\n",
      "-------> ENTERING ask_question:\n",
      "What is your question?\n",
      "\n",
      "-------> ENTERING chatbot:\n",
      "==================================\u001B[1m Ai Message \u001B[0m==================================\n",
      "\n",
      "Guido van Rossum was born in The Hague, Netherlands.\n",
      "\n",
      "-------> ENTERING summarize_messages:\n",
      "\n",
      "Update the ongoing summary by incorporating the new lines of conversation below. \n",
      "Build upon the previous summary rather than repeating it, \n",
      "so that the result reflects the most recent context and developments.\n",
      "Respond only with the summary.\n",
      "\n",
      "Previous Summary:\n",
      "Guido van Rossum is the creator of Python, having started work on it in the late 1980s, with its first release in 1991.\n",
      "\n",
      "New Conversation:\n",
      "ai: What is your question?\n",
      "\n",
      "human: where was he born?\n",
      "\n",
      "ai: Guido van Rossum was born in The Hague, Netherlands.\n",
      "\n",
      "\n",
      "\n"
     ]
    },
    {
     "data": {
      "text/plain": [
       "{'messages': [],\n",
       " 'summary': 'Guido van Rossum, the creator of Python, began developing the language in the late 1980s, with its first release in 1991. He was born in The Hague, Netherlands.'}"
      ]
     },
     "execution_count": 15,
     "metadata": {},
     "output_type": "execute_result"
    }
   ],
   "execution_count": 15
  },
  {
   "metadata": {
    "ExecuteTime": {
     "end_time": "2025-06-27T10:48:57.464894Z",
     "start_time": "2025-06-27T10:48:57.447258Z"
    }
   },
   "cell_type": "code",
   "source": "",
   "id": "425ea5398fac9da9",
   "outputs": [],
   "execution_count": null
  }
 ],
 "metadata": {
  "kernelspec": {
   "display_name": "Python 3",
   "language": "python",
   "name": "python3"
  },
  "language_info": {
   "codemirror_mode": {
    "name": "ipython",
    "version": 2
   },
   "file_extension": ".py",
   "mimetype": "text/x-python",
   "name": "python",
   "nbconvert_exporter": "python",
   "pygments_lexer": "ipython2",
   "version": "2.7.6"
  }
 },
 "nbformat": 4,
 "nbformat_minor": 5
}
