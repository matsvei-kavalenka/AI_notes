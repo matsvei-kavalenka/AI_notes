{
 "cells": [
  {
   "cell_type": "code",
   "id": "initial_id",
   "metadata": {
    "collapsed": true,
    "ExecuteTime": {
     "end_time": "2025-06-27T08:57:48.598954Z",
     "start_time": "2025-06-27T08:57:48.558405Z"
    }
   },
   "source": [
    "%load_ext dotenv\n",
    "%dotenv"
   ],
   "outputs": [],
   "execution_count": 1
  },
  {
   "metadata": {
    "ExecuteTime": {
     "end_time": "2025-06-27T08:57:51.960119Z",
     "start_time": "2025-06-27T08:57:48.624950Z"
    }
   },
   "cell_type": "code",
   "source": [
    "from langgraph.graph import START, END, StateGraph\n",
    "from typing_extensions import TypedDict\n",
    "from langchain_openai.chat_models import ChatOpenAI\n",
    "from langchain_core.messages import HumanMessage, BaseMessage\n",
    "from collections.abc import Sequence\n",
    "from typing import Literal"
   ],
   "id": "e00b58b857a13a0d",
   "outputs": [],
   "execution_count": 2
  },
  {
   "metadata": {
    "ExecuteTime": {
     "end_time": "2025-06-27T08:57:52.647454Z",
     "start_time": "2025-06-27T08:57:52.606456Z"
    }
   },
   "cell_type": "code",
   "source": [
    "class State(TypedDict):\n",
    "    messages: Sequence[BaseMessage]"
   ],
   "id": "9ed774efa0072c98",
   "outputs": [],
   "execution_count": 3
  },
  {
   "metadata": {
    "ExecuteTime": {
     "end_time": "2025-06-27T08:57:53.487468Z",
     "start_time": "2025-06-27T08:57:52.671456Z"
    }
   },
   "cell_type": "code",
   "source": "chat = ChatOpenAI(model=\"gpt-4o-mini\", seed=365, temperature=0, max_tokens=100)",
   "id": "85e43445e9053ae3",
   "outputs": [],
   "execution_count": 4
  },
  {
   "metadata": {
    "ExecuteTime": {
     "end_time": "2025-06-27T08:57:53.519480Z",
     "start_time": "2025-06-27T08:57:53.511482Z"
    }
   },
   "cell_type": "code",
   "source": [
    "def ask_question(state: State) -> State:\n",
    "    print('What is your question?')\n",
    "    return State(messages = [HumanMessage(input())])"
   ],
   "id": "7896ba7e29bbc1aa",
   "outputs": [],
   "execution_count": 5
  },
  {
   "metadata": {
    "ExecuteTime": {
     "end_time": "2025-06-27T08:58:01.951374Z",
     "start_time": "2025-06-27T08:57:53.555486Z"
    }
   },
   "cell_type": "code",
   "source": "ask_question(State(messages= []))",
   "id": "3261ca97a08efafd",
   "outputs": [
    {
     "name": "stdout",
     "output_type": "stream",
     "text": [
      "What is your question?\n"
     ]
    },
    {
     "data": {
      "text/plain": [
       "{'messages': [HumanMessage(content='Can you tell me the grook by Piet Hein?', additional_kwargs={}, response_metadata={})]}"
      ]
     },
     "execution_count": 6,
     "metadata": {},
     "output_type": "execute_result"
    }
   ],
   "execution_count": 6
  },
  {
   "metadata": {
    "ExecuteTime": {
     "end_time": "2025-06-27T08:58:02.014501Z",
     "start_time": "2025-06-27T08:58:02.004502Z"
    }
   },
   "cell_type": "code",
   "source": [
    "def chatbot(state: State) -> State:\n",
    "    response = chat.invoke(state['messages'])\n",
    "    response.pretty_print()\n",
    "    return State(messages=[response])"
   ],
   "id": "2a337a89b0c6cf13",
   "outputs": [],
   "execution_count": 7
  },
  {
   "metadata": {
    "ExecuteTime": {
     "end_time": "2025-06-27T08:58:02.078499Z",
     "start_time": "2025-06-27T08:58:02.071501Z"
    }
   },
   "cell_type": "code",
   "source": [
    "def ask_another_question(state: State) -> State:\n",
    "    print('Would you like to ask one more question?')\n",
    "    return State(messages = [HumanMessage(input())])"
   ],
   "id": "ced3f870285f9df5",
   "outputs": [],
   "execution_count": 8
  },
  {
   "metadata": {
    "ExecuteTime": {
     "end_time": "2025-06-27T08:58:05.173019Z",
     "start_time": "2025-06-27T08:58:02.086518Z"
    }
   },
   "cell_type": "code",
   "source": "ask_another_question(State(messages=[]))",
   "id": "f2779ee2cdba3b38",
   "outputs": [
    {
     "name": "stdout",
     "output_type": "stream",
     "text": [
      "Would you like to ask one more question?\n"
     ]
    },
    {
     "data": {
      "text/plain": [
       "{'messages': [HumanMessage(content='yes', additional_kwargs={}, response_metadata={})]}"
      ]
     },
     "execution_count": 9,
     "metadata": {},
     "output_type": "execute_result"
    }
   ],
   "execution_count": 9
  },
  {
   "metadata": {
    "ExecuteTime": {
     "end_time": "2025-06-27T08:58:05.219786Z",
     "start_time": "2025-06-27T08:58:05.203701Z"
    }
   },
   "cell_type": "code",
   "source": "",
   "id": "78698f337a226f05",
   "outputs": [],
   "execution_count": null
  },
  {
   "metadata": {},
   "cell_type": "markdown",
   "source": "## Define the Routing function",
   "id": "35af869dfd0a3557"
  },
  {
   "metadata": {
    "ExecuteTime": {
     "end_time": "2025-06-27T08:58:05.251731Z",
     "start_time": "2025-06-27T08:58:05.238707Z"
    }
   },
   "cell_type": "code",
   "source": [
    "def routing_function(state: State) -> Literal[\"ask_question\", \"__end__\"]:\n",
    "    if state[\"messages\"][0].content == 'yes':\n",
    "        return \"ask_question\"\n",
    "    else:\n",
    "        return \"__end__\"\n"
   ],
   "id": "f8a70715f5071a5c",
   "outputs": [],
   "execution_count": 10
  },
  {
   "metadata": {},
   "cell_type": "markdown",
   "source": "## Define the graph",
   "id": "c6dda45182fc561b"
  },
  {
   "metadata": {
    "ExecuteTime": {
     "end_time": "2025-06-27T09:01:33.800292Z",
     "start_time": "2025-06-27T09:01:33.757274Z"
    }
   },
   "cell_type": "code",
   "source": "graph = StateGraph(State)",
   "id": "f3fe7b884674938f",
   "outputs": [],
   "execution_count": 17
  },
  {
   "metadata": {
    "ExecuteTime": {
     "end_time": "2025-06-27T09:01:34.176834Z",
     "start_time": "2025-06-27T09:01:34.128528Z"
    }
   },
   "cell_type": "code",
   "source": [
    "graph.add_node(\"ask_question\", ask_question)\n",
    "graph.add_node(\"chatbot\", chatbot)\n",
    "graph.add_node(\"ask_another_question\", ask_another_question)\n",
    "\n",
    "graph.add_edge(START, \"ask_question\")\n",
    "graph.add_edge(\"ask_question\", \"chatbot\")\n",
    "graph.add_edge(\"chatbot\", \"ask_another_question\")\n",
    "graph.add_conditional_edges(source = \"ask_another_question\", \n",
    "                            path = routing_function)"
   ],
   "id": "b7fdfb03b5c688a7",
   "outputs": [
    {
     "data": {
      "text/plain": [
       "<langgraph.graph.state.StateGraph at 0x25918142770>"
      ]
     },
     "execution_count": 18,
     "metadata": {},
     "output_type": "execute_result"
    }
   ],
   "execution_count": 18
  },
  {
   "metadata": {
    "ExecuteTime": {
     "end_time": "2025-06-27T09:01:34.998243Z",
     "start_time": "2025-06-27T09:01:34.957244Z"
    }
   },
   "cell_type": "code",
   "source": "graph_compiled= graph.compile()",
   "id": "7f9ef13148aff767",
   "outputs": [],
   "execution_count": 19
  },
  {
   "metadata": {
    "ExecuteTime": {
     "end_time": "2025-06-27T09:01:36.820725Z",
     "start_time": "2025-06-27T09:01:35.901212Z"
    }
   },
   "cell_type": "code",
   "source": "graph_compiled",
   "id": "4e6975fcbac6274e",
   "outputs": [
    {
     "data": {
      "text/plain": [
       "<langgraph.graph.state.CompiledStateGraph object at 0x00000259181413F0>"
      ],
      "image/png": "[encoded data removed]"
     },
     "execution_count": 20,
     "metadata": {},
     "output_type": "execute_result"
    }
   ],
   "execution_count": 20
  },
  {
   "metadata": {},
   "cell_type": "markdown",
   "source": "### Test the Graph",
   "id": "16a35872dda11e42"
  },
  {
   "metadata": {
    "ExecuteTime": {
     "end_time": "2025-06-27T09:02:02.262177Z",
     "start_time": "2025-06-27T09:01:41.678606Z"
    }
   },
   "cell_type": "code",
   "source": "graph_compiled.invoke(State(messages=[]))",
   "id": "8862814cd3043e9c",
   "outputs": [
    {
     "name": "stdout",
     "output_type": "stream",
     "text": [
      "What is your question?\n",
      "==================================\u001B[1m Ai Message \u001B[0m==================================\n",
      "\n",
      "Certainly! Piet Hein was a Danish poet, scientist, and philosopher known for his short, witty poems called \"grooks.\" One of his famous grooks is:\n",
      "\n",
      "**\"The road to wisdom? Well, it’s plain  \n",
      "And simple to express:  \n",
      "Err and err and err again  \n",
      "But less and less and less.\"**\n",
      "\n",
      "This grook reflects on the process of learning and the importance of making mistakes along the way. If you would like to know more about his work or specific themes in\n",
      "Would you like to ask one more question?\n",
      "What is your question?\n",
      "==================================\u001B[1m Ai Message \u001B[0m==================================\n",
      "\n",
      "Certainly! Piet Hein was a Danish poet, scientist, and philosopher known for his short, witty poems called \"grooks.\" One of his most famous grooks is:\n",
      "\n",
      "**\"The road to wisdom? Well, it’s plain  \n",
      "And simple to express:  \n",
      "Err and err and err again  \n",
      "But less and less and less.\"**\n",
      "\n",
      "This grook reflects on the nature of learning and the importance of making mistakes along the way. If you're interested in more grooks or specific themes, let me\n",
      "Would you like to ask one more question?\n"
     ]
    },
    {
     "data": {
      "text/plain": [
       "{'messages': [HumanMessage(content='no', additional_kwargs={}, response_metadata={})]}"
      ]
     },
     "execution_count": 21,
     "metadata": {},
     "output_type": "execute_result"
    }
   ],
   "execution_count": 21
  },
  {
   "metadata": {},
   "cell_type": "code",
   "source": "",
   "id": "387139da29dc23bb",
   "outputs": [],
   "execution_count": null
  },
  {
   "metadata": {},
   "cell_type": "code",
   "source": "",
   "id": "83e26343b5c62cf8",
   "outputs": [],
   "execution_count": null
  }
 ],
 "metadata": {
  "kernelspec": {
   "display_name": "Python 3",
   "language": "python",
   "name": "python3"
  },
  "language_info": {
   "codemirror_mode": {
    "name": "ipython",
    "version": 2
   },
   "file_extension": ".py",
   "mimetype": "text/x-python",
   "name": "python",
   "nbconvert_exporter": "python",
   "pygments_lexer": "ipython2",
   "version": "2.7.6"
  }
 },
 "nbformat": 4,
 "nbformat_minor": 5
}
